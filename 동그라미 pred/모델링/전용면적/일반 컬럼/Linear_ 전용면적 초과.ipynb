{
 "cells": [
  {
   "cell_type": "code",
   "execution_count": 1,
   "metadata": {},
   "outputs": [],
   "source": [
    "import pandas as pd\n",
    "import numpy as np\n",
    "import matplotlib.pyplot as plt\n",
    "import seaborn as sns\n",
    "df = pd.read_csv('./df_분리/전용면적_85초과.csv')\n",
    "df.drop('건물면적(㎡)',axis=1,inplace=True)\n",
    "# Train : 2016-2020\n",
    "# Test : 2021-2022\n",
    "\n",
    "df['계약일'] = pd.to_datetime(df['계약일'])\n",
    "train_df = df.loc[df['계약일'] < '2021']\n",
    "test_df = df.loc[df['계약일'] >= '2021']\n",
    "# Train Split\n",
    "# feature & target  split\n",
    "X_train_df = train_df.drop('물건금액(만원)', axis=1)\n",
    "y = train_df['물건금액(만원)']\n",
    "# X_train : 숫자형 컬럼만 \n",
    "X_train = X_train_df.select_dtypes([np.number])\n",
    "\n",
    "# Test Split\n",
    "# feature & target  split\n",
    "X_test_df = test_df.drop('물건금액(만원)', axis=1)\n",
    "y_test = test_df['물건금액(만원)']\n",
    "# X_test : 숫자형 컬럼만 \n",
    "X_test = X_test_df.select_dtypes([np.number])\n",
    "\n",
    "# minMax\n",
    "from sklearn.preprocessing import MinMaxScaler\n",
    "\n",
    "# Scaler 객체 생성\n",
    "scaler = MinMaxScaler()\n",
    "X_scaled = scaler.fit_transform(X_train)\n",
    "X_test_scaled = scaler.transform(X_test)\n",
    "\n",
    "# DataFrame\n",
    "X_scaled = pd.DataFrame(X_scaled, columns=X_train.columns)\n",
    "X_test_scaled = pd.DataFrame(X_test_scaled, columns=X_test.columns)\n",
    "\n",
    "# y -> log 변환\n",
    "\n",
    "# Train\n",
    "y_scaled = np.log10(y)\n",
    "# y_scaled\n",
    "\n",
    "# Test\n",
    "y_test_scaled = np.log10(y_test)"
   ]
  },
  {
   "attachments": {},
   "cell_type": "markdown",
   "metadata": {},
   "source": [
    "## 건물면적(㎡) 컬럼 제거\n",
    "만약 주택 가격을 예측하는 모델이 주택 면적 열을 기준으로 데이터를 분리한다면, 주택 면적 열을 제외해야 할까요?\n",
    "\n",
    "모델을 구축할 때 주택 면적 열을 기준으로 데이터를 분리하는 것은 일반적인 접근 방식입니다. 이는 동일한 면적 범위 내에서 주택 가격을 비교하고 예측하기 위함입니다. 따라서, 주택 면적 열은 모델에 포함되지 않아야 할 것입니다.\n",
    "\n",
    "만약 주택 면적 열을 모델에 포함한다면, 이는 모델이 이미 면적에 대한 정보를 가지고 있다고 가정하는 것입니다. 이는 모델이 주택 가격을 예측하는 데에 있어서 실제 데이터에 대한 일반화(generalization) 능력을 감소시킬 수 있습니다. 따라서, 주택 면적 열은 모델에서 제외하는 것이 좋습니다.\n",
    "\n",
    "주택 가격을 예측하는 모델에서는 다른 독립 변수들을 사용하여 주택 가격과의 관계를 모델링해야 합니다. 주택 면적 열은 독립 변수 중 하나일 수 있지만, 모든 독립 변수들을 고려하여 종속 변수인 주택 가격과의 관계를 분석하는 것이 중요합니다. 이를 통해 보다 정확하고 신뢰할 수 있는 주택 가격 예측 모델을 구축할 수 있습니다."
   ]
  },
  {
   "attachments": {},
   "cell_type": "markdown",
   "metadata": {},
   "source": [
    "# OLS - Scaling 후"
   ]
  },
  {
   "attachments": {},
   "cell_type": "markdown",
   "metadata": {},
   "source": [
    "## R_OLS_1"
   ]
  },
  {
   "cell_type": "code",
   "execution_count": 2,
   "metadata": {},
   "outputs": [
    {
     "data": {
      "text/html": [
       "<table class=\"simpletable\">\n",
       "<caption>Robust linear Model Regression Results</caption>\n",
       "<tr>\n",
       "  <th>Dep. Variable:</th>      <td>물건금액(만원)</td>     <th>  No. Observations:  </th> <td> 87518</td>\n",
       "</tr>\n",
       "<tr>\n",
       "  <th>Model:</th>                 <td>RLM</td>       <th>  Df Residuals:      </th> <td> 87499</td>\n",
       "</tr>\n",
       "<tr>\n",
       "  <th>Method:</th>               <td>IRLS</td>       <th>  Df Model:          </th> <td>    18</td>\n",
       "</tr>\n",
       "<tr>\n",
       "  <th>Norm:</th>                <td>HuberT</td>      <th>                     </th>    <td> </td>  \n",
       "</tr>\n",
       "<tr>\n",
       "  <th>Scale Est.:</th>            <td>mad</td>       <th>                     </th>    <td> </td>  \n",
       "</tr>\n",
       "<tr>\n",
       "  <th>Cov Type:</th>              <td>H1</td>        <th>                     </th>    <td> </td>  \n",
       "</tr>\n",
       "<tr>\n",
       "  <th>Date:</th>           <td>Mon, 03 Jul 2023</td> <th>                     </th>    <td> </td>  \n",
       "</tr>\n",
       "<tr>\n",
       "  <th>Time:</th>               <td>16:27:16</td>     <th>                     </th>    <td> </td>  \n",
       "</tr>\n",
       "<tr>\n",
       "  <th>No. Iterations:</th>        <td>24</td>        <th>                     </th>    <td> </td>  \n",
       "</tr>\n",
       "</table>\n",
       "<table class=\"simpletable\">\n",
       "<tr>\n",
       "          <td></td>             <th>coef</th>     <th>std err</th>      <th>z</th>      <th>P>|z|</th>  <th>[0.025</th>    <th>0.975]</th>  \n",
       "</tr>\n",
       "<tr>\n",
       "  <th>const</th>             <td>    5.4308</td> <td>    0.023</td> <td>  236.082</td> <td> 0.000</td> <td>    5.386</td> <td>    5.476</td>\n",
       "</tr>\n",
       "<tr>\n",
       "  <th>층</th>                 <td>    0.3758</td> <td>    0.007</td> <td>   53.337</td> <td> 0.000</td> <td>    0.362</td> <td>    0.390</td>\n",
       "</tr>\n",
       "<tr>\n",
       "  <th>KOSPI종가</th>           <td>   -0.0862</td> <td>    0.018</td> <td>   -4.910</td> <td> 0.000</td> <td>   -0.121</td> <td>   -0.052</td>\n",
       "</tr>\n",
       "<tr>\n",
       "  <th>Fed기준금리</th>           <td>   -0.1922</td> <td>    0.010</td> <td>  -19.683</td> <td> 0.000</td> <td>   -0.211</td> <td>   -0.173</td>\n",
       "</tr>\n",
       "<tr>\n",
       "  <th>국제유가(Dubai)($/배럴)</th> <td>    0.1567</td> <td>    0.010</td> <td>   15.718</td> <td> 0.000</td> <td>    0.137</td> <td>    0.176</td>\n",
       "</tr>\n",
       "<tr>\n",
       "  <th>부동산거래량</th>            <td>   -0.0149</td> <td>    0.005</td> <td>   -2.766</td> <td> 0.006</td> <td>   -0.025</td> <td>   -0.004</td>\n",
       "</tr>\n",
       "<tr>\n",
       "  <th>국고채5년(평균)</th>         <td>   -0.6725</td> <td>    0.053</td> <td>  -12.647</td> <td> 0.000</td> <td>   -0.777</td> <td>   -0.568</td>\n",
       "</tr>\n",
       "<tr>\n",
       "  <th>국고채10년(평균)</th>        <td>    0.5378</td> <td>    0.038</td> <td>   14.139</td> <td> 0.000</td> <td>    0.463</td> <td>    0.612</td>\n",
       "</tr>\n",
       "<tr>\n",
       "  <th>회사채3년(평균)</th>         <td>    0.1811</td> <td>    0.015</td> <td>   11.724</td> <td> 0.000</td> <td>    0.151</td> <td>    0.211</td>\n",
       "</tr>\n",
       "<tr>\n",
       "  <th>CD91물(평균)</th>         <td>   -0.0899</td> <td>    0.023</td> <td>   -3.887</td> <td> 0.000</td> <td>   -0.135</td> <td>   -0.045</td>\n",
       "</tr>\n",
       "<tr>\n",
       "  <th>BOK기준금리</th>           <td>   -0.0843</td> <td>    0.019</td> <td>   -4.490</td> <td> 0.000</td> <td>   -0.121</td> <td>   -0.048</td>\n",
       "</tr>\n",
       "<tr>\n",
       "  <th>건물연식</th>              <td>    0.1509</td> <td>    0.004</td> <td>   39.452</td> <td> 0.000</td> <td>    0.143</td> <td>    0.158</td>\n",
       "</tr>\n",
       "<tr>\n",
       "  <th>GDP대비가계부채비율</th>       <td>   -0.2259</td> <td>    0.017</td> <td>  -13.522</td> <td> 0.000</td> <td>   -0.259</td> <td>   -0.193</td>\n",
       "</tr>\n",
       "<tr>\n",
       "  <th>환율종가</th>              <td>   -0.0564</td> <td>    0.008</td> <td>   -6.668</td> <td> 0.000</td> <td>   -0.073</td> <td>   -0.040</td>\n",
       "</tr>\n",
       "<tr>\n",
       "  <th>선행지수순환변동치</th>         <td>    0.2022</td> <td>    0.012</td> <td>   16.184</td> <td> 0.000</td> <td>    0.178</td> <td>    0.227</td>\n",
       "</tr>\n",
       "<tr>\n",
       "  <th>EPU</th>               <td>    0.0036</td> <td>    0.005</td> <td>    0.686</td> <td> 0.492</td> <td>   -0.007</td> <td>    0.014</td>\n",
       "</tr>\n",
       "<tr>\n",
       "  <th>장단기금리spread</th>       <td>   -0.2642</td> <td>    0.024</td> <td>  -11.111</td> <td> 0.000</td> <td>   -0.311</td> <td>   -0.218</td>\n",
       "</tr>\n",
       "<tr>\n",
       "  <th>금값종가</th>              <td>   -0.1510</td> <td>    0.016</td> <td>   -9.530</td> <td> 0.000</td> <td>   -0.182</td> <td>   -0.120</td>\n",
       "</tr>\n",
       "<tr>\n",
       "  <th>LTV</th>               <td>   -0.4764</td> <td>    0.006</td> <td>  -85.145</td> <td> 0.000</td> <td>   -0.487</td> <td>   -0.465</td>\n",
       "</tr>\n",
       "</table><br/><br/>If the model instance has been used for another fit with different fit parameters, then the fit options might not be the correct ones anymore ."
      ],
      "text/latex": [
       "\\begin{center}\n",
       "\\begin{tabular}{lclc}\n",
       "\\toprule\n",
       "\\textbf{Dep. Variable:}     &     물건금액(만원)     & \\textbf{  No. Observations:  } &    87518    \\\\\n",
       "\\textbf{Model:}             &       RLM        & \\textbf{  Df Residuals:      } &    87499    \\\\\n",
       "\\textbf{Method:}            &       IRLS       & \\textbf{  Df Model:          } &       18    \\\\\n",
       "\\textbf{Norm:}              &      HuberT      & \\textbf{                     } &             \\\\\n",
       "\\textbf{Scale Est.:}        &       mad        & \\textbf{                     } &             \\\\\n",
       "\\textbf{Cov Type:}          &        H1        & \\textbf{                     } &             \\\\\n",
       "\\textbf{Date:}              & Mon, 03 Jul 2023 & \\textbf{                     } &             \\\\\n",
       "\\textbf{Time:}              &     16:27:16     & \\textbf{                     } &             \\\\\n",
       "\\textbf{No. Iterations:}    &        24        & \\textbf{                     } &             \\\\\n",
       "\\bottomrule\n",
       "\\end{tabular}\n",
       "\\begin{tabular}{lcccccc}\n",
       "                            & \\textbf{coef} & \\textbf{std err} & \\textbf{z} & \\textbf{P$> |$z$|$} & \\textbf{[0.025} & \\textbf{0.975]}  \\\\\n",
       "\\midrule\n",
       "\\textbf{const}              &       5.4308  &        0.023     &   236.082  &         0.000        &        5.386    &        5.476     \\\\\n",
       "\\textbf{층}                  &       0.3758  &        0.007     &    53.337  &         0.000        &        0.362    &        0.390     \\\\\n",
       "\\textbf{KOSPI종가}            &      -0.0862  &        0.018     &    -4.910  &         0.000        &       -0.121    &       -0.052     \\\\\n",
       "\\textbf{Fed기준금리}            &      -0.1922  &        0.010     &   -19.683  &         0.000        &       -0.211    &       -0.173     \\\\\n",
       "\\textbf{국제유가(Dubai)(\\$/배럴)} &       0.1567  &        0.010     &    15.718  &         0.000        &        0.137    &        0.176     \\\\\n",
       "\\textbf{부동산거래량}             &      -0.0149  &        0.005     &    -2.766  &         0.006        &       -0.025    &       -0.004     \\\\\n",
       "\\textbf{국고채5년(평균)}          &      -0.6725  &        0.053     &   -12.647  &         0.000        &       -0.777    &       -0.568     \\\\\n",
       "\\textbf{국고채10년(평균)}         &       0.5378  &        0.038     &    14.139  &         0.000        &        0.463    &        0.612     \\\\\n",
       "\\textbf{회사채3년(평균)}          &       0.1811  &        0.015     &    11.724  &         0.000        &        0.151    &        0.211     \\\\\n",
       "\\textbf{CD91물(평균)}          &      -0.0899  &        0.023     &    -3.887  &         0.000        &       -0.135    &       -0.045     \\\\\n",
       "\\textbf{BOK기준금리}            &      -0.0843  &        0.019     &    -4.490  &         0.000        &       -0.121    &       -0.048     \\\\\n",
       "\\textbf{건물연식}               &       0.1509  &        0.004     &    39.452  &         0.000        &        0.143    &        0.158     \\\\\n",
       "\\textbf{GDP대비가계부채비율}        &      -0.2259  &        0.017     &   -13.522  &         0.000        &       -0.259    &       -0.193     \\\\\n",
       "\\textbf{환율종가}               &      -0.0564  &        0.008     &    -6.668  &         0.000        &       -0.073    &       -0.040     \\\\\n",
       "\\textbf{선행지수순환변동치}          &       0.2022  &        0.012     &    16.184  &         0.000        &        0.178    &        0.227     \\\\\n",
       "\\textbf{EPU}                &       0.0036  &        0.005     &     0.686  &         0.492        &       -0.007    &        0.014     \\\\\n",
       "\\textbf{장단기금리spread}        &      -0.2642  &        0.024     &   -11.111  &         0.000        &       -0.311    &       -0.218     \\\\\n",
       "\\textbf{금값종가}               &      -0.1510  &        0.016     &    -9.530  &         0.000        &       -0.182    &       -0.120     \\\\\n",
       "\\textbf{LTV}                &      -0.4764  &        0.006     &   -85.145  &         0.000        &       -0.487    &       -0.465     \\\\\n",
       "\\bottomrule\n",
       "\\end{tabular}\n",
       "%\\caption{Robust linear Model Regression Results}\n",
       "\\end{center}\n",
       "\n",
       "If the model instance has been used for another fit with different fit parameters, then the fit options might not be the correct ones anymore ."
      ],
      "text/plain": [
       "<class 'statsmodels.iolib.summary.Summary'>\n",
       "\"\"\"\n",
       "                    Robust linear Model Regression Results                    \n",
       "==============================================================================\n",
       "Dep. Variable:               물건금액(만원)   No. Observations:                87518\n",
       "Model:                            RLM   Df Residuals:                    87499\n",
       "Method:                          IRLS   Df Model:                           18\n",
       "Norm:                          HuberT                                         \n",
       "Scale Est.:                       mad                                         \n",
       "Cov Type:                          H1                                         \n",
       "Date:                Mon, 03 Jul 2023                                         \n",
       "Time:                        16:27:16                                         \n",
       "No. Iterations:                    24                                         \n",
       "=====================================================================================\n",
       "                        coef    std err          z      P>|z|      [0.025      0.975]\n",
       "-------------------------------------------------------------------------------------\n",
       "const                 5.4308      0.023    236.082      0.000       5.386       5.476\n",
       "층                     0.3758      0.007     53.337      0.000       0.362       0.390\n",
       "KOSPI종가              -0.0862      0.018     -4.910      0.000      -0.121      -0.052\n",
       "Fed기준금리              -0.1922      0.010    -19.683      0.000      -0.211      -0.173\n",
       "국제유가(Dubai)($/배럴)     0.1567      0.010     15.718      0.000       0.137       0.176\n",
       "부동산거래량               -0.0149      0.005     -2.766      0.006      -0.025      -0.004\n",
       "국고채5년(평균)            -0.6725      0.053    -12.647      0.000      -0.777      -0.568\n",
       "국고채10년(평균)            0.5378      0.038     14.139      0.000       0.463       0.612\n",
       "회사채3년(평균)             0.1811      0.015     11.724      0.000       0.151       0.211\n",
       "CD91물(평균)            -0.0899      0.023     -3.887      0.000      -0.135      -0.045\n",
       "BOK기준금리              -0.0843      0.019     -4.490      0.000      -0.121      -0.048\n",
       "건물연식                  0.1509      0.004     39.452      0.000       0.143       0.158\n",
       "GDP대비가계부채비율          -0.2259      0.017    -13.522      0.000      -0.259      -0.193\n",
       "환율종가                 -0.0564      0.008     -6.668      0.000      -0.073      -0.040\n",
       "선행지수순환변동치             0.2022      0.012     16.184      0.000       0.178       0.227\n",
       "EPU                   0.0036      0.005      0.686      0.492      -0.007       0.014\n",
       "장단기금리spread          -0.2642      0.024    -11.111      0.000      -0.311      -0.218\n",
       "금값종가                 -0.1510      0.016     -9.530      0.000      -0.182      -0.120\n",
       "LTV                  -0.4764      0.006    -85.145      0.000      -0.487      -0.465\n",
       "=====================================================================================\n",
       "\n",
       "If the model instance has been used for another fit with different fit parameters, then the fit options might not be the correct ones anymore .\n",
       "\"\"\""
      ]
     },
     "execution_count": 2,
     "metadata": {},
     "output_type": "execute_result"
    }
   ],
   "source": [
    "# R_OLS_1\n",
    "# 스케일링 후 predict\n",
    "import statsmodels.api as sm\n",
    "\n",
    "feature_add = sm.add_constant(X_scaled, has_constant='add')\n",
    "\n",
    "# sm OLS 적합\n",
    "model = sm.RLM(y_scaled , feature_add,M=sm.robust.norms.HuberT())\n",
    "fitted_model = model.fit()\n",
    "\n",
    "# summary 함수통해 결과출력\n",
    "fitted_model.summary()"
   ]
  },
  {
   "attachments": {},
   "cell_type": "markdown",
   "metadata": {},
   "source": [
    "### EPU 컬럼 삭제"
   ]
  },
  {
   "cell_type": "code",
   "execution_count": 3,
   "metadata": {},
   "outputs": [],
   "source": [
    "X_scaled.drop('EPU', axis=1, inplace=True)"
   ]
  },
  {
   "attachments": {},
   "cell_type": "markdown",
   "metadata": {},
   "source": [
    "## R_OLS_2"
   ]
  },
  {
   "cell_type": "code",
   "execution_count": 4,
   "metadata": {},
   "outputs": [
    {
     "data": {
      "text/html": [
       "<table class=\"simpletable\">\n",
       "<caption>Robust linear Model Regression Results</caption>\n",
       "<tr>\n",
       "  <th>Dep. Variable:</th>      <td>물건금액(만원)</td>     <th>  No. Observations:  </th> <td> 87518</td>\n",
       "</tr>\n",
       "<tr>\n",
       "  <th>Model:</th>                 <td>RLM</td>       <th>  Df Residuals:      </th> <td> 87500</td>\n",
       "</tr>\n",
       "<tr>\n",
       "  <th>Method:</th>               <td>IRLS</td>       <th>  Df Model:          </th> <td>    17</td>\n",
       "</tr>\n",
       "<tr>\n",
       "  <th>Norm:</th>                <td>HuberT</td>      <th>                     </th>    <td> </td>  \n",
       "</tr>\n",
       "<tr>\n",
       "  <th>Scale Est.:</th>            <td>mad</td>       <th>                     </th>    <td> </td>  \n",
       "</tr>\n",
       "<tr>\n",
       "  <th>Cov Type:</th>              <td>H1</td>        <th>                     </th>    <td> </td>  \n",
       "</tr>\n",
       "<tr>\n",
       "  <th>Date:</th>           <td>Mon, 03 Jul 2023</td> <th>                     </th>    <td> </td>  \n",
       "</tr>\n",
       "<tr>\n",
       "  <th>Time:</th>               <td>16:27:46</td>     <th>                     </th>    <td> </td>  \n",
       "</tr>\n",
       "<tr>\n",
       "  <th>No. Iterations:</th>        <td>24</td>        <th>                     </th>    <td> </td>  \n",
       "</tr>\n",
       "</table>\n",
       "<table class=\"simpletable\">\n",
       "<tr>\n",
       "          <td></td>             <th>coef</th>     <th>std err</th>      <th>z</th>      <th>P>|z|</th>  <th>[0.025</th>    <th>0.975]</th>  \n",
       "</tr>\n",
       "<tr>\n",
       "  <th>const</th>             <td>    5.4343</td> <td>    0.022</td> <td>  242.032</td> <td> 0.000</td> <td>    5.390</td> <td>    5.478</td>\n",
       "</tr>\n",
       "<tr>\n",
       "  <th>층</th>                 <td>    0.3757</td> <td>    0.007</td> <td>   53.330</td> <td> 0.000</td> <td>    0.362</td> <td>    0.390</td>\n",
       "</tr>\n",
       "<tr>\n",
       "  <th>KOSPI종가</th>           <td>   -0.0872</td> <td>    0.017</td> <td>   -4.988</td> <td> 0.000</td> <td>   -0.121</td> <td>   -0.053</td>\n",
       "</tr>\n",
       "<tr>\n",
       "  <th>Fed기준금리</th>           <td>   -0.1931</td> <td>    0.010</td> <td>  -19.917</td> <td> 0.000</td> <td>   -0.212</td> <td>   -0.174</td>\n",
       "</tr>\n",
       "<tr>\n",
       "  <th>국제유가(Dubai)($/배럴)</th> <td>    0.1584</td> <td>    0.010</td> <td>   16.286</td> <td> 0.000</td> <td>    0.139</td> <td>    0.177</td>\n",
       "</tr>\n",
       "<tr>\n",
       "  <th>부동산거래량</th>            <td>   -0.0159</td> <td>    0.005</td> <td>   -3.082</td> <td> 0.002</td> <td>   -0.026</td> <td>   -0.006</td>\n",
       "</tr>\n",
       "<tr>\n",
       "  <th>국고채5년(평균)</th>         <td>   -0.6649</td> <td>    0.052</td> <td>  -12.795</td> <td> 0.000</td> <td>   -0.767</td> <td>   -0.563</td>\n",
       "</tr>\n",
       "<tr>\n",
       "  <th>국고채10년(평균)</th>        <td>    0.5352</td> <td>    0.038</td> <td>   14.155</td> <td> 0.000</td> <td>    0.461</td> <td>    0.609</td>\n",
       "</tr>\n",
       "<tr>\n",
       "  <th>회사채3년(평균)</th>         <td>    0.1781</td> <td>    0.015</td> <td>   11.967</td> <td> 0.000</td> <td>    0.149</td> <td>    0.207</td>\n",
       "</tr>\n",
       "<tr>\n",
       "  <th>CD91물(평균)</th>         <td>   -0.0919</td> <td>    0.023</td> <td>   -4.005</td> <td> 0.000</td> <td>   -0.137</td> <td>   -0.047</td>\n",
       "</tr>\n",
       "<tr>\n",
       "  <th>BOK기준금리</th>           <td>   -0.0861</td> <td>    0.019</td> <td>   -4.634</td> <td> 0.000</td> <td>   -0.123</td> <td>   -0.050</td>\n",
       "</tr>\n",
       "<tr>\n",
       "  <th>건물연식</th>              <td>    0.1508</td> <td>    0.004</td> <td>   39.446</td> <td> 0.000</td> <td>    0.143</td> <td>    0.158</td>\n",
       "</tr>\n",
       "<tr>\n",
       "  <th>GDP대비가계부채비율</th>       <td>   -0.2248</td> <td>    0.017</td> <td>  -13.515</td> <td> 0.000</td> <td>   -0.257</td> <td>   -0.192</td>\n",
       "</tr>\n",
       "<tr>\n",
       "  <th>환율종가</th>              <td>   -0.0548</td> <td>    0.008</td> <td>   -6.738</td> <td> 0.000</td> <td>   -0.071</td> <td>   -0.039</td>\n",
       "</tr>\n",
       "<tr>\n",
       "  <th>선행지수순환변동치</th>         <td>    0.2016</td> <td>    0.012</td> <td>   16.168</td> <td> 0.000</td> <td>    0.177</td> <td>    0.226</td>\n",
       "</tr>\n",
       "<tr>\n",
       "  <th>장단기금리spread</th>       <td>   -0.2662</td> <td>    0.024</td> <td>  -11.272</td> <td> 0.000</td> <td>   -0.312</td> <td>   -0.220</td>\n",
       "</tr>\n",
       "<tr>\n",
       "  <th>금값종가</th>              <td>   -0.1521</td> <td>    0.016</td> <td>   -9.645</td> <td> 0.000</td> <td>   -0.183</td> <td>   -0.121</td>\n",
       "</tr>\n",
       "<tr>\n",
       "  <th>LTV</th>               <td>   -0.4764</td> <td>    0.006</td> <td>  -85.156</td> <td> 0.000</td> <td>   -0.487</td> <td>   -0.465</td>\n",
       "</tr>\n",
       "</table><br/><br/>If the model instance has been used for another fit with different fit parameters, then the fit options might not be the correct ones anymore ."
      ],
      "text/latex": [
       "\\begin{center}\n",
       "\\begin{tabular}{lclc}\n",
       "\\toprule\n",
       "\\textbf{Dep. Variable:}     &     물건금액(만원)     & \\textbf{  No. Observations:  } &    87518    \\\\\n",
       "\\textbf{Model:}             &       RLM        & \\textbf{  Df Residuals:      } &    87500    \\\\\n",
       "\\textbf{Method:}            &       IRLS       & \\textbf{  Df Model:          } &       17    \\\\\n",
       "\\textbf{Norm:}              &      HuberT      & \\textbf{                     } &             \\\\\n",
       "\\textbf{Scale Est.:}        &       mad        & \\textbf{                     } &             \\\\\n",
       "\\textbf{Cov Type:}          &        H1        & \\textbf{                     } &             \\\\\n",
       "\\textbf{Date:}              & Mon, 03 Jul 2023 & \\textbf{                     } &             \\\\\n",
       "\\textbf{Time:}              &     16:27:46     & \\textbf{                     } &             \\\\\n",
       "\\textbf{No. Iterations:}    &        24        & \\textbf{                     } &             \\\\\n",
       "\\bottomrule\n",
       "\\end{tabular}\n",
       "\\begin{tabular}{lcccccc}\n",
       "                            & \\textbf{coef} & \\textbf{std err} & \\textbf{z} & \\textbf{P$> |$z$|$} & \\textbf{[0.025} & \\textbf{0.975]}  \\\\\n",
       "\\midrule\n",
       "\\textbf{const}              &       5.4343  &        0.022     &   242.032  &         0.000        &        5.390    &        5.478     \\\\\n",
       "\\textbf{층}                  &       0.3757  &        0.007     &    53.330  &         0.000        &        0.362    &        0.390     \\\\\n",
       "\\textbf{KOSPI종가}            &      -0.0872  &        0.017     &    -4.988  &         0.000        &       -0.121    &       -0.053     \\\\\n",
       "\\textbf{Fed기준금리}            &      -0.1931  &        0.010     &   -19.917  &         0.000        &       -0.212    &       -0.174     \\\\\n",
       "\\textbf{국제유가(Dubai)(\\$/배럴)} &       0.1584  &        0.010     &    16.286  &         0.000        &        0.139    &        0.177     \\\\\n",
       "\\textbf{부동산거래량}             &      -0.0159  &        0.005     &    -3.082  &         0.002        &       -0.026    &       -0.006     \\\\\n",
       "\\textbf{국고채5년(평균)}          &      -0.6649  &        0.052     &   -12.795  &         0.000        &       -0.767    &       -0.563     \\\\\n",
       "\\textbf{국고채10년(평균)}         &       0.5352  &        0.038     &    14.155  &         0.000        &        0.461    &        0.609     \\\\\n",
       "\\textbf{회사채3년(평균)}          &       0.1781  &        0.015     &    11.967  &         0.000        &        0.149    &        0.207     \\\\\n",
       "\\textbf{CD91물(평균)}          &      -0.0919  &        0.023     &    -4.005  &         0.000        &       -0.137    &       -0.047     \\\\\n",
       "\\textbf{BOK기준금리}            &      -0.0861  &        0.019     &    -4.634  &         0.000        &       -0.123    &       -0.050     \\\\\n",
       "\\textbf{건물연식}               &       0.1508  &        0.004     &    39.446  &         0.000        &        0.143    &        0.158     \\\\\n",
       "\\textbf{GDP대비가계부채비율}        &      -0.2248  &        0.017     &   -13.515  &         0.000        &       -0.257    &       -0.192     \\\\\n",
       "\\textbf{환율종가}               &      -0.0548  &        0.008     &    -6.738  &         0.000        &       -0.071    &       -0.039     \\\\\n",
       "\\textbf{선행지수순환변동치}          &       0.2016  &        0.012     &    16.168  &         0.000        &        0.177    &        0.226     \\\\\n",
       "\\textbf{장단기금리spread}        &      -0.2662  &        0.024     &   -11.272  &         0.000        &       -0.312    &       -0.220     \\\\\n",
       "\\textbf{금값종가}               &      -0.1521  &        0.016     &    -9.645  &         0.000        &       -0.183    &       -0.121     \\\\\n",
       "\\textbf{LTV}                &      -0.4764  &        0.006     &   -85.156  &         0.000        &       -0.487    &       -0.465     \\\\\n",
       "\\bottomrule\n",
       "\\end{tabular}\n",
       "%\\caption{Robust linear Model Regression Results}\n",
       "\\end{center}\n",
       "\n",
       "If the model instance has been used for another fit with different fit parameters, then the fit options might not be the correct ones anymore ."
      ],
      "text/plain": [
       "<class 'statsmodels.iolib.summary.Summary'>\n",
       "\"\"\"\n",
       "                    Robust linear Model Regression Results                    \n",
       "==============================================================================\n",
       "Dep. Variable:               물건금액(만원)   No. Observations:                87518\n",
       "Model:                            RLM   Df Residuals:                    87500\n",
       "Method:                          IRLS   Df Model:                           17\n",
       "Norm:                          HuberT                                         \n",
       "Scale Est.:                       mad                                         \n",
       "Cov Type:                          H1                                         \n",
       "Date:                Mon, 03 Jul 2023                                         \n",
       "Time:                        16:27:46                                         \n",
       "No. Iterations:                    24                                         \n",
       "=====================================================================================\n",
       "                        coef    std err          z      P>|z|      [0.025      0.975]\n",
       "-------------------------------------------------------------------------------------\n",
       "const                 5.4343      0.022    242.032      0.000       5.390       5.478\n",
       "층                     0.3757      0.007     53.330      0.000       0.362       0.390\n",
       "KOSPI종가              -0.0872      0.017     -4.988      0.000      -0.121      -0.053\n",
       "Fed기준금리              -0.1931      0.010    -19.917      0.000      -0.212      -0.174\n",
       "국제유가(Dubai)($/배럴)     0.1584      0.010     16.286      0.000       0.139       0.177\n",
       "부동산거래량               -0.0159      0.005     -3.082      0.002      -0.026      -0.006\n",
       "국고채5년(평균)            -0.6649      0.052    -12.795      0.000      -0.767      -0.563\n",
       "국고채10년(평균)            0.5352      0.038     14.155      0.000       0.461       0.609\n",
       "회사채3년(평균)             0.1781      0.015     11.967      0.000       0.149       0.207\n",
       "CD91물(평균)            -0.0919      0.023     -4.005      0.000      -0.137      -0.047\n",
       "BOK기준금리              -0.0861      0.019     -4.634      0.000      -0.123      -0.050\n",
       "건물연식                  0.1508      0.004     39.446      0.000       0.143       0.158\n",
       "GDP대비가계부채비율          -0.2248      0.017    -13.515      0.000      -0.257      -0.192\n",
       "환율종가                 -0.0548      0.008     -6.738      0.000      -0.071      -0.039\n",
       "선행지수순환변동치             0.2016      0.012     16.168      0.000       0.177       0.226\n",
       "장단기금리spread          -0.2662      0.024    -11.272      0.000      -0.312      -0.220\n",
       "금값종가                 -0.1521      0.016     -9.645      0.000      -0.183      -0.121\n",
       "LTV                  -0.4764      0.006    -85.156      0.000      -0.487      -0.465\n",
       "=====================================================================================\n",
       "\n",
       "If the model instance has been used for another fit with different fit parameters, then the fit options might not be the correct ones anymore .\n",
       "\"\"\""
      ]
     },
     "execution_count": 4,
     "metadata": {},
     "output_type": "execute_result"
    }
   ],
   "source": [
    "# R_OLS_2\n",
    "# 스케일링 후 predict\n",
    "import statsmodels.api as sm\n",
    "\n",
    "feature_add = sm.add_constant(X_scaled, has_constant='add')\n",
    "\n",
    "# sm OLS 적합\n",
    "model = sm.RLM(y_scaled , feature_add,M=sm.robust.norms.HuberT())\n",
    "fitted_model = model.fit()\n",
    "\n",
    "# summary 함수통해 결과출력\n",
    "fitted_model.summary()"
   ]
  },
  {
   "attachments": {},
   "cell_type": "markdown",
   "metadata": {},
   "source": [
    "## R_VIF_2"
   ]
  },
  {
   "cell_type": "code",
   "execution_count": 5,
   "metadata": {},
   "outputs": [],
   "source": [
    "from statsmodels.stats.outliers_influence import variance_inflation_factor\n",
    "\n",
    "def feature_engineering_XbyVIF(X_scaled):\n",
    "    vif = pd.DataFrame()\n",
    "    vif[\"VIF_Factor\"] = [variance_inflation_factor(X_scaled.values,i)\n",
    "                         for i in range(X_scaled.shape[1])]\n",
    "    vif[\"Feature\"] = X_scaled.columns\n",
    "    return vif"
   ]
  },
  {
   "cell_type": "code",
   "execution_count": 6,
   "metadata": {},
   "outputs": [
    {
     "name": "stdout",
     "output_type": "stream",
     "text": [
      "     VIF_Factor            Feature\n",
      "0      4.291249                  층\n",
      "1    164.466042            KOSPI종가\n",
      "2     49.758997            Fed기준금리\n",
      "3     65.861449  국제유가(Dubai)($/배럴)\n",
      "4      9.679435             부동산거래량\n",
      "5   1235.392870          국고채5년(평균)\n",
      "6    850.618945         국고채10년(평균)\n",
      "7    123.710894          회사채3년(평균)\n",
      "8    280.216497          CD91물(평균)\n",
      "9    258.715842            BOK기준금리\n",
      "10     5.282136               건물연식\n",
      "11   105.939397        GDP대비가계부채비율\n",
      "12    22.812740               환율종가\n",
      "13   126.051974          선행지수순환변동치\n",
      "14   220.305796        장단기금리spread\n",
      "15    60.458377               금값종가\n",
      "16    26.446927                LTV\n"
     ]
    }
   ],
   "source": [
    "# R_VIF_2\n",
    "vif = feature_engineering_XbyVIF(X_scaled)\n",
    "print(vif)"
   ]
  },
  {
   "attachments": {},
   "cell_type": "markdown",
   "metadata": {},
   "source": [
    "### 국고채5년(평균) 컬럼 삭제"
   ]
  },
  {
   "cell_type": "code",
   "execution_count": 7,
   "metadata": {},
   "outputs": [],
   "source": [
    "X_scaled.drop('국고채5년(평균)', axis=1, inplace=True)"
   ]
  },
  {
   "attachments": {},
   "cell_type": "markdown",
   "metadata": {},
   "source": [
    "## R_OLS_3"
   ]
  },
  {
   "cell_type": "code",
   "execution_count": 8,
   "metadata": {},
   "outputs": [
    {
     "data": {
      "text/html": [
       "<table class=\"simpletable\">\n",
       "<caption>Robust linear Model Regression Results</caption>\n",
       "<tr>\n",
       "  <th>Dep. Variable:</th>      <td>물건금액(만원)</td>     <th>  No. Observations:  </th> <td> 87518</td>\n",
       "</tr>\n",
       "<tr>\n",
       "  <th>Model:</th>                 <td>RLM</td>       <th>  Df Residuals:      </th> <td> 87501</td>\n",
       "</tr>\n",
       "<tr>\n",
       "  <th>Method:</th>               <td>IRLS</td>       <th>  Df Model:          </th> <td>    16</td>\n",
       "</tr>\n",
       "<tr>\n",
       "  <th>Norm:</th>                <td>HuberT</td>      <th>                     </th>    <td> </td>  \n",
       "</tr>\n",
       "<tr>\n",
       "  <th>Scale Est.:</th>            <td>mad</td>       <th>                     </th>    <td> </td>  \n",
       "</tr>\n",
       "<tr>\n",
       "  <th>Cov Type:</th>              <td>H1</td>        <th>                     </th>    <td> </td>  \n",
       "</tr>\n",
       "<tr>\n",
       "  <th>Date:</th>           <td>Mon, 03 Jul 2023</td> <th>                     </th>    <td> </td>  \n",
       "</tr>\n",
       "<tr>\n",
       "  <th>Time:</th>               <td>16:28:33</td>     <th>                     </th>    <td> </td>  \n",
       "</tr>\n",
       "<tr>\n",
       "  <th>No. Iterations:</th>        <td>38</td>        <th>                     </th>    <td> </td>  \n",
       "</tr>\n",
       "</table>\n",
       "<table class=\"simpletable\">\n",
       "<tr>\n",
       "          <td></td>             <th>coef</th>     <th>std err</th>      <th>z</th>      <th>P>|z|</th>  <th>[0.025</th>    <th>0.975]</th>  \n",
       "</tr>\n",
       "<tr>\n",
       "  <th>const</th>             <td>    5.5632</td> <td>    0.020</td> <td>  277.847</td> <td> 0.000</td> <td>    5.524</td> <td>    5.602</td>\n",
       "</tr>\n",
       "<tr>\n",
       "  <th>층</th>                 <td>    0.3761</td> <td>    0.007</td> <td>   53.319</td> <td> 0.000</td> <td>    0.362</td> <td>    0.390</td>\n",
       "</tr>\n",
       "<tr>\n",
       "  <th>KOSPI종가</th>           <td>   -0.0933</td> <td>    0.017</td> <td>   -5.335</td> <td> 0.000</td> <td>   -0.128</td> <td>   -0.059</td>\n",
       "</tr>\n",
       "<tr>\n",
       "  <th>Fed기준금리</th>           <td>   -0.2242</td> <td>    0.009</td> <td>  -23.890</td> <td> 0.000</td> <td>   -0.243</td> <td>   -0.206</td>\n",
       "</tr>\n",
       "<tr>\n",
       "  <th>국제유가(Dubai)($/배럴)</th> <td>    0.1491</td> <td>    0.010</td> <td>   15.405</td> <td> 0.000</td> <td>    0.130</td> <td>    0.168</td>\n",
       "</tr>\n",
       "<tr>\n",
       "  <th>부동산거래량</th>            <td>   -0.0076</td> <td>    0.005</td> <td>   -1.484</td> <td> 0.138</td> <td>   -0.018</td> <td>    0.002</td>\n",
       "</tr>\n",
       "<tr>\n",
       "  <th>국고채10년(평균)</th>        <td>    0.1494</td> <td>    0.023</td> <td>    6.543</td> <td> 0.000</td> <td>    0.105</td> <td>    0.194</td>\n",
       "</tr>\n",
       "<tr>\n",
       "  <th>회사채3년(평균)</th>         <td>    0.1281</td> <td>    0.014</td> <td>    8.920</td> <td> 0.000</td> <td>    0.100</td> <td>    0.156</td>\n",
       "</tr>\n",
       "<tr>\n",
       "  <th>CD91물(평균)</th>         <td>   -0.2113</td> <td>    0.021</td> <td>  -10.009</td> <td> 0.000</td> <td>   -0.253</td> <td>   -0.170</td>\n",
       "</tr>\n",
       "<tr>\n",
       "  <th>BOK기준금리</th>           <td>   -0.1861</td> <td>    0.017</td> <td>  -11.011</td> <td> 0.000</td> <td>   -0.219</td> <td>   -0.153</td>\n",
       "</tr>\n",
       "<tr>\n",
       "  <th>건물연식</th>              <td>    0.1525</td> <td>    0.004</td> <td>   39.863</td> <td> 0.000</td> <td>    0.145</td> <td>    0.160</td>\n",
       "</tr>\n",
       "<tr>\n",
       "  <th>GDP대비가계부채비율</th>       <td>   -0.1741</td> <td>    0.016</td> <td>  -10.853</td> <td> 0.000</td> <td>   -0.206</td> <td>   -0.143</td>\n",
       "</tr>\n",
       "<tr>\n",
       "  <th>환율종가</th>              <td>   -0.0201</td> <td>    0.008</td> <td>   -2.590</td> <td> 0.010</td> <td>   -0.035</td> <td>   -0.005</td>\n",
       "</tr>\n",
       "<tr>\n",
       "  <th>선행지수순환변동치</th>         <td>    0.2222</td> <td>    0.012</td> <td>   17.965</td> <td> 0.000</td> <td>    0.198</td> <td>    0.246</td>\n",
       "</tr>\n",
       "<tr>\n",
       "  <th>장단기금리spread</th>       <td>   -0.4700</td> <td>    0.018</td> <td>  -26.856</td> <td> 0.000</td> <td>   -0.504</td> <td>   -0.436</td>\n",
       "</tr>\n",
       "<tr>\n",
       "  <th>금값종가</th>              <td>   -0.1951</td> <td>    0.015</td> <td>  -12.702</td> <td> 0.000</td> <td>   -0.225</td> <td>   -0.165</td>\n",
       "</tr>\n",
       "<tr>\n",
       "  <th>LTV</th>               <td>   -0.4647</td> <td>    0.006</td> <td>  -83.988</td> <td> 0.000</td> <td>   -0.476</td> <td>   -0.454</td>\n",
       "</tr>\n",
       "</table><br/><br/>If the model instance has been used for another fit with different fit parameters, then the fit options might not be the correct ones anymore ."
      ],
      "text/latex": [
       "\\begin{center}\n",
       "\\begin{tabular}{lclc}\n",
       "\\toprule\n",
       "\\textbf{Dep. Variable:}     &     물건금액(만원)     & \\textbf{  No. Observations:  } &    87518    \\\\\n",
       "\\textbf{Model:}             &       RLM        & \\textbf{  Df Residuals:      } &    87501    \\\\\n",
       "\\textbf{Method:}            &       IRLS       & \\textbf{  Df Model:          } &       16    \\\\\n",
       "\\textbf{Norm:}              &      HuberT      & \\textbf{                     } &             \\\\\n",
       "\\textbf{Scale Est.:}        &       mad        & \\textbf{                     } &             \\\\\n",
       "\\textbf{Cov Type:}          &        H1        & \\textbf{                     } &             \\\\\n",
       "\\textbf{Date:}              & Mon, 03 Jul 2023 & \\textbf{                     } &             \\\\\n",
       "\\textbf{Time:}              &     16:28:33     & \\textbf{                     } &             \\\\\n",
       "\\textbf{No. Iterations:}    &        38        & \\textbf{                     } &             \\\\\n",
       "\\bottomrule\n",
       "\\end{tabular}\n",
       "\\begin{tabular}{lcccccc}\n",
       "                            & \\textbf{coef} & \\textbf{std err} & \\textbf{z} & \\textbf{P$> |$z$|$} & \\textbf{[0.025} & \\textbf{0.975]}  \\\\\n",
       "\\midrule\n",
       "\\textbf{const}              &       5.5632  &        0.020     &   277.847  &         0.000        &        5.524    &        5.602     \\\\\n",
       "\\textbf{층}                  &       0.3761  &        0.007     &    53.319  &         0.000        &        0.362    &        0.390     \\\\\n",
       "\\textbf{KOSPI종가}            &      -0.0933  &        0.017     &    -5.335  &         0.000        &       -0.128    &       -0.059     \\\\\n",
       "\\textbf{Fed기준금리}            &      -0.2242  &        0.009     &   -23.890  &         0.000        &       -0.243    &       -0.206     \\\\\n",
       "\\textbf{국제유가(Dubai)(\\$/배럴)} &       0.1491  &        0.010     &    15.405  &         0.000        &        0.130    &        0.168     \\\\\n",
       "\\textbf{부동산거래량}             &      -0.0076  &        0.005     &    -1.484  &         0.138        &       -0.018    &        0.002     \\\\\n",
       "\\textbf{국고채10년(평균)}         &       0.1494  &        0.023     &     6.543  &         0.000        &        0.105    &        0.194     \\\\\n",
       "\\textbf{회사채3년(평균)}          &       0.1281  &        0.014     &     8.920  &         0.000        &        0.100    &        0.156     \\\\\n",
       "\\textbf{CD91물(평균)}          &      -0.2113  &        0.021     &   -10.009  &         0.000        &       -0.253    &       -0.170     \\\\\n",
       "\\textbf{BOK기준금리}            &      -0.1861  &        0.017     &   -11.011  &         0.000        &       -0.219    &       -0.153     \\\\\n",
       "\\textbf{건물연식}               &       0.1525  &        0.004     &    39.863  &         0.000        &        0.145    &        0.160     \\\\\n",
       "\\textbf{GDP대비가계부채비율}        &      -0.1741  &        0.016     &   -10.853  &         0.000        &       -0.206    &       -0.143     \\\\\n",
       "\\textbf{환율종가}               &      -0.0201  &        0.008     &    -2.590  &         0.010        &       -0.035    &       -0.005     \\\\\n",
       "\\textbf{선행지수순환변동치}          &       0.2222  &        0.012     &    17.965  &         0.000        &        0.198    &        0.246     \\\\\n",
       "\\textbf{장단기금리spread}        &      -0.4700  &        0.018     &   -26.856  &         0.000        &       -0.504    &       -0.436     \\\\\n",
       "\\textbf{금값종가}               &      -0.1951  &        0.015     &   -12.702  &         0.000        &       -0.225    &       -0.165     \\\\\n",
       "\\textbf{LTV}                &      -0.4647  &        0.006     &   -83.988  &         0.000        &       -0.476    &       -0.454     \\\\\n",
       "\\bottomrule\n",
       "\\end{tabular}\n",
       "%\\caption{Robust linear Model Regression Results}\n",
       "\\end{center}\n",
       "\n",
       "If the model instance has been used for another fit with different fit parameters, then the fit options might not be the correct ones anymore ."
      ],
      "text/plain": [
       "<class 'statsmodels.iolib.summary.Summary'>\n",
       "\"\"\"\n",
       "                    Robust linear Model Regression Results                    \n",
       "==============================================================================\n",
       "Dep. Variable:               물건금액(만원)   No. Observations:                87518\n",
       "Model:                            RLM   Df Residuals:                    87501\n",
       "Method:                          IRLS   Df Model:                           16\n",
       "Norm:                          HuberT                                         \n",
       "Scale Est.:                       mad                                         \n",
       "Cov Type:                          H1                                         \n",
       "Date:                Mon, 03 Jul 2023                                         \n",
       "Time:                        16:28:33                                         \n",
       "No. Iterations:                    38                                         \n",
       "=====================================================================================\n",
       "                        coef    std err          z      P>|z|      [0.025      0.975]\n",
       "-------------------------------------------------------------------------------------\n",
       "const                 5.5632      0.020    277.847      0.000       5.524       5.602\n",
       "층                     0.3761      0.007     53.319      0.000       0.362       0.390\n",
       "KOSPI종가              -0.0933      0.017     -5.335      0.000      -0.128      -0.059\n",
       "Fed기준금리              -0.2242      0.009    -23.890      0.000      -0.243      -0.206\n",
       "국제유가(Dubai)($/배럴)     0.1491      0.010     15.405      0.000       0.130       0.168\n",
       "부동산거래량               -0.0076      0.005     -1.484      0.138      -0.018       0.002\n",
       "국고채10년(평균)            0.1494      0.023      6.543      0.000       0.105       0.194\n",
       "회사채3년(평균)             0.1281      0.014      8.920      0.000       0.100       0.156\n",
       "CD91물(평균)            -0.2113      0.021    -10.009      0.000      -0.253      -0.170\n",
       "BOK기준금리              -0.1861      0.017    -11.011      0.000      -0.219      -0.153\n",
       "건물연식                  0.1525      0.004     39.863      0.000       0.145       0.160\n",
       "GDP대비가계부채비율          -0.1741      0.016    -10.853      0.000      -0.206      -0.143\n",
       "환율종가                 -0.0201      0.008     -2.590      0.010      -0.035      -0.005\n",
       "선행지수순환변동치             0.2222      0.012     17.965      0.000       0.198       0.246\n",
       "장단기금리spread          -0.4700      0.018    -26.856      0.000      -0.504      -0.436\n",
       "금값종가                 -0.1951      0.015    -12.702      0.000      -0.225      -0.165\n",
       "LTV                  -0.4647      0.006    -83.988      0.000      -0.476      -0.454\n",
       "=====================================================================================\n",
       "\n",
       "If the model instance has been used for another fit with different fit parameters, then the fit options might not be the correct ones anymore .\n",
       "\"\"\""
      ]
     },
     "execution_count": 8,
     "metadata": {},
     "output_type": "execute_result"
    }
   ],
   "source": [
    "# R_OLS_3\n",
    "# 스케일링 후 predict\n",
    "import statsmodels.api as sm\n",
    "\n",
    "feature_add = sm.add_constant(X_scaled, has_constant='add')\n",
    "\n",
    "# sm OLS 적합\n",
    "model = sm.RLM(y_scaled , feature_add,M=sm.robust.norms.HuberT())\n",
    "fitted_model = model.fit()\n",
    "\n",
    "# summary 함수통해 결과출력\n",
    "fitted_model.summary()"
   ]
  },
  {
   "attachments": {},
   "cell_type": "markdown",
   "metadata": {},
   "source": [
    "### 부동산거래량 컬럼 삭제"
   ]
  },
  {
   "cell_type": "code",
   "execution_count": 9,
   "metadata": {},
   "outputs": [],
   "source": [
    "X_scaled.drop('부동산거래량', axis=1, inplace=True)"
   ]
  },
  {
   "attachments": {},
   "cell_type": "markdown",
   "metadata": {},
   "source": [
    "## R_OLS_4"
   ]
  },
  {
   "cell_type": "code",
   "execution_count": 10,
   "metadata": {},
   "outputs": [
    {
     "data": {
      "text/html": [
       "<table class=\"simpletable\">\n",
       "<caption>Robust linear Model Regression Results</caption>\n",
       "<tr>\n",
       "  <th>Dep. Variable:</th>      <td>물건금액(만원)</td>     <th>  No. Observations:  </th> <td> 87518</td>\n",
       "</tr>\n",
       "<tr>\n",
       "  <th>Model:</th>                 <td>RLM</td>       <th>  Df Residuals:      </th> <td> 87502</td>\n",
       "</tr>\n",
       "<tr>\n",
       "  <th>Method:</th>               <td>IRLS</td>       <th>  Df Model:          </th> <td>    15</td>\n",
       "</tr>\n",
       "<tr>\n",
       "  <th>Norm:</th>                <td>HuberT</td>      <th>                     </th>    <td> </td>  \n",
       "</tr>\n",
       "<tr>\n",
       "  <th>Scale Est.:</th>            <td>mad</td>       <th>                     </th>    <td> </td>  \n",
       "</tr>\n",
       "<tr>\n",
       "  <th>Cov Type:</th>              <td>H1</td>        <th>                     </th>    <td> </td>  \n",
       "</tr>\n",
       "<tr>\n",
       "  <th>Date:</th>           <td>Mon, 03 Jul 2023</td> <th>                     </th>    <td> </td>  \n",
       "</tr>\n",
       "<tr>\n",
       "  <th>Time:</th>               <td>16:28:51</td>     <th>                     </th>    <td> </td>  \n",
       "</tr>\n",
       "<tr>\n",
       "  <th>No. Iterations:</th>        <td>34</td>        <th>                     </th>    <td> </td>  \n",
       "</tr>\n",
       "</table>\n",
       "<table class=\"simpletable\">\n",
       "<tr>\n",
       "          <td></td>             <th>coef</th>     <th>std err</th>      <th>z</th>      <th>P>|z|</th>  <th>[0.025</th>    <th>0.975]</th>  \n",
       "</tr>\n",
       "<tr>\n",
       "  <th>const</th>             <td>    5.5649</td> <td>    0.020</td> <td>  278.057</td> <td> 0.000</td> <td>    5.526</td> <td>    5.604</td>\n",
       "</tr>\n",
       "<tr>\n",
       "  <th>층</th>                 <td>    0.3761</td> <td>    0.007</td> <td>   53.334</td> <td> 0.000</td> <td>    0.362</td> <td>    0.390</td>\n",
       "</tr>\n",
       "<tr>\n",
       "  <th>KOSPI종가</th>           <td>   -0.1006</td> <td>    0.017</td> <td>   -5.956</td> <td> 0.000</td> <td>   -0.134</td> <td>   -0.067</td>\n",
       "</tr>\n",
       "<tr>\n",
       "  <th>Fed기준금리</th>           <td>   -0.2238</td> <td>    0.009</td> <td>  -23.872</td> <td> 0.000</td> <td>   -0.242</td> <td>   -0.205</td>\n",
       "</tr>\n",
       "<tr>\n",
       "  <th>국제유가(Dubai)($/배럴)</th> <td>    0.1478</td> <td>    0.010</td> <td>   15.362</td> <td> 0.000</td> <td>    0.129</td> <td>    0.167</td>\n",
       "</tr>\n",
       "<tr>\n",
       "  <th>국고채10년(평균)</th>        <td>    0.1541</td> <td>    0.023</td> <td>    6.800</td> <td> 0.000</td> <td>    0.110</td> <td>    0.199</td>\n",
       "</tr>\n",
       "<tr>\n",
       "  <th>회사채3년(평균)</th>         <td>    0.1321</td> <td>    0.014</td> <td>    9.353</td> <td> 0.000</td> <td>    0.104</td> <td>    0.160</td>\n",
       "</tr>\n",
       "<tr>\n",
       "  <th>CD91물(평균)</th>         <td>   -0.2155</td> <td>    0.021</td> <td>  -10.287</td> <td> 0.000</td> <td>   -0.257</td> <td>   -0.174</td>\n",
       "</tr>\n",
       "<tr>\n",
       "  <th>BOK기준금리</th>           <td>   -0.1824</td> <td>    0.017</td> <td>  -10.939</td> <td> 0.000</td> <td>   -0.215</td> <td>   -0.150</td>\n",
       "</tr>\n",
       "<tr>\n",
       "  <th>건물연식</th>              <td>    0.1526</td> <td>    0.004</td> <td>   39.917</td> <td> 0.000</td> <td>    0.145</td> <td>    0.160</td>\n",
       "</tr>\n",
       "<tr>\n",
       "  <th>GDP대비가계부채비율</th>       <td>   -0.1764</td> <td>    0.016</td> <td>  -11.039</td> <td> 0.000</td> <td>   -0.208</td> <td>   -0.145</td>\n",
       "</tr>\n",
       "<tr>\n",
       "  <th>환율종가</th>              <td>   -0.0208</td> <td>    0.008</td> <td>   -2.693</td> <td> 0.007</td> <td>   -0.036</td> <td>   -0.006</td>\n",
       "</tr>\n",
       "<tr>\n",
       "  <th>선행지수순환변동치</th>         <td>    0.2259</td> <td>    0.012</td> <td>   18.605</td> <td> 0.000</td> <td>    0.202</td> <td>    0.250</td>\n",
       "</tr>\n",
       "<tr>\n",
       "  <th>장단기금리spread</th>       <td>   -0.4782</td> <td>    0.017</td> <td>  -28.493</td> <td> 0.000</td> <td>   -0.511</td> <td>   -0.445</td>\n",
       "</tr>\n",
       "<tr>\n",
       "  <th>금값종가</th>              <td>   -0.1926</td> <td>    0.015</td> <td>  -12.623</td> <td> 0.000</td> <td>   -0.222</td> <td>   -0.163</td>\n",
       "</tr>\n",
       "<tr>\n",
       "  <th>LTV</th>               <td>   -0.4665</td> <td>    0.005</td> <td>  -85.658</td> <td> 0.000</td> <td>   -0.477</td> <td>   -0.456</td>\n",
       "</tr>\n",
       "</table><br/><br/>If the model instance has been used for another fit with different fit parameters, then the fit options might not be the correct ones anymore ."
      ],
      "text/latex": [
       "\\begin{center}\n",
       "\\begin{tabular}{lclc}\n",
       "\\toprule\n",
       "\\textbf{Dep. Variable:}     &     물건금액(만원)     & \\textbf{  No. Observations:  } &    87518    \\\\\n",
       "\\textbf{Model:}             &       RLM        & \\textbf{  Df Residuals:      } &    87502    \\\\\n",
       "\\textbf{Method:}            &       IRLS       & \\textbf{  Df Model:          } &       15    \\\\\n",
       "\\textbf{Norm:}              &      HuberT      & \\textbf{                     } &             \\\\\n",
       "\\textbf{Scale Est.:}        &       mad        & \\textbf{                     } &             \\\\\n",
       "\\textbf{Cov Type:}          &        H1        & \\textbf{                     } &             \\\\\n",
       "\\textbf{Date:}              & Mon, 03 Jul 2023 & \\textbf{                     } &             \\\\\n",
       "\\textbf{Time:}              &     16:28:51     & \\textbf{                     } &             \\\\\n",
       "\\textbf{No. Iterations:}    &        34        & \\textbf{                     } &             \\\\\n",
       "\\bottomrule\n",
       "\\end{tabular}\n",
       "\\begin{tabular}{lcccccc}\n",
       "                            & \\textbf{coef} & \\textbf{std err} & \\textbf{z} & \\textbf{P$> |$z$|$} & \\textbf{[0.025} & \\textbf{0.975]}  \\\\\n",
       "\\midrule\n",
       "\\textbf{const}              &       5.5649  &        0.020     &   278.057  &         0.000        &        5.526    &        5.604     \\\\\n",
       "\\textbf{층}                  &       0.3761  &        0.007     &    53.334  &         0.000        &        0.362    &        0.390     \\\\\n",
       "\\textbf{KOSPI종가}            &      -0.1006  &        0.017     &    -5.956  &         0.000        &       -0.134    &       -0.067     \\\\\n",
       "\\textbf{Fed기준금리}            &      -0.2238  &        0.009     &   -23.872  &         0.000        &       -0.242    &       -0.205     \\\\\n",
       "\\textbf{국제유가(Dubai)(\\$/배럴)} &       0.1478  &        0.010     &    15.362  &         0.000        &        0.129    &        0.167     \\\\\n",
       "\\textbf{국고채10년(평균)}         &       0.1541  &        0.023     &     6.800  &         0.000        &        0.110    &        0.199     \\\\\n",
       "\\textbf{회사채3년(평균)}          &       0.1321  &        0.014     &     9.353  &         0.000        &        0.104    &        0.160     \\\\\n",
       "\\textbf{CD91물(평균)}          &      -0.2155  &        0.021     &   -10.287  &         0.000        &       -0.257    &       -0.174     \\\\\n",
       "\\textbf{BOK기준금리}            &      -0.1824  &        0.017     &   -10.939  &         0.000        &       -0.215    &       -0.150     \\\\\n",
       "\\textbf{건물연식}               &       0.1526  &        0.004     &    39.917  &         0.000        &        0.145    &        0.160     \\\\\n",
       "\\textbf{GDP대비가계부채비율}        &      -0.1764  &        0.016     &   -11.039  &         0.000        &       -0.208    &       -0.145     \\\\\n",
       "\\textbf{환율종가}               &      -0.0208  &        0.008     &    -2.693  &         0.007        &       -0.036    &       -0.006     \\\\\n",
       "\\textbf{선행지수순환변동치}          &       0.2259  &        0.012     &    18.605  &         0.000        &        0.202    &        0.250     \\\\\n",
       "\\textbf{장단기금리spread}        &      -0.4782  &        0.017     &   -28.493  &         0.000        &       -0.511    &       -0.445     \\\\\n",
       "\\textbf{금값종가}               &      -0.1926  &        0.015     &   -12.623  &         0.000        &       -0.222    &       -0.163     \\\\\n",
       "\\textbf{LTV}                &      -0.4665  &        0.005     &   -85.658  &         0.000        &       -0.477    &       -0.456     \\\\\n",
       "\\bottomrule\n",
       "\\end{tabular}\n",
       "%\\caption{Robust linear Model Regression Results}\n",
       "\\end{center}\n",
       "\n",
       "If the model instance has been used for another fit with different fit parameters, then the fit options might not be the correct ones anymore ."
      ],
      "text/plain": [
       "<class 'statsmodels.iolib.summary.Summary'>\n",
       "\"\"\"\n",
       "                    Robust linear Model Regression Results                    \n",
       "==============================================================================\n",
       "Dep. Variable:               물건금액(만원)   No. Observations:                87518\n",
       "Model:                            RLM   Df Residuals:                    87502\n",
       "Method:                          IRLS   Df Model:                           15\n",
       "Norm:                          HuberT                                         \n",
       "Scale Est.:                       mad                                         \n",
       "Cov Type:                          H1                                         \n",
       "Date:                Mon, 03 Jul 2023                                         \n",
       "Time:                        16:28:51                                         \n",
       "No. Iterations:                    34                                         \n",
       "=====================================================================================\n",
       "                        coef    std err          z      P>|z|      [0.025      0.975]\n",
       "-------------------------------------------------------------------------------------\n",
       "const                 5.5649      0.020    278.057      0.000       5.526       5.604\n",
       "층                     0.3761      0.007     53.334      0.000       0.362       0.390\n",
       "KOSPI종가              -0.1006      0.017     -5.956      0.000      -0.134      -0.067\n",
       "Fed기준금리              -0.2238      0.009    -23.872      0.000      -0.242      -0.205\n",
       "국제유가(Dubai)($/배럴)     0.1478      0.010     15.362      0.000       0.129       0.167\n",
       "국고채10년(평균)            0.1541      0.023      6.800      0.000       0.110       0.199\n",
       "회사채3년(평균)             0.1321      0.014      9.353      0.000       0.104       0.160\n",
       "CD91물(평균)            -0.2155      0.021    -10.287      0.000      -0.257      -0.174\n",
       "BOK기준금리              -0.1824      0.017    -10.939      0.000      -0.215      -0.150\n",
       "건물연식                  0.1526      0.004     39.917      0.000       0.145       0.160\n",
       "GDP대비가계부채비율          -0.1764      0.016    -11.039      0.000      -0.208      -0.145\n",
       "환율종가                 -0.0208      0.008     -2.693      0.007      -0.036      -0.006\n",
       "선행지수순환변동치             0.2259      0.012     18.605      0.000       0.202       0.250\n",
       "장단기금리spread          -0.4782      0.017    -28.493      0.000      -0.511      -0.445\n",
       "금값종가                 -0.1926      0.015    -12.623      0.000      -0.222      -0.163\n",
       "LTV                  -0.4665      0.005    -85.658      0.000      -0.477      -0.456\n",
       "=====================================================================================\n",
       "\n",
       "If the model instance has been used for another fit with different fit parameters, then the fit options might not be the correct ones anymore .\n",
       "\"\"\""
      ]
     },
     "execution_count": 10,
     "metadata": {},
     "output_type": "execute_result"
    }
   ],
   "source": [
    "# R_OLS_4\n",
    "# 스케일링 후 predict\n",
    "import statsmodels.api as sm\n",
    "\n",
    "feature_add = sm.add_constant(X_scaled, has_constant='add')\n",
    "\n",
    "# sm OLS 적합\n",
    "model = sm.RLM(y_scaled , feature_add,M=sm.robust.norms.HuberT())\n",
    "fitted_model = model.fit()\n",
    "\n",
    "# summary 함수통해 결과출력\n",
    "fitted_model.summary()"
   ]
  },
  {
   "attachments": {},
   "cell_type": "markdown",
   "metadata": {},
   "source": [
    "## VIF_4"
   ]
  },
  {
   "cell_type": "code",
   "execution_count": 11,
   "metadata": {},
   "outputs": [
    {
     "name": "stdout",
     "output_type": "stream",
     "text": [
      "    VIF_Factor            Feature\n",
      "0     4.279657                  층\n",
      "1   150.607768            KOSPI종가\n",
      "2    43.883574            Fed기준금리\n",
      "3    64.880804  국제유가(Dubai)($/배럴)\n",
      "4   253.479320         국고채10년(평균)\n",
      "5   111.332387          회사채3년(평균)\n",
      "6   268.499245          CD91물(평균)\n",
      "7   229.679923            BOK기준금리\n",
      "8     5.247110               건물연식\n",
      "9    88.356010        GDP대비가계부채비율\n",
      "10   15.576161               환율종가\n",
      "11  117.216898          선행지수순환변동치\n",
      "12  136.393360        장단기금리spread\n",
      "13   58.818982               금값종가\n",
      "14   21.302886                LTV\n"
     ]
    }
   ],
   "source": [
    "vif = feature_engineering_XbyVIF(X_scaled)\n",
    "print(vif)"
   ]
  },
  {
   "attachments": {},
   "cell_type": "markdown",
   "metadata": {},
   "source": [
    "### 국고채10년(평균) 컬럼 삭제"
   ]
  },
  {
   "cell_type": "code",
   "execution_count": 12,
   "metadata": {},
   "outputs": [],
   "source": [
    "X_scaled.drop('국고채10년(평균)', axis=1, inplace=True)"
   ]
  },
  {
   "attachments": {},
   "cell_type": "markdown",
   "metadata": {},
   "source": [
    "## R_OLS_5"
   ]
  },
  {
   "cell_type": "code",
   "execution_count": 13,
   "metadata": {},
   "outputs": [
    {
     "data": {
      "text/html": [
       "<table class=\"simpletable\">\n",
       "<caption>Robust linear Model Regression Results</caption>\n",
       "<tr>\n",
       "  <th>Dep. Variable:</th>      <td>물건금액(만원)</td>     <th>  No. Observations:  </th> <td> 87518</td>\n",
       "</tr>\n",
       "<tr>\n",
       "  <th>Model:</th>                 <td>RLM</td>       <th>  Df Residuals:      </th> <td> 87503</td>\n",
       "</tr>\n",
       "<tr>\n",
       "  <th>Method:</th>               <td>IRLS</td>       <th>  Df Model:          </th> <td>    14</td>\n",
       "</tr>\n",
       "<tr>\n",
       "  <th>Norm:</th>                <td>HuberT</td>      <th>                     </th>    <td> </td>  \n",
       "</tr>\n",
       "<tr>\n",
       "  <th>Scale Est.:</th>            <td>mad</td>       <th>                     </th>    <td> </td>  \n",
       "</tr>\n",
       "<tr>\n",
       "  <th>Cov Type:</th>              <td>H1</td>        <th>                     </th>    <td> </td>  \n",
       "</tr>\n",
       "<tr>\n",
       "  <th>Date:</th>           <td>Mon, 03 Jul 2023</td> <th>                     </th>    <td> </td>  \n",
       "</tr>\n",
       "<tr>\n",
       "  <th>Time:</th>               <td>16:29:47</td>     <th>                     </th>    <td> </td>  \n",
       "</tr>\n",
       "<tr>\n",
       "  <th>No. Iterations:</th>        <td>24</td>        <th>                     </th>    <td> </td>  \n",
       "</tr>\n",
       "</table>\n",
       "<table class=\"simpletable\">\n",
       "<tr>\n",
       "          <td></td>             <th>coef</th>     <th>std err</th>      <th>z</th>      <th>P>|z|</th>  <th>[0.025</th>    <th>0.975]</th>  \n",
       "</tr>\n",
       "<tr>\n",
       "  <th>const</th>             <td>    5.5063</td> <td>    0.018</td> <td>  304.383</td> <td> 0.000</td> <td>    5.471</td> <td>    5.542</td>\n",
       "</tr>\n",
       "<tr>\n",
       "  <th>층</th>                 <td>    0.3766</td> <td>    0.007</td> <td>   53.385</td> <td> 0.000</td> <td>    0.363</td> <td>    0.390</td>\n",
       "</tr>\n",
       "<tr>\n",
       "  <th>KOSPI종가</th>           <td>   -0.0992</td> <td>    0.017</td> <td>   -5.869</td> <td> 0.000</td> <td>   -0.132</td> <td>   -0.066</td>\n",
       "</tr>\n",
       "<tr>\n",
       "  <th>Fed기준금리</th>           <td>   -0.2208</td> <td>    0.009</td> <td>  -23.587</td> <td> 0.000</td> <td>   -0.239</td> <td>   -0.202</td>\n",
       "</tr>\n",
       "<tr>\n",
       "  <th>국제유가(Dubai)($/배럴)</th> <td>    0.1475</td> <td>    0.010</td> <td>   15.323</td> <td> 0.000</td> <td>    0.129</td> <td>    0.166</td>\n",
       "</tr>\n",
       "<tr>\n",
       "  <th>회사채3년(평균)</th>         <td>    0.1981</td> <td>    0.010</td> <td>   19.221</td> <td> 0.000</td> <td>    0.178</td> <td>    0.218</td>\n",
       "</tr>\n",
       "<tr>\n",
       "  <th>CD91물(평균)</th>         <td>   -0.1304</td> <td>    0.017</td> <td>   -7.753</td> <td> 0.000</td> <td>   -0.163</td> <td>   -0.097</td>\n",
       "</tr>\n",
       "<tr>\n",
       "  <th>BOK기준금리</th>           <td>   -0.1941</td> <td>    0.017</td> <td>  -11.709</td> <td> 0.000</td> <td>   -0.227</td> <td>   -0.162</td>\n",
       "</tr>\n",
       "<tr>\n",
       "  <th>건물연식</th>              <td>    0.1528</td> <td>    0.004</td> <td>   39.941</td> <td> 0.000</td> <td>    0.145</td> <td>    0.160</td>\n",
       "</tr>\n",
       "<tr>\n",
       "  <th>GDP대비가계부채비율</th>       <td>   -0.1745</td> <td>    0.016</td> <td>  -10.911</td> <td> 0.000</td> <td>   -0.206</td> <td>   -0.143</td>\n",
       "</tr>\n",
       "<tr>\n",
       "  <th>환율종가</th>              <td>   -0.0096</td> <td>    0.008</td> <td>   -1.274</td> <td> 0.203</td> <td>   -0.024</td> <td>    0.005</td>\n",
       "</tr>\n",
       "<tr>\n",
       "  <th>선행지수순환변동치</th>         <td>    0.2739</td> <td>    0.010</td> <td>   27.339</td> <td> 0.000</td> <td>    0.254</td> <td>    0.294</td>\n",
       "</tr>\n",
       "<tr>\n",
       "  <th>장단기금리spread</th>       <td>   -0.4357</td> <td>    0.016</td> <td>  -28.088</td> <td> 0.000</td> <td>   -0.466</td> <td>   -0.405</td>\n",
       "</tr>\n",
       "<tr>\n",
       "  <th>금값종가</th>              <td>   -0.2046</td> <td>    0.015</td> <td>  -13.486</td> <td> 0.000</td> <td>   -0.234</td> <td>   -0.175</td>\n",
       "</tr>\n",
       "<tr>\n",
       "  <th>LTV</th>               <td>   -0.4634</td> <td>    0.005</td> <td>  -85.441</td> <td> 0.000</td> <td>   -0.474</td> <td>   -0.453</td>\n",
       "</tr>\n",
       "</table><br/><br/>If the model instance has been used for another fit with different fit parameters, then the fit options might not be the correct ones anymore ."
      ],
      "text/latex": [
       "\\begin{center}\n",
       "\\begin{tabular}{lclc}\n",
       "\\toprule\n",
       "\\textbf{Dep. Variable:}     &     물건금액(만원)     & \\textbf{  No. Observations:  } &    87518    \\\\\n",
       "\\textbf{Model:}             &       RLM        & \\textbf{  Df Residuals:      } &    87503    \\\\\n",
       "\\textbf{Method:}            &       IRLS       & \\textbf{  Df Model:          } &       14    \\\\\n",
       "\\textbf{Norm:}              &      HuberT      & \\textbf{                     } &             \\\\\n",
       "\\textbf{Scale Est.:}        &       mad        & \\textbf{                     } &             \\\\\n",
       "\\textbf{Cov Type:}          &        H1        & \\textbf{                     } &             \\\\\n",
       "\\textbf{Date:}              & Mon, 03 Jul 2023 & \\textbf{                     } &             \\\\\n",
       "\\textbf{Time:}              &     16:29:47     & \\textbf{                     } &             \\\\\n",
       "\\textbf{No. Iterations:}    &        24        & \\textbf{                     } &             \\\\\n",
       "\\bottomrule\n",
       "\\end{tabular}\n",
       "\\begin{tabular}{lcccccc}\n",
       "                            & \\textbf{coef} & \\textbf{std err} & \\textbf{z} & \\textbf{P$> |$z$|$} & \\textbf{[0.025} & \\textbf{0.975]}  \\\\\n",
       "\\midrule\n",
       "\\textbf{const}              &       5.5063  &        0.018     &   304.383  &         0.000        &        5.471    &        5.542     \\\\\n",
       "\\textbf{층}                  &       0.3766  &        0.007     &    53.385  &         0.000        &        0.363    &        0.390     \\\\\n",
       "\\textbf{KOSPI종가}            &      -0.0992  &        0.017     &    -5.869  &         0.000        &       -0.132    &       -0.066     \\\\\n",
       "\\textbf{Fed기준금리}            &      -0.2208  &        0.009     &   -23.587  &         0.000        &       -0.239    &       -0.202     \\\\\n",
       "\\textbf{국제유가(Dubai)(\\$/배럴)} &       0.1475  &        0.010     &    15.323  &         0.000        &        0.129    &        0.166     \\\\\n",
       "\\textbf{회사채3년(평균)}          &       0.1981  &        0.010     &    19.221  &         0.000        &        0.178    &        0.218     \\\\\n",
       "\\textbf{CD91물(평균)}          &      -0.1304  &        0.017     &    -7.753  &         0.000        &       -0.163    &       -0.097     \\\\\n",
       "\\textbf{BOK기준금리}            &      -0.1941  &        0.017     &   -11.709  &         0.000        &       -0.227    &       -0.162     \\\\\n",
       "\\textbf{건물연식}               &       0.1528  &        0.004     &    39.941  &         0.000        &        0.145    &        0.160     \\\\\n",
       "\\textbf{GDP대비가계부채비율}        &      -0.1745  &        0.016     &   -10.911  &         0.000        &       -0.206    &       -0.143     \\\\\n",
       "\\textbf{환율종가}               &      -0.0096  &        0.008     &    -1.274  &         0.203        &       -0.024    &        0.005     \\\\\n",
       "\\textbf{선행지수순환변동치}          &       0.2739  &        0.010     &    27.339  &         0.000        &        0.254    &        0.294     \\\\\n",
       "\\textbf{장단기금리spread}        &      -0.4357  &        0.016     &   -28.088  &         0.000        &       -0.466    &       -0.405     \\\\\n",
       "\\textbf{금값종가}               &      -0.2046  &        0.015     &   -13.486  &         0.000        &       -0.234    &       -0.175     \\\\\n",
       "\\textbf{LTV}                &      -0.4634  &        0.005     &   -85.441  &         0.000        &       -0.474    &       -0.453     \\\\\n",
       "\\bottomrule\n",
       "\\end{tabular}\n",
       "%\\caption{Robust linear Model Regression Results}\n",
       "\\end{center}\n",
       "\n",
       "If the model instance has been used for another fit with different fit parameters, then the fit options might not be the correct ones anymore ."
      ],
      "text/plain": [
       "<class 'statsmodels.iolib.summary.Summary'>\n",
       "\"\"\"\n",
       "                    Robust linear Model Regression Results                    \n",
       "==============================================================================\n",
       "Dep. Variable:               물건금액(만원)   No. Observations:                87518\n",
       "Model:                            RLM   Df Residuals:                    87503\n",
       "Method:                          IRLS   Df Model:                           14\n",
       "Norm:                          HuberT                                         \n",
       "Scale Est.:                       mad                                         \n",
       "Cov Type:                          H1                                         \n",
       "Date:                Mon, 03 Jul 2023                                         \n",
       "Time:                        16:29:47                                         \n",
       "No. Iterations:                    24                                         \n",
       "=====================================================================================\n",
       "                        coef    std err          z      P>|z|      [0.025      0.975]\n",
       "-------------------------------------------------------------------------------------\n",
       "const                 5.5063      0.018    304.383      0.000       5.471       5.542\n",
       "층                     0.3766      0.007     53.385      0.000       0.363       0.390\n",
       "KOSPI종가              -0.0992      0.017     -5.869      0.000      -0.132      -0.066\n",
       "Fed기준금리              -0.2208      0.009    -23.587      0.000      -0.239      -0.202\n",
       "국제유가(Dubai)($/배럴)     0.1475      0.010     15.323      0.000       0.129       0.166\n",
       "회사채3년(평균)             0.1981      0.010     19.221      0.000       0.178       0.218\n",
       "CD91물(평균)            -0.1304      0.017     -7.753      0.000      -0.163      -0.097\n",
       "BOK기준금리              -0.1941      0.017    -11.709      0.000      -0.227      -0.162\n",
       "건물연식                  0.1528      0.004     39.941      0.000       0.145       0.160\n",
       "GDP대비가계부채비율          -0.1745      0.016    -10.911      0.000      -0.206      -0.143\n",
       "환율종가                 -0.0096      0.008     -1.274      0.203      -0.024       0.005\n",
       "선행지수순환변동치             0.2739      0.010     27.339      0.000       0.254       0.294\n",
       "장단기금리spread          -0.4357      0.016    -28.088      0.000      -0.466      -0.405\n",
       "금값종가                 -0.2046      0.015    -13.486      0.000      -0.234      -0.175\n",
       "LTV                  -0.4634      0.005    -85.441      0.000      -0.474      -0.453\n",
       "=====================================================================================\n",
       "\n",
       "If the model instance has been used for another fit with different fit parameters, then the fit options might not be the correct ones anymore .\n",
       "\"\"\""
      ]
     },
     "execution_count": 13,
     "metadata": {},
     "output_type": "execute_result"
    }
   ],
   "source": [
    "# R_OLS_5\n",
    "# 스케일링 후 predict\n",
    "import statsmodels.api as sm\n",
    "\n",
    "feature_add = sm.add_constant(X_scaled, has_constant='add')\n",
    "\n",
    "# sm OLS 적합\n",
    "model = sm.RLM(y_scaled , feature_add,M=sm.robust.norms.HuberT())\n",
    "fitted_model = model.fit()\n",
    "\n",
    "# summary 함수통해 결과출력\n",
    "fitted_model.summary()"
   ]
  },
  {
   "attachments": {},
   "cell_type": "markdown",
   "metadata": {},
   "source": [
    "### 환율종가 컬럼 삭제"
   ]
  },
  {
   "cell_type": "code",
   "execution_count": 14,
   "metadata": {},
   "outputs": [],
   "source": [
    "X_scaled.drop('환율종가', axis=1, inplace=True)"
   ]
  },
  {
   "attachments": {},
   "cell_type": "markdown",
   "metadata": {},
   "source": [
    "## R_OLS_6"
   ]
  },
  {
   "cell_type": "code",
   "execution_count": 15,
   "metadata": {},
   "outputs": [
    {
     "data": {
      "text/html": [
       "<table class=\"simpletable\">\n",
       "<caption>Robust linear Model Regression Results</caption>\n",
       "<tr>\n",
       "  <th>Dep. Variable:</th>      <td>물건금액(만원)</td>     <th>  No. Observations:  </th> <td> 87518</td>\n",
       "</tr>\n",
       "<tr>\n",
       "  <th>Model:</th>                 <td>RLM</td>       <th>  Df Residuals:      </th> <td> 87504</td>\n",
       "</tr>\n",
       "<tr>\n",
       "  <th>Method:</th>               <td>IRLS</td>       <th>  Df Model:          </th> <td>    13</td>\n",
       "</tr>\n",
       "<tr>\n",
       "  <th>Norm:</th>                <td>HuberT</td>      <th>                     </th>    <td> </td>  \n",
       "</tr>\n",
       "<tr>\n",
       "  <th>Scale Est.:</th>            <td>mad</td>       <th>                     </th>    <td> </td>  \n",
       "</tr>\n",
       "<tr>\n",
       "  <th>Cov Type:</th>              <td>H1</td>        <th>                     </th>    <td> </td>  \n",
       "</tr>\n",
       "<tr>\n",
       "  <th>Date:</th>           <td>Mon, 03 Jul 2023</td> <th>                     </th>    <td> </td>  \n",
       "</tr>\n",
       "<tr>\n",
       "  <th>Time:</th>               <td>16:30:41</td>     <th>                     </th>    <td> </td>  \n",
       "</tr>\n",
       "<tr>\n",
       "  <th>No. Iterations:</th>        <td>26</td>        <th>                     </th>    <td> </td>  \n",
       "</tr>\n",
       "</table>\n",
       "<table class=\"simpletable\">\n",
       "<tr>\n",
       "          <td></td>             <th>coef</th>     <th>std err</th>      <th>z</th>      <th>P>|z|</th>  <th>[0.025</th>    <th>0.975]</th>  \n",
       "</tr>\n",
       "<tr>\n",
       "  <th>const</th>             <td>    5.4939</td> <td>    0.015</td> <td>  364.908</td> <td> 0.000</td> <td>    5.464</td> <td>    5.523</td>\n",
       "</tr>\n",
       "<tr>\n",
       "  <th>층</th>                 <td>    0.3767</td> <td>    0.007</td> <td>   53.390</td> <td> 0.000</td> <td>    0.363</td> <td>    0.390</td>\n",
       "</tr>\n",
       "<tr>\n",
       "  <th>KOSPI종가</th>           <td>   -0.0923</td> <td>    0.016</td> <td>   -5.776</td> <td> 0.000</td> <td>   -0.124</td> <td>   -0.061</td>\n",
       "</tr>\n",
       "<tr>\n",
       "  <th>Fed기준금리</th>           <td>   -0.2235</td> <td>    0.009</td> <td>  -24.449</td> <td> 0.000</td> <td>   -0.241</td> <td>   -0.206</td>\n",
       "</tr>\n",
       "<tr>\n",
       "  <th>국제유가(Dubai)($/배럴)</th> <td>    0.1521</td> <td>    0.009</td> <td>   17.017</td> <td> 0.000</td> <td>    0.135</td> <td>    0.170</td>\n",
       "</tr>\n",
       "<tr>\n",
       "  <th>회사채3년(평균)</th>         <td>    0.1969</td> <td>    0.010</td> <td>   19.191</td> <td> 0.000</td> <td>    0.177</td> <td>    0.217</td>\n",
       "</tr>\n",
       "<tr>\n",
       "  <th>CD91물(평균)</th>         <td>   -0.1292</td> <td>    0.017</td> <td>   -7.699</td> <td> 0.000</td> <td>   -0.162</td> <td>   -0.096</td>\n",
       "</tr>\n",
       "<tr>\n",
       "  <th>BOK기준금리</th>           <td>   -0.1916</td> <td>    0.016</td> <td>  -11.644</td> <td> 0.000</td> <td>   -0.224</td> <td>   -0.159</td>\n",
       "</tr>\n",
       "<tr>\n",
       "  <th>건물연식</th>              <td>    0.1528</td> <td>    0.004</td> <td>   39.931</td> <td> 0.000</td> <td>    0.145</td> <td>    0.160</td>\n",
       "</tr>\n",
       "<tr>\n",
       "  <th>GDP대비가계부채비율</th>       <td>   -0.1770</td> <td>    0.016</td> <td>  -11.151</td> <td> 0.000</td> <td>   -0.208</td> <td>   -0.146</td>\n",
       "</tr>\n",
       "<tr>\n",
       "  <th>선행지수순환변동치</th>         <td>    0.2756</td> <td>    0.010</td> <td>   27.673</td> <td> 0.000</td> <td>    0.256</td> <td>    0.295</td>\n",
       "</tr>\n",
       "<tr>\n",
       "  <th>장단기금리spread</th>       <td>   -0.4350</td> <td>    0.015</td> <td>  -28.069</td> <td> 0.000</td> <td>   -0.465</td> <td>   -0.405</td>\n",
       "</tr>\n",
       "<tr>\n",
       "  <th>금값종가</th>              <td>   -0.2007</td> <td>    0.015</td> <td>  -13.546</td> <td> 0.000</td> <td>   -0.230</td> <td>   -0.172</td>\n",
       "</tr>\n",
       "<tr>\n",
       "  <th>LTV</th>               <td>   -0.4631</td> <td>    0.005</td> <td>  -85.547</td> <td> 0.000</td> <td>   -0.474</td> <td>   -0.453</td>\n",
       "</tr>\n",
       "</table><br/><br/>If the model instance has been used for another fit with different fit parameters, then the fit options might not be the correct ones anymore ."
      ],
      "text/latex": [
       "\\begin{center}\n",
       "\\begin{tabular}{lclc}\n",
       "\\toprule\n",
       "\\textbf{Dep. Variable:}     &     물건금액(만원)     & \\textbf{  No. Observations:  } &    87518    \\\\\n",
       "\\textbf{Model:}             &       RLM        & \\textbf{  Df Residuals:      } &    87504    \\\\\n",
       "\\textbf{Method:}            &       IRLS       & \\textbf{  Df Model:          } &       13    \\\\\n",
       "\\textbf{Norm:}              &      HuberT      & \\textbf{                     } &             \\\\\n",
       "\\textbf{Scale Est.:}        &       mad        & \\textbf{                     } &             \\\\\n",
       "\\textbf{Cov Type:}          &        H1        & \\textbf{                     } &             \\\\\n",
       "\\textbf{Date:}              & Mon, 03 Jul 2023 & \\textbf{                     } &             \\\\\n",
       "\\textbf{Time:}              &     16:30:41     & \\textbf{                     } &             \\\\\n",
       "\\textbf{No. Iterations:}    &        26        & \\textbf{                     } &             \\\\\n",
       "\\bottomrule\n",
       "\\end{tabular}\n",
       "\\begin{tabular}{lcccccc}\n",
       "                            & \\textbf{coef} & \\textbf{std err} & \\textbf{z} & \\textbf{P$> |$z$|$} & \\textbf{[0.025} & \\textbf{0.975]}  \\\\\n",
       "\\midrule\n",
       "\\textbf{const}              &       5.4939  &        0.015     &   364.908  &         0.000        &        5.464    &        5.523     \\\\\n",
       "\\textbf{층}                  &       0.3767  &        0.007     &    53.390  &         0.000        &        0.363    &        0.390     \\\\\n",
       "\\textbf{KOSPI종가}            &      -0.0923  &        0.016     &    -5.776  &         0.000        &       -0.124    &       -0.061     \\\\\n",
       "\\textbf{Fed기준금리}            &      -0.2235  &        0.009     &   -24.449  &         0.000        &       -0.241    &       -0.206     \\\\\n",
       "\\textbf{국제유가(Dubai)(\\$/배럴)} &       0.1521  &        0.009     &    17.017  &         0.000        &        0.135    &        0.170     \\\\\n",
       "\\textbf{회사채3년(평균)}          &       0.1969  &        0.010     &    19.191  &         0.000        &        0.177    &        0.217     \\\\\n",
       "\\textbf{CD91물(평균)}          &      -0.1292  &        0.017     &    -7.699  &         0.000        &       -0.162    &       -0.096     \\\\\n",
       "\\textbf{BOK기준금리}            &      -0.1916  &        0.016     &   -11.644  &         0.000        &       -0.224    &       -0.159     \\\\\n",
       "\\textbf{건물연식}               &       0.1528  &        0.004     &    39.931  &         0.000        &        0.145    &        0.160     \\\\\n",
       "\\textbf{GDP대비가계부채비율}        &      -0.1770  &        0.016     &   -11.151  &         0.000        &       -0.208    &       -0.146     \\\\\n",
       "\\textbf{선행지수순환변동치}          &       0.2756  &        0.010     &    27.673  &         0.000        &        0.256    &        0.295     \\\\\n",
       "\\textbf{장단기금리spread}        &      -0.4350  &        0.015     &   -28.069  &         0.000        &       -0.465    &       -0.405     \\\\\n",
       "\\textbf{금값종가}               &      -0.2007  &        0.015     &   -13.546  &         0.000        &       -0.230    &       -0.172     \\\\\n",
       "\\textbf{LTV}                &      -0.4631  &        0.005     &   -85.547  &         0.000        &       -0.474    &       -0.453     \\\\\n",
       "\\bottomrule\n",
       "\\end{tabular}\n",
       "%\\caption{Robust linear Model Regression Results}\n",
       "\\end{center}\n",
       "\n",
       "If the model instance has been used for another fit with different fit parameters, then the fit options might not be the correct ones anymore ."
      ],
      "text/plain": [
       "<class 'statsmodels.iolib.summary.Summary'>\n",
       "\"\"\"\n",
       "                    Robust linear Model Regression Results                    \n",
       "==============================================================================\n",
       "Dep. Variable:               물건금액(만원)   No. Observations:                87518\n",
       "Model:                            RLM   Df Residuals:                    87504\n",
       "Method:                          IRLS   Df Model:                           13\n",
       "Norm:                          HuberT                                         \n",
       "Scale Est.:                       mad                                         \n",
       "Cov Type:                          H1                                         \n",
       "Date:                Mon, 03 Jul 2023                                         \n",
       "Time:                        16:30:41                                         \n",
       "No. Iterations:                    26                                         \n",
       "=====================================================================================\n",
       "                        coef    std err          z      P>|z|      [0.025      0.975]\n",
       "-------------------------------------------------------------------------------------\n",
       "const                 5.4939      0.015    364.908      0.000       5.464       5.523\n",
       "층                     0.3767      0.007     53.390      0.000       0.363       0.390\n",
       "KOSPI종가              -0.0923      0.016     -5.776      0.000      -0.124      -0.061\n",
       "Fed기준금리              -0.2235      0.009    -24.449      0.000      -0.241      -0.206\n",
       "국제유가(Dubai)($/배럴)     0.1521      0.009     17.017      0.000       0.135       0.170\n",
       "회사채3년(평균)             0.1969      0.010     19.191      0.000       0.177       0.217\n",
       "CD91물(평균)            -0.1292      0.017     -7.699      0.000      -0.162      -0.096\n",
       "BOK기준금리              -0.1916      0.016    -11.644      0.000      -0.224      -0.159\n",
       "건물연식                  0.1528      0.004     39.931      0.000       0.145       0.160\n",
       "GDP대비가계부채비율          -0.1770      0.016    -11.151      0.000      -0.208      -0.146\n",
       "선행지수순환변동치             0.2756      0.010     27.673      0.000       0.256       0.295\n",
       "장단기금리spread          -0.4350      0.015    -28.069      0.000      -0.465      -0.405\n",
       "금값종가                 -0.2007      0.015    -13.546      0.000      -0.230      -0.172\n",
       "LTV                  -0.4631      0.005    -85.547      0.000      -0.474      -0.453\n",
       "=====================================================================================\n",
       "\n",
       "If the model instance has been used for another fit with different fit parameters, then the fit options might not be the correct ones anymore .\n",
       "\"\"\""
      ]
     },
     "execution_count": 15,
     "metadata": {},
     "output_type": "execute_result"
    }
   ],
   "source": [
    "# R_OLS_6\n",
    "# 스케일링 후 predict\n",
    "import statsmodels.api as sm\n",
    "\n",
    "feature_add = sm.add_constant(X_scaled, has_constant='add')\n",
    "\n",
    "# sm OLS 적합\n",
    "model = sm.RLM(y_scaled , feature_add,M=sm.robust.norms.HuberT())\n",
    "fitted_model = model.fit()\n",
    "\n",
    "# summary 함수통해 결과출력\n",
    "fitted_model.summary()"
   ]
  },
  {
   "attachments": {},
   "cell_type": "markdown",
   "metadata": {},
   "source": [
    "## VIF_6"
   ]
  },
  {
   "cell_type": "code",
   "execution_count": 16,
   "metadata": {},
   "outputs": [
    {
     "name": "stdout",
     "output_type": "stream",
     "text": [
      "    VIF_Factor            Feature\n",
      "0     4.247309                  층\n",
      "1   143.446904            KOSPI종가\n",
      "2    42.047758            Fed기준금리\n",
      "3    54.303493  국제유가(Dubai)($/배럴)\n",
      "4    38.936507          회사채3년(평균)\n",
      "5   197.343545          CD91물(평균)\n",
      "6   212.593958            BOK기준금리\n",
      "7     5.204442               건물연식\n",
      "8    68.848998        GDP대비가계부채비율\n",
      "9    76.024027          선행지수순환변동치\n",
      "10  121.531325        장단기금리spread\n",
      "11   55.393779               금값종가\n",
      "12   18.285259                LTV\n"
     ]
    }
   ],
   "source": [
    "vif = feature_engineering_XbyVIF(X_scaled)\n",
    "print(vif)"
   ]
  },
  {
   "attachments": {},
   "cell_type": "markdown",
   "metadata": {},
   "source": [
    "### BOK기준금리 컬럼 삭제"
   ]
  },
  {
   "cell_type": "code",
   "execution_count": 17,
   "metadata": {},
   "outputs": [],
   "source": [
    "X_scaled.drop('BOK기준금리', axis=1, inplace=True)"
   ]
  },
  {
   "attachments": {},
   "cell_type": "markdown",
   "metadata": {},
   "source": [
    "## R_OLS_7"
   ]
  },
  {
   "cell_type": "code",
   "execution_count": 18,
   "metadata": {},
   "outputs": [
    {
     "data": {
      "text/html": [
       "<table class=\"simpletable\">\n",
       "<caption>Robust linear Model Regression Results</caption>\n",
       "<tr>\n",
       "  <th>Dep. Variable:</th>      <td>물건금액(만원)</td>     <th>  No. Observations:  </th> <td> 87518</td>\n",
       "</tr>\n",
       "<tr>\n",
       "  <th>Model:</th>                 <td>RLM</td>       <th>  Df Residuals:      </th> <td> 87505</td>\n",
       "</tr>\n",
       "<tr>\n",
       "  <th>Method:</th>               <td>IRLS</td>       <th>  Df Model:          </th> <td>    12</td>\n",
       "</tr>\n",
       "<tr>\n",
       "  <th>Norm:</th>                <td>HuberT</td>      <th>                     </th>    <td> </td>  \n",
       "</tr>\n",
       "<tr>\n",
       "  <th>Scale Est.:</th>            <td>mad</td>       <th>                     </th>    <td> </td>  \n",
       "</tr>\n",
       "<tr>\n",
       "  <th>Cov Type:</th>              <td>H1</td>        <th>                     </th>    <td> </td>  \n",
       "</tr>\n",
       "<tr>\n",
       "  <th>Date:</th>           <td>Mon, 03 Jul 2023</td> <th>                     </th>    <td> </td>  \n",
       "</tr>\n",
       "<tr>\n",
       "  <th>Time:</th>               <td>16:31:44</td>     <th>                     </th>    <td> </td>  \n",
       "</tr>\n",
       "<tr>\n",
       "  <th>No. Iterations:</th>        <td>22</td>        <th>                     </th>    <td> </td>  \n",
       "</tr>\n",
       "</table>\n",
       "<table class=\"simpletable\">\n",
       "<tr>\n",
       "          <td></td>             <th>coef</th>     <th>std err</th>      <th>z</th>      <th>P>|z|</th>  <th>[0.025</th>    <th>0.975]</th>  \n",
       "</tr>\n",
       "<tr>\n",
       "  <th>const</th>             <td>    5.4357</td> <td>    0.014</td> <td>  382.428</td> <td> 0.000</td> <td>    5.408</td> <td>    5.464</td>\n",
       "</tr>\n",
       "<tr>\n",
       "  <th>층</th>                 <td>    0.3779</td> <td>    0.007</td> <td>   53.521</td> <td> 0.000</td> <td>    0.364</td> <td>    0.392</td>\n",
       "</tr>\n",
       "<tr>\n",
       "  <th>KOSPI종가</th>           <td>   -0.1245</td> <td>    0.016</td> <td>   -7.919</td> <td> 0.000</td> <td>   -0.155</td> <td>   -0.094</td>\n",
       "</tr>\n",
       "<tr>\n",
       "  <th>Fed기준금리</th>           <td>   -0.2497</td> <td>    0.009</td> <td>  -28.149</td> <td> 0.000</td> <td>   -0.267</td> <td>   -0.232</td>\n",
       "</tr>\n",
       "<tr>\n",
       "  <th>국제유가(Dubai)($/배럴)</th> <td>    0.1279</td> <td>    0.009</td> <td>   14.656</td> <td> 0.000</td> <td>    0.111</td> <td>    0.145</td>\n",
       "</tr>\n",
       "<tr>\n",
       "  <th>회사채3년(평균)</th>         <td>    0.1644</td> <td>    0.010</td> <td>   16.628</td> <td> 0.000</td> <td>    0.145</td> <td>    0.184</td>\n",
       "</tr>\n",
       "<tr>\n",
       "  <th>CD91물(평균)</th>         <td>   -0.2444</td> <td>    0.014</td> <td>  -18.078</td> <td> 0.000</td> <td>   -0.271</td> <td>   -0.218</td>\n",
       "</tr>\n",
       "<tr>\n",
       "  <th>건물연식</th>              <td>    0.1533</td> <td>    0.004</td> <td>   40.038</td> <td> 0.000</td> <td>    0.146</td> <td>    0.161</td>\n",
       "</tr>\n",
       "<tr>\n",
       "  <th>GDP대비가계부채비율</th>       <td>   -0.0771</td> <td>    0.013</td> <td>   -5.771</td> <td> 0.000</td> <td>   -0.103</td> <td>   -0.051</td>\n",
       "</tr>\n",
       "<tr>\n",
       "  <th>선행지수순환변동치</th>         <td>    0.2562</td> <td>    0.010</td> <td>   25.974</td> <td> 0.000</td> <td>    0.237</td> <td>    0.275</td>\n",
       "</tr>\n",
       "<tr>\n",
       "  <th>장단기금리spread</th>       <td>   -0.3608</td> <td>    0.014</td> <td>  -25.366</td> <td> 0.000</td> <td>   -0.389</td> <td>   -0.333</td>\n",
       "</tr>\n",
       "<tr>\n",
       "  <th>금값종가</th>              <td>   -0.2217</td> <td>    0.015</td> <td>  -15.045</td> <td> 0.000</td> <td>   -0.251</td> <td>   -0.193</td>\n",
       "</tr>\n",
       "<tr>\n",
       "  <th>LTV</th>               <td>   -0.4490</td> <td>    0.005</td> <td>  -84.940</td> <td> 0.000</td> <td>   -0.459</td> <td>   -0.439</td>\n",
       "</tr>\n",
       "</table><br/><br/>If the model instance has been used for another fit with different fit parameters, then the fit options might not be the correct ones anymore ."
      ],
      "text/latex": [
       "\\begin{center}\n",
       "\\begin{tabular}{lclc}\n",
       "\\toprule\n",
       "\\textbf{Dep. Variable:}     &     물건금액(만원)     & \\textbf{  No. Observations:  } &    87518    \\\\\n",
       "\\textbf{Model:}             &       RLM        & \\textbf{  Df Residuals:      } &    87505    \\\\\n",
       "\\textbf{Method:}            &       IRLS       & \\textbf{  Df Model:          } &       12    \\\\\n",
       "\\textbf{Norm:}              &      HuberT      & \\textbf{                     } &             \\\\\n",
       "\\textbf{Scale Est.:}        &       mad        & \\textbf{                     } &             \\\\\n",
       "\\textbf{Cov Type:}          &        H1        & \\textbf{                     } &             \\\\\n",
       "\\textbf{Date:}              & Mon, 03 Jul 2023 & \\textbf{                     } &             \\\\\n",
       "\\textbf{Time:}              &     16:31:44     & \\textbf{                     } &             \\\\\n",
       "\\textbf{No. Iterations:}    &        22        & \\textbf{                     } &             \\\\\n",
       "\\bottomrule\n",
       "\\end{tabular}\n",
       "\\begin{tabular}{lcccccc}\n",
       "                            & \\textbf{coef} & \\textbf{std err} & \\textbf{z} & \\textbf{P$> |$z$|$} & \\textbf{[0.025} & \\textbf{0.975]}  \\\\\n",
       "\\midrule\n",
       "\\textbf{const}              &       5.4357  &        0.014     &   382.428  &         0.000        &        5.408    &        5.464     \\\\\n",
       "\\textbf{층}                  &       0.3779  &        0.007     &    53.521  &         0.000        &        0.364    &        0.392     \\\\\n",
       "\\textbf{KOSPI종가}            &      -0.1245  &        0.016     &    -7.919  &         0.000        &       -0.155    &       -0.094     \\\\\n",
       "\\textbf{Fed기준금리}            &      -0.2497  &        0.009     &   -28.149  &         0.000        &       -0.267    &       -0.232     \\\\\n",
       "\\textbf{국제유가(Dubai)(\\$/배럴)} &       0.1279  &        0.009     &    14.656  &         0.000        &        0.111    &        0.145     \\\\\n",
       "\\textbf{회사채3년(평균)}          &       0.1644  &        0.010     &    16.628  &         0.000        &        0.145    &        0.184     \\\\\n",
       "\\textbf{CD91물(평균)}          &      -0.2444  &        0.014     &   -18.078  &         0.000        &       -0.271    &       -0.218     \\\\\n",
       "\\textbf{건물연식}               &       0.1533  &        0.004     &    40.038  &         0.000        &        0.146    &        0.161     \\\\\n",
       "\\textbf{GDP대비가계부채비율}        &      -0.0771  &        0.013     &    -5.771  &         0.000        &       -0.103    &       -0.051     \\\\\n",
       "\\textbf{선행지수순환변동치}          &       0.2562  &        0.010     &    25.974  &         0.000        &        0.237    &        0.275     \\\\\n",
       "\\textbf{장단기금리spread}        &      -0.3608  &        0.014     &   -25.366  &         0.000        &       -0.389    &       -0.333     \\\\\n",
       "\\textbf{금값종가}               &      -0.2217  &        0.015     &   -15.045  &         0.000        &       -0.251    &       -0.193     \\\\\n",
       "\\textbf{LTV}                &      -0.4490  &        0.005     &   -84.940  &         0.000        &       -0.459    &       -0.439     \\\\\n",
       "\\bottomrule\n",
       "\\end{tabular}\n",
       "%\\caption{Robust linear Model Regression Results}\n",
       "\\end{center}\n",
       "\n",
       "If the model instance has been used for another fit with different fit parameters, then the fit options might not be the correct ones anymore ."
      ],
      "text/plain": [
       "<class 'statsmodels.iolib.summary.Summary'>\n",
       "\"\"\"\n",
       "                    Robust linear Model Regression Results                    \n",
       "==============================================================================\n",
       "Dep. Variable:               물건금액(만원)   No. Observations:                87518\n",
       "Model:                            RLM   Df Residuals:                    87505\n",
       "Method:                          IRLS   Df Model:                           12\n",
       "Norm:                          HuberT                                         \n",
       "Scale Est.:                       mad                                         \n",
       "Cov Type:                          H1                                         \n",
       "Date:                Mon, 03 Jul 2023                                         \n",
       "Time:                        16:31:44                                         \n",
       "No. Iterations:                    22                                         \n",
       "=====================================================================================\n",
       "                        coef    std err          z      P>|z|      [0.025      0.975]\n",
       "-------------------------------------------------------------------------------------\n",
       "const                 5.4357      0.014    382.428      0.000       5.408       5.464\n",
       "층                     0.3779      0.007     53.521      0.000       0.364       0.392\n",
       "KOSPI종가              -0.1245      0.016     -7.919      0.000      -0.155      -0.094\n",
       "Fed기준금리              -0.2497      0.009    -28.149      0.000      -0.267      -0.232\n",
       "국제유가(Dubai)($/배럴)     0.1279      0.009     14.656      0.000       0.111       0.145\n",
       "회사채3년(평균)             0.1644      0.010     16.628      0.000       0.145       0.184\n",
       "CD91물(평균)            -0.2444      0.014    -18.078      0.000      -0.271      -0.218\n",
       "건물연식                  0.1533      0.004     40.038      0.000       0.146       0.161\n",
       "GDP대비가계부채비율          -0.0771      0.013     -5.771      0.000      -0.103      -0.051\n",
       "선행지수순환변동치             0.2562      0.010     25.974      0.000       0.237       0.275\n",
       "장단기금리spread          -0.3608      0.014    -25.366      0.000      -0.389      -0.333\n",
       "금값종가                 -0.2217      0.015    -15.045      0.000      -0.251      -0.193\n",
       "LTV                  -0.4490      0.005    -84.940      0.000      -0.459      -0.439\n",
       "=====================================================================================\n",
       "\n",
       "If the model instance has been used for another fit with different fit parameters, then the fit options might not be the correct ones anymore .\n",
       "\"\"\""
      ]
     },
     "execution_count": 18,
     "metadata": {},
     "output_type": "execute_result"
    }
   ],
   "source": [
    "# R_OLS_7\n",
    "# 스케일링 후 predict\n",
    "import statsmodels.api as sm\n",
    "\n",
    "feature_add = sm.add_constant(X_scaled, has_constant='add')\n",
    "\n",
    "# sm OLS 적합\n",
    "model = sm.RLM(y_scaled , feature_add,M=sm.robust.norms.HuberT())\n",
    "fitted_model = model.fit()\n",
    "\n",
    "# summary 함수통해 결과출력\n",
    "fitted_model.summary()"
   ]
  },
  {
   "attachments": {},
   "cell_type": "markdown",
   "metadata": {},
   "source": [
    "## VIF_7"
   ]
  },
  {
   "cell_type": "code",
   "execution_count": 19,
   "metadata": {},
   "outputs": [
    {
     "name": "stdout",
     "output_type": "stream",
     "text": [
      "    VIF_Factor            Feature\n",
      "0     4.241510                  층\n",
      "1   131.966161            KOSPI종가\n",
      "2    40.663294            Fed기준금리\n",
      "3    52.655484  국제유가(Dubai)($/배럴)\n",
      "4    38.548046          회사채3년(평균)\n",
      "5    46.039158          CD91물(평균)\n",
      "6     5.197788               건물연식\n",
      "7    54.595122        GDP대비가계부채비율\n",
      "8    75.625892          선행지수순환변동치\n",
      "9   111.682002        장단기금리spread\n",
      "10   53.040649               금값종가\n",
      "11   18.275252                LTV\n"
     ]
    }
   ],
   "source": [
    "vif = feature_engineering_XbyVIF(X_scaled)\n",
    "print(vif)"
   ]
  },
  {
   "attachments": {},
   "cell_type": "markdown",
   "metadata": {},
   "source": [
    "### KOSPI종가 컬럼 삭제"
   ]
  },
  {
   "cell_type": "code",
   "execution_count": 20,
   "metadata": {},
   "outputs": [],
   "source": [
    "X_scaled.drop('KOSPI종가', axis=1, inplace=True)"
   ]
  },
  {
   "attachments": {},
   "cell_type": "markdown",
   "metadata": {},
   "source": [
    "## R_OLS_8"
   ]
  },
  {
   "cell_type": "code",
   "execution_count": 21,
   "metadata": {},
   "outputs": [
    {
     "data": {
      "text/html": [
       "<table class=\"simpletable\">\n",
       "<caption>Robust linear Model Regression Results</caption>\n",
       "<tr>\n",
       "  <th>Dep. Variable:</th>      <td>물건금액(만원)</td>     <th>  No. Observations:  </th> <td> 87518</td>\n",
       "</tr>\n",
       "<tr>\n",
       "  <th>Model:</th>                 <td>RLM</td>       <th>  Df Residuals:      </th> <td> 87506</td>\n",
       "</tr>\n",
       "<tr>\n",
       "  <th>Method:</th>               <td>IRLS</td>       <th>  Df Model:          </th> <td>    11</td>\n",
       "</tr>\n",
       "<tr>\n",
       "  <th>Norm:</th>                <td>HuberT</td>      <th>                     </th>    <td> </td>  \n",
       "</tr>\n",
       "<tr>\n",
       "  <th>Scale Est.:</th>            <td>mad</td>       <th>                     </th>    <td> </td>  \n",
       "</tr>\n",
       "<tr>\n",
       "  <th>Cov Type:</th>              <td>H1</td>        <th>                     </th>    <td> </td>  \n",
       "</tr>\n",
       "<tr>\n",
       "  <th>Date:</th>           <td>Mon, 03 Jul 2023</td> <th>                     </th>    <td> </td>  \n",
       "</tr>\n",
       "<tr>\n",
       "  <th>Time:</th>               <td>16:32:44</td>     <th>                     </th>    <td> </td>  \n",
       "</tr>\n",
       "<tr>\n",
       "  <th>No. Iterations:</th>        <td>37</td>        <th>                     </th>    <td> </td>  \n",
       "</tr>\n",
       "</table>\n",
       "<table class=\"simpletable\">\n",
       "<tr>\n",
       "          <td></td>             <th>coef</th>     <th>std err</th>      <th>z</th>      <th>P>|z|</th>  <th>[0.025</th>    <th>0.975]</th>  \n",
       "</tr>\n",
       "<tr>\n",
       "  <th>const</th>             <td>    5.3995</td> <td>    0.013</td> <td>  400.482</td> <td> 0.000</td> <td>    5.373</td> <td>    5.426</td>\n",
       "</tr>\n",
       "<tr>\n",
       "  <th>층</th>                 <td>    0.3784</td> <td>    0.007</td> <td>   53.574</td> <td> 0.000</td> <td>    0.365</td> <td>    0.392</td>\n",
       "</tr>\n",
       "<tr>\n",
       "  <th>Fed기준금리</th>           <td>   -0.2559</td> <td>    0.009</td> <td>  -28.950</td> <td> 0.000</td> <td>   -0.273</td> <td>   -0.239</td>\n",
       "</tr>\n",
       "<tr>\n",
       "  <th>국제유가(Dubai)($/배럴)</th> <td>    0.1074</td> <td>    0.008</td> <td>   12.855</td> <td> 0.000</td> <td>    0.091</td> <td>    0.124</td>\n",
       "</tr>\n",
       "<tr>\n",
       "  <th>회사채3년(평균)</th>         <td>    0.1283</td> <td>    0.009</td> <td>   14.612</td> <td> 0.000</td> <td>    0.111</td> <td>    0.145</td>\n",
       "</tr>\n",
       "<tr>\n",
       "  <th>CD91물(평균)</th>         <td>   -0.2203</td> <td>    0.013</td> <td>  -16.694</td> <td> 0.000</td> <td>   -0.246</td> <td>   -0.194</td>\n",
       "</tr>\n",
       "<tr>\n",
       "  <th>건물연식</th>              <td>    0.1533</td> <td>    0.004</td> <td>   40.014</td> <td> 0.000</td> <td>    0.146</td> <td>    0.161</td>\n",
       "</tr>\n",
       "<tr>\n",
       "  <th>GDP대비가계부채비율</th>       <td>   -0.0633</td> <td>    0.013</td> <td>   -4.780</td> <td> 0.000</td> <td>   -0.089</td> <td>   -0.037</td>\n",
       "</tr>\n",
       "<tr>\n",
       "  <th>선행지수순환변동치</th>         <td>    0.1954</td> <td>    0.006</td> <td>   31.230</td> <td> 0.000</td> <td>    0.183</td> <td>    0.208</td>\n",
       "</tr>\n",
       "<tr>\n",
       "  <th>장단기금리spread</th>       <td>   -0.3205</td> <td>    0.013</td> <td>  -24.067</td> <td> 0.000</td> <td>   -0.347</td> <td>   -0.294</td>\n",
       "</tr>\n",
       "<tr>\n",
       "  <th>금값종가</th>              <td>   -0.2659</td> <td>    0.014</td> <td>  -19.525</td> <td> 0.000</td> <td>   -0.293</td> <td>   -0.239</td>\n",
       "</tr>\n",
       "<tr>\n",
       "  <th>LTV</th>               <td>   -0.4379</td> <td>    0.005</td> <td>  -85.818</td> <td> 0.000</td> <td>   -0.448</td> <td>   -0.428</td>\n",
       "</tr>\n",
       "</table><br/><br/>If the model instance has been used for another fit with different fit parameters, then the fit options might not be the correct ones anymore ."
      ],
      "text/latex": [
       "\\begin{center}\n",
       "\\begin{tabular}{lclc}\n",
       "\\toprule\n",
       "\\textbf{Dep. Variable:}     &     물건금액(만원)     & \\textbf{  No. Observations:  } &    87518    \\\\\n",
       "\\textbf{Model:}             &       RLM        & \\textbf{  Df Residuals:      } &    87506    \\\\\n",
       "\\textbf{Method:}            &       IRLS       & \\textbf{  Df Model:          } &       11    \\\\\n",
       "\\textbf{Norm:}              &      HuberT      & \\textbf{                     } &             \\\\\n",
       "\\textbf{Scale Est.:}        &       mad        & \\textbf{                     } &             \\\\\n",
       "\\textbf{Cov Type:}          &        H1        & \\textbf{                     } &             \\\\\n",
       "\\textbf{Date:}              & Mon, 03 Jul 2023 & \\textbf{                     } &             \\\\\n",
       "\\textbf{Time:}              &     16:32:44     & \\textbf{                     } &             \\\\\n",
       "\\textbf{No. Iterations:}    &        37        & \\textbf{                     } &             \\\\\n",
       "\\bottomrule\n",
       "\\end{tabular}\n",
       "\\begin{tabular}{lcccccc}\n",
       "                            & \\textbf{coef} & \\textbf{std err} & \\textbf{z} & \\textbf{P$> |$z$|$} & \\textbf{[0.025} & \\textbf{0.975]}  \\\\\n",
       "\\midrule\n",
       "\\textbf{const}              &       5.3995  &        0.013     &   400.482  &         0.000        &        5.373    &        5.426     \\\\\n",
       "\\textbf{층}                  &       0.3784  &        0.007     &    53.574  &         0.000        &        0.365    &        0.392     \\\\\n",
       "\\textbf{Fed기준금리}            &      -0.2559  &        0.009     &   -28.950  &         0.000        &       -0.273    &       -0.239     \\\\\n",
       "\\textbf{국제유가(Dubai)(\\$/배럴)} &       0.1074  &        0.008     &    12.855  &         0.000        &        0.091    &        0.124     \\\\\n",
       "\\textbf{회사채3년(평균)}          &       0.1283  &        0.009     &    14.612  &         0.000        &        0.111    &        0.145     \\\\\n",
       "\\textbf{CD91물(평균)}          &      -0.2203  &        0.013     &   -16.694  &         0.000        &       -0.246    &       -0.194     \\\\\n",
       "\\textbf{건물연식}               &       0.1533  &        0.004     &    40.014  &         0.000        &        0.146    &        0.161     \\\\\n",
       "\\textbf{GDP대비가계부채비율}        &      -0.0633  &        0.013     &    -4.780  &         0.000        &       -0.089    &       -0.037     \\\\\n",
       "\\textbf{선행지수순환변동치}          &       0.1954  &        0.006     &    31.230  &         0.000        &        0.183    &        0.208     \\\\\n",
       "\\textbf{장단기금리spread}        &      -0.3205  &        0.013     &   -24.067  &         0.000        &       -0.347    &       -0.294     \\\\\n",
       "\\textbf{금값종가}               &      -0.2659  &        0.014     &   -19.525  &         0.000        &       -0.293    &       -0.239     \\\\\n",
       "\\textbf{LTV}                &      -0.4379  &        0.005     &   -85.818  &         0.000        &       -0.448    &       -0.428     \\\\\n",
       "\\bottomrule\n",
       "\\end{tabular}\n",
       "%\\caption{Robust linear Model Regression Results}\n",
       "\\end{center}\n",
       "\n",
       "If the model instance has been used for another fit with different fit parameters, then the fit options might not be the correct ones anymore ."
      ],
      "text/plain": [
       "<class 'statsmodels.iolib.summary.Summary'>\n",
       "\"\"\"\n",
       "                    Robust linear Model Regression Results                    \n",
       "==============================================================================\n",
       "Dep. Variable:               물건금액(만원)   No. Observations:                87518\n",
       "Model:                            RLM   Df Residuals:                    87506\n",
       "Method:                          IRLS   Df Model:                           11\n",
       "Norm:                          HuberT                                         \n",
       "Scale Est.:                       mad                                         \n",
       "Cov Type:                          H1                                         \n",
       "Date:                Mon, 03 Jul 2023                                         \n",
       "Time:                        16:32:44                                         \n",
       "No. Iterations:                    37                                         \n",
       "=====================================================================================\n",
       "                        coef    std err          z      P>|z|      [0.025      0.975]\n",
       "-------------------------------------------------------------------------------------\n",
       "const                 5.3995      0.013    400.482      0.000       5.373       5.426\n",
       "층                     0.3784      0.007     53.574      0.000       0.365       0.392\n",
       "Fed기준금리              -0.2559      0.009    -28.950      0.000      -0.273      -0.239\n",
       "국제유가(Dubai)($/배럴)     0.1074      0.008     12.855      0.000       0.091       0.124\n",
       "회사채3년(평균)             0.1283      0.009     14.612      0.000       0.111       0.145\n",
       "CD91물(평균)            -0.2203      0.013    -16.694      0.000      -0.246      -0.194\n",
       "건물연식                  0.1533      0.004     40.014      0.000       0.146       0.161\n",
       "GDP대비가계부채비율          -0.0633      0.013     -4.780      0.000      -0.089      -0.037\n",
       "선행지수순환변동치             0.1954      0.006     31.230      0.000       0.183       0.208\n",
       "장단기금리spread          -0.3205      0.013    -24.067      0.000      -0.347      -0.294\n",
       "금값종가                 -0.2659      0.014    -19.525      0.000      -0.293      -0.239\n",
       "LTV                  -0.4379      0.005    -85.818      0.000      -0.448      -0.428\n",
       "=====================================================================================\n",
       "\n",
       "If the model instance has been used for another fit with different fit parameters, then the fit options might not be the correct ones anymore .\n",
       "\"\"\""
      ]
     },
     "execution_count": 21,
     "metadata": {},
     "output_type": "execute_result"
    }
   ],
   "source": [
    "# R_OLS_8\n",
    "# 스케일링 후 predict\n",
    "import statsmodels.api as sm\n",
    "\n",
    "feature_add = sm.add_constant(X_scaled, has_constant='add')\n",
    "\n",
    "# sm OLS 적합\n",
    "model = sm.RLM(y_scaled , feature_add,M=sm.robust.norms.HuberT())\n",
    "fitted_model = model.fit()\n",
    "\n",
    "# summary 함수통해 결과출력\n",
    "fitted_model.summary()"
   ]
  },
  {
   "attachments": {},
   "cell_type": "markdown",
   "metadata": {},
   "source": [
    "## VIF_8"
   ]
  },
  {
   "cell_type": "code",
   "execution_count": 22,
   "metadata": {},
   "outputs": [
    {
     "name": "stdout",
     "output_type": "stream",
     "text": [
      "    VIF_Factor            Feature\n",
      "0     4.234540                  층\n",
      "1    40.607211            Fed기준금리\n",
      "2    48.901181  국제유가(Dubai)($/배럴)\n",
      "3    33.468491          회사채3년(평균)\n",
      "4    45.631817          CD91물(평균)\n",
      "5     5.184616               건물연식\n",
      "6    54.571888        GDP대비가계부채비율\n",
      "7    31.482383          선행지수순환변동치\n",
      "8   104.584826        장단기금리spread\n",
      "9    38.755008               금값종가\n",
      "10   18.091066                LTV\n"
     ]
    }
   ],
   "source": [
    "vif = feature_engineering_XbyVIF(X_scaled)\n",
    "print(vif)"
   ]
  },
  {
   "attachments": {},
   "cell_type": "markdown",
   "metadata": {},
   "source": [
    "### 장단기금리spread 컬럼 삭제"
   ]
  },
  {
   "cell_type": "code",
   "execution_count": 23,
   "metadata": {},
   "outputs": [],
   "source": [
    "X_scaled.drop('장단기금리spread', axis=1, inplace=True)"
   ]
  },
  {
   "attachments": {},
   "cell_type": "markdown",
   "metadata": {},
   "source": [
    "## R_OLS_9"
   ]
  },
  {
   "cell_type": "code",
   "execution_count": 24,
   "metadata": {},
   "outputs": [
    {
     "data": {
      "text/html": [
       "<table class=\"simpletable\">\n",
       "<caption>Robust linear Model Regression Results</caption>\n",
       "<tr>\n",
       "  <th>Dep. Variable:</th>      <td>물건금액(만원)</td>     <th>  No. Observations:  </th> <td> 87518</td>\n",
       "</tr>\n",
       "<tr>\n",
       "  <th>Model:</th>                 <td>RLM</td>       <th>  Df Residuals:      </th> <td> 87507</td>\n",
       "</tr>\n",
       "<tr>\n",
       "  <th>Method:</th>               <td>IRLS</td>       <th>  Df Model:          </th> <td>    10</td>\n",
       "</tr>\n",
       "<tr>\n",
       "  <th>Norm:</th>                <td>HuberT</td>      <th>                     </th>    <td> </td>  \n",
       "</tr>\n",
       "<tr>\n",
       "  <th>Scale Est.:</th>            <td>mad</td>       <th>                     </th>    <td> </td>  \n",
       "</tr>\n",
       "<tr>\n",
       "  <th>Cov Type:</th>              <td>H1</td>        <th>                     </th>    <td> </td>  \n",
       "</tr>\n",
       "<tr>\n",
       "  <th>Date:</th>           <td>Mon, 03 Jul 2023</td> <th>                     </th>    <td> </td>  \n",
       "</tr>\n",
       "<tr>\n",
       "  <th>Time:</th>               <td>16:33:20</td>     <th>                     </th>    <td> </td>  \n",
       "</tr>\n",
       "<tr>\n",
       "  <th>No. Iterations:</th>        <td>21</td>        <th>                     </th>    <td> </td>  \n",
       "</tr>\n",
       "</table>\n",
       "<table class=\"simpletable\">\n",
       "<tr>\n",
       "          <td></td>             <th>coef</th>     <th>std err</th>      <th>z</th>      <th>P>|z|</th>  <th>[0.025</th>    <th>0.975]</th>  \n",
       "</tr>\n",
       "<tr>\n",
       "  <th>const</th>             <td>    5.2878</td> <td>    0.013</td> <td>  418.015</td> <td> 0.000</td> <td>    5.263</td> <td>    5.313</td>\n",
       "</tr>\n",
       "<tr>\n",
       "  <th>층</th>                 <td>    0.3811</td> <td>    0.007</td> <td>   53.738</td> <td> 0.000</td> <td>    0.367</td> <td>    0.395</td>\n",
       "</tr>\n",
       "<tr>\n",
       "  <th>Fed기준금리</th>           <td>   -0.1955</td> <td>    0.008</td> <td>  -23.148</td> <td> 0.000</td> <td>   -0.212</td> <td>   -0.179</td>\n",
       "</tr>\n",
       "<tr>\n",
       "  <th>국제유가(Dubai)($/배럴)</th> <td>    0.0487</td> <td>    0.008</td> <td>    6.114</td> <td> 0.000</td> <td>    0.033</td> <td>    0.064</td>\n",
       "</tr>\n",
       "<tr>\n",
       "  <th>회사채3년(평균)</th>         <td>   -0.0544</td> <td>    0.005</td> <td>  -11.921</td> <td> 0.000</td> <td>   -0.063</td> <td>   -0.045</td>\n",
       "</tr>\n",
       "<tr>\n",
       "  <th>CD91물(평균)</th>         <td>   -0.1289</td> <td>    0.013</td> <td>  -10.179</td> <td> 0.000</td> <td>   -0.154</td> <td>   -0.104</td>\n",
       "</tr>\n",
       "<tr>\n",
       "  <th>건물연식</th>              <td>    0.1572</td> <td>    0.004</td> <td>   40.915</td> <td> 0.000</td> <td>    0.150</td> <td>    0.165</td>\n",
       "</tr>\n",
       "<tr>\n",
       "  <th>GDP대비가계부채비율</th>       <td>   -0.0848</td> <td>    0.013</td> <td>   -6.389</td> <td> 0.000</td> <td>   -0.111</td> <td>   -0.059</td>\n",
       "</tr>\n",
       "<tr>\n",
       "  <th>선행지수순환변동치</th>         <td>    0.1058</td> <td>    0.005</td> <td>   21.491</td> <td> 0.000</td> <td>    0.096</td> <td>    0.115</td>\n",
       "</tr>\n",
       "<tr>\n",
       "  <th>금값종가</th>              <td>   -0.1901</td> <td>    0.013</td> <td>  -14.312</td> <td> 0.000</td> <td>   -0.216</td> <td>   -0.164</td>\n",
       "</tr>\n",
       "<tr>\n",
       "  <th>LTV</th>               <td>   -0.4279</td> <td>    0.005</td> <td>  -84.130</td> <td> 0.000</td> <td>   -0.438</td> <td>   -0.418</td>\n",
       "</tr>\n",
       "</table><br/><br/>If the model instance has been used for another fit with different fit parameters, then the fit options might not be the correct ones anymore ."
      ],
      "text/latex": [
       "\\begin{center}\n",
       "\\begin{tabular}{lclc}\n",
       "\\toprule\n",
       "\\textbf{Dep. Variable:}     &     물건금액(만원)     & \\textbf{  No. Observations:  } &    87518    \\\\\n",
       "\\textbf{Model:}             &       RLM        & \\textbf{  Df Residuals:      } &    87507    \\\\\n",
       "\\textbf{Method:}            &       IRLS       & \\textbf{  Df Model:          } &       10    \\\\\n",
       "\\textbf{Norm:}              &      HuberT      & \\textbf{                     } &             \\\\\n",
       "\\textbf{Scale Est.:}        &       mad        & \\textbf{                     } &             \\\\\n",
       "\\textbf{Cov Type:}          &        H1        & \\textbf{                     } &             \\\\\n",
       "\\textbf{Date:}              & Mon, 03 Jul 2023 & \\textbf{                     } &             \\\\\n",
       "\\textbf{Time:}              &     16:33:20     & \\textbf{                     } &             \\\\\n",
       "\\textbf{No. Iterations:}    &        21        & \\textbf{                     } &             \\\\\n",
       "\\bottomrule\n",
       "\\end{tabular}\n",
       "\\begin{tabular}{lcccccc}\n",
       "                            & \\textbf{coef} & \\textbf{std err} & \\textbf{z} & \\textbf{P$> |$z$|$} & \\textbf{[0.025} & \\textbf{0.975]}  \\\\\n",
       "\\midrule\n",
       "\\textbf{const}              &       5.2878  &        0.013     &   418.015  &         0.000        &        5.263    &        5.313     \\\\\n",
       "\\textbf{층}                  &       0.3811  &        0.007     &    53.738  &         0.000        &        0.367    &        0.395     \\\\\n",
       "\\textbf{Fed기준금리}            &      -0.1955  &        0.008     &   -23.148  &         0.000        &       -0.212    &       -0.179     \\\\\n",
       "\\textbf{국제유가(Dubai)(\\$/배럴)} &       0.0487  &        0.008     &     6.114  &         0.000        &        0.033    &        0.064     \\\\\n",
       "\\textbf{회사채3년(평균)}          &      -0.0544  &        0.005     &   -11.921  &         0.000        &       -0.063    &       -0.045     \\\\\n",
       "\\textbf{CD91물(평균)}          &      -0.1289  &        0.013     &   -10.179  &         0.000        &       -0.154    &       -0.104     \\\\\n",
       "\\textbf{건물연식}               &       0.1572  &        0.004     &    40.915  &         0.000        &        0.150    &        0.165     \\\\\n",
       "\\textbf{GDP대비가계부채비율}        &      -0.0848  &        0.013     &    -6.389  &         0.000        &       -0.111    &       -0.059     \\\\\n",
       "\\textbf{선행지수순환변동치}          &       0.1058  &        0.005     &    21.491  &         0.000        &        0.096    &        0.115     \\\\\n",
       "\\textbf{금값종가}               &      -0.1901  &        0.013     &   -14.312  &         0.000        &       -0.216    &       -0.164     \\\\\n",
       "\\textbf{LTV}                &      -0.4279  &        0.005     &   -84.130  &         0.000        &       -0.438    &       -0.418     \\\\\n",
       "\\bottomrule\n",
       "\\end{tabular}\n",
       "%\\caption{Robust linear Model Regression Results}\n",
       "\\end{center}\n",
       "\n",
       "If the model instance has been used for another fit with different fit parameters, then the fit options might not be the correct ones anymore ."
      ],
      "text/plain": [
       "<class 'statsmodels.iolib.summary.Summary'>\n",
       "\"\"\"\n",
       "                    Robust linear Model Regression Results                    \n",
       "==============================================================================\n",
       "Dep. Variable:               물건금액(만원)   No. Observations:                87518\n",
       "Model:                            RLM   Df Residuals:                    87507\n",
       "Method:                          IRLS   Df Model:                           10\n",
       "Norm:                          HuberT                                         \n",
       "Scale Est.:                       mad                                         \n",
       "Cov Type:                          H1                                         \n",
       "Date:                Mon, 03 Jul 2023                                         \n",
       "Time:                        16:33:20                                         \n",
       "No. Iterations:                    21                                         \n",
       "=====================================================================================\n",
       "                        coef    std err          z      P>|z|      [0.025      0.975]\n",
       "-------------------------------------------------------------------------------------\n",
       "const                 5.2878      0.013    418.015      0.000       5.263       5.313\n",
       "층                     0.3811      0.007     53.738      0.000       0.367       0.395\n",
       "Fed기준금리              -0.1955      0.008    -23.148      0.000      -0.212      -0.179\n",
       "국제유가(Dubai)($/배럴)     0.0487      0.008      6.114      0.000       0.033       0.064\n",
       "회사채3년(평균)            -0.0544      0.005    -11.921      0.000      -0.063      -0.045\n",
       "CD91물(평균)            -0.1289      0.013    -10.179      0.000      -0.154      -0.104\n",
       "건물연식                  0.1572      0.004     40.915      0.000       0.150       0.165\n",
       "GDP대비가계부채비율          -0.0848      0.013     -6.389      0.000      -0.111      -0.059\n",
       "선행지수순환변동치             0.1058      0.005     21.491      0.000       0.096       0.115\n",
       "금값종가                 -0.1901      0.013    -14.312      0.000      -0.216      -0.164\n",
       "LTV                  -0.4279      0.005    -84.130      0.000      -0.438      -0.418\n",
       "=====================================================================================\n",
       "\n",
       "If the model instance has been used for another fit with different fit parameters, then the fit options might not be the correct ones anymore .\n",
       "\"\"\""
      ]
     },
     "execution_count": 24,
     "metadata": {},
     "output_type": "execute_result"
    }
   ],
   "source": [
    "# R_OLS_9\n",
    "# 스케일링 후 predict\n",
    "import statsmodels.api as sm\n",
    "\n",
    "feature_add = sm.add_constant(X_scaled, has_constant='add')\n",
    "\n",
    "# sm OLS 적합\n",
    "model = sm.RLM(y_scaled , feature_add,M=sm.robust.norms.HuberT())\n",
    "fitted_model = model.fit()\n",
    "\n",
    "# summary 함수통해 결과출력\n",
    "fitted_model.summary()"
   ]
  },
  {
   "attachments": {},
   "cell_type": "markdown",
   "metadata": {},
   "source": [
    "## VIF_9"
   ]
  },
  {
   "cell_type": "code",
   "execution_count": 25,
   "metadata": {},
   "outputs": [
    {
     "name": "stdout",
     "output_type": "stream",
     "text": [
      "   VIF_Factor            Feature\n",
      "0    4.226365                  층\n",
      "1   34.367902            Fed기준금리\n",
      "2   43.802007  국제유가(Dubai)($/배럴)\n",
      "3   10.183307          회사채3년(평균)\n",
      "4   45.629001          CD91물(평균)\n",
      "5    5.182920               건물연식\n",
      "6   50.616888        GDP대비가계부채비율\n",
      "7   16.238339          선행지수순환변동치\n",
      "8   38.444711               금값종가\n",
      "9   17.930783                LTV\n"
     ]
    }
   ],
   "source": [
    "vif = feature_engineering_XbyVIF(X_scaled)\n",
    "print(vif)"
   ]
  },
  {
   "attachments": {},
   "cell_type": "markdown",
   "metadata": {},
   "source": [
    "### GDP대비가계부채비율 컬럼 삭제"
   ]
  },
  {
   "cell_type": "code",
   "execution_count": 26,
   "metadata": {},
   "outputs": [],
   "source": [
    "X_scaled.drop('GDP대비가계부채비율', axis=1, inplace=True)"
   ]
  },
  {
   "attachments": {},
   "cell_type": "markdown",
   "metadata": {},
   "source": [
    "## R_OLS_10"
   ]
  },
  {
   "cell_type": "code",
   "execution_count": 28,
   "metadata": {},
   "outputs": [
    {
     "data": {
      "text/html": [
       "<table class=\"simpletable\">\n",
       "<caption>Robust linear Model Regression Results</caption>\n",
       "<tr>\n",
       "  <th>Dep. Variable:</th>      <td>물건금액(만원)</td>     <th>  No. Observations:  </th> <td> 87518</td>\n",
       "</tr>\n",
       "<tr>\n",
       "  <th>Model:</th>                 <td>RLM</td>       <th>  Df Residuals:      </th> <td> 87508</td>\n",
       "</tr>\n",
       "<tr>\n",
       "  <th>Method:</th>               <td>IRLS</td>       <th>  Df Model:          </th> <td>     9</td>\n",
       "</tr>\n",
       "<tr>\n",
       "  <th>Norm:</th>                <td>HuberT</td>      <th>                     </th>    <td> </td>  \n",
       "</tr>\n",
       "<tr>\n",
       "  <th>Scale Est.:</th>            <td>mad</td>       <th>                     </th>    <td> </td>  \n",
       "</tr>\n",
       "<tr>\n",
       "  <th>Cov Type:</th>              <td>H1</td>        <th>                     </th>    <td> </td>  \n",
       "</tr>\n",
       "<tr>\n",
       "  <th>Date:</th>           <td>Mon, 03 Jul 2023</td> <th>                     </th>    <td> </td>  \n",
       "</tr>\n",
       "<tr>\n",
       "  <th>Time:</th>               <td>16:34:32</td>     <th>                     </th>    <td> </td>  \n",
       "</tr>\n",
       "<tr>\n",
       "  <th>No. Iterations:</th>        <td>18</td>        <th>                     </th>    <td> </td>  \n",
       "</tr>\n",
       "</table>\n",
       "<table class=\"simpletable\">\n",
       "<tr>\n",
       "          <td></td>             <th>coef</th>     <th>std err</th>      <th>z</th>      <th>P>|z|</th>  <th>[0.025</th>    <th>0.975]</th>  \n",
       "</tr>\n",
       "<tr>\n",
       "  <th>const</th>             <td>    5.2468</td> <td>    0.011</td> <td>  483.799</td> <td> 0.000</td> <td>    5.226</td> <td>    5.268</td>\n",
       "</tr>\n",
       "<tr>\n",
       "  <th>층</th>                 <td>    0.3816</td> <td>    0.007</td> <td>   53.833</td> <td> 0.000</td> <td>    0.368</td> <td>    0.395</td>\n",
       "</tr>\n",
       "<tr>\n",
       "  <th>Fed기준금리</th>           <td>   -0.2201</td> <td>    0.008</td> <td>  -29.077</td> <td> 0.000</td> <td>   -0.235</td> <td>   -0.205</td>\n",
       "</tr>\n",
       "<tr>\n",
       "  <th>국제유가(Dubai)($/배럴)</th> <td>    0.0425</td> <td>    0.008</td> <td>    5.384</td> <td> 0.000</td> <td>    0.027</td> <td>    0.058</td>\n",
       "</tr>\n",
       "<tr>\n",
       "  <th>회사채3년(평균)</th>         <td>   -0.0653</td> <td>    0.004</td> <td>  -15.486</td> <td> 0.000</td> <td>   -0.074</td> <td>   -0.057</td>\n",
       "</tr>\n",
       "<tr>\n",
       "  <th>CD91물(평균)</th>         <td>   -0.0793</td> <td>    0.010</td> <td>   -7.952</td> <td> 0.000</td> <td>   -0.099</td> <td>   -0.060</td>\n",
       "</tr>\n",
       "<tr>\n",
       "  <th>건물연식</th>              <td>    0.1567</td> <td>    0.004</td> <td>   40.804</td> <td> 0.000</td> <td>    0.149</td> <td>    0.164</td>\n",
       "</tr>\n",
       "<tr>\n",
       "  <th>선행지수순환변동치</th>         <td>    0.1136</td> <td>    0.005</td> <td>   23.980</td> <td> 0.000</td> <td>    0.104</td> <td>    0.123</td>\n",
       "</tr>\n",
       "<tr>\n",
       "  <th>금값종가</th>              <td>   -0.2353</td> <td>    0.011</td> <td>  -20.744</td> <td> 0.000</td> <td>   -0.258</td> <td>   -0.213</td>\n",
       "</tr>\n",
       "<tr>\n",
       "  <th>LTV</th>               <td>   -0.4169</td> <td>    0.005</td> <td>  -87.128</td> <td> 0.000</td> <td>   -0.426</td> <td>   -0.408</td>\n",
       "</tr>\n",
       "</table><br/><br/>If the model instance has been used for another fit with different fit parameters, then the fit options might not be the correct ones anymore ."
      ],
      "text/latex": [
       "\\begin{center}\n",
       "\\begin{tabular}{lclc}\n",
       "\\toprule\n",
       "\\textbf{Dep. Variable:}     &     물건금액(만원)     & \\textbf{  No. Observations:  } &    87518    \\\\\n",
       "\\textbf{Model:}             &       RLM        & \\textbf{  Df Residuals:      } &    87508    \\\\\n",
       "\\textbf{Method:}            &       IRLS       & \\textbf{  Df Model:          } &        9    \\\\\n",
       "\\textbf{Norm:}              &      HuberT      & \\textbf{                     } &             \\\\\n",
       "\\textbf{Scale Est.:}        &       mad        & \\textbf{                     } &             \\\\\n",
       "\\textbf{Cov Type:}          &        H1        & \\textbf{                     } &             \\\\\n",
       "\\textbf{Date:}              & Mon, 03 Jul 2023 & \\textbf{                     } &             \\\\\n",
       "\\textbf{Time:}              &     16:34:32     & \\textbf{                     } &             \\\\\n",
       "\\textbf{No. Iterations:}    &        18        & \\textbf{                     } &             \\\\\n",
       "\\bottomrule\n",
       "\\end{tabular}\n",
       "\\begin{tabular}{lcccccc}\n",
       "                            & \\textbf{coef} & \\textbf{std err} & \\textbf{z} & \\textbf{P$> |$z$|$} & \\textbf{[0.025} & \\textbf{0.975]}  \\\\\n",
       "\\midrule\n",
       "\\textbf{const}              &       5.2468  &        0.011     &   483.799  &         0.000        &        5.226    &        5.268     \\\\\n",
       "\\textbf{층}                  &       0.3816  &        0.007     &    53.833  &         0.000        &        0.368    &        0.395     \\\\\n",
       "\\textbf{Fed기준금리}            &      -0.2201  &        0.008     &   -29.077  &         0.000        &       -0.235    &       -0.205     \\\\\n",
       "\\textbf{국제유가(Dubai)(\\$/배럴)} &       0.0425  &        0.008     &     5.384  &         0.000        &        0.027    &        0.058     \\\\\n",
       "\\textbf{회사채3년(평균)}          &      -0.0653  &        0.004     &   -15.486  &         0.000        &       -0.074    &       -0.057     \\\\\n",
       "\\textbf{CD91물(평균)}          &      -0.0793  &        0.010     &    -7.952  &         0.000        &       -0.099    &       -0.060     \\\\\n",
       "\\textbf{건물연식}               &       0.1567  &        0.004     &    40.804  &         0.000        &        0.149    &        0.164     \\\\\n",
       "\\textbf{선행지수순환변동치}          &       0.1136  &        0.005     &    23.980  &         0.000        &        0.104    &        0.123     \\\\\n",
       "\\textbf{금값종가}               &      -0.2353  &        0.011     &   -20.744  &         0.000        &       -0.258    &       -0.213     \\\\\n",
       "\\textbf{LTV}                &      -0.4169  &        0.005     &   -87.128  &         0.000        &       -0.426    &       -0.408     \\\\\n",
       "\\bottomrule\n",
       "\\end{tabular}\n",
       "%\\caption{Robust linear Model Regression Results}\n",
       "\\end{center}\n",
       "\n",
       "If the model instance has been used for another fit with different fit parameters, then the fit options might not be the correct ones anymore ."
      ],
      "text/plain": [
       "<class 'statsmodels.iolib.summary.Summary'>\n",
       "\"\"\"\n",
       "                    Robust linear Model Regression Results                    \n",
       "==============================================================================\n",
       "Dep. Variable:               물건금액(만원)   No. Observations:                87518\n",
       "Model:                            RLM   Df Residuals:                    87508\n",
       "Method:                          IRLS   Df Model:                            9\n",
       "Norm:                          HuberT                                         \n",
       "Scale Est.:                       mad                                         \n",
       "Cov Type:                          H1                                         \n",
       "Date:                Mon, 03 Jul 2023                                         \n",
       "Time:                        16:34:32                                         \n",
       "No. Iterations:                    18                                         \n",
       "=====================================================================================\n",
       "                        coef    std err          z      P>|z|      [0.025      0.975]\n",
       "-------------------------------------------------------------------------------------\n",
       "const                 5.2468      0.011    483.799      0.000       5.226       5.268\n",
       "층                     0.3816      0.007     53.833      0.000       0.368       0.395\n",
       "Fed기준금리              -0.2201      0.008    -29.077      0.000      -0.235      -0.205\n",
       "국제유가(Dubai)($/배럴)     0.0425      0.008      5.384      0.000       0.027       0.058\n",
       "회사채3년(평균)            -0.0653      0.004    -15.486      0.000      -0.074      -0.057\n",
       "CD91물(평균)            -0.0793      0.010     -7.952      0.000      -0.099      -0.060\n",
       "건물연식                  0.1567      0.004     40.804      0.000       0.149       0.164\n",
       "선행지수순환변동치             0.1136      0.005     23.980      0.000       0.104       0.123\n",
       "금값종가                 -0.2353      0.011    -20.744      0.000      -0.258      -0.213\n",
       "LTV                  -0.4169      0.005    -87.128      0.000      -0.426      -0.408\n",
       "=====================================================================================\n",
       "\n",
       "If the model instance has been used for another fit with different fit parameters, then the fit options might not be the correct ones anymore .\n",
       "\"\"\""
      ]
     },
     "execution_count": 28,
     "metadata": {},
     "output_type": "execute_result"
    }
   ],
   "source": [
    "# R_OLS_10\n",
    "# 스케일링 후 predict\n",
    "import statsmodels.api as sm\n",
    "\n",
    "feature_add = sm.add_constant(X_scaled, has_constant='add')\n",
    "\n",
    "# sm OLS 적합\n",
    "model = sm.RLM(y_scaled , feature_add,M=sm.robust.norms.HuberT())\n",
    "fitted_model = model.fit()\n",
    "\n",
    "# summary 함수통해 결과출력\n",
    "fitted_model.summary()"
   ]
  },
  {
   "attachments": {},
   "cell_type": "markdown",
   "metadata": {},
   "source": [
    "## VIF_10"
   ]
  },
  {
   "cell_type": "code",
   "execution_count": 27,
   "metadata": {},
   "outputs": [
    {
     "name": "stdout",
     "output_type": "stream",
     "text": [
      "   VIF_Factor            Feature\n",
      "0    4.198781                  층\n",
      "1   30.034397            Fed기준금리\n",
      "2   41.740815  국제유가(Dubai)($/배럴)\n",
      "3    9.504685          회사채3년(평균)\n",
      "4   38.500110          CD91물(평균)\n",
      "5    5.120526               건물연식\n",
      "6   16.139789          선행지수순환변동치\n",
      "7    4.727291               금값종가\n",
      "8   17.809565                LTV\n"
     ]
    }
   ],
   "source": [
    "vif = feature_engineering_XbyVIF(X_scaled)\n",
    "print(vif)"
   ]
  },
  {
   "attachments": {},
   "cell_type": "markdown",
   "metadata": {},
   "source": [
    "### 국제유가(Dubai)($/배럴) 컬럼 삭제"
   ]
  },
  {
   "cell_type": "code",
   "execution_count": 29,
   "metadata": {},
   "outputs": [],
   "source": [
    "X_scaled.drop('국제유가(Dubai)($/배럴)', axis=1, inplace=True)"
   ]
  },
  {
   "attachments": {},
   "cell_type": "markdown",
   "metadata": {},
   "source": [
    "## R_OLS_11"
   ]
  },
  {
   "cell_type": "code",
   "execution_count": 30,
   "metadata": {},
   "outputs": [
    {
     "data": {
      "text/html": [
       "<table class=\"simpletable\">\n",
       "<caption>Robust linear Model Regression Results</caption>\n",
       "<tr>\n",
       "  <th>Dep. Variable:</th>      <td>물건금액(만원)</td>     <th>  No. Observations:  </th> <td> 87518</td>\n",
       "</tr>\n",
       "<tr>\n",
       "  <th>Model:</th>                 <td>RLM</td>       <th>  Df Residuals:      </th> <td> 87509</td>\n",
       "</tr>\n",
       "<tr>\n",
       "  <th>Method:</th>               <td>IRLS</td>       <th>  Df Model:          </th> <td>     8</td>\n",
       "</tr>\n",
       "<tr>\n",
       "  <th>Norm:</th>                <td>HuberT</td>      <th>                     </th>    <td> </td>  \n",
       "</tr>\n",
       "<tr>\n",
       "  <th>Scale Est.:</th>            <td>mad</td>       <th>                     </th>    <td> </td>  \n",
       "</tr>\n",
       "<tr>\n",
       "  <th>Cov Type:</th>              <td>H1</td>        <th>                     </th>    <td> </td>  \n",
       "</tr>\n",
       "<tr>\n",
       "  <th>Date:</th>           <td>Mon, 03 Jul 2023</td> <th>                     </th>    <td> </td>  \n",
       "</tr>\n",
       "<tr>\n",
       "  <th>Time:</th>               <td>16:35:08</td>     <th>                     </th>    <td> </td>  \n",
       "</tr>\n",
       "<tr>\n",
       "  <th>No. Iterations:</th>        <td>50</td>        <th>                     </th>    <td> </td>  \n",
       "</tr>\n",
       "</table>\n",
       "<table class=\"simpletable\">\n",
       "<tr>\n",
       "      <td></td>         <th>coef</th>     <th>std err</th>      <th>z</th>      <th>P>|z|</th>  <th>[0.025</th>    <th>0.975]</th>  \n",
       "</tr>\n",
       "<tr>\n",
       "  <th>const</th>     <td>    5.2573</td> <td>    0.011</td> <td>  494.080</td> <td> 0.000</td> <td>    5.236</td> <td>    5.278</td>\n",
       "</tr>\n",
       "<tr>\n",
       "  <th>층</th>         <td>    0.3812</td> <td>    0.007</td> <td>   53.777</td> <td> 0.000</td> <td>    0.367</td> <td>    0.395</td>\n",
       "</tr>\n",
       "<tr>\n",
       "  <th>Fed기준금리</th>   <td>   -0.1952</td> <td>    0.006</td> <td>  -32.435</td> <td> 0.000</td> <td>   -0.207</td> <td>   -0.183</td>\n",
       "</tr>\n",
       "<tr>\n",
       "  <th>회사채3년(평균)</th> <td>   -0.0584</td> <td>    0.004</td> <td>  -14.642</td> <td> 0.000</td> <td>   -0.066</td> <td>   -0.051</td>\n",
       "</tr>\n",
       "<tr>\n",
       "  <th>CD91물(평균)</th> <td>   -0.0828</td> <td>    0.010</td> <td>   -8.321</td> <td> 0.000</td> <td>   -0.102</td> <td>   -0.063</td>\n",
       "</tr>\n",
       "<tr>\n",
       "  <th>건물연식</th>      <td>    0.1564</td> <td>    0.004</td> <td>   40.709</td> <td> 0.000</td> <td>    0.149</td> <td>    0.164</td>\n",
       "</tr>\n",
       "<tr>\n",
       "  <th>선행지수순환변동치</th> <td>    0.1157</td> <td>    0.005</td> <td>   24.444</td> <td> 0.000</td> <td>    0.106</td> <td>    0.125</td>\n",
       "</tr>\n",
       "<tr>\n",
       "  <th>금값종가</th>      <td>   -0.2341</td> <td>    0.011</td> <td>  -20.637</td> <td> 0.000</td> <td>   -0.256</td> <td>   -0.212</td>\n",
       "</tr>\n",
       "<tr>\n",
       "  <th>LTV</th>       <td>   -0.4158</td> <td>    0.005</td> <td>  -86.953</td> <td> 0.000</td> <td>   -0.425</td> <td>   -0.406</td>\n",
       "</tr>\n",
       "</table><br/><br/>If the model instance has been used for another fit with different fit parameters, then the fit options might not be the correct ones anymore ."
      ],
      "text/latex": [
       "\\begin{center}\n",
       "\\begin{tabular}{lclc}\n",
       "\\toprule\n",
       "\\textbf{Dep. Variable:}  &     물건금액(만원)     & \\textbf{  No. Observations:  } &    87518    \\\\\n",
       "\\textbf{Model:}          &       RLM        & \\textbf{  Df Residuals:      } &    87509    \\\\\n",
       "\\textbf{Method:}         &       IRLS       & \\textbf{  Df Model:          } &        8    \\\\\n",
       "\\textbf{Norm:}           &      HuberT      & \\textbf{                     } &             \\\\\n",
       "\\textbf{Scale Est.:}     &       mad        & \\textbf{                     } &             \\\\\n",
       "\\textbf{Cov Type:}       &        H1        & \\textbf{                     } &             \\\\\n",
       "\\textbf{Date:}           & Mon, 03 Jul 2023 & \\textbf{                     } &             \\\\\n",
       "\\textbf{Time:}           &     16:35:08     & \\textbf{                     } &             \\\\\n",
       "\\textbf{No. Iterations:} &        50        & \\textbf{                     } &             \\\\\n",
       "\\bottomrule\n",
       "\\end{tabular}\n",
       "\\begin{tabular}{lcccccc}\n",
       "                   & \\textbf{coef} & \\textbf{std err} & \\textbf{z} & \\textbf{P$> |$z$|$} & \\textbf{[0.025} & \\textbf{0.975]}  \\\\\n",
       "\\midrule\n",
       "\\textbf{const}     &       5.2573  &        0.011     &   494.080  &         0.000        &        5.236    &        5.278     \\\\\n",
       "\\textbf{층}         &       0.3812  &        0.007     &    53.777  &         0.000        &        0.367    &        0.395     \\\\\n",
       "\\textbf{Fed기준금리}   &      -0.1952  &        0.006     &   -32.435  &         0.000        &       -0.207    &       -0.183     \\\\\n",
       "\\textbf{회사채3년(평균)} &      -0.0584  &        0.004     &   -14.642  &         0.000        &       -0.066    &       -0.051     \\\\\n",
       "\\textbf{CD91물(평균)} &      -0.0828  &        0.010     &    -8.321  &         0.000        &       -0.102    &       -0.063     \\\\\n",
       "\\textbf{건물연식}      &       0.1564  &        0.004     &    40.709  &         0.000        &        0.149    &        0.164     \\\\\n",
       "\\textbf{선행지수순환변동치} &       0.1157  &        0.005     &    24.444  &         0.000        &        0.106    &        0.125     \\\\\n",
       "\\textbf{금값종가}      &      -0.2341  &        0.011     &   -20.637  &         0.000        &       -0.256    &       -0.212     \\\\\n",
       "\\textbf{LTV}       &      -0.4158  &        0.005     &   -86.953  &         0.000        &       -0.425    &       -0.406     \\\\\n",
       "\\bottomrule\n",
       "\\end{tabular}\n",
       "%\\caption{Robust linear Model Regression Results}\n",
       "\\end{center}\n",
       "\n",
       "If the model instance has been used for another fit with different fit parameters, then the fit options might not be the correct ones anymore ."
      ],
      "text/plain": [
       "<class 'statsmodels.iolib.summary.Summary'>\n",
       "\"\"\"\n",
       "                    Robust linear Model Regression Results                    \n",
       "==============================================================================\n",
       "Dep. Variable:               물건금액(만원)   No. Observations:                87518\n",
       "Model:                            RLM   Df Residuals:                    87509\n",
       "Method:                          IRLS   Df Model:                            8\n",
       "Norm:                          HuberT                                         \n",
       "Scale Est.:                       mad                                         \n",
       "Cov Type:                          H1                                         \n",
       "Date:                Mon, 03 Jul 2023                                         \n",
       "Time:                        16:35:08                                         \n",
       "No. Iterations:                    50                                         \n",
       "==============================================================================\n",
       "                 coef    std err          z      P>|z|      [0.025      0.975]\n",
       "------------------------------------------------------------------------------\n",
       "const          5.2573      0.011    494.080      0.000       5.236       5.278\n",
       "층              0.3812      0.007     53.777      0.000       0.367       0.395\n",
       "Fed기준금리       -0.1952      0.006    -32.435      0.000      -0.207      -0.183\n",
       "회사채3년(평균)     -0.0584      0.004    -14.642      0.000      -0.066      -0.051\n",
       "CD91물(평균)     -0.0828      0.010     -8.321      0.000      -0.102      -0.063\n",
       "건물연식           0.1564      0.004     40.709      0.000       0.149       0.164\n",
       "선행지수순환변동치      0.1157      0.005     24.444      0.000       0.106       0.125\n",
       "금값종가          -0.2341      0.011    -20.637      0.000      -0.256      -0.212\n",
       "LTV           -0.4158      0.005    -86.953      0.000      -0.425      -0.406\n",
       "==============================================================================\n",
       "\n",
       "If the model instance has been used for another fit with different fit parameters, then the fit options might not be the correct ones anymore .\n",
       "\"\"\""
      ]
     },
     "execution_count": 30,
     "metadata": {},
     "output_type": "execute_result"
    }
   ],
   "source": [
    "# R_OLS_11\n",
    "# 스케일링 후 predict\n",
    "import statsmodels.api as sm\n",
    "\n",
    "feature_add = sm.add_constant(X_scaled, has_constant='add')\n",
    "\n",
    "# sm OLS 적합\n",
    "model = sm.RLM(y_scaled , feature_add,M=sm.robust.norms.HuberT())\n",
    "fitted_model = model.fit()\n",
    "\n",
    "# summary 함수통해 결과출력\n",
    "fitted_model.summary()"
   ]
  },
  {
   "attachments": {},
   "cell_type": "markdown",
   "metadata": {},
   "source": [
    "## VIF_11"
   ]
  },
  {
   "cell_type": "code",
   "execution_count": 31,
   "metadata": {},
   "outputs": [
    {
     "name": "stdout",
     "output_type": "stream",
     "text": [
      "   VIF_Factor    Feature\n",
      "0    4.196076          층\n",
      "1   19.113516    Fed기준금리\n",
      "2    8.671039  회사채3년(평균)\n",
      "3   38.072694  CD91물(평균)\n",
      "4    5.117091       건물연식\n",
      "5   15.869775  선행지수순환변동치\n",
      "6    3.560266       금값종가\n",
      "7   17.432600        LTV\n"
     ]
    }
   ],
   "source": [
    "vif = feature_engineering_XbyVIF(X_scaled)\n",
    "print(vif)"
   ]
  },
  {
   "attachments": {},
   "cell_type": "markdown",
   "metadata": {},
   "source": [
    "### CD91물(평균) 컬럼 삭제"
   ]
  },
  {
   "cell_type": "code",
   "execution_count": 32,
   "metadata": {},
   "outputs": [],
   "source": [
    "X_scaled.drop('CD91물(평균)', axis=1, inplace=True)"
   ]
  },
  {
   "attachments": {},
   "cell_type": "markdown",
   "metadata": {},
   "source": [
    "## R_OLS_12"
   ]
  },
  {
   "cell_type": "code",
   "execution_count": 33,
   "metadata": {},
   "outputs": [
    {
     "data": {
      "text/html": [
       "<table class=\"simpletable\">\n",
       "<caption>Robust linear Model Regression Results</caption>\n",
       "<tr>\n",
       "  <th>Dep. Variable:</th>      <td>물건금액(만원)</td>     <th>  No. Observations:  </th> <td> 87518</td>\n",
       "</tr>\n",
       "<tr>\n",
       "  <th>Model:</th>                 <td>RLM</td>       <th>  Df Residuals:      </th> <td> 87510</td>\n",
       "</tr>\n",
       "<tr>\n",
       "  <th>Method:</th>               <td>IRLS</td>       <th>  Df Model:          </th> <td>     7</td>\n",
       "</tr>\n",
       "<tr>\n",
       "  <th>Norm:</th>                <td>HuberT</td>      <th>                     </th>    <td> </td>  \n",
       "</tr>\n",
       "<tr>\n",
       "  <th>Scale Est.:</th>            <td>mad</td>       <th>                     </th>    <td> </td>  \n",
       "</tr>\n",
       "<tr>\n",
       "  <th>Cov Type:</th>              <td>H1</td>        <th>                     </th>    <td> </td>  \n",
       "</tr>\n",
       "<tr>\n",
       "  <th>Date:</th>           <td>Mon, 03 Jul 2023</td> <th>                     </th>    <td> </td>  \n",
       "</tr>\n",
       "<tr>\n",
       "  <th>Time:</th>               <td>16:35:45</td>     <th>                     </th>    <td> </td>  \n",
       "</tr>\n",
       "<tr>\n",
       "  <th>No. Iterations:</th>        <td>23</td>        <th>                     </th>    <td> </td>  \n",
       "</tr>\n",
       "</table>\n",
       "<table class=\"simpletable\">\n",
       "<tr>\n",
       "      <td></td>         <th>coef</th>     <th>std err</th>      <th>z</th>      <th>P>|z|</th>  <th>[0.025</th>    <th>0.975]</th>  \n",
       "</tr>\n",
       "<tr>\n",
       "  <th>const</th>     <td>    5.1919</td> <td>    0.007</td> <td>  729.808</td> <td> 0.000</td> <td>    5.178</td> <td>    5.206</td>\n",
       "</tr>\n",
       "<tr>\n",
       "  <th>층</th>         <td>    0.3812</td> <td>    0.007</td> <td>   53.718</td> <td> 0.000</td> <td>    0.367</td> <td>    0.395</td>\n",
       "</tr>\n",
       "<tr>\n",
       "  <th>Fed기준금리</th>   <td>   -0.2247</td> <td>    0.005</td> <td>  -45.396</td> <td> 0.000</td> <td>   -0.234</td> <td>   -0.215</td>\n",
       "</tr>\n",
       "<tr>\n",
       "  <th>회사채3년(평균)</th> <td>   -0.0655</td> <td>    0.004</td> <td>  -16.849</td> <td> 0.000</td> <td>   -0.073</td> <td>   -0.058</td>\n",
       "</tr>\n",
       "<tr>\n",
       "  <th>건물연식</th>      <td>    0.1567</td> <td>    0.004</td> <td>   40.746</td> <td> 0.000</td> <td>    0.149</td> <td>    0.164</td>\n",
       "</tr>\n",
       "<tr>\n",
       "  <th>선행지수순환변동치</th> <td>    0.1336</td> <td>    0.004</td> <td>   31.967</td> <td> 0.000</td> <td>    0.125</td> <td>    0.142</td>\n",
       "</tr>\n",
       "<tr>\n",
       "  <th>금값종가</th>      <td>   -0.1643</td> <td>    0.008</td> <td>  -21.579</td> <td> 0.000</td> <td>   -0.179</td> <td>   -0.149</td>\n",
       "</tr>\n",
       "<tr>\n",
       "  <th>LTV</th>       <td>   -0.4203</td> <td>    0.005</td> <td>  -88.325</td> <td> 0.000</td> <td>   -0.430</td> <td>   -0.411</td>\n",
       "</tr>\n",
       "</table><br/><br/>If the model instance has been used for another fit with different fit parameters, then the fit options might not be the correct ones anymore ."
      ],
      "text/latex": [
       "\\begin{center}\n",
       "\\begin{tabular}{lclc}\n",
       "\\toprule\n",
       "\\textbf{Dep. Variable:}  &     물건금액(만원)     & \\textbf{  No. Observations:  } &    87518    \\\\\n",
       "\\textbf{Model:}          &       RLM        & \\textbf{  Df Residuals:      } &    87510    \\\\\n",
       "\\textbf{Method:}         &       IRLS       & \\textbf{  Df Model:          } &        7    \\\\\n",
       "\\textbf{Norm:}           &      HuberT      & \\textbf{                     } &             \\\\\n",
       "\\textbf{Scale Est.:}     &       mad        & \\textbf{                     } &             \\\\\n",
       "\\textbf{Cov Type:}       &        H1        & \\textbf{                     } &             \\\\\n",
       "\\textbf{Date:}           & Mon, 03 Jul 2023 & \\textbf{                     } &             \\\\\n",
       "\\textbf{Time:}           &     16:35:45     & \\textbf{                     } &             \\\\\n",
       "\\textbf{No. Iterations:} &        23        & \\textbf{                     } &             \\\\\n",
       "\\bottomrule\n",
       "\\end{tabular}\n",
       "\\begin{tabular}{lcccccc}\n",
       "                   & \\textbf{coef} & \\textbf{std err} & \\textbf{z} & \\textbf{P$> |$z$|$} & \\textbf{[0.025} & \\textbf{0.975]}  \\\\\n",
       "\\midrule\n",
       "\\textbf{const}     &       5.1919  &        0.007     &   729.808  &         0.000        &        5.178    &        5.206     \\\\\n",
       "\\textbf{층}         &       0.3812  &        0.007     &    53.718  &         0.000        &        0.367    &        0.395     \\\\\n",
       "\\textbf{Fed기준금리}   &      -0.2247  &        0.005     &   -45.396  &         0.000        &       -0.234    &       -0.215     \\\\\n",
       "\\textbf{회사채3년(평균)} &      -0.0655  &        0.004     &   -16.849  &         0.000        &       -0.073    &       -0.058     \\\\\n",
       "\\textbf{건물연식}      &       0.1567  &        0.004     &    40.746  &         0.000        &        0.149    &        0.164     \\\\\n",
       "\\textbf{선행지수순환변동치} &       0.1336  &        0.004     &    31.967  &         0.000        &        0.125    &        0.142     \\\\\n",
       "\\textbf{금값종가}      &      -0.1643  &        0.008     &   -21.579  &         0.000        &       -0.179    &       -0.149     \\\\\n",
       "\\textbf{LTV}       &      -0.4203  &        0.005     &   -88.325  &         0.000        &       -0.430    &       -0.411     \\\\\n",
       "\\bottomrule\n",
       "\\end{tabular}\n",
       "%\\caption{Robust linear Model Regression Results}\n",
       "\\end{center}\n",
       "\n",
       "If the model instance has been used for another fit with different fit parameters, then the fit options might not be the correct ones anymore ."
      ],
      "text/plain": [
       "<class 'statsmodels.iolib.summary.Summary'>\n",
       "\"\"\"\n",
       "                    Robust linear Model Regression Results                    \n",
       "==============================================================================\n",
       "Dep. Variable:               물건금액(만원)   No. Observations:                87518\n",
       "Model:                            RLM   Df Residuals:                    87510\n",
       "Method:                          IRLS   Df Model:                            7\n",
       "Norm:                          HuberT                                         \n",
       "Scale Est.:                       mad                                         \n",
       "Cov Type:                          H1                                         \n",
       "Date:                Mon, 03 Jul 2023                                         \n",
       "Time:                        16:35:45                                         \n",
       "No. Iterations:                    23                                         \n",
       "==============================================================================\n",
       "                 coef    std err          z      P>|z|      [0.025      0.975]\n",
       "------------------------------------------------------------------------------\n",
       "const          5.1919      0.007    729.808      0.000       5.178       5.206\n",
       "층              0.3812      0.007     53.718      0.000       0.367       0.395\n",
       "Fed기준금리       -0.2247      0.005    -45.396      0.000      -0.234      -0.215\n",
       "회사채3년(평균)     -0.0655      0.004    -16.849      0.000      -0.073      -0.058\n",
       "건물연식           0.1567      0.004     40.746      0.000       0.149       0.164\n",
       "선행지수순환변동치      0.1336      0.004     31.967      0.000       0.125       0.142\n",
       "금값종가          -0.1643      0.008    -21.579      0.000      -0.179      -0.149\n",
       "LTV           -0.4203      0.005    -88.325      0.000      -0.430      -0.411\n",
       "==============================================================================\n",
       "\n",
       "If the model instance has been used for another fit with different fit parameters, then the fit options might not be the correct ones anymore .\n",
       "\"\"\""
      ]
     },
     "execution_count": 33,
     "metadata": {},
     "output_type": "execute_result"
    }
   ],
   "source": [
    "# R_OLS_12\n",
    "# 스케일링 후 predict\n",
    "import statsmodels.api as sm\n",
    "\n",
    "feature_add = sm.add_constant(X_scaled, has_constant='add')\n",
    "\n",
    "# sm OLS 적합\n",
    "model = sm.RLM(y_scaled , feature_add,M=sm.robust.norms.HuberT())\n",
    "fitted_model = model.fit()\n",
    "\n",
    "# summary 함수통해 결과출력\n",
    "fitted_model.summary()"
   ]
  },
  {
   "attachments": {},
   "cell_type": "markdown",
   "metadata": {},
   "source": [
    "## VIF_12"
   ]
  },
  {
   "cell_type": "code",
   "execution_count": 34,
   "metadata": {},
   "outputs": [
    {
     "name": "stdout",
     "output_type": "stream",
     "text": [
      "   VIF_Factor    Feature\n",
      "0    4.016146          층\n",
      "1    3.778039    Fed기준금리\n",
      "2    8.326656  회사채3년(평균)\n",
      "3    4.911600       건물연식\n",
      "4   13.989666  선행지수순환변동치\n",
      "5    3.451212       금값종가\n",
      "6    6.727667        LTV\n"
     ]
    }
   ],
   "source": [
    "vif = feature_engineering_XbyVIF(X_scaled)\n",
    "print(vif)"
   ]
  },
  {
   "attachments": {},
   "cell_type": "markdown",
   "metadata": {},
   "source": [
    "### 선행지수순환변동치 컬럼 삭제"
   ]
  },
  {
   "cell_type": "code",
   "execution_count": 35,
   "metadata": {},
   "outputs": [],
   "source": [
    "X_scaled.drop('선행지수순환변동치', axis=1, inplace=True)"
   ]
  },
  {
   "attachments": {},
   "cell_type": "markdown",
   "metadata": {},
   "source": [
    "## R_OLS_13"
   ]
  },
  {
   "cell_type": "code",
   "execution_count": 36,
   "metadata": {},
   "outputs": [
    {
     "data": {
      "text/html": [
       "<table class=\"simpletable\">\n",
       "<caption>Robust linear Model Regression Results</caption>\n",
       "<tr>\n",
       "  <th>Dep. Variable:</th>      <td>물건금액(만원)</td>     <th>  No. Observations:  </th> <td> 87518</td>\n",
       "</tr>\n",
       "<tr>\n",
       "  <th>Model:</th>                 <td>RLM</td>       <th>  Df Residuals:      </th> <td> 87511</td>\n",
       "</tr>\n",
       "<tr>\n",
       "  <th>Method:</th>               <td>IRLS</td>       <th>  Df Model:          </th> <td>     6</td>\n",
       "</tr>\n",
       "<tr>\n",
       "  <th>Norm:</th>                <td>HuberT</td>      <th>                     </th>    <td> </td>  \n",
       "</tr>\n",
       "<tr>\n",
       "  <th>Scale Est.:</th>            <td>mad</td>       <th>                     </th>    <td> </td>  \n",
       "</tr>\n",
       "<tr>\n",
       "  <th>Cov Type:</th>              <td>H1</td>        <th>                     </th>    <td> </td>  \n",
       "</tr>\n",
       "<tr>\n",
       "  <th>Date:</th>           <td>Mon, 03 Jul 2023</td> <th>                     </th>    <td> </td>  \n",
       "</tr>\n",
       "<tr>\n",
       "  <th>Time:</th>               <td>16:36:18</td>     <th>                     </th>    <td> </td>  \n",
       "</tr>\n",
       "<tr>\n",
       "  <th>No. Iterations:</th>        <td>22</td>        <th>                     </th>    <td> </td>  \n",
       "</tr>\n",
       "</table>\n",
       "<table class=\"simpletable\">\n",
       "<tr>\n",
       "      <td></td>         <th>coef</th>     <th>std err</th>      <th>z</th>      <th>P>|z|</th>  <th>[0.025</th>    <th>0.975]</th>  \n",
       "</tr>\n",
       "<tr>\n",
       "  <th>const</th>     <td>    5.1869</td> <td>    0.007</td> <td>  723.779</td> <td> 0.000</td> <td>    5.173</td> <td>    5.201</td>\n",
       "</tr>\n",
       "<tr>\n",
       "  <th>층</th>         <td>    0.3862</td> <td>    0.007</td> <td>   54.038</td> <td> 0.000</td> <td>    0.372</td> <td>    0.400</td>\n",
       "</tr>\n",
       "<tr>\n",
       "  <th>Fed기준금리</th>   <td>   -0.2162</td> <td>    0.005</td> <td>  -43.387</td> <td> 0.000</td> <td>   -0.226</td> <td>   -0.206</td>\n",
       "</tr>\n",
       "<tr>\n",
       "  <th>회사채3년(평균)</th> <td>    0.0248</td> <td>    0.003</td> <td>    9.255</td> <td> 0.000</td> <td>    0.020</td> <td>    0.030</td>\n",
       "</tr>\n",
       "<tr>\n",
       "  <th>건물연식</th>      <td>    0.1566</td> <td>    0.004</td> <td>   40.423</td> <td> 0.000</td> <td>    0.149</td> <td>    0.164</td>\n",
       "</tr>\n",
       "<tr>\n",
       "  <th>금값종가</th>      <td>   -0.1734</td> <td>    0.008</td> <td>  -22.616</td> <td> 0.000</td> <td>   -0.188</td> <td>   -0.158</td>\n",
       "</tr>\n",
       "<tr>\n",
       "  <th>LTV</th>       <td>   -0.3566</td> <td>    0.004</td> <td>  -81.538</td> <td> 0.000</td> <td>   -0.365</td> <td>   -0.348</td>\n",
       "</tr>\n",
       "</table><br/><br/>If the model instance has been used for another fit with different fit parameters, then the fit options might not be the correct ones anymore ."
      ],
      "text/latex": [
       "\\begin{center}\n",
       "\\begin{tabular}{lclc}\n",
       "\\toprule\n",
       "\\textbf{Dep. Variable:}  &     물건금액(만원)     & \\textbf{  No. Observations:  } &    87518    \\\\\n",
       "\\textbf{Model:}          &       RLM        & \\textbf{  Df Residuals:      } &    87511    \\\\\n",
       "\\textbf{Method:}         &       IRLS       & \\textbf{  Df Model:          } &        6    \\\\\n",
       "\\textbf{Norm:}           &      HuberT      & \\textbf{                     } &             \\\\\n",
       "\\textbf{Scale Est.:}     &       mad        & \\textbf{                     } &             \\\\\n",
       "\\textbf{Cov Type:}       &        H1        & \\textbf{                     } &             \\\\\n",
       "\\textbf{Date:}           & Mon, 03 Jul 2023 & \\textbf{                     } &             \\\\\n",
       "\\textbf{Time:}           &     16:36:18     & \\textbf{                     } &             \\\\\n",
       "\\textbf{No. Iterations:} &        22        & \\textbf{                     } &             \\\\\n",
       "\\bottomrule\n",
       "\\end{tabular}\n",
       "\\begin{tabular}{lcccccc}\n",
       "                   & \\textbf{coef} & \\textbf{std err} & \\textbf{z} & \\textbf{P$> |$z$|$} & \\textbf{[0.025} & \\textbf{0.975]}  \\\\\n",
       "\\midrule\n",
       "\\textbf{const}     &       5.1869  &        0.007     &   723.779  &         0.000        &        5.173    &        5.201     \\\\\n",
       "\\textbf{층}         &       0.3862  &        0.007     &    54.038  &         0.000        &        0.372    &        0.400     \\\\\n",
       "\\textbf{Fed기준금리}   &      -0.2162  &        0.005     &   -43.387  &         0.000        &       -0.226    &       -0.206     \\\\\n",
       "\\textbf{회사채3년(평균)} &       0.0248  &        0.003     &     9.255  &         0.000        &        0.020    &        0.030     \\\\\n",
       "\\textbf{건물연식}      &       0.1566  &        0.004     &    40.423  &         0.000        &        0.149    &        0.164     \\\\\n",
       "\\textbf{금값종가}      &      -0.1734  &        0.008     &   -22.616  &         0.000        &       -0.188    &       -0.158     \\\\\n",
       "\\textbf{LTV}       &      -0.3566  &        0.004     &   -81.538  &         0.000        &       -0.365    &       -0.348     \\\\\n",
       "\\bottomrule\n",
       "\\end{tabular}\n",
       "%\\caption{Robust linear Model Regression Results}\n",
       "\\end{center}\n",
       "\n",
       "If the model instance has been used for another fit with different fit parameters, then the fit options might not be the correct ones anymore ."
      ],
      "text/plain": [
       "<class 'statsmodels.iolib.summary.Summary'>\n",
       "\"\"\"\n",
       "                    Robust linear Model Regression Results                    \n",
       "==============================================================================\n",
       "Dep. Variable:               물건금액(만원)   No. Observations:                87518\n",
       "Model:                            RLM   Df Residuals:                    87511\n",
       "Method:                          IRLS   Df Model:                            6\n",
       "Norm:                          HuberT                                         \n",
       "Scale Est.:                       mad                                         \n",
       "Cov Type:                          H1                                         \n",
       "Date:                Mon, 03 Jul 2023                                         \n",
       "Time:                        16:36:18                                         \n",
       "No. Iterations:                    22                                         \n",
       "==============================================================================\n",
       "                 coef    std err          z      P>|z|      [0.025      0.975]\n",
       "------------------------------------------------------------------------------\n",
       "const          5.1869      0.007    723.779      0.000       5.173       5.201\n",
       "층              0.3862      0.007     54.038      0.000       0.372       0.400\n",
       "Fed기준금리       -0.2162      0.005    -43.387      0.000      -0.226      -0.206\n",
       "회사채3년(평균)      0.0248      0.003      9.255      0.000       0.020       0.030\n",
       "건물연식           0.1566      0.004     40.423      0.000       0.149       0.164\n",
       "금값종가          -0.1734      0.008    -22.616      0.000      -0.188      -0.158\n",
       "LTV           -0.3566      0.004    -81.538      0.000      -0.365      -0.348\n",
       "==============================================================================\n",
       "\n",
       "If the model instance has been used for another fit with different fit parameters, then the fit options might not be the correct ones anymore .\n",
       "\"\"\""
      ]
     },
     "execution_count": 36,
     "metadata": {},
     "output_type": "execute_result"
    }
   ],
   "source": [
    "# R_OLS_13\n",
    "# 스케일링 후 predict\n",
    "import statsmodels.api as sm\n",
    "\n",
    "feature_add = sm.add_constant(X_scaled, has_constant='add')\n",
    "\n",
    "# sm OLS 적합\n",
    "model = sm.RLM(y_scaled , feature_add,M=sm.robust.norms.HuberT())\n",
    "fitted_model = model.fit()\n",
    "\n",
    "# summary 함수통해 결과출력\n",
    "fitted_model.summary()"
   ]
  },
  {
   "attachments": {},
   "cell_type": "markdown",
   "metadata": {},
   "source": [
    "## VIF_13"
   ]
  },
  {
   "cell_type": "code",
   "execution_count": 37,
   "metadata": {},
   "outputs": [
    {
     "name": "stdout",
     "output_type": "stream",
     "text": [
      "   VIF_Factor    Feature\n",
      "0    4.014942          층\n",
      "1    3.769113    Fed기준금리\n",
      "2    3.873762  회사채3년(평균)\n",
      "3    4.911494       건물연식\n",
      "4    3.410493       금값종가\n",
      "5    3.205424        LTV\n"
     ]
    }
   ],
   "source": [
    "vif = feature_engineering_XbyVIF(X_scaled)\n",
    "print(vif)"
   ]
  },
  {
   "attachments": {},
   "cell_type": "markdown",
   "metadata": {},
   "source": [
    "### R_OLS 결과(전체데이터)\n",
    " - 층, Fed기준금리, 회사채3년(평균), 건물연식, 금값종가, LTV"
   ]
  },
  {
   "cell_type": "code",
   "execution_count": 38,
   "metadata": {},
   "outputs": [],
   "source": [
    "# 각 숫자형 변수들의 피어슨 상관 분포를 히트맵으로 출력\n",
    "def plot_cor(df):\n",
    "\n",
    "    df_ = df.select_dtypes(include=[np.number])\n",
    "    df_cor = df_.corr(method='pearson')\n",
    "    plt.figure(figsize = (15, 15))\n",
    "    plt.rc('font', family = 'AppleGothic')\n",
    "    sns.heatmap(df_cor, \n",
    "                xticklabels = df_cor.columns, \n",
    "                yticklabels = df_cor.columns, \n",
    "                cmap = 'coolwarm', \n",
    "                annot = True,\n",
    "                annot_kws = {'size':10}, \n",
    "                linewidth = 3,\n",
    "                vmin=-1, vmax=1)"
   ]
  },
  {
   "cell_type": "code",
   "execution_count": 39,
   "metadata": {},
   "outputs": [
    {
     "name": "stderr",
     "output_type": "stream",
     "text": [
      "/Users/eunjin/opt/anaconda3/lib/python3.8/site-packages/matplotlib/backends/backend_agg.py:238: RuntimeWarning: Glyph 8722 missing from current font.\n",
      "  font.set_text(s, 0.0, flags=flags)\n",
      "/Users/eunjin/opt/anaconda3/lib/python3.8/site-packages/matplotlib/backends/backend_agg.py:201: RuntimeWarning: Glyph 8722 missing from current font.\n",
      "  font.set_text(s, 0, flags=flags)\n"
     ]
    },
    {
     "data": {
      "image/png": "[encoded data removed]",
      "text/plain": [
       "<Figure size 1080x1080 with 2 Axes>"
      ]
     },
     "metadata": {
      "needs_background": "light"
     },
     "output_type": "display_data"
    }
   ],
   "source": [
    "plot_cor(X_scaled)"
   ]
  },
  {
   "attachments": {},
   "cell_type": "markdown",
   "metadata": {},
   "source": [
    "# LinearRegression"
   ]
  },
  {
   "attachments": {},
   "cell_type": "markdown",
   "metadata": {},
   "source": [
    "## CV - R2, MSE"
   ]
  },
  {
   "cell_type": "code",
   "execution_count": 40,
   "metadata": {},
   "outputs": [],
   "source": [
    "# X_test 컬럼 -> X_scaled 기준(train)으로 맞추기  \n",
    "X_test_scaled=X_test_scaled[X_scaled.columns]"
   ]
  },
  {
   "attachments": {},
   "cell_type": "markdown",
   "metadata": {},
   "source": [
    "## 교차검증"
   ]
  },
  {
   "cell_type": "code",
   "execution_count": 41,
   "metadata": {},
   "outputs": [
    {
     "name": "stdout",
     "output_type": "stream",
     "text": [
      "Fold 1: Train Score_r2 = 0.17971,           Validation Score_r2 = 0.00341\n",
      "      Train Score_mse = 0.04531,           Validation Score_mse = 0.04629\n",
      "\n",
      "\n",
      "Fold 2: Train Score_r2 = 0.20951,           Validation Score_r2 = -0.06077\n",
      "      Train Score_mse = 0.04469,           Validation Score_mse = 0.04958\n",
      "\n",
      "\n",
      "Fold 3: Train Score_r2 = 0.21387,           Validation Score_r2 = -0.00027\n",
      "      Train Score_mse = 0.0446,           Validation Score_mse = 0.04947\n",
      "\n",
      "\n",
      "Fold 4: Train Score_r2 = 0.20636,           Validation Score_r2 = 0.01388\n",
      "      Train Score_mse = 0.04222,           Validation Score_mse = 0.05837\n",
      "\n",
      "\n",
      "Fold 5: Train Score_r2 = 0.09479,           Validation Score_r2 = -0.11417\n",
      "      Train Score_mse = 0.04846,           Validation Score_mse = 0.05641\n",
      "\n",
      "\n",
      "CV 평균 R2 : -0.0316\n",
      "CV 평균 MSE : 0.052\n"
     ]
    }
   ],
   "source": [
    "# CV \n",
    "\n",
    "from sklearn.model_selection import cross_validate\n",
    "from sklearn.metrics import mean_squared_error, mean_absolute_error, r2_score\n",
    "from sklearn.linear_model import LinearRegression\n",
    "\n",
    "model = LinearRegression()\n",
    "\n",
    "# 교차 검증을 통해 모델 평가 및 추정기 반환\n",
    "cv_results = cross_validate(model, X_scaled, y_scaled, \n",
    "                            scoring= ('r2', 'neg_mean_squared_error'),cv=5, \n",
    "                            return_train_score=True, return_estimator=True)\n",
    "\n",
    "train_scores_r2 = cv_results['train_r2']  # 훈련 점수\n",
    "test_scores_r2 = cv_results['test_r2']    # 검증 점수\n",
    "train_scores_mse = -cv_results['train_neg_mean_squared_error']\n",
    "test_scores_mse = -cv_results['test_neg_mean_squared_error'] \n",
    "\n",
    "Validation_R2_score_mean = 0\n",
    "Validation_MSE_mean = 0\n",
    "\n",
    "# 훈련 점수와 검증 점수 출력\n",
    "for i in range(len(train_scores_r2)):\n",
    "   print(f\"Fold {i+1}: Train Score_r2 = {np.round(train_scores_r2[i],5)},\\\n",
    "           Validation Score_r2 = {np.round(test_scores_r2[i],5)}\")\n",
    "   print(f\"      Train Score_mse = {np.round(train_scores_mse[i],5)},\\\n",
    "           Validation Score_mse = {np.round(test_scores_mse[i],5)}\")\n",
    "   print('\\n')\n",
    "       # 마지막 평균 반환용\n",
    "   Validation_R2_score_mean += test_scores_r2[i]\n",
    "   Validation_MSE_mean += test_scores_mse[i]\n",
    "\n",
    "\n",
    "print(f'CV 평균 R2 : {np.round(Validation_R2_score_mean/5,4)}')\n",
    "print(f'CV 평균 MSE : {np.round(Validation_MSE_mean/5,4)}')"
   ]
  },
  {
   "attachments": {},
   "cell_type": "markdown",
   "metadata": {},
   "source": [
    "## 평가지표 train and test 시각화"
   ]
  },
  {
   "cell_type": "code",
   "execution_count": 42,
   "metadata": {},
   "outputs": [
    {
     "name": "stderr",
     "output_type": "stream",
     "text": [
      "/Users/eunjin/opt/anaconda3/lib/python3.8/site-packages/matplotlib/backends/backend_agg.py:238: RuntimeWarning: Glyph 8722 missing from current font.\n",
      "  font.set_text(s, 0.0, flags=flags)\n",
      "/Users/eunjin/opt/anaconda3/lib/python3.8/site-packages/matplotlib/backends/backend_agg.py:201: RuntimeWarning: Glyph 8722 missing from current font.\n",
      "  font.set_text(s, 0, flags=flags)\n"
     ]
    },
    {
     "data": {
      "image/png": "[encoded data removed]",
      "text/plain": [
       "<Figure size 432x288 with 1 Axes>"
      ]
     },
     "metadata": {
      "needs_background": "light"
     },
     "output_type": "display_data"
    }
   ],
   "source": [
    "# R2\n",
    "import matplotlib.pyplot as plt\n",
    "\n",
    "train_scores = cv_results['train_r2']\n",
    "test_scores = cv_results['test_r2']\n",
    "\n",
    "# Fold 번호를 x축으로 설정하여 train_score와 test_score를 그래프로 출력\n",
    "fold_numbers = range(1, len(train_scores) + 1)\n",
    "\n",
    "plt.plot(fold_numbers, train_scores, label='Train Score')\n",
    "plt.plot(fold_numbers, test_scores, label='Test Score')\n",
    "\n",
    "plt.xlabel('Fold')\n",
    "plt.ylabel('Score')\n",
    "plt.title('Train Score vs Test Score')\n",
    "plt.legend()\n",
    "plt.show()"
   ]
  },
  {
   "cell_type": "code",
   "execution_count": 43,
   "metadata": {},
   "outputs": [
    {
     "data": {
      "image/png": "[encoded data removed]",
      "text/plain": [
       "<Figure size 432x288 with 1 Axes>"
      ]
     },
     "metadata": {
      "needs_background": "light"
     },
     "output_type": "display_data"
    }
   ],
   "source": [
    "# MSE \n",
    "import matplotlib.pyplot as plt\n",
    "\n",
    "train_scores = -cv_results['train_neg_mean_squared_error']\n",
    "test_scores = -cv_results['test_neg_mean_squared_error']\n",
    "\n",
    "# Fold 번호를 x축으로 설정하여 train_score와 test_score를 그래프로 출력\n",
    "fold_numbers = range(1, len(train_scores) + 1)\n",
    "\n",
    "plt.plot(fold_numbers, train_scores, label='Train Score')\n",
    "plt.plot(fold_numbers, test_scores, label='Test Score')\n",
    "\n",
    "plt.xlabel('Fold')\n",
    "plt.ylabel('Score')\n",
    "plt.title('Train Score vs Test Score')\n",
    "plt.legend()\n",
    "plt.show()"
   ]
  },
  {
   "attachments": {},
   "cell_type": "markdown",
   "metadata": {},
   "source": [
    "## Model 확정\n",
    "\n",
    "- R2 그래프상 train & test 점수차이가 가장 적게 나는 모델 확정\n",
    "- 최종 세 번째로 확정"
   ]
  },
  {
   "cell_type": "code",
   "execution_count": 48,
   "metadata": {},
   "outputs": [
    {
     "name": "stdout",
     "output_type": "stream",
     "text": [
      "MSE : 0.051, RMSE :  0.226, MAE: 0.226\n",
      "Variance score :  0.181\n",
      "\n",
      "\n"
     ]
    }
   ],
   "source": [
    "# 최종 모델 - Predict & 평가지표\n",
    "\n",
    "y_pred = cv_results['estimator'][3].predict(X_test_scaled)\n",
    "mse = mean_squared_error(y_test_scaled, y_pred)\n",
    "rmse = np.sqrt(mse)\n",
    "mae = mean_absolute_error(y_test_scaled,y_pred)\n",
    "print('MSE : {0:.3f}, RMSE : {1: .3f}, MAE:{1: .3f}'.format(mse, rmse, mae))\n",
    "print('Variance score : {0: .3f}'.format(r2_score(y_test_scaled, y_pred)))\n",
    "print('\\n')"
   ]
  },
  {
   "cell_type": "code",
   "execution_count": 49,
   "metadata": {},
   "outputs": [
    {
     "data": {
      "text/html": [
       "<div>\n",
       "<style scoped>\n",
       "    .dataframe tbody tr th:only-of-type {\n",
       "        vertical-align: middle;\n",
       "    }\n",
       "\n",
       "    .dataframe tbody tr th {\n",
       "        vertical-align: top;\n",
       "    }\n",
       "\n",
       "    .dataframe thead th {\n",
       "        text-align: right;\n",
       "    }\n",
       "</style>\n",
       "<table border=\"1\" class=\"dataframe\">\n",
       "  <thead>\n",
       "    <tr style=\"text-align: right;\">\n",
       "      <th></th>\n",
       "      <th>회귀계수</th>\n",
       "    </tr>\n",
       "  </thead>\n",
       "  <tbody>\n",
       "    <tr>\n",
       "      <th>층</th>\n",
       "      <td>0.348300</td>\n",
       "    </tr>\n",
       "    <tr>\n",
       "      <th>건물연식</th>\n",
       "      <td>0.118047</td>\n",
       "    </tr>\n",
       "    <tr>\n",
       "      <th>회사채3년(평균)</th>\n",
       "      <td>0.021705</td>\n",
       "    </tr>\n",
       "    <tr>\n",
       "      <th>금값종가</th>\n",
       "      <td>-0.240506</td>\n",
       "    </tr>\n",
       "    <tr>\n",
       "      <th>Fed기준금리</th>\n",
       "      <td>-0.249964</td>\n",
       "    </tr>\n",
       "    <tr>\n",
       "      <th>LTV</th>\n",
       "      <td>-0.393974</td>\n",
       "    </tr>\n",
       "  </tbody>\n",
       "</table>\n",
       "</div>"
      ],
      "text/plain": [
       "               회귀계수\n",
       "층          0.348300\n",
       "건물연식       0.118047\n",
       "회사채3년(평균)  0.021705\n",
       "금값종가      -0.240506\n",
       "Fed기준금리   -0.249964\n",
       "LTV       -0.393974"
      ]
     },
     "execution_count": 49,
     "metadata": {},
     "output_type": "execute_result"
    }
   ],
   "source": [
    "# test 계수 결과 DF \n",
    "\n",
    "test_result = pd.DataFrame(data= cv_results['estimator'][3].coef_, index = X_scaled.columns)\n",
    "\n",
    "test_result.columns = ['회귀계수']\n",
    "\n",
    "test_result.sort_values('회귀계수', ascending=False)"
   ]
  },
  {
   "attachments": {},
   "cell_type": "markdown",
   "metadata": {},
   "source": [
    "# Ridge & Lasso"
   ]
  },
  {
   "attachments": {},
   "cell_type": "markdown",
   "metadata": {},
   "source": [
    "## Ridge"
   ]
  },
  {
   "cell_type": "code",
   "execution_count": 50,
   "metadata": {},
   "outputs": [
    {
     "name": "stderr",
     "output_type": "stream",
     "text": [
      "/Users/eunjin/opt/anaconda3/lib/python3.8/site-packages/matplotlib/backends/backend_agg.py:238: RuntimeWarning: Glyph 8722 missing from current font.\n",
      "  font.set_text(s, 0.0, flags=flags)\n",
      "/Users/eunjin/opt/anaconda3/lib/python3.8/site-packages/matplotlib/backends/backend_agg.py:201: RuntimeWarning: Glyph 8722 missing from current font.\n",
      "  font.set_text(s, 0, flags=flags)\n"
     ]
    },
    {
     "data": {
      "image/png": "[encoded data removed]",
      "text/plain": [
       "<Figure size 432x288 with 1 Axes>"
      ]
     },
     "metadata": {
      "needs_background": "light"
     },
     "output_type": "display_data"
    }
   ],
   "source": [
    "# Ridge\n",
    "from sklearn.linear_model import Ridge\n",
    "ridge = Ridge()\n",
    "ridge.fit(X_scaled, y_scaled)\n",
    "\n",
    "import matplotlib.pyplot as plt\n",
    "train_score = []\n",
    "test_score = []\n",
    "\n",
    "alpha_list = [0.001, 0.01, 0.1, 1, 10, 100]\n",
    "for alpha in alpha_list:\n",
    "    ridge = Ridge(alpha=alpha)\n",
    "    ridge.fit(X_scaled, y_scaled)\n",
    "    train_score.append(ridge.score(X_scaled, y_scaled))\n",
    "    test_score.append(ridge.score(X_test_scaled, y_test_scaled))\n",
    "\n",
    "plt.plot(np.log10(alpha_list), train_score, label='Train Score')\n",
    "plt.plot(np.log10(alpha_list), test_score, label='Test Score')\n",
    "plt.xlabel('alpha')\n",
    "plt.ylabel('r2_score')\n",
    "plt.legend()\n",
    "plt.show()"
   ]
  },
  {
   "attachments": {},
   "cell_type": "markdown",
   "metadata": {},
   "source": [
    "- alpha 값이 변해도 큰 차이가 없어 기본값 alpha = 1.0으로 진행"
   ]
  },
  {
   "attachments": {},
   "cell_type": "markdown",
   "metadata": {},
   "source": [
    "## CV"
   ]
  },
  {
   "cell_type": "code",
   "execution_count": 51,
   "metadata": {},
   "outputs": [
    {
     "name": "stdout",
     "output_type": "stream",
     "text": [
      "Fold 1: Train Score_r2 = 0.17971,           Validation Score_r2 = 0.00353\n",
      "      Train Score_mse = 0.04531,           Validation Score_mse = 0.04628\n",
      "\n",
      "\n",
      "Fold 2: Train Score_r2 = 0.20951,           Validation Score_r2 = -0.06063\n",
      "      Train Score_mse = 0.04469,           Validation Score_mse = 0.04958\n",
      "\n",
      "\n",
      "Fold 3: Train Score_r2 = 0.21387,           Validation Score_r2 = -0.00025\n",
      "      Train Score_mse = 0.0446,           Validation Score_mse = 0.04947\n",
      "\n",
      "\n",
      "Fold 4: Train Score_r2 = 0.20636,           Validation Score_r2 = 0.01398\n",
      "      Train Score_mse = 0.04222,           Validation Score_mse = 0.05837\n",
      "\n",
      "\n",
      "Fold 5: Train Score_r2 = 0.09479,           Validation Score_r2 = -0.11395\n",
      "      Train Score_mse = 0.04846,           Validation Score_mse = 0.0564\n",
      "\n",
      "\n",
      "CV 평균 R2 : -0.0315\n",
      "CV 평균 MSE : 0.052\n"
     ]
    }
   ],
   "source": [
    "# CV \n",
    "\n",
    "from sklearn.model_selection import cross_validate\n",
    "from sklearn.metrics import mean_squared_error, mean_absolute_error, r2_score\n",
    "from sklearn.linear_model import LinearRegression\n",
    "\n",
    "ridge = Ridge()\n",
    "ridge.fit(X_scaled, y_scaled)\n",
    "# 교차 검증을 통해 모델 평가 및 추정기 반환\n",
    "cv_results = cross_validate(ridge, X_scaled, y_scaled, \n",
    "                            scoring= ('r2', 'neg_mean_squared_error'),cv=5, \n",
    "                            return_train_score=True, return_estimator=True)\n",
    "\n",
    "train_scores_r2 = cv_results['train_r2']  # 훈련 점수\n",
    "test_scores_r2 = cv_results['test_r2']    # 검증 점수\n",
    "train_scores_mse = -cv_results['train_neg_mean_squared_error']\n",
    "test_scores_mse = -cv_results['test_neg_mean_squared_error'] \n",
    "\n",
    "Validation_R2_score_mean = 0\n",
    "Validation_MSE_mean = 0\n",
    "\n",
    "# 훈련 점수와 검증 점수 출력\n",
    "for i in range(len(train_scores_r2)):\n",
    "   print(f\"Fold {i+1}: Train Score_r2 = {np.round(train_scores_r2[i],5)},\\\n",
    "           Validation Score_r2 = {np.round(test_scores_r2[i],5)}\")\n",
    "   print(f\"      Train Score_mse = {np.round(train_scores_mse[i],5)},\\\n",
    "           Validation Score_mse = {np.round(test_scores_mse[i],5)}\")\n",
    "   print('\\n')\n",
    "       # 마지막 평균 반환용\n",
    "   Validation_R2_score_mean += test_scores_r2[i]\n",
    "   Validation_MSE_mean += test_scores_mse[i]\n",
    "\n",
    "\n",
    "print(f'CV 평균 R2 : {np.round(Validation_R2_score_mean/5,4)}')\n",
    "print(f'CV 평균 MSE : {np.round(Validation_MSE_mean/5,4)}')"
   ]
  },
  {
   "attachments": {},
   "cell_type": "markdown",
   "metadata": {},
   "source": [
    "## 평가지표 train and test 차이 시각화"
   ]
  },
  {
   "cell_type": "code",
   "execution_count": 52,
   "metadata": {},
   "outputs": [
    {
     "name": "stderr",
     "output_type": "stream",
     "text": [
      "/Users/eunjin/opt/anaconda3/lib/python3.8/site-packages/matplotlib/backends/backend_agg.py:238: RuntimeWarning: Glyph 8722 missing from current font.\n",
      "  font.set_text(s, 0.0, flags=flags)\n",
      "/Users/eunjin/opt/anaconda3/lib/python3.8/site-packages/matplotlib/backends/backend_agg.py:201: RuntimeWarning: Glyph 8722 missing from current font.\n",
      "  font.set_text(s, 0, flags=flags)\n"
     ]
    },
    {
     "data": {
      "image/png": "[encoded data removed]",
      "text/plain": [
       "<Figure size 432x288 with 1 Axes>"
      ]
     },
     "metadata": {
      "needs_background": "light"
     },
     "output_type": "display_data"
    }
   ],
   "source": [
    "import matplotlib.pyplot as plt\n",
    "\n",
    "train_scores = cv_results['train_r2']\n",
    "test_scores = cv_results['test_r2']\n",
    "\n",
    "# Fold 번호를 x축으로 설정하여 train_score와 test_score를 그래프로 출력\n",
    "fold_numbers = range(1, len(train_scores) + 1)\n",
    "\n",
    "plt.plot(fold_numbers, train_scores, label='Train Score')\n",
    "plt.plot(fold_numbers, test_scores, label='Test Score')\n",
    "\n",
    "plt.xlabel('Fold')\n",
    "plt.ylabel('Score')\n",
    "plt.title('Train Score vs Test Score')\n",
    "plt.legend()\n",
    "plt.show()"
   ]
  },
  {
   "cell_type": "code",
   "execution_count": 53,
   "metadata": {},
   "outputs": [
    {
     "name": "stdout",
     "output_type": "stream",
     "text": [
      "0.1804211670732091\n",
      "0.18777037597514257\n"
     ]
    }
   ],
   "source": [
    "# ridge의 train, test r2 확인\n",
    "from sklearn.linear_model import Ridge\n",
    "ridge = Ridge()\n",
    "ridge.fit(X_scaled, y_scaled)\n",
    "print(ridge.score(X_scaled, y_scaled))\n",
    "print(ridge.score(X_test_scaled, y_test_scaled))"
   ]
  },
  {
   "cell_type": "code",
   "execution_count": 54,
   "metadata": {},
   "outputs": [
    {
     "name": "stdout",
     "output_type": "stream",
     "text": [
      "MSE : 0.051, RMSE :  0.225, MAE: 0.225\n",
      "Variance score :  0.188\n",
      "\n",
      "\n"
     ]
    }
   ],
   "source": [
    "# 최종 모델 - Predict & 평가지표\n",
    "# Train 전체로 학습 시\n",
    "ridge.fit(X_scaled, y_scaled)\n",
    "y_pred = ridge.predict(X_test_scaled)\n",
    "mse = mean_squared_error(y_test_scaled, y_pred)\n",
    "rmse = np.sqrt(mse)\n",
    "mae = mean_absolute_error(y_test_scaled,y_pred)\n",
    "print('MSE : {0:.3f}, RMSE : {1: .3f}, MAE:{1: .3f}'.format(mse, rmse, mae))\n",
    "print('Variance score : {0: .3f}'.format(r2_score(y_test_scaled, y_pred)))\n",
    "print('\\n')"
   ]
  },
  {
   "cell_type": "code",
   "execution_count": 55,
   "metadata": {},
   "outputs": [
    {
     "name": "stdout",
     "output_type": "stream",
     "text": [
      "MSE : 0.051, RMSE :  0.226, MAE: 0.226\n",
      "Variance score :  0.181\n",
      "\n",
      "\n"
     ]
    }
   ],
   "source": [
    "# 최종 모델 - Predict & 평가지표\n",
    "\n",
    "y_pred = cv_results['estimator'][3].predict(X_test_scaled)\n",
    "mse = mean_squared_error(y_test_scaled, y_pred)\n",
    "rmse = np.sqrt(mse)\n",
    "mae = mean_absolute_error(y_test_scaled,y_pred)\n",
    "print('MSE : {0:.3f}, RMSE : {1: .3f}, MAE:{1: .3f}'.format(mse, rmse, mae))\n",
    "print('Variance score : {0: .3f}'.format(r2_score(y_test_scaled, y_pred)))\n",
    "print('\\n')"
   ]
  },
  {
   "cell_type": "code",
   "execution_count": 56,
   "metadata": {},
   "outputs": [
    {
     "data": {
      "text/html": [
       "<div>\n",
       "<style scoped>\n",
       "    .dataframe tbody tr th:only-of-type {\n",
       "        vertical-align: middle;\n",
       "    }\n",
       "\n",
       "    .dataframe tbody tr th {\n",
       "        vertical-align: top;\n",
       "    }\n",
       "\n",
       "    .dataframe thead th {\n",
       "        text-align: right;\n",
       "    }\n",
       "</style>\n",
       "<table border=\"1\" class=\"dataframe\">\n",
       "  <thead>\n",
       "    <tr style=\"text-align: right;\">\n",
       "      <th></th>\n",
       "      <th>회귀계수</th>\n",
       "    </tr>\n",
       "  </thead>\n",
       "  <tbody>\n",
       "    <tr>\n",
       "      <th>층</th>\n",
       "      <td>0.347822</td>\n",
       "    </tr>\n",
       "    <tr>\n",
       "      <th>건물연식</th>\n",
       "      <td>0.117937</td>\n",
       "    </tr>\n",
       "    <tr>\n",
       "      <th>회사채3년(평균)</th>\n",
       "      <td>0.021665</td>\n",
       "    </tr>\n",
       "    <tr>\n",
       "      <th>금값종가</th>\n",
       "      <td>-0.239677</td>\n",
       "    </tr>\n",
       "    <tr>\n",
       "      <th>Fed기준금리</th>\n",
       "      <td>-0.249446</td>\n",
       "    </tr>\n",
       "    <tr>\n",
       "      <th>LTV</th>\n",
       "      <td>-0.393510</td>\n",
       "    </tr>\n",
       "  </tbody>\n",
       "</table>\n",
       "</div>"
      ],
      "text/plain": [
       "               회귀계수\n",
       "층          0.347822\n",
       "건물연식       0.117937\n",
       "회사채3년(평균)  0.021665\n",
       "금값종가      -0.239677\n",
       "Fed기준금리   -0.249446\n",
       "LTV       -0.393510"
      ]
     },
     "execution_count": 56,
     "metadata": {},
     "output_type": "execute_result"
    }
   ],
   "source": [
    "# Ridge 회귀계수\n",
    "ridge_df = pd.DataFrame(data = cv_results['estimator'][3].coef_, index = X_scaled.columns)\n",
    "ridge_df.columns = ['회귀계수']\n",
    "ridge_df.sort_values(by = '회귀계수',ascending=False)"
   ]
  },
  {
   "cell_type": "code",
   "execution_count": 57,
   "metadata": {},
   "outputs": [
    {
     "name": "stdout",
     "output_type": "stream",
     "text": [
      "0.0\n",
      "-1.0716898168624596\n"
     ]
    }
   ],
   "source": [
    "# Lasso \n",
    "from sklearn.linear_model import Lasso\n",
    "lasso = Lasso()\n",
    "lasso.fit(X_scaled, y_scaled)\n",
    "print(lasso.score(X_scaled, y_scaled))\n",
    "print(lasso.score(X_test_scaled, y_test_scaled))"
   ]
  },
  {
   "cell_type": "code",
   "execution_count": 58,
   "metadata": {},
   "outputs": [
    {
     "data": {
      "text/plain": [
       "array([ True,  True,  True,  True,  True,  True])"
      ]
     },
     "execution_count": 58,
     "metadata": {},
     "output_type": "execute_result"
    }
   ],
   "source": [
    "lasso.coef_ == 0"
   ]
  },
  {
   "attachments": {},
   "cell_type": "markdown",
   "metadata": {},
   "source": [
    "# 잔차항 검정 \n",
    "1. 정규성\n",
    "2. 등분산성\n",
    "3. 독립성"
   ]
  },
  {
   "cell_type": "code",
   "execution_count": 90,
   "metadata": {},
   "outputs": [],
   "source": [
    "import matplotlib.pyplot as plt\n",
    "from scipy.stats import norm\n",
    "from scipy import stats\n",
    "\n",
    "import seaborn as sns\n",
    "\n",
    "import warnings \n",
    "warnings.filterwarnings('ignore')\n",
    "\n",
    "import matplotlib.pyplot as plt\n",
    "import matplotlib\n",
    "matplotlib.rcParams['font.family'] = 'Malgun Gothic'  # windows\n",
    "#matplotlib.rcParams['font.family'] = 'AppleGothic'  # Mac\n",
    "matplotlib.rcParams['font.size'] = 15  # 글자크기\n",
    "matplotlib.rcParams['axes.unicode_minus'] = False # 한글 폰트 사용시 마이너스 꺠지지않게 해줌"
   ]
  },
  {
   "cell_type": "code",
   "execution_count": 91,
   "metadata": {},
   "outputs": [
    {
     "data": {
      "image/png": "[encoded data removed]",
      "text/plain": [
       "<Figure size 640x480 with 1 Axes>"
      ]
     },
     "metadata": {},
     "output_type": "display_data"
    },
    {
     "data": {
      "image/png": "[encoded data removed]",
      "text/plain": [
       "<Figure size 640x480 with 1 Axes>"
      ]
     },
     "metadata": {},
     "output_type": "display_data"
    },
    {
     "data": {
      "image/png": "[encoded data removed]",
      "text/plain": [
       "<Figure size 1500x1000 with 6 Axes>"
      ]
     },
     "metadata": {},
     "output_type": "display_data"
    }
   ],
   "source": [
    "import statsmodels.api as sm\n",
    "import matplotlib.pyplot as plt\n",
    "import math\n",
    "\n",
    "x = X_scaled\n",
    "y = y_scaled\n",
    "\n",
    "# 모델 적합\n",
    "model = sm.OLS(y, x)  # 종속 변수 y와 독립 변수 X를 지정하여 모델 생성\n",
    "result = model.fit()  # 모델 적합\n",
    "\n",
    "# 잔차 추출\n",
    "residuals = result.resid\n",
    "\n",
    "# 잔차 분석\n",
    "# 잔차의 정규성 확인: 잔차의 분포를 정규분포와 비교하여 정규성 검정을 수행합니다.\n",
    "sm.qqplot(residuals, line='s')  # Q-Q plot을 그려서 정규성 확인\n",
    "plt.xlabel('이론적인 분위수')\n",
    "plt.ylabel('잔차')\n",
    "plt.title('잔차의 Q-Q 플롯')\n",
    "plt.show()\n",
    "\n",
    "# 잔차의 등분산성 확인: 잔차와 예측값 사이의 관계를 살펴서 등분산성을 확인합니다.\n",
    "plt.scatter(result.fittedvalues, residuals)\n",
    "plt.xlabel('예측값')\n",
    "plt.ylabel('잔차')\n",
    "plt.title('예측값과 잔차의 산점도')\n",
    "plt.axhline(y=0, color='red', linestyle='--')  # 잔차가 0인 기준선 추가\n",
    "plt.show()\n",
    "\n",
    "# 잔차의 독립성 확인: 잔차와 독립 변수 간의 관계를 살펴서 독립성을 확인합니다.\n",
    "num_cols = len(x.columns)\n",
    "num_rows = math.ceil(num_cols / 3)  # 3개의 열로 나누어 출력하고자 한다면\n",
    "fig, axes = plt.subplots(num_rows, 3, figsize=(15, num_rows*5))\n",
    "for i in range(num_cols):\n",
    "    row = i // 3\n",
    "    col = i % 3\n",
    "    ax = axes[row, col]\n",
    "    ax.scatter(x.iloc[:, i], residuals)\n",
    "    ax.set_xlabel('독립 변수')\n",
    "    ax.set_ylabel('잔차')\n",
    "    ax.set_title(f'{x.columns[i]}과 잔차의 산점도')\n",
    "    ax.axhline(y=0, color='red', linestyle='--')  # 잔차가 0인 기준선 추가\n",
    "\n",
    "plt.tight_layout()  # 그래프 간격 조정\n",
    "plt.show()"
   ]
  }
 ],
 "metadata": {
  "kernelspec": {
   "display_name": "Python 3",
   "language": "python",
   "name": "python3"
  },
  "language_info": {
   "codemirror_mode": {
    "name": "ipython",
    "version": 3
   },
   "file_extension": ".py",
   "mimetype": "text/x-python",
   "name": "python",
   "nbconvert_exporter": "python",
   "pygments_lexer": "ipython3",
   "version": "3.8.8"
  },
  "orig_nbformat": 4
 },
 "nbformat": 4,
 "nbformat_minor": 2
}
