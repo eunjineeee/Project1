{
 "cells": [
  {
   "cell_type": "code",
   "execution_count": 2,
   "metadata": {},
   "outputs": [],
   "source": [
    "import pandas as pd\n",
    "import numpy as np\n",
    "from sklearn.tree import DecisionTreeRegressor\n",
    "import pandas as pd\n",
    "import numpy as np\n",
    "import seaborn as sns\n",
    "import matplotlib.pyplot as plt\n",
    "from matplotlib import pyplot\n",
    "from sklearn.preprocessing import StandardScaler\n",
    "from sklearn.preprocessing import MinMaxScaler\n",
    "from matplotlib import rc\n",
    "from sklearn.model_selection import train_test_split\n",
    "from sklearn.metrics import mean_squared_error \n",
    "import datetime\n",
    "import warnings\n",
    "%matplotlib inline\n",
    "warnings.filterwarnings('ignore')\n",
    "\n",
    "import matplotlib\n",
    "# matplotlib.rcParams['font.family'] = 'Malgun Gothic'  # windows\n",
    "matplotlib.rcParams['font.family'] = 'AppleGothic'  # Mac\n",
    "matplotlib.rcParams['font.size'] = 15  # 글자크기\n",
    "matplotlib.rcParams['axes.unicode_minus'] = False # 한글 폰트 사용시 마이너스 꺠지지않게 해줌"
   ]
  },
  {
   "cell_type": "code",
   "execution_count": 3,
   "metadata": {},
   "outputs": [
    {
     "data": {
      "text/html": [
       "<div>\n",
       "<style scoped>\n",
       "    .dataframe tbody tr th:only-of-type {\n",
       "        vertical-align: middle;\n",
       "    }\n",
       "\n",
       "    .dataframe tbody tr th {\n",
       "        vertical-align: top;\n",
       "    }\n",
       "\n",
       "    .dataframe thead th {\n",
       "        text-align: right;\n",
       "    }\n",
       "</style>\n",
       "<table border=\"1\" class=\"dataframe\">\n",
       "  <thead>\n",
       "    <tr style=\"text-align: right;\">\n",
       "      <th></th>\n",
       "      <th>자치구</th>\n",
       "      <th>계약일</th>\n",
       "      <th>건물면적(㎡)</th>\n",
       "      <th>층</th>\n",
       "      <th>KOSPI종가</th>\n",
       "      <th>Fed기준금리</th>\n",
       "      <th>국제유가(Dubai)($/배럴)</th>\n",
       "      <th>부동산거래량</th>\n",
       "      <th>국고채5년(평균)</th>\n",
       "      <th>국고채10년(평균)</th>\n",
       "      <th>...</th>\n",
       "      <th>BOK기준금리</th>\n",
       "      <th>건물연식</th>\n",
       "      <th>GDP대비가계부채비율</th>\n",
       "      <th>환율종가</th>\n",
       "      <th>선행지수순환변동치</th>\n",
       "      <th>EPU</th>\n",
       "      <th>장단기금리spread</th>\n",
       "      <th>금값종가</th>\n",
       "      <th>LTV</th>\n",
       "      <th>물건금액(만원)</th>\n",
       "    </tr>\n",
       "  </thead>\n",
       "  <tbody>\n",
       "    <tr>\n",
       "      <th>0</th>\n",
       "      <td>강남구</td>\n",
       "      <td>2016-01-01</td>\n",
       "      <td>50.67</td>\n",
       "      <td>4</td>\n",
       "      <td>1961.310059</td>\n",
       "      <td>0.34</td>\n",
       "      <td>26.9</td>\n",
       "      <td>9894</td>\n",
       "      <td>1.77</td>\n",
       "      <td>2.03</td>\n",
       "      <td>...</td>\n",
       "      <td>1.50</td>\n",
       "      <td>34</td>\n",
       "      <td>83.3</td>\n",
       "      <td>1175.45</td>\n",
       "      <td>99.6</td>\n",
       "      <td>177.148845</td>\n",
       "      <td>0.14</td>\n",
       "      <td>1060.74</td>\n",
       "      <td>0.7</td>\n",
       "      <td>87000</td>\n",
       "    </tr>\n",
       "    <tr>\n",
       "      <th>1</th>\n",
       "      <td>송파구</td>\n",
       "      <td>2016-01-01</td>\n",
       "      <td>84.93</td>\n",
       "      <td>11</td>\n",
       "      <td>1961.310059</td>\n",
       "      <td>0.34</td>\n",
       "      <td>26.9</td>\n",
       "      <td>9894</td>\n",
       "      <td>1.77</td>\n",
       "      <td>2.03</td>\n",
       "      <td>...</td>\n",
       "      <td>1.50</td>\n",
       "      <td>21</td>\n",
       "      <td>83.3</td>\n",
       "      <td>1175.45</td>\n",
       "      <td>99.6</td>\n",
       "      <td>177.148845</td>\n",
       "      <td>0.14</td>\n",
       "      <td>1060.74</td>\n",
       "      <td>0.7</td>\n",
       "      <td>46450</td>\n",
       "    </tr>\n",
       "    <tr>\n",
       "      <th>2</th>\n",
       "      <td>서초구</td>\n",
       "      <td>2016-01-01</td>\n",
       "      <td>134.36</td>\n",
       "      <td>12</td>\n",
       "      <td>1961.310059</td>\n",
       "      <td>0.34</td>\n",
       "      <td>26.9</td>\n",
       "      <td>9894</td>\n",
       "      <td>1.77</td>\n",
       "      <td>2.03</td>\n",
       "      <td>...</td>\n",
       "      <td>1.50</td>\n",
       "      <td>11</td>\n",
       "      <td>83.3</td>\n",
       "      <td>1175.45</td>\n",
       "      <td>99.6</td>\n",
       "      <td>177.148845</td>\n",
       "      <td>0.14</td>\n",
       "      <td>1060.74</td>\n",
       "      <td>0.7</td>\n",
       "      <td>94000</td>\n",
       "    </tr>\n",
       "    <tr>\n",
       "      <th>3</th>\n",
       "      <td>용산구</td>\n",
       "      <td>2016-01-02</td>\n",
       "      <td>114.48</td>\n",
       "      <td>7</td>\n",
       "      <td>1961.310059</td>\n",
       "      <td>0.34</td>\n",
       "      <td>26.9</td>\n",
       "      <td>9894</td>\n",
       "      <td>1.77</td>\n",
       "      <td>2.03</td>\n",
       "      <td>...</td>\n",
       "      <td>1.50</td>\n",
       "      <td>15</td>\n",
       "      <td>83.3</td>\n",
       "      <td>1175.45</td>\n",
       "      <td>99.6</td>\n",
       "      <td>177.148845</td>\n",
       "      <td>0.14</td>\n",
       "      <td>1060.74</td>\n",
       "      <td>0.7</td>\n",
       "      <td>62500</td>\n",
       "    </tr>\n",
       "    <tr>\n",
       "      <th>4</th>\n",
       "      <td>강남구</td>\n",
       "      <td>2016-01-02</td>\n",
       "      <td>110.39</td>\n",
       "      <td>6</td>\n",
       "      <td>1961.310059</td>\n",
       "      <td>0.34</td>\n",
       "      <td>26.9</td>\n",
       "      <td>9894</td>\n",
       "      <td>1.77</td>\n",
       "      <td>2.03</td>\n",
       "      <td>...</td>\n",
       "      <td>1.50</td>\n",
       "      <td>27</td>\n",
       "      <td>83.3</td>\n",
       "      <td>1175.45</td>\n",
       "      <td>99.6</td>\n",
       "      <td>177.148845</td>\n",
       "      <td>0.14</td>\n",
       "      <td>1060.74</td>\n",
       "      <td>0.7</td>\n",
       "      <td>133000</td>\n",
       "    </tr>\n",
       "    <tr>\n",
       "      <th>...</th>\n",
       "      <td>...</td>\n",
       "      <td>...</td>\n",
       "      <td>...</td>\n",
       "      <td>...</td>\n",
       "      <td>...</td>\n",
       "      <td>...</td>\n",
       "      <td>...</td>\n",
       "      <td>...</td>\n",
       "      <td>...</td>\n",
       "      <td>...</td>\n",
       "      <td>...</td>\n",
       "      <td>...</td>\n",
       "      <td>...</td>\n",
       "      <td>...</td>\n",
       "      <td>...</td>\n",
       "      <td>...</td>\n",
       "      <td>...</td>\n",
       "      <td>...</td>\n",
       "      <td>...</td>\n",
       "      <td>...</td>\n",
       "      <td>...</td>\n",
       "    </tr>\n",
       "    <tr>\n",
       "      <th>100346</th>\n",
       "      <td>서초구</td>\n",
       "      <td>2022-12-31</td>\n",
       "      <td>84.98</td>\n",
       "      <td>23</td>\n",
       "      <td>2236.399902</td>\n",
       "      <td>4.10</td>\n",
       "      <td>77.2</td>\n",
       "      <td>3698</td>\n",
       "      <td>3.59</td>\n",
       "      <td>3.54</td>\n",
       "      <td>...</td>\n",
       "      <td>3.25</td>\n",
       "      <td>16</td>\n",
       "      <td>105.0</td>\n",
       "      <td>1260.92</td>\n",
       "      <td>99.1</td>\n",
       "      <td>169.662386</td>\n",
       "      <td>0.39</td>\n",
       "      <td>1824.40</td>\n",
       "      <td>0.0</td>\n",
       "      <td>194000</td>\n",
       "    </tr>\n",
       "    <tr>\n",
       "      <th>100347</th>\n",
       "      <td>강남구</td>\n",
       "      <td>2022-12-31</td>\n",
       "      <td>76.79</td>\n",
       "      <td>2</td>\n",
       "      <td>2236.399902</td>\n",
       "      <td>4.10</td>\n",
       "      <td>77.2</td>\n",
       "      <td>3698</td>\n",
       "      <td>3.59</td>\n",
       "      <td>3.54</td>\n",
       "      <td>...</td>\n",
       "      <td>3.25</td>\n",
       "      <td>43</td>\n",
       "      <td>105.0</td>\n",
       "      <td>1260.92</td>\n",
       "      <td>99.1</td>\n",
       "      <td>169.662386</td>\n",
       "      <td>0.39</td>\n",
       "      <td>1824.40</td>\n",
       "      <td>0.0</td>\n",
       "      <td>184000</td>\n",
       "    </tr>\n",
       "    <tr>\n",
       "      <th>100348</th>\n",
       "      <td>서초구</td>\n",
       "      <td>2022-12-31</td>\n",
       "      <td>152.33</td>\n",
       "      <td>9</td>\n",
       "      <td>2236.399902</td>\n",
       "      <td>4.10</td>\n",
       "      <td>77.2</td>\n",
       "      <td>3698</td>\n",
       "      <td>3.59</td>\n",
       "      <td>3.54</td>\n",
       "      <td>...</td>\n",
       "      <td>3.25</td>\n",
       "      <td>18</td>\n",
       "      <td>105.0</td>\n",
       "      <td>1260.92</td>\n",
       "      <td>99.1</td>\n",
       "      <td>169.662386</td>\n",
       "      <td>0.39</td>\n",
       "      <td>1824.40</td>\n",
       "      <td>0.0</td>\n",
       "      <td>250000</td>\n",
       "    </tr>\n",
       "    <tr>\n",
       "      <th>100349</th>\n",
       "      <td>송파구</td>\n",
       "      <td>2022-12-31</td>\n",
       "      <td>84.71</td>\n",
       "      <td>11</td>\n",
       "      <td>2236.399902</td>\n",
       "      <td>4.10</td>\n",
       "      <td>77.2</td>\n",
       "      <td>3698</td>\n",
       "      <td>3.59</td>\n",
       "      <td>3.54</td>\n",
       "      <td>...</td>\n",
       "      <td>3.25</td>\n",
       "      <td>34</td>\n",
       "      <td>105.0</td>\n",
       "      <td>1260.92</td>\n",
       "      <td>99.1</td>\n",
       "      <td>169.662386</td>\n",
       "      <td>0.39</td>\n",
       "      <td>1824.40</td>\n",
       "      <td>0.2</td>\n",
       "      <td>138000</td>\n",
       "    </tr>\n",
       "    <tr>\n",
       "      <th>100350</th>\n",
       "      <td>송파구</td>\n",
       "      <td>2022-12-31</td>\n",
       "      <td>84.90</td>\n",
       "      <td>24</td>\n",
       "      <td>2236.399902</td>\n",
       "      <td>4.10</td>\n",
       "      <td>77.2</td>\n",
       "      <td>3698</td>\n",
       "      <td>3.59</td>\n",
       "      <td>3.54</td>\n",
       "      <td>...</td>\n",
       "      <td>3.25</td>\n",
       "      <td>14</td>\n",
       "      <td>105.0</td>\n",
       "      <td>1260.92</td>\n",
       "      <td>99.1</td>\n",
       "      <td>169.662386</td>\n",
       "      <td>0.39</td>\n",
       "      <td>1824.40</td>\n",
       "      <td>0.0</td>\n",
       "      <td>172000</td>\n",
       "    </tr>\n",
       "  </tbody>\n",
       "</table>\n",
       "<p>100351 rows × 22 columns</p>\n",
       "</div>"
      ],
      "text/plain": [
       "        자치구         계약일  건물면적(㎡)   층      KOSPI종가  Fed기준금리  국제유가(Dubai)($/배럴)  \\\n",
       "0       강남구  2016-01-01    50.67   4  1961.310059     0.34               26.9   \n",
       "1       송파구  2016-01-01    84.93  11  1961.310059     0.34               26.9   \n",
       "2       서초구  2016-01-01   134.36  12  1961.310059     0.34               26.9   \n",
       "3       용산구  2016-01-02   114.48   7  1961.310059     0.34               26.9   \n",
       "4       강남구  2016-01-02   110.39   6  1961.310059     0.34               26.9   \n",
       "...     ...         ...      ...  ..          ...      ...                ...   \n",
       "100346  서초구  2022-12-31    84.98  23  2236.399902     4.10               77.2   \n",
       "100347  강남구  2022-12-31    76.79   2  2236.399902     4.10               77.2   \n",
       "100348  서초구  2022-12-31   152.33   9  2236.399902     4.10               77.2   \n",
       "100349  송파구  2022-12-31    84.71  11  2236.399902     4.10               77.2   \n",
       "100350  송파구  2022-12-31    84.90  24  2236.399902     4.10               77.2   \n",
       "\n",
       "        부동산거래량  국고채5년(평균)  국고채10년(평균)  ...  BOK기준금리  건물연식  GDP대비가계부채비율  \\\n",
       "0         9894       1.77        2.03  ...     1.50    34         83.3   \n",
       "1         9894       1.77        2.03  ...     1.50    21         83.3   \n",
       "2         9894       1.77        2.03  ...     1.50    11         83.3   \n",
       "3         9894       1.77        2.03  ...     1.50    15         83.3   \n",
       "4         9894       1.77        2.03  ...     1.50    27         83.3   \n",
       "...        ...        ...         ...  ...      ...   ...          ...   \n",
       "100346    3698       3.59        3.54  ...     3.25    16        105.0   \n",
       "100347    3698       3.59        3.54  ...     3.25    43        105.0   \n",
       "100348    3698       3.59        3.54  ...     3.25    18        105.0   \n",
       "100349    3698       3.59        3.54  ...     3.25    34        105.0   \n",
       "100350    3698       3.59        3.54  ...     3.25    14        105.0   \n",
       "\n",
       "           환율종가  선행지수순환변동치         EPU  장단기금리spread     금값종가  LTV  물건금액(만원)  \n",
       "0       1175.45       99.6  177.148845         0.14  1060.74  0.7     87000  \n",
       "1       1175.45       99.6  177.148845         0.14  1060.74  0.7     46450  \n",
       "2       1175.45       99.6  177.148845         0.14  1060.74  0.7     94000  \n",
       "3       1175.45       99.6  177.148845         0.14  1060.74  0.7     62500  \n",
       "4       1175.45       99.6  177.148845         0.14  1060.74  0.7    133000  \n",
       "...         ...        ...         ...          ...      ...  ...       ...  \n",
       "100346  1260.92       99.1  169.662386         0.39  1824.40  0.0    194000  \n",
       "100347  1260.92       99.1  169.662386         0.39  1824.40  0.0    184000  \n",
       "100348  1260.92       99.1  169.662386         0.39  1824.40  0.0    250000  \n",
       "100349  1260.92       99.1  169.662386         0.39  1824.40  0.2    138000  \n",
       "100350  1260.92       99.1  169.662386         0.39  1824.40  0.0    172000  \n",
       "\n",
       "[100351 rows x 22 columns]"
      ]
     },
     "execution_count": 3,
     "metadata": {},
     "output_type": "execute_result"
    }
   ],
   "source": [
    "df = pd.read_csv('./datasets/강남.csv')\n",
    "df"
   ]
  },
  {
   "cell_type": "code",
   "execution_count": 4,
   "metadata": {},
   "outputs": [],
   "source": [
    "df = df[['자치구','계약일','건물면적(㎡)', '층', 'Fed기준금리','건물연식', 'GDP대비가계부채비율','EPU', '장단기금리spread','LTV', '물건금액(만원)']]"
   ]
  },
  {
   "attachments": {},
   "cell_type": "markdown",
   "metadata": {},
   "source": [
    "# Train/Test Split"
   ]
  },
  {
   "cell_type": "code",
   "execution_count": 5,
   "metadata": {},
   "outputs": [],
   "source": [
    "# Train : 2016-2020\n",
    "# Test : 2021-2022\n",
    "\n",
    "df['계약일'] = pd.to_datetime(df['계약일'])\n",
    "train_df = df.loc[df['계약일'] < '2021']\n",
    "test_df = df.loc[df['계약일'] >= '2021']"
   ]
  },
  {
   "attachments": {},
   "cell_type": "markdown",
   "metadata": {},
   "source": [
    "# feature & target split"
   ]
  },
  {
   "cell_type": "code",
   "execution_count": 6,
   "metadata": {},
   "outputs": [],
   "source": [
    "# Train Split\n",
    "# feature & target  split\n",
    "\n",
    "X_train_df = train_df.drop('물건금액(만원)', axis=1)\n",
    "y = train_df['물건금액(만원)']\n",
    "\n",
    "# X_train : 숫자형 컬럼만 \n",
    "X_train = X_train_df.select_dtypes([np.number])"
   ]
  },
  {
   "cell_type": "code",
   "execution_count": 7,
   "metadata": {},
   "outputs": [],
   "source": [
    "# Test Split\n",
    "# feature & target  split\n",
    "\n",
    "X_test_df = test_df.drop('물건금액(만원)', axis=1)\n",
    "y_test = test_df['물건금액(만원)']\n",
    "\n",
    "# X_test : 숫자형 컬럼만 \n",
    "X_test = X_test_df.select_dtypes([np.number])"
   ]
  },
  {
   "attachments": {},
   "cell_type": "markdown",
   "metadata": {},
   "source": [
    "# Scaling\n",
    "1. Features - MinMax\n",
    "2. Target - Log"
   ]
  },
  {
   "cell_type": "code",
   "execution_count": 8,
   "metadata": {},
   "outputs": [],
   "source": [
    "# minMax\n",
    "from sklearn.preprocessing import MinMaxScaler\n",
    "\n",
    "# Scaler 객체 생성\n",
    "scaler = MinMaxScaler()\n",
    "X_scaled = scaler.fit_transform(X_train)\n",
    "X_test_scaled = scaler.transform(X_test)\n",
    "\n",
    "# DataFrame\n",
    "X_scaled = pd.DataFrame(X_scaled, columns=X_train.columns)\n",
    "X_test_scaled = pd.DataFrame(X_test_scaled, columns=X_test.columns)"
   ]
  },
  {
   "cell_type": "code",
   "execution_count": 9,
   "metadata": {},
   "outputs": [
    {
     "data": {
      "text/plain": [
       "85340     5.079181\n",
       "85341     5.245513\n",
       "85342     5.439333\n",
       "85343     5.250420\n",
       "85344     5.110590\n",
       "            ...   \n",
       "100346    5.287802\n",
       "100347    5.264818\n",
       "100348    5.397940\n",
       "100349    5.139879\n",
       "100350    5.235528\n",
       "Name: 물건금액(만원), Length: 15011, dtype: float64"
      ]
     },
     "execution_count": 9,
     "metadata": {},
     "output_type": "execute_result"
    }
   ],
   "source": [
    "# y -> log 변환\n",
    "\n",
    "# Train\n",
    "y_scaled = np.log10(y)\n",
    "# y_scaled\n",
    "\n",
    "# Test\n",
    "y_test_scaled = np.log10(y_test)\n",
    "y_test_scaled"
   ]
  },
  {
   "attachments": {},
   "cell_type": "markdown",
   "metadata": {},
   "source": [
    "# OLS - Scaling 후\n",
    "## OLS_1"
   ]
  },
  {
   "cell_type": "code",
   "execution_count": 10,
   "metadata": {},
   "outputs": [
    {
     "data": {
      "text/html": [
       "<table class=\"simpletable\">\n",
       "<caption>OLS Regression Results</caption>\n",
       "<tr>\n",
       "  <th>Dep. Variable:</th>        <td>물건금액(만원)</td>     <th>  R-squared:         </th>  <td>   0.543</td> \n",
       "</tr>\n",
       "<tr>\n",
       "  <th>Model:</th>                   <td>OLS</td>       <th>  Adj. R-squared:    </th>  <td>   0.543</td> \n",
       "</tr>\n",
       "<tr>\n",
       "  <th>Method:</th>             <td>Least Squares</td>  <th>  F-statistic:       </th>  <td>1.268e+04</td>\n",
       "</tr>\n",
       "<tr>\n",
       "  <th>Date:</th>             <td>Thu, 29 Jun 2023</td> <th>  Prob (F-statistic):</th>   <td>  0.00</td>  \n",
       "</tr>\n",
       "<tr>\n",
       "  <th>Time:</th>                 <td>16:48:35</td>     <th>  Log-Likelihood:    </th>  <td>  31549.</td> \n",
       "</tr>\n",
       "<tr>\n",
       "  <th>No. Observations:</th>      <td> 85340</td>      <th>  AIC:               </th> <td>-6.308e+04</td>\n",
       "</tr>\n",
       "<tr>\n",
       "  <th>Df Residuals:</th>          <td> 85331</td>      <th>  BIC:               </th> <td>-6.300e+04</td>\n",
       "</tr>\n",
       "<tr>\n",
       "  <th>Df Model:</th>              <td>     8</td>      <th>                     </th>      <td> </td>    \n",
       "</tr>\n",
       "<tr>\n",
       "  <th>Covariance Type:</th>      <td>nonrobust</td>    <th>                     </th>      <td> </td>    \n",
       "</tr>\n",
       "</table>\n",
       "<table class=\"simpletable\">\n",
       "<tr>\n",
       "       <td></td>          <th>coef</th>     <th>std err</th>      <th>t</th>      <th>P>|t|</th>  <th>[0.025</th>    <th>0.975]</th>  \n",
       "</tr>\n",
       "<tr>\n",
       "  <th>const</th>       <td>    4.7330</td> <td>    0.006</td> <td>  851.548</td> <td> 0.000</td> <td>    4.722</td> <td>    4.744</td>\n",
       "</tr>\n",
       "<tr>\n",
       "  <th>건물면적(㎡)</th>     <td>    1.5365</td> <td>    0.006</td> <td>  255.375</td> <td> 0.000</td> <td>    1.525</td> <td>    1.548</td>\n",
       "</tr>\n",
       "<tr>\n",
       "  <th>층</th>           <td>    0.2946</td> <td>    0.006</td> <td>   49.646</td> <td> 0.000</td> <td>    0.283</td> <td>    0.306</td>\n",
       "</tr>\n",
       "<tr>\n",
       "  <th>Fed기준금리</th>     <td>   -0.0502</td> <td>    0.003</td> <td>  -17.462</td> <td> 0.000</td> <td>   -0.056</td> <td>   -0.045</td>\n",
       "</tr>\n",
       "<tr>\n",
       "  <th>건물연식</th>        <td>    0.1313</td> <td>    0.003</td> <td>   48.182</td> <td> 0.000</td> <td>    0.126</td> <td>    0.137</td>\n",
       "</tr>\n",
       "<tr>\n",
       "  <th>GDP대비가계부채비율</th> <td>    0.0558</td> <td>    0.005</td> <td>   10.343</td> <td> 0.000</td> <td>    0.045</td> <td>    0.066</td>\n",
       "</tr>\n",
       "<tr>\n",
       "  <th>EPU</th>         <td>   -0.0152</td> <td>    0.003</td> <td>   -4.437</td> <td> 0.000</td> <td>   -0.022</td> <td>   -0.008</td>\n",
       "</tr>\n",
       "<tr>\n",
       "  <th>장단기금리spread</th> <td>    0.0233</td> <td>    0.003</td> <td>    7.848</td> <td> 0.000</td> <td>    0.017</td> <td>    0.029</td>\n",
       "</tr>\n",
       "<tr>\n",
       "  <th>LTV</th>         <td>   -0.2049</td> <td>    0.004</td> <td>  -53.004</td> <td> 0.000</td> <td>   -0.213</td> <td>   -0.197</td>\n",
       "</tr>\n",
       "</table>\n",
       "<table class=\"simpletable\">\n",
       "<tr>\n",
       "  <th>Omnibus:</th>       <td>1594.053</td> <th>  Durbin-Watson:     </th> <td>   1.861</td>\n",
       "</tr>\n",
       "<tr>\n",
       "  <th>Prob(Omnibus):</th>  <td> 0.000</td>  <th>  Jarque-Bera (JB):  </th> <td>1684.312</td>\n",
       "</tr>\n",
       "<tr>\n",
       "  <th>Skew:</th>           <td>-0.343</td>  <th>  Prob(JB):          </th> <td>    0.00</td>\n",
       "</tr>\n",
       "<tr>\n",
       "  <th>Kurtosis:</th>       <td> 3.060</td>  <th>  Cond. No.          </th> <td>    22.7</td>\n",
       "</tr>\n",
       "</table><br/><br/>Notes:<br/>[1] Standard Errors assume that the covariance matrix of the errors is correctly specified."
      ],
      "text/latex": [
       "\\begin{center}\n",
       "\\begin{tabular}{lclc}\n",
       "\\toprule\n",
       "\\textbf{Dep. Variable:}    &     물건금액(만원)     & \\textbf{  R-squared:         } &     0.543   \\\\\n",
       "\\textbf{Model:}            &       OLS        & \\textbf{  Adj. R-squared:    } &     0.543   \\\\\n",
       "\\textbf{Method:}           &  Least Squares   & \\textbf{  F-statistic:       } & 1.268e+04   \\\\\n",
       "\\textbf{Date:}             & Thu, 29 Jun 2023 & \\textbf{  Prob (F-statistic):} &     0.00    \\\\\n",
       "\\textbf{Time:}             &     16:48:35     & \\textbf{  Log-Likelihood:    } &    31549.   \\\\\n",
       "\\textbf{No. Observations:} &       85340      & \\textbf{  AIC:               } & -6.308e+04  \\\\\n",
       "\\textbf{Df Residuals:}     &       85331      & \\textbf{  BIC:               } & -6.300e+04  \\\\\n",
       "\\textbf{Df Model:}         &           8      & \\textbf{                     } &             \\\\\n",
       "\\textbf{Covariance Type:}  &    nonrobust     & \\textbf{                     } &             \\\\\n",
       "\\bottomrule\n",
       "\\end{tabular}\n",
       "\\begin{tabular}{lcccccc}\n",
       "                     & \\textbf{coef} & \\textbf{std err} & \\textbf{t} & \\textbf{P$> |$t$|$} & \\textbf{[0.025} & \\textbf{0.975]}  \\\\\n",
       "\\midrule\n",
       "\\textbf{const}       &       4.7330  &        0.006     &   851.548  &         0.000        &        4.722    &        4.744     \\\\\n",
       "\\textbf{건물면적(㎡)}     &       1.5365  &        0.006     &   255.375  &         0.000        &        1.525    &        1.548     \\\\\n",
       "\\textbf{층}           &       0.2946  &        0.006     &    49.646  &         0.000        &        0.283    &        0.306     \\\\\n",
       "\\textbf{Fed기준금리}     &      -0.0502  &        0.003     &   -17.462  &         0.000        &       -0.056    &       -0.045     \\\\\n",
       "\\textbf{건물연식}        &       0.1313  &        0.003     &    48.182  &         0.000        &        0.126    &        0.137     \\\\\n",
       "\\textbf{GDP대비가계부채비율} &       0.0558  &        0.005     &    10.343  &         0.000        &        0.045    &        0.066     \\\\\n",
       "\\textbf{EPU}         &      -0.0152  &        0.003     &    -4.437  &         0.000        &       -0.022    &       -0.008     \\\\\n",
       "\\textbf{장단기금리spread} &       0.0233  &        0.003     &     7.848  &         0.000        &        0.017    &        0.029     \\\\\n",
       "\\textbf{LTV}         &      -0.2049  &        0.004     &   -53.004  &         0.000        &       -0.213    &       -0.197     \\\\\n",
       "\\bottomrule\n",
       "\\end{tabular}\n",
       "\\begin{tabular}{lclc}\n",
       "\\textbf{Omnibus:}       & 1594.053 & \\textbf{  Durbin-Watson:     } &    1.861  \\\\\n",
       "\\textbf{Prob(Omnibus):} &   0.000  & \\textbf{  Jarque-Bera (JB):  } & 1684.312  \\\\\n",
       "\\textbf{Skew:}          &  -0.343  & \\textbf{  Prob(JB):          } &     0.00  \\\\\n",
       "\\textbf{Kurtosis:}      &   3.060  & \\textbf{  Cond. No.          } &     22.7  \\\\\n",
       "\\bottomrule\n",
       "\\end{tabular}\n",
       "%\\caption{OLS Regression Results}\n",
       "\\end{center}\n",
       "\n",
       "Notes: \\newline\n",
       " [1] Standard Errors assume that the covariance matrix of the errors is correctly specified."
      ],
      "text/plain": [
       "<class 'statsmodels.iolib.summary.Summary'>\n",
       "\"\"\"\n",
       "                            OLS Regression Results                            \n",
       "==============================================================================\n",
       "Dep. Variable:               물건금액(만원)   R-squared:                       0.543\n",
       "Model:                            OLS   Adj. R-squared:                  0.543\n",
       "Method:                 Least Squares   F-statistic:                 1.268e+04\n",
       "Date:                Thu, 29 Jun 2023   Prob (F-statistic):               0.00\n",
       "Time:                        16:48:35   Log-Likelihood:                 31549.\n",
       "No. Observations:               85340   AIC:                        -6.308e+04\n",
       "Df Residuals:                   85331   BIC:                        -6.300e+04\n",
       "Df Model:                           8                                         \n",
       "Covariance Type:            nonrobust                                         \n",
       "===============================================================================\n",
       "                  coef    std err          t      P>|t|      [0.025      0.975]\n",
       "-------------------------------------------------------------------------------\n",
       "const           4.7330      0.006    851.548      0.000       4.722       4.744\n",
       "건물면적(㎡)         1.5365      0.006    255.375      0.000       1.525       1.548\n",
       "층               0.2946      0.006     49.646      0.000       0.283       0.306\n",
       "Fed기준금리        -0.0502      0.003    -17.462      0.000      -0.056      -0.045\n",
       "건물연식            0.1313      0.003     48.182      0.000       0.126       0.137\n",
       "GDP대비가계부채비율     0.0558      0.005     10.343      0.000       0.045       0.066\n",
       "EPU            -0.0152      0.003     -4.437      0.000      -0.022      -0.008\n",
       "장단기금리spread     0.0233      0.003      7.848      0.000       0.017       0.029\n",
       "LTV            -0.2049      0.004    -53.004      0.000      -0.213      -0.197\n",
       "==============================================================================\n",
       "Omnibus:                     1594.053   Durbin-Watson:                   1.861\n",
       "Prob(Omnibus):                  0.000   Jarque-Bera (JB):             1684.312\n",
       "Skew:                          -0.343   Prob(JB):                         0.00\n",
       "Kurtosis:                       3.060   Cond. No.                         22.7\n",
       "==============================================================================\n",
       "\n",
       "Notes:\n",
       "[1] Standard Errors assume that the covariance matrix of the errors is correctly specified.\n",
       "\"\"\""
      ]
     },
     "execution_count": 10,
     "metadata": {},
     "output_type": "execute_result"
    }
   ],
   "source": [
    "# OLS_1\n",
    "# 스케일링 후 predict\n",
    "import statsmodels.api as sm\n",
    "\n",
    "feature_add = sm.add_constant(X_scaled, has_constant='add')\n",
    "\n",
    "# sm OLS 적합\n",
    "model = sm.OLS(y_scaled , feature_add)\n",
    "fitted_model = model.fit()\n",
    "\n",
    "# summary 함수통해 결과출력\n",
    "fitted_model.summary()"
   ]
  },
  {
   "cell_type": "code",
   "execution_count": 11,
   "metadata": {},
   "outputs": [],
   "source": [
    "from statsmodels.stats.outliers_influence import variance_inflation_factor\n",
    "\n",
    "def feature_engineering_XbyVIF(X_scaled):\n",
    "    vif = pd.DataFrame()\n",
    "    vif[\"VIF_Factor\"] = [variance_inflation_factor(X_scaled.values,i)\n",
    "                         for i in range(X_scaled.shape[1])]\n",
    "    vif[\"Feature\"] = X_scaled.columns\n",
    "    return vif"
   ]
  },
  {
   "cell_type": "code",
   "execution_count": 12,
   "metadata": {},
   "outputs": [
    {
     "name": "stdout",
     "output_type": "stream",
     "text": [
      "   VIF_Factor      Feature\n",
      "0    4.885777      건물면적(㎡)\n",
      "1    3.760906            층\n",
      "2    3.312640      Fed기준금리\n",
      "3    4.220635         건물연식\n",
      "4    6.548296  GDP대비가계부채비율\n",
      "5    3.604887          EPU\n",
      "6    8.794908  장단기금리spread\n",
      "7    6.941475          LTV\n"
     ]
    }
   ],
   "source": [
    "vif = feature_engineering_XbyVIF(X_scaled)\n",
    "print(vif)"
   ]
  },
  {
   "cell_type": "code",
   "execution_count": 13,
   "metadata": {},
   "outputs": [
    {
     "name": "stdout",
     "output_type": "stream",
     "text": [
      "Average Cross-Validated RMSE: 0.175\n",
      "교차검증별 MSE : [0.0237 0.0262 0.0333 0.0364 0.0348]\n",
      "교차검증 평균 MSE : 0.03089\n"
     ]
    }
   ],
   "source": [
    "# 교차 검증 수행\n",
    "from sklearn.metrics import mean_absolute_error\n",
    "from sklearn.linear_model import LinearRegression\n",
    "from sklearn.model_selection import cross_val_score\n",
    "\n",
    "mlr = LinearRegression()\n",
    "\n",
    "cross_val_scores = cross_val_score(mlr, X_scaled, y_scaled, scoring='neg_mean_squared_error', cv=5)\n",
    "cross_val_rmse_scores = np.sqrt(-cross_val_scores)\n",
    "avg_cross_val_rmse = np.mean(cross_val_rmse_scores)\n",
    "print('Average Cross-Validated RMSE: {:.3f}'.format(avg_cross_val_rmse))\n",
    "print(f'교차검증별 MSE : {np.round(-cross_val_scores,4)}')\n",
    "print(f'교차검증 평균 MSE : {np.round(np.mean(-cross_val_scores),5)}')"
   ]
  },
  {
   "cell_type": "code",
   "execution_count": 14,
   "metadata": {},
   "outputs": [
    {
     "data": {
      "text/plain": [
       "Index(['건물면적(㎡)', '층', 'Fed기준금리', '건물연식', 'GDP대비가계부채비율', 'EPU', '장단기금리spread',\n",
       "       'LTV'],\n",
       "      dtype='object')"
      ]
     },
     "execution_count": 14,
     "metadata": {},
     "output_type": "execute_result"
    }
   ],
   "source": [
    "X_scaled.columns"
   ]
  },
  {
   "cell_type": "code",
   "execution_count": 15,
   "metadata": {},
   "outputs": [],
   "source": [
    "X_test_scaled=X_test_scaled[X_scaled.columns]"
   ]
  },
  {
   "cell_type": "code",
   "execution_count": 16,
   "metadata": {},
   "outputs": [
    {
     "name": "stdout",
     "output_type": "stream",
     "text": [
      "MSE : 0.044485853306363426, RMSE :  0.211, MAE: 0.211\n",
      "Variance score :  0.648\n",
      "\n",
      "\n",
      "MSE : 0.042198613687422726, RMSE :  0.205, MAE: 0.205\n",
      "Variance score :  0.666\n",
      "\n",
      "\n",
      "MSE : 0.04080836736098546, RMSE :  0.202, MAE: 0.202\n",
      "Variance score :  0.677\n",
      "\n",
      "\n",
      "MSE : 0.04167805359437713, RMSE :  0.204, MAE: 0.204\n",
      "Variance score :  0.670\n",
      "\n",
      "\n",
      "MSE : 0.06256815931853685, RMSE :  0.250, MAE: 0.250\n",
      "Variance score :  0.505\n",
      "\n",
      "\n"
     ]
    }
   ],
   "source": [
    "from sklearn.metrics import mean_squared_error, r2_score\n",
    "from sklearn.model_selection import cross_validate\n",
    "mlr = LinearRegression()\n",
    "# 모델을 훈련하고 교차 검증을 수행\n",
    "cv_results = cross_validate(mlr, X_scaled, y_scaled, cv=5, return_estimator=True)\n",
    "\n",
    "# 교차 검증 결과에서 각 폴드에서 훈련된 모델을 가져옴\n",
    "trained_models = cv_results['estimator']\n",
    "# 각 폴드에서 훈련된 모델을 테스트 데이터에 적용\n",
    "for model in trained_models:\n",
    "    y_pred = model.predict(X_test_scaled)\n",
    "    # 예측 결과를 활용하여 원하는 작업을 수행\n",
    "    mse = mean_squared_error(y_test_scaled, y_pred)\n",
    "    rmse = np.sqrt(mse)\n",
    "    mae = mean_absolute_error(y_test_scaled,y_pred)\n",
    "    print('MSE : {0:}, RMSE : {1: .3f}, MAE:{1: .3f}'.format(mse, rmse, mae))\n",
    "    print('Variance score : {0: .3f}'.format(r2_score(y_test_scaled, y_pred)))\n",
    "    print('\\n')"
   ]
  },
  {
   "cell_type": "code",
   "execution_count": 17,
   "metadata": {},
   "outputs": [
    {
     "name": "stdout",
     "output_type": "stream",
     "text": [
      "MSE : 0.04080836736098546, RMSE :  0.202, MAE: 0.202\n",
      "Variance score :  0.677\n"
     ]
    }
   ],
   "source": [
    "from sklearn.model_selection import cross_validate\n",
    "\n",
    "y_pred = trained_models[2].predict(X_test_scaled)\n",
    "\n",
    "mse = mean_squared_error(y_test_scaled, y_pred)\n",
    "rmse = np.sqrt(mse)\n",
    "mae = mean_absolute_error(y_test_scaled,y_pred)\n",
    "\n",
    "print('MSE : {0:}, RMSE : {1: .3f}, MAE:{1: .3f}'.format(mse, rmse, mae))\n",
    "print('Variance score : {0: .3f}'.format(r2_score(y_test_scaled, y_pred)))"
   ]
  },
  {
   "cell_type": "code",
   "execution_count": 18,
   "metadata": {},
   "outputs": [
    {
     "data": {
      "text/html": [
       "<div>\n",
       "<style scoped>\n",
       "    .dataframe tbody tr th:only-of-type {\n",
       "        vertical-align: middle;\n",
       "    }\n",
       "\n",
       "    .dataframe tbody tr th {\n",
       "        vertical-align: top;\n",
       "    }\n",
       "\n",
       "    .dataframe thead th {\n",
       "        text-align: right;\n",
       "    }\n",
       "</style>\n",
       "<table border=\"1\" class=\"dataframe\">\n",
       "  <thead>\n",
       "    <tr style=\"text-align: right;\">\n",
       "      <th></th>\n",
       "      <th>features</th>\n",
       "      <th>coefficient</th>\n",
       "    </tr>\n",
       "  </thead>\n",
       "  <tbody>\n",
       "    <tr>\n",
       "      <th>0</th>\n",
       "      <td>건물면적(㎡)</td>\n",
       "      <td>1.517029</td>\n",
       "    </tr>\n",
       "    <tr>\n",
       "      <th>1</th>\n",
       "      <td>층</td>\n",
       "      <td>0.291470</td>\n",
       "    </tr>\n",
       "    <tr>\n",
       "      <th>3</th>\n",
       "      <td>건물연식</td>\n",
       "      <td>0.123279</td>\n",
       "    </tr>\n",
       "    <tr>\n",
       "      <th>6</th>\n",
       "      <td>장단기금리spread</td>\n",
       "      <td>0.108617</td>\n",
       "    </tr>\n",
       "    <tr>\n",
       "      <th>5</th>\n",
       "      <td>EPU</td>\n",
       "      <td>-0.030476</td>\n",
       "    </tr>\n",
       "    <tr>\n",
       "      <th>4</th>\n",
       "      <td>GDP대비가계부채비율</td>\n",
       "      <td>-0.051326</td>\n",
       "    </tr>\n",
       "    <tr>\n",
       "      <th>2</th>\n",
       "      <td>Fed기준금리</td>\n",
       "      <td>-0.070034</td>\n",
       "    </tr>\n",
       "    <tr>\n",
       "      <th>7</th>\n",
       "      <td>LTV</td>\n",
       "      <td>-0.277255</td>\n",
       "    </tr>\n",
       "  </tbody>\n",
       "</table>\n",
       "</div>"
      ],
      "text/plain": [
       "      features  coefficient\n",
       "0      건물면적(㎡)     1.517029\n",
       "1            층     0.291470\n",
       "3         건물연식     0.123279\n",
       "6  장단기금리spread     0.108617\n",
       "5          EPU    -0.030476\n",
       "4  GDP대비가계부채비율    -0.051326\n",
       "2      Fed기준금리    -0.070034\n",
       "7          LTV    -0.277255"
      ]
     },
     "execution_count": 18,
     "metadata": {},
     "output_type": "execute_result"
    }
   ],
   "source": [
    "# test 계수 결과 DF \n",
    "\n",
    "test_result = pd.DataFrame(data= X_test_scaled.columns)\n",
    "test_result.columns = ['features']\n",
    "\n",
    "test_result['coefficient'] = trained_models[2].coef_\n",
    "\n",
    "test_result.sort_values('coefficient', ascending=False)"
   ]
  },
  {
   "cell_type": "code",
   "execution_count": 19,
   "metadata": {},
   "outputs": [],
   "source": [
    "from sklearn.ensemble import RandomForestRegressor\n",
    "from sklearn.model_selection import cross_val_score\n",
    "from sklearn.model_selection import GridSearchCV"
   ]
  },
  {
   "cell_type": "code",
   "execution_count": 20,
   "metadata": {},
   "outputs": [],
   "source": [
    "X_train = train_df.iloc[ :, 2 : -1]  \n",
    "y_train = train_df.iloc[ :, -1]"
   ]
  },
  {
   "cell_type": "code",
   "execution_count": 21,
   "metadata": {},
   "outputs": [],
   "source": [
    "scaler = MinMaxScaler()\n",
    "X_train = scaler.fit_transform(X_train)\n",
    "y_train = np.log10(y_train)"
   ]
  },
  {
   "attachments": {},
   "cell_type": "markdown",
   "metadata": {},
   "source": [
    "# RandomForest"
   ]
  },
  {
   "cell_type": "code",
   "execution_count": 22,
   "metadata": {},
   "outputs": [
    {
     "name": "stdout",
     "output_type": "stream",
     "text": [
      "Test set MSE: 0.01898541091381989\n",
      "Test set RMSE: 0.13778755718068264\n",
      "Test set r2_score : 0.8498279416077112\n"
     ]
    }
   ],
   "source": [
    "# 랜덤 포레스트 회귀 모델 초기화\n",
    "model = RandomForestRegressor(random_state =1 , n_jobs = -1)\n",
    "\n",
    "# 모델 학습\n",
    "model.fit(X_train, y_train)\n",
    "\n",
    "\n",
    "# Test set에 모델 적용 및 예측 평가\n",
    "X_test = test_df.iloc[ :, 2 : -1]  # target_column은 예측하고자 하는 종속 변수 컬럼명\n",
    "y_test = test_df.iloc[ :, -1]\n",
    "X_test_scaled = scaler.transform(X_test)\n",
    "y_test_scaled = np.log10(y_test)\n",
    "test_predictions = model.predict(X_test_scaled)\n",
    "test_mse = mean_squared_error(y_test_scaled, test_predictions)\n",
    "print(\"Test set MSE:\", test_mse)\n",
    "print(\"Test set RMSE:\", np.sqrt(test_mse))\n",
    "print('Test set r2_score :', model.score(X_test_scaled, y_test_scaled))"
   ]
  },
  {
   "cell_type": "code",
   "execution_count": 23,
   "metadata": {},
   "outputs": [
    {
     "data": {
      "image/png": "[encoded data removed]",
      "text/plain": [
       "<Figure size 576x432 with 1 Axes>"
      ]
     },
     "metadata": {
      "needs_background": "light"
     },
     "output_type": "display_data"
    }
   ],
   "source": [
    "# test_df\n",
    "importance = model.feature_importances_\n",
    "# 상위 20개 변수 추출\n",
    "top_features = pd.Series(importance, index=test_df.iloc[:,2:-1].columns).nlargest(20)\n",
    "top = top_features.sort_values(ascending=False)[:20]\n",
    "# 변수 중요도 시각화\n",
    "plt.figure(figsize=(8, 6))\n",
    "sns.barplot(x=top, y=top.index)\n",
    "plt.show()"
   ]
  },
  {
   "attachments": {},
   "cell_type": "markdown",
   "metadata": {},
   "source": [
    "# DecisionTree"
   ]
  },
  {
   "cell_type": "code",
   "execution_count": 24,
   "metadata": {},
   "outputs": [
    {
     "name": "stdout",
     "output_type": "stream",
     "text": [
      "Test set MSE: 0.02761920147491072\n",
      "Test set RMSE: 0.1661902568591514\n",
      "Test set r2_score : 0.7815358142383143\n"
     ]
    }
   ],
   "source": [
    "# 랜덤 포레스트 회귀 모델 초기화\n",
    "model = DecisionTreeRegressor(random_state =1)\n",
    "\n",
    "# 모델 학습\n",
    "model.fit(X_train, y_train)\n",
    "\n",
    "# Test set에 모델 적용 및 예측 평가\n",
    "X_test = test_df.iloc[ :, 2 : -1]  # target_column은 예측하고자 하는 종속 변수 컬럼명\n",
    "y_test = test_df.iloc[ :, -1]\n",
    "X_test_scaled = scaler.transform(X_test)\n",
    "y_test_scaled = np.log10(y_test)\n",
    "test_predictions = model.predict(X_test_scaled)\n",
    "test_mse = mean_squared_error(y_test_scaled, test_predictions)\n",
    "print(\"Test set MSE:\", test_mse)\n",
    "print(\"Test set RMSE:\", np.sqrt(test_mse))\n",
    "print('Test set r2_score :', model.score(X_test_scaled, y_test_scaled))"
   ]
  },
  {
   "cell_type": "code",
   "execution_count": 25,
   "metadata": {},
   "outputs": [
    {
     "data": {
      "image/png": "[encoded data removed]",
      "text/plain": [
       "<Figure size 576x432 with 1 Axes>"
      ]
     },
     "metadata": {
      "needs_background": "light"
     },
     "output_type": "display_data"
    }
   ],
   "source": [
    "# test_df\n",
    "importance = model.feature_importances_\n",
    "# 상위 20개 변수 추출\n",
    "top_features = pd.Series(importance, index=test_df.iloc[:,2:-1].columns).nlargest(20)\n",
    "top = top_features.sort_values(ascending=False)[:20]\n",
    "# 변수 중요도 시각화\n",
    "plt.figure(figsize=(8, 6))\n",
    "sns.barplot(x=top, y=top.index)\n",
    "plt.show()"
   ]
  },
  {
   "attachments": {},
   "cell_type": "markdown",
   "metadata": {},
   "source": [
    "# XGBoost"
   ]
  },
  {
   "cell_type": "code",
   "execution_count": 26,
   "metadata": {},
   "outputs": [
    {
     "name": "stdout",
     "output_type": "stream",
     "text": [
      "Test set MSE: 0.01537580189981207\n",
      "Test set RMSE: 0.12399920120634676\n",
      "Test set r2_score : 0.8783794656218865\n"
     ]
    }
   ],
   "source": [
    "import xgboost as xgb\n",
    "# 랜덤 포레스트 회귀 모델 초기화\n",
    "model = xgb.XGBRegressor(random_state =1)\n",
    "\n",
    "# 모델 학습\n",
    "model.fit(X_train, y_train)\n",
    "\n",
    "# Test set에 모델 적용 및 예측 평가\n",
    "X_test = test_df.iloc[ :, 2 : -1]  # target_column은 예측하고자 하는 종속 변수 컬럼명\n",
    "y_test = test_df.iloc[ :, -1]\n",
    "X_test_scaled = scaler.transform(X_test)\n",
    "y_test_scaled = np.log10(y_test)\n",
    "test_predictions = model.predict(X_test_scaled)\n",
    "test_mse = mean_squared_error(y_test_scaled, test_predictions)\n",
    "print(\"Test set MSE:\", test_mse)\n",
    "print(\"Test set RMSE:\", np.sqrt(test_mse))\n",
    "print('Test set r2_score :', model.score(X_test_scaled, y_test_scaled))"
   ]
  },
  {
   "cell_type": "code",
   "execution_count": 27,
   "metadata": {},
   "outputs": [
    {
     "data": {
      "image/png": "[encoded data removed]",
      "text/plain": [
       "<Figure size 576x432 with 1 Axes>"
      ]
     },
     "metadata": {
      "needs_background": "light"
     },
     "output_type": "display_data"
    }
   ],
   "source": [
    "# test_df\n",
    "importance = model.feature_importances_\n",
    "# 상위 20개 변수 추출\n",
    "top_features = pd.Series(importance, index=test_df.iloc[:,2:-1].columns).nlargest(20)\n",
    "top = top_features.sort_values(ascending=False)[:20]\n",
    "# 변수 중요도 시각화\n",
    "plt.figure(figsize=(8, 6))\n",
    "sns.barplot(x=top, y=top.index)\n",
    "plt.show()"
   ]
  },
  {
   "cell_type": "code",
   "execution_count": null,
   "metadata": {},
   "outputs": [],
   "source": []
  }
 ],
 "metadata": {
  "kernelspec": {
   "display_name": "base",
   "language": "python",
   "name": "python3"
  },
  "language_info": {
   "codemirror_mode": {
    "name": "ipython",
    "version": 3
   },
   "file_extension": ".py",
   "mimetype": "text/x-python",
   "name": "python",
   "nbconvert_exporter": "python",
   "pygments_lexer": "ipython3",
   "version": "3.8.8"
  },
  "orig_nbformat": 4
 },
 "nbformat": 4,
 "nbformat_minor": 2
}
