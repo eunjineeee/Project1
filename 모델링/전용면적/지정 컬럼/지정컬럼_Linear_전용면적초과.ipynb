{
 "cells": [
  {
   "cell_type": "code",
   "execution_count": 1,
   "id": "2eb44b6d",
   "metadata": {},
   "outputs": [],
   "source": [
    "import pandas as pd\n",
    "import numpy as np\n",
    "import matplotlib.pyplot as plt\n",
    "import seaborn as sns"
   ]
  },
  {
   "attachments": {},
   "cell_type": "markdown",
   "id": "2c3c05a6",
   "metadata": {},
   "source": [
    "\n",
    "\n",
    "\n",
    "\n",
    "\n",
    "\n",
    "\n",
    "# DF 불러오기"
   ]
  },
  {
   "cell_type": "code",
   "execution_count": 2,
   "id": "d2178a1a",
   "metadata": {},
   "outputs": [
    {
     "data": {
      "text/html": [
       "<div>\n",
       "<style scoped>\n",
       "    .dataframe tbody tr th:only-of-type {\n",
       "        vertical-align: middle;\n",
       "    }\n",
       "\n",
       "    .dataframe tbody tr th {\n",
       "        vertical-align: top;\n",
       "    }\n",
       "\n",
       "    .dataframe thead th {\n",
       "        text-align: right;\n",
       "    }\n",
       "</style>\n",
       "<table border=\"1\" class=\"dataframe\">\n",
       "  <thead>\n",
       "    <tr style=\"text-align: right;\">\n",
       "      <th></th>\n",
       "      <th>자치구</th>\n",
       "      <th>계약일</th>\n",
       "      <th>건물면적(㎡)</th>\n",
       "      <th>층</th>\n",
       "      <th>KOSPI종가</th>\n",
       "      <th>Fed기준금리</th>\n",
       "      <th>국제유가(Dubai)($/배럴)</th>\n",
       "      <th>부동산거래량</th>\n",
       "      <th>국고채5년(평균)</th>\n",
       "      <th>국고채10년(평균)</th>\n",
       "      <th>...</th>\n",
       "      <th>BOK기준금리</th>\n",
       "      <th>건물연식</th>\n",
       "      <th>GDP대비가계부채비율</th>\n",
       "      <th>환율종가</th>\n",
       "      <th>선행지수순환변동치</th>\n",
       "      <th>EPU</th>\n",
       "      <th>장단기금리spread</th>\n",
       "      <th>금값종가</th>\n",
       "      <th>LTV</th>\n",
       "      <th>물건금액(만원)</th>\n",
       "    </tr>\n",
       "  </thead>\n",
       "  <tbody>\n",
       "    <tr>\n",
       "      <th>0</th>\n",
       "      <td>은평구</td>\n",
       "      <td>2016-01-01</td>\n",
       "      <td>101.97</td>\n",
       "      <td>9</td>\n",
       "      <td>1961.310059</td>\n",
       "      <td>0.34</td>\n",
       "      <td>26.9</td>\n",
       "      <td>9894</td>\n",
       "      <td>1.77</td>\n",
       "      <td>2.03</td>\n",
       "      <td>...</td>\n",
       "      <td>1.50</td>\n",
       "      <td>6</td>\n",
       "      <td>83.3</td>\n",
       "      <td>1175.45</td>\n",
       "      <td>99.6</td>\n",
       "      <td>177.148845</td>\n",
       "      <td>0.14</td>\n",
       "      <td>1060.74</td>\n",
       "      <td>0.7</td>\n",
       "      <td>67600</td>\n",
       "    </tr>\n",
       "    <tr>\n",
       "      <th>1</th>\n",
       "      <td>관악구</td>\n",
       "      <td>2016-01-01</td>\n",
       "      <td>105.36</td>\n",
       "      <td>1</td>\n",
       "      <td>1961.310059</td>\n",
       "      <td>0.34</td>\n",
       "      <td>26.9</td>\n",
       "      <td>9894</td>\n",
       "      <td>1.77</td>\n",
       "      <td>2.03</td>\n",
       "      <td>...</td>\n",
       "      <td>1.50</td>\n",
       "      <td>23</td>\n",
       "      <td>83.3</td>\n",
       "      <td>1175.45</td>\n",
       "      <td>99.6</td>\n",
       "      <td>177.148845</td>\n",
       "      <td>0.14</td>\n",
       "      <td>1060.74</td>\n",
       "      <td>0.7</td>\n",
       "      <td>37300</td>\n",
       "    </tr>\n",
       "    <tr>\n",
       "      <th>2</th>\n",
       "      <td>동작구</td>\n",
       "      <td>2016-01-01</td>\n",
       "      <td>109.70</td>\n",
       "      <td>9</td>\n",
       "      <td>1961.310059</td>\n",
       "      <td>0.34</td>\n",
       "      <td>26.9</td>\n",
       "      <td>9894</td>\n",
       "      <td>1.77</td>\n",
       "      <td>2.03</td>\n",
       "      <td>...</td>\n",
       "      <td>1.50</td>\n",
       "      <td>13</td>\n",
       "      <td>83.3</td>\n",
       "      <td>1175.45</td>\n",
       "      <td>99.6</td>\n",
       "      <td>177.148845</td>\n",
       "      <td>0.14</td>\n",
       "      <td>1060.74</td>\n",
       "      <td>0.7</td>\n",
       "      <td>49000</td>\n",
       "    </tr>\n",
       "    <tr>\n",
       "      <th>3</th>\n",
       "      <td>은평구</td>\n",
       "      <td>2016-01-01</td>\n",
       "      <td>134.87</td>\n",
       "      <td>3</td>\n",
       "      <td>1961.310059</td>\n",
       "      <td>0.34</td>\n",
       "      <td>26.9</td>\n",
       "      <td>9894</td>\n",
       "      <td>1.77</td>\n",
       "      <td>2.03</td>\n",
       "      <td>...</td>\n",
       "      <td>1.50</td>\n",
       "      <td>6</td>\n",
       "      <td>83.3</td>\n",
       "      <td>1175.45</td>\n",
       "      <td>99.6</td>\n",
       "      <td>177.148845</td>\n",
       "      <td>0.14</td>\n",
       "      <td>1060.74</td>\n",
       "      <td>0.7</td>\n",
       "      <td>74000</td>\n",
       "    </tr>\n",
       "    <tr>\n",
       "      <th>4</th>\n",
       "      <td>서초구</td>\n",
       "      <td>2016-01-01</td>\n",
       "      <td>134.36</td>\n",
       "      <td>12</td>\n",
       "      <td>1961.310059</td>\n",
       "      <td>0.34</td>\n",
       "      <td>26.9</td>\n",
       "      <td>9894</td>\n",
       "      <td>1.77</td>\n",
       "      <td>2.03</td>\n",
       "      <td>...</td>\n",
       "      <td>1.50</td>\n",
       "      <td>11</td>\n",
       "      <td>83.3</td>\n",
       "      <td>1175.45</td>\n",
       "      <td>99.6</td>\n",
       "      <td>177.148845</td>\n",
       "      <td>0.14</td>\n",
       "      <td>1060.74</td>\n",
       "      <td>0.7</td>\n",
       "      <td>94000</td>\n",
       "    </tr>\n",
       "    <tr>\n",
       "      <th>...</th>\n",
       "      <td>...</td>\n",
       "      <td>...</td>\n",
       "      <td>...</td>\n",
       "      <td>...</td>\n",
       "      <td>...</td>\n",
       "      <td>...</td>\n",
       "      <td>...</td>\n",
       "      <td>...</td>\n",
       "      <td>...</td>\n",
       "      <td>...</td>\n",
       "      <td>...</td>\n",
       "      <td>...</td>\n",
       "      <td>...</td>\n",
       "      <td>...</td>\n",
       "      <td>...</td>\n",
       "      <td>...</td>\n",
       "      <td>...</td>\n",
       "      <td>...</td>\n",
       "      <td>...</td>\n",
       "      <td>...</td>\n",
       "      <td>...</td>\n",
       "    </tr>\n",
       "    <tr>\n",
       "      <th>100076</th>\n",
       "      <td>성동구</td>\n",
       "      <td>2022-12-30</td>\n",
       "      <td>148.23</td>\n",
       "      <td>12</td>\n",
       "      <td>2236.399902</td>\n",
       "      <td>4.10</td>\n",
       "      <td>77.2</td>\n",
       "      <td>3698</td>\n",
       "      <td>3.59</td>\n",
       "      <td>3.54</td>\n",
       "      <td>...</td>\n",
       "      <td>3.25</td>\n",
       "      <td>36</td>\n",
       "      <td>105.0</td>\n",
       "      <td>1260.92</td>\n",
       "      <td>99.1</td>\n",
       "      <td>169.662386</td>\n",
       "      <td>0.39</td>\n",
       "      <td>1824.40</td>\n",
       "      <td>0.0</td>\n",
       "      <td>180000</td>\n",
       "    </tr>\n",
       "    <tr>\n",
       "      <th>100077</th>\n",
       "      <td>용산구</td>\n",
       "      <td>2022-12-30</td>\n",
       "      <td>114.60</td>\n",
       "      <td>15</td>\n",
       "      <td>2236.399902</td>\n",
       "      <td>4.10</td>\n",
       "      <td>77.2</td>\n",
       "      <td>3698</td>\n",
       "      <td>3.59</td>\n",
       "      <td>3.54</td>\n",
       "      <td>...</td>\n",
       "      <td>3.25</td>\n",
       "      <td>24</td>\n",
       "      <td>105.0</td>\n",
       "      <td>1260.92</td>\n",
       "      <td>99.1</td>\n",
       "      <td>169.662386</td>\n",
       "      <td>0.39</td>\n",
       "      <td>1824.40</td>\n",
       "      <td>0.0</td>\n",
       "      <td>215000</td>\n",
       "    </tr>\n",
       "    <tr>\n",
       "      <th>100078</th>\n",
       "      <td>강남구</td>\n",
       "      <td>2022-12-30</td>\n",
       "      <td>144.20</td>\n",
       "      <td>8</td>\n",
       "      <td>2236.399902</td>\n",
       "      <td>4.10</td>\n",
       "      <td>77.2</td>\n",
       "      <td>3698</td>\n",
       "      <td>3.59</td>\n",
       "      <td>3.54</td>\n",
       "      <td>...</td>\n",
       "      <td>3.25</td>\n",
       "      <td>44</td>\n",
       "      <td>105.0</td>\n",
       "      <td>1260.92</td>\n",
       "      <td>99.1</td>\n",
       "      <td>169.662386</td>\n",
       "      <td>0.39</td>\n",
       "      <td>1824.40</td>\n",
       "      <td>0.0</td>\n",
       "      <td>430000</td>\n",
       "    </tr>\n",
       "    <tr>\n",
       "      <th>100079</th>\n",
       "      <td>송파구</td>\n",
       "      <td>2022-12-31</td>\n",
       "      <td>100.82</td>\n",
       "      <td>1</td>\n",
       "      <td>2236.399902</td>\n",
       "      <td>4.10</td>\n",
       "      <td>77.2</td>\n",
       "      <td>3698</td>\n",
       "      <td>3.59</td>\n",
       "      <td>3.54</td>\n",
       "      <td>...</td>\n",
       "      <td>3.25</td>\n",
       "      <td>34</td>\n",
       "      <td>105.0</td>\n",
       "      <td>1260.92</td>\n",
       "      <td>99.1</td>\n",
       "      <td>169.662386</td>\n",
       "      <td>0.39</td>\n",
       "      <td>1824.40</td>\n",
       "      <td>0.0</td>\n",
       "      <td>185000</td>\n",
       "    </tr>\n",
       "    <tr>\n",
       "      <th>100080</th>\n",
       "      <td>서초구</td>\n",
       "      <td>2022-12-31</td>\n",
       "      <td>152.33</td>\n",
       "      <td>9</td>\n",
       "      <td>2236.399902</td>\n",
       "      <td>4.10</td>\n",
       "      <td>77.2</td>\n",
       "      <td>3698</td>\n",
       "      <td>3.59</td>\n",
       "      <td>3.54</td>\n",
       "      <td>...</td>\n",
       "      <td>3.25</td>\n",
       "      <td>18</td>\n",
       "      <td>105.0</td>\n",
       "      <td>1260.92</td>\n",
       "      <td>99.1</td>\n",
       "      <td>169.662386</td>\n",
       "      <td>0.39</td>\n",
       "      <td>1824.40</td>\n",
       "      <td>0.0</td>\n",
       "      <td>250000</td>\n",
       "    </tr>\n",
       "  </tbody>\n",
       "</table>\n",
       "<p>100081 rows × 22 columns</p>\n",
       "</div>"
      ],
      "text/plain": [
       "        자치구         계약일  건물면적(㎡)   층      KOSPI종가  Fed기준금리  국제유가(Dubai)($/배럴)   \n",
       "0       은평구  2016-01-01   101.97   9  1961.310059     0.34               26.9  \\\n",
       "1       관악구  2016-01-01   105.36   1  1961.310059     0.34               26.9   \n",
       "2       동작구  2016-01-01   109.70   9  1961.310059     0.34               26.9   \n",
       "3       은평구  2016-01-01   134.87   3  1961.310059     0.34               26.9   \n",
       "4       서초구  2016-01-01   134.36  12  1961.310059     0.34               26.9   \n",
       "...     ...         ...      ...  ..          ...      ...                ...   \n",
       "100076  성동구  2022-12-30   148.23  12  2236.399902     4.10               77.2   \n",
       "100077  용산구  2022-12-30   114.60  15  2236.399902     4.10               77.2   \n",
       "100078  강남구  2022-12-30   144.20   8  2236.399902     4.10               77.2   \n",
       "100079  송파구  2022-12-31   100.82   1  2236.399902     4.10               77.2   \n",
       "100080  서초구  2022-12-31   152.33   9  2236.399902     4.10               77.2   \n",
       "\n",
       "        부동산거래량  국고채5년(평균)  국고채10년(평균)  ...  BOK기준금리  건물연식  GDP대비가계부채비율   \n",
       "0         9894       1.77        2.03  ...     1.50     6         83.3  \\\n",
       "1         9894       1.77        2.03  ...     1.50    23         83.3   \n",
       "2         9894       1.77        2.03  ...     1.50    13         83.3   \n",
       "3         9894       1.77        2.03  ...     1.50     6         83.3   \n",
       "4         9894       1.77        2.03  ...     1.50    11         83.3   \n",
       "...        ...        ...         ...  ...      ...   ...          ...   \n",
       "100076    3698       3.59        3.54  ...     3.25    36        105.0   \n",
       "100077    3698       3.59        3.54  ...     3.25    24        105.0   \n",
       "100078    3698       3.59        3.54  ...     3.25    44        105.0   \n",
       "100079    3698       3.59        3.54  ...     3.25    34        105.0   \n",
       "100080    3698       3.59        3.54  ...     3.25    18        105.0   \n",
       "\n",
       "           환율종가  선행지수순환변동치         EPU  장단기금리spread     금값종가  LTV  물건금액(만원)  \n",
       "0       1175.45       99.6  177.148845         0.14  1060.74  0.7     67600  \n",
       "1       1175.45       99.6  177.148845         0.14  1060.74  0.7     37300  \n",
       "2       1175.45       99.6  177.148845         0.14  1060.74  0.7     49000  \n",
       "3       1175.45       99.6  177.148845         0.14  1060.74  0.7     74000  \n",
       "4       1175.45       99.6  177.148845         0.14  1060.74  0.7     94000  \n",
       "...         ...        ...         ...          ...      ...  ...       ...  \n",
       "100076  1260.92       99.1  169.662386         0.39  1824.40  0.0    180000  \n",
       "100077  1260.92       99.1  169.662386         0.39  1824.40  0.0    215000  \n",
       "100078  1260.92       99.1  169.662386         0.39  1824.40  0.0    430000  \n",
       "100079  1260.92       99.1  169.662386         0.39  1824.40  0.0    185000  \n",
       "100080  1260.92       99.1  169.662386         0.39  1824.40  0.0    250000  \n",
       "\n",
       "[100081 rows x 22 columns]"
      ]
     },
     "execution_count": 2,
     "metadata": {},
     "output_type": "execute_result"
    }
   ],
   "source": [
    "df = pd.read_csv('./datasets/전용면적_85초과.csv')\n",
    "df"
   ]
  },
  {
   "cell_type": "code",
   "execution_count": 3,
   "id": "0ba119e1",
   "metadata": {},
   "outputs": [],
   "source": [
    "# 컬럼 선택\n",
    "df = df[['자치구','계약일','건물면적(㎡)', '층', 'Fed기준금리','건물연식', 'GDP대비가계부채비율','EPU', '장단기금리spread','LTV', '물건금액(만원)']]"
   ]
  },
  {
   "attachments": {},
   "cell_type": "markdown",
   "id": "a380a011",
   "metadata": {},
   "source": [
    "# Train/Test Split\n"
   ]
  },
  {
   "cell_type": "code",
   "execution_count": 4,
   "id": "b7ff05c2",
   "metadata": {},
   "outputs": [
    {
     "name": "stderr",
     "output_type": "stream",
     "text": [
      "C:\\Users\\이은진\\AppData\\Local\\Temp\\ipykernel_21356\\2269776461.py:4: SettingWithCopyWarning: \n",
      "A value is trying to be set on a copy of a slice from a DataFrame.\n",
      "Try using .loc[row_indexer,col_indexer] = value instead\n",
      "\n",
      "See the caveats in the documentation: https://pandas.pydata.org/pandas-docs/stable/user_guide/indexing.html#returning-a-view-versus-a-copy\n",
      "  df['계약일'] = pd.to_datetime(df['계약일'])\n"
     ]
    }
   ],
   "source": [
    "# Train : 2016-2020\n",
    "# Test : 2021-2022\n",
    "\n",
    "df['계약일'] = pd.to_datetime(df['계약일'])\n",
    "train_df = df.loc[df['계약일'] < '2021']\n",
    "test_df = df.loc[df['계약일'] >= '2021']"
   ]
  },
  {
   "attachments": {},
   "cell_type": "markdown",
   "id": "74e9a26e",
   "metadata": {},
   "source": [
    "## feature & target split"
   ]
  },
  {
   "cell_type": "code",
   "execution_count": 6,
   "id": "f8679ef8",
   "metadata": {},
   "outputs": [],
   "source": [
    "# Train Split\n",
    "# feature & target  split\n",
    "\n",
    "X_train_df = train_df.drop('물건금액(만원)', axis=1)\n",
    "y = train_df['물건금액(만원)']\n",
    "\n",
    "# X_train : 숫자형 컬럼만 \n",
    "X_train = X_train_df.select_dtypes([np.number])"
   ]
  },
  {
   "cell_type": "code",
   "execution_count": 7,
   "id": "75c06ce0",
   "metadata": {},
   "outputs": [],
   "source": [
    "# Test Split\n",
    "# feature & target  split\n",
    "\n",
    "X_test_df = test_df.drop('물건금액(만원)', axis=1)\n",
    "y_test = test_df['물건금액(만원)']\n",
    "\n",
    "# X_test : 숫자형 컬럼만 \n",
    "X_test = X_test_df.select_dtypes([np.number])"
   ]
  },
  {
   "attachments": {},
   "cell_type": "markdown",
   "metadata": {},
   "source": [
    "# Scaling\n",
    "1. Features - minMax\n",
    "2. Target - Log "
   ]
  },
  {
   "cell_type": "code",
   "execution_count": 8,
   "id": "863a2296",
   "metadata": {},
   "outputs": [],
   "source": [
    "# minMax\n",
    "from sklearn.preprocessing import MinMaxScaler\n",
    "\n",
    "# Scaler 객체 생성\n",
    "scaler = MinMaxScaler()\n",
    "X_scaled = scaler.fit_transform(X_train)\n",
    "X_test_scaled = scaler.transform(X_test)\n",
    "\n",
    "# DataFrame\n",
    "X_scaled = pd.DataFrame(X_scaled, columns=X_train.columns)\n",
    "X_test_scaled = pd.DataFrame(X_test_scaled, columns=X_test.columns)"
   ]
  },
  {
   "cell_type": "code",
   "execution_count": 9,
   "id": "ec03f25e",
   "metadata": {},
   "outputs": [
    {
     "data": {
      "text/plain": [
       "87518     5.033424\n",
       "87519     5.439333\n",
       "87520     4.995635\n",
       "87521     5.332438\n",
       "87522     5.250420\n",
       "            ...   \n",
       "100076    5.255273\n",
       "100077    5.332438\n",
       "100078    5.633468\n",
       "100079    5.267172\n",
       "100080    5.397940\n",
       "Name: 물건금액(만원), Length: 12563, dtype: float64"
      ]
     },
     "execution_count": 9,
     "metadata": {},
     "output_type": "execute_result"
    }
   ],
   "source": [
    "# y -> log 변환\n",
    "\n",
    "# Train\n",
    "y_scaled = np.log10(y)\n",
    "# y_scaled\n",
    "\n",
    "# Test\n",
    "y_test_scaled = np.log10(y_test)\n",
    "y_test_scaled"
   ]
  },
  {
   "attachments": {},
   "cell_type": "markdown",
   "id": "1ee6d93b",
   "metadata": {},
   "source": [
    "# OLS 확인"
   ]
  },
  {
   "cell_type": "code",
   "execution_count": 11,
   "id": "e293b698",
   "metadata": {},
   "outputs": [
    {
     "data": {
      "text/html": [
       "<table class=\"simpletable\">\n",
       "<caption>OLS Regression Results</caption>\n",
       "<tr>\n",
       "  <th>Dep. Variable:</th>        <td>물건금액(만원)</td>     <th>  R-squared:         </th>  <td>   0.372</td> \n",
       "</tr>\n",
       "<tr>\n",
       "  <th>Model:</th>                   <td>OLS</td>       <th>  Adj. R-squared:    </th>  <td>   0.372</td> \n",
       "</tr>\n",
       "<tr>\n",
       "  <th>Method:</th>             <td>Least Squares</td>  <th>  F-statistic:       </th>  <td>   6482.</td> \n",
       "</tr>\n",
       "<tr>\n",
       "  <th>Date:</th>             <td>Sat, 01 Jul 2023</td> <th>  Prob (F-statistic):</th>   <td>  0.00</td>  \n",
       "</tr>\n",
       "<tr>\n",
       "  <th>Time:</th>                 <td>01:51:25</td>     <th>  Log-Likelihood:    </th>  <td>  22822.</td> \n",
       "</tr>\n",
       "<tr>\n",
       "  <th>No. Observations:</th>      <td> 87518</td>      <th>  AIC:               </th> <td>-4.563e+04</td>\n",
       "</tr>\n",
       "<tr>\n",
       "  <th>Df Residuals:</th>          <td> 87509</td>      <th>  BIC:               </th> <td>-4.554e+04</td>\n",
       "</tr>\n",
       "<tr>\n",
       "  <th>Df Model:</th>              <td>     8</td>      <th>                     </th>      <td> </td>    \n",
       "</tr>\n",
       "<tr>\n",
       "  <th>Covariance Type:</th>      <td>nonrobust</td>    <th>                     </th>      <td> </td>    \n",
       "</tr>\n",
       "</table>\n",
       "<table class=\"simpletable\">\n",
       "<tr>\n",
       "       <td></td>          <th>coef</th>     <th>std err</th>      <th>t</th>      <th>P>|t|</th>  <th>[0.025</th>    <th>0.975]</th>  \n",
       "</tr>\n",
       "<tr>\n",
       "  <th>const</th>       <td>    4.9093</td> <td>    0.006</td> <td>  822.227</td> <td> 0.000</td> <td>    4.898</td> <td>    4.921</td>\n",
       "</tr>\n",
       "<tr>\n",
       "  <th>건물면적(㎡)</th>     <td>    1.3268</td> <td>    0.008</td> <td>  163.962</td> <td> 0.000</td> <td>    1.311</td> <td>    1.343</td>\n",
       "</tr>\n",
       "<tr>\n",
       "  <th>층</th>           <td>    0.2746</td> <td>    0.006</td> <td>   43.839</td> <td> 0.000</td> <td>    0.262</td> <td>    0.287</td>\n",
       "</tr>\n",
       "<tr>\n",
       "  <th>Fed기준금리</th>     <td>   -0.1135</td> <td>    0.003</td> <td>  -35.344</td> <td> 0.000</td> <td>   -0.120</td> <td>   -0.107</td>\n",
       "</tr>\n",
       "<tr>\n",
       "  <th>건물연식</th>        <td>    0.1677</td> <td>    0.003</td> <td>   49.433</td> <td> 0.000</td> <td>    0.161</td> <td>    0.174</td>\n",
       "</tr>\n",
       "<tr>\n",
       "  <th>GDP대비가계부채비율</th> <td>   -0.0258</td> <td>    0.005</td> <td>   -4.745</td> <td> 0.000</td> <td>   -0.036</td> <td>   -0.015</td>\n",
       "</tr>\n",
       "<tr>\n",
       "  <th>EPU</th>         <td>   -0.0157</td> <td>    0.004</td> <td>   -4.225</td> <td> 0.000</td> <td>   -0.023</td> <td>   -0.008</td>\n",
       "</tr>\n",
       "<tr>\n",
       "  <th>장단기금리spread</th> <td>    0.0296</td> <td>    0.003</td> <td>    9.245</td> <td> 0.000</td> <td>    0.023</td> <td>    0.036</td>\n",
       "</tr>\n",
       "<tr>\n",
       "  <th>LTV</th>         <td>   -0.2593</td> <td>    0.004</td> <td>  -63.404</td> <td> 0.000</td> <td>   -0.267</td> <td>   -0.251</td>\n",
       "</tr>\n",
       "</table>\n",
       "<table class=\"simpletable\">\n",
       "<tr>\n",
       "  <th>Omnibus:</th>       <td>1081.604</td> <th>  Durbin-Watson:     </th> <td>   1.865</td> \n",
       "</tr>\n",
       "<tr>\n",
       "  <th>Prob(Omnibus):</th>  <td> 0.000</td>  <th>  Jarque-Bera (JB):  </th> <td>1069.271</td> \n",
       "</tr>\n",
       "<tr>\n",
       "  <th>Skew:</th>           <td> 0.250</td>  <th>  Prob(JB):          </th> <td>6.47e-233</td>\n",
       "</tr>\n",
       "<tr>\n",
       "  <th>Kurtosis:</th>       <td> 2.792</td>  <th>  Cond. No.          </th> <td>    22.0</td> \n",
       "</tr>\n",
       "</table><br/><br/>Notes:<br/>[1] Standard Errors assume that the covariance matrix of the errors is correctly specified."
      ],
      "text/latex": [
       "\\begin{center}\n",
       "\\begin{tabular}{lclc}\n",
       "\\toprule\n",
       "\\textbf{Dep. Variable:}    &     물건금액(만원)     & \\textbf{  R-squared:         } &     0.372   \\\\\n",
       "\\textbf{Model:}            &       OLS        & \\textbf{  Adj. R-squared:    } &     0.372   \\\\\n",
       "\\textbf{Method:}           &  Least Squares   & \\textbf{  F-statistic:       } &     6482.   \\\\\n",
       "\\textbf{Date:}             & Sat, 01 Jul 2023 & \\textbf{  Prob (F-statistic):} &     0.00    \\\\\n",
       "\\textbf{Time:}             &     01:51:25     & \\textbf{  Log-Likelihood:    } &    22822.   \\\\\n",
       "\\textbf{No. Observations:} &       87518      & \\textbf{  AIC:               } & -4.563e+04  \\\\\n",
       "\\textbf{Df Residuals:}     &       87509      & \\textbf{  BIC:               } & -4.554e+04  \\\\\n",
       "\\textbf{Df Model:}         &           8      & \\textbf{                     } &             \\\\\n",
       "\\textbf{Covariance Type:}  &    nonrobust     & \\textbf{                     } &             \\\\\n",
       "\\bottomrule\n",
       "\\end{tabular}\n",
       "\\begin{tabular}{lcccccc}\n",
       "                     & \\textbf{coef} & \\textbf{std err} & \\textbf{t} & \\textbf{P$> |$t$|$} & \\textbf{[0.025} & \\textbf{0.975]}  \\\\\n",
       "\\midrule\n",
       "\\textbf{const}       &       4.9093  &        0.006     &   822.227  &         0.000        &        4.898    &        4.921     \\\\\n",
       "\\textbf{건물면적(㎡)}     &       1.3268  &        0.008     &   163.962  &         0.000        &        1.311    &        1.343     \\\\\n",
       "\\textbf{층}           &       0.2746  &        0.006     &    43.839  &         0.000        &        0.262    &        0.287     \\\\\n",
       "\\textbf{Fed기준금리}     &      -0.1135  &        0.003     &   -35.344  &         0.000        &       -0.120    &       -0.107     \\\\\n",
       "\\textbf{건물연식}        &       0.1677  &        0.003     &    49.433  &         0.000        &        0.161    &        0.174     \\\\\n",
       "\\textbf{GDP대비가계부채비율} &      -0.0258  &        0.005     &    -4.745  &         0.000        &       -0.036    &       -0.015     \\\\\n",
       "\\textbf{EPU}         &      -0.0157  &        0.004     &    -4.225  &         0.000        &       -0.023    &       -0.008     \\\\\n",
       "\\textbf{장단기금리spread} &       0.0296  &        0.003     &     9.245  &         0.000        &        0.023    &        0.036     \\\\\n",
       "\\textbf{LTV}         &      -0.2593  &        0.004     &   -63.404  &         0.000        &       -0.267    &       -0.251     \\\\\n",
       "\\bottomrule\n",
       "\\end{tabular}\n",
       "\\begin{tabular}{lclc}\n",
       "\\textbf{Omnibus:}       & 1081.604 & \\textbf{  Durbin-Watson:     } &     1.865  \\\\\n",
       "\\textbf{Prob(Omnibus):} &   0.000  & \\textbf{  Jarque-Bera (JB):  } &  1069.271  \\\\\n",
       "\\textbf{Skew:}          &   0.250  & \\textbf{  Prob(JB):          } & 6.47e-233  \\\\\n",
       "\\textbf{Kurtosis:}      &   2.792  & \\textbf{  Cond. No.          } &      22.0  \\\\\n",
       "\\bottomrule\n",
       "\\end{tabular}\n",
       "%\\caption{OLS Regression Results}\n",
       "\\end{center}\n",
       "\n",
       "Notes: \\newline\n",
       " [1] Standard Errors assume that the covariance matrix of the errors is correctly specified."
      ],
      "text/plain": [
       "<class 'statsmodels.iolib.summary.Summary'>\n",
       "\"\"\"\n",
       "                            OLS Regression Results                            \n",
       "==============================================================================\n",
       "Dep. Variable:               물건금액(만원)   R-squared:                       0.372\n",
       "Model:                            OLS   Adj. R-squared:                  0.372\n",
       "Method:                 Least Squares   F-statistic:                     6482.\n",
       "Date:                Sat, 01 Jul 2023   Prob (F-statistic):               0.00\n",
       "Time:                        01:51:25   Log-Likelihood:                 22822.\n",
       "No. Observations:               87518   AIC:                        -4.563e+04\n",
       "Df Residuals:                   87509   BIC:                        -4.554e+04\n",
       "Df Model:                           8                                         \n",
       "Covariance Type:            nonrobust                                         \n",
       "===============================================================================\n",
       "                  coef    std err          t      P>|t|      [0.025      0.975]\n",
       "-------------------------------------------------------------------------------\n",
       "const           4.9093      0.006    822.227      0.000       4.898       4.921\n",
       "건물면적(㎡)         1.3268      0.008    163.962      0.000       1.311       1.343\n",
       "층               0.2746      0.006     43.839      0.000       0.262       0.287\n",
       "Fed기준금리        -0.1135      0.003    -35.344      0.000      -0.120      -0.107\n",
       "건물연식            0.1677      0.003     49.433      0.000       0.161       0.174\n",
       "GDP대비가계부채비율    -0.0258      0.005     -4.745      0.000      -0.036      -0.015\n",
       "EPU            -0.0157      0.004     -4.225      0.000      -0.023      -0.008\n",
       "장단기금리spread     0.0296      0.003      9.245      0.000       0.023       0.036\n",
       "LTV            -0.2593      0.004    -63.404      0.000      -0.267      -0.251\n",
       "==============================================================================\n",
       "Omnibus:                     1081.604   Durbin-Watson:                   1.865\n",
       "Prob(Omnibus):                  0.000   Jarque-Bera (JB):             1069.271\n",
       "Skew:                           0.250   Prob(JB):                    6.47e-233\n",
       "Kurtosis:                       2.792   Cond. No.                         22.0\n",
       "==============================================================================\n",
       "\n",
       "Notes:\n",
       "[1] Standard Errors assume that the covariance matrix of the errors is correctly specified.\n",
       "\"\"\""
      ]
     },
     "execution_count": 11,
     "metadata": {},
     "output_type": "execute_result"
    }
   ],
   "source": [
    "# OLS_확인\n",
    "# 스케일링 후 predict\n",
    "import statsmodels.api as sm\n",
    "\n",
    "feature_add = sm.add_constant(X_scaled, has_constant='add')\n",
    "\n",
    "# sm OLS 적합\n",
    "model = sm.OLS(y_scaled , feature_add)\n",
    "fitted_model = model.fit()\n",
    "\n",
    "# summary 함수통해 결과출력\n",
    "fitted_model.summary()"
   ]
  },
  {
   "attachments": {},
   "cell_type": "markdown",
   "id": "5d38d503",
   "metadata": {},
   "source": [
    "# VIF 확인"
   ]
  },
  {
   "cell_type": "code",
   "execution_count": 12,
   "id": "8c5de1b3",
   "metadata": {},
   "outputs": [],
   "source": [
    "from statsmodels.stats.outliers_influence import variance_inflation_factor\n",
    "\n",
    "def feature_engineering_XbyVIF(X_scaled):\n",
    "    vif = pd.DataFrame()\n",
    "    vif[\"VIF_Factor\"] = [variance_inflation_factor(X_scaled.values,i)\n",
    "                         for i in range(X_scaled.shape[1])]\n",
    "    vif[\"Feature\"] = X_scaled.columns\n",
    "    return vif"
   ]
  },
  {
   "cell_type": "code",
   "execution_count": 13,
   "id": "dc00f551",
   "metadata": {},
   "outputs": [
    {
     "name": "stdout",
     "output_type": "stream",
     "text": [
      "   VIF_Factor      Feature\n",
      "0    3.130711      건물면적(㎡)\n",
      "1    4.060691            층\n",
      "2    3.543587      Fed기준금리\n",
      "3    4.844484         건물연식\n",
      "4    5.994385  GDP대비가계부채비율\n",
      "5    3.358329          EPU\n",
      "6    8.816957  장단기금리spread\n",
      "7    6.656132          LTV\n"
     ]
    }
   ],
   "source": [
    "vif = feature_engineering_XbyVIF(X_scaled)\n",
    "print(vif)"
   ]
  },
  {
   "attachments": {},
   "cell_type": "markdown",
   "id": "730e0e8c",
   "metadata": {},
   "source": [
    "# LinearRegression"
   ]
  },
  {
   "attachments": {},
   "cell_type": "markdown",
   "id": "b327148b",
   "metadata": {},
   "source": [
    "## CV - R2, MSE"
   ]
  },
  {
   "cell_type": "code",
   "execution_count": 14,
   "id": "4fe32dd9",
   "metadata": {},
   "outputs": [],
   "source": [
    "# X_test 컬럼 -> X_scaled 기준(train)으로 맞추기  \n",
    "X_test_scaled=X_test_scaled[X_scaled.columns]"
   ]
  },
  {
   "attachments": {},
   "cell_type": "markdown",
   "id": "c245a429",
   "metadata": {},
   "source": [
    "## 교차검증"
   ]
  },
  {
   "cell_type": "code",
   "execution_count": 15,
   "id": "75b2802f",
   "metadata": {},
   "outputs": [
    {
     "name": "stdout",
     "output_type": "stream",
     "text": [
      "Fold 1: Train Score_r2 = 0.35929,           Validation Score_r2 = 0.25426\n",
      "      Train Score_mse = 0.03539,           Validation Score_mse = 0.03464\n",
      "\n",
      "\n",
      "Fold 2: Train Score_r2 = 0.38864,           Validation Score_r2 = 0.19802\n",
      "      Train Score_mse = 0.03456,           Validation Score_mse = 0.03749\n",
      "\n",
      "\n",
      "Fold 3: Train Score_r2 = 0.39816,           Validation Score_r2 = 0.17112\n",
      "      Train Score_mse = 0.03414,           Validation Score_mse = 0.04099\n",
      "\n",
      "\n",
      "Fold 4: Train Score_r2 = 0.397,           Validation Score_r2 = 0.21143\n",
      "      Train Score_mse = 0.03208,           Validation Score_mse = 0.04668\n",
      "\n",
      "\n",
      "Fold 5: Train Score_r2 = 0.33048,           Validation Score_r2 = 0.21857\n",
      "      Train Score_mse = 0.03584,           Validation Score_mse = 0.03957\n",
      "\n",
      "\n",
      "CV 평균 R2 : 0.2107\n",
      "CV 평균 MSE : 0.0399\n"
     ]
    }
   ],
   "source": [
    "# CV \n",
    "\n",
    "from sklearn.model_selection import cross_validate\n",
    "from sklearn.metrics import mean_squared_error, mean_absolute_error, r2_score\n",
    "from sklearn.linear_model import LinearRegression\n",
    "\n",
    "model = LinearRegression()\n",
    "\n",
    "# 교차 검증을 통해 모델 평가 및 추정기 반환\n",
    "cv_results = cross_validate(model, X_scaled, y_scaled, \n",
    "                            scoring= ('r2', 'neg_mean_squared_error'),cv=5, \n",
    "                            return_train_score=True, return_estimator=True)\n",
    "\n",
    "train_scores_r2 = cv_results['train_r2']  # 훈련 점수\n",
    "test_scores_r2 = cv_results['test_r2']    # 검증 점수\n",
    "train_scores_mse = -cv_results['train_neg_mean_squared_error']\n",
    "test_scores_mse = -cv_results['test_neg_mean_squared_error'] \n",
    "\n",
    "Validation_R2_score_mean = 0\n",
    "Validation_MSE_mean = 0\n",
    "\n",
    "# 훈련 점수와 검증 점수 출력\n",
    "for i in range(len(train_scores_r2)):\n",
    "   print(f\"Fold {i+1}: Train Score_r2 = {np.round(train_scores_r2[i],5)},\\\n",
    "           Validation Score_r2 = {np.round(test_scores_r2[i],5)}\")\n",
    "   print(f\"      Train Score_mse = {np.round(train_scores_mse[i],5)},\\\n",
    "           Validation Score_mse = {np.round(test_scores_mse[i],5)}\")\n",
    "   print('\\n')\n",
    "       # 마지막 평균 반환용\n",
    "   Validation_R2_score_mean += test_scores_r2[i]\n",
    "   Validation_MSE_mean += test_scores_mse[i]\n",
    "\n",
    "\n",
    "print(f'CV 평균 R2 : {np.round(Validation_R2_score_mean/5,4)}')\n",
    "print(f'CV 평균 MSE : {np.round(Validation_MSE_mean/5,4)}')"
   ]
  },
  {
   "attachments": {},
   "cell_type": "markdown",
   "id": "655937ca",
   "metadata": {},
   "source": [
    "# 평가지표 train and test 시각화"
   ]
  },
  {
   "cell_type": "code",
   "execution_count": 16,
   "id": "e45bc235",
   "metadata": {},
   "outputs": [
    {
     "data": {
      "image/png": "[encoded data removed]",
      "text/plain": [
       "<Figure size 640x480 with 1 Axes>"
      ]
     },
     "metadata": {},
     "output_type": "display_data"
    }
   ],
   "source": [
    "# R2\n",
    "import matplotlib.pyplot as plt\n",
    "\n",
    "train_scores = cv_results['train_r2']\n",
    "test_scores = cv_results['test_r2']\n",
    "\n",
    "# Fold 번호를 x축으로 설정하여 train_score와 test_score를 그래프로 출력\n",
    "fold_numbers = range(1, len(train_scores) + 1)\n",
    "\n",
    "plt.plot(fold_numbers, train_scores, label='Train Score')\n",
    "plt.plot(fold_numbers, test_scores, label='Test Score')\n",
    "\n",
    "plt.xlabel('Fold')\n",
    "plt.ylabel('Score')\n",
    "plt.title('Train Score vs Test Score')\n",
    "plt.legend()\n",
    "plt.show()"
   ]
  },
  {
   "cell_type": "code",
   "execution_count": 17,
   "id": "5e8aadd8",
   "metadata": {},
   "outputs": [
    {
     "data": {
      "image/png": "[encoded data removed]",
      "text/plain": [
       "<Figure size 640x480 with 1 Axes>"
      ]
     },
     "metadata": {},
     "output_type": "display_data"
    }
   ],
   "source": [
    "# MSE \n",
    "import matplotlib.pyplot as plt\n",
    "\n",
    "train_scores = -cv_results['train_neg_mean_squared_error']\n",
    "test_scores = -cv_results['test_neg_mean_squared_error']\n",
    "\n",
    "# Fold 번호를 x축으로 설정하여 train_score와 test_score를 그래프로 출력\n",
    "fold_numbers = range(1, len(train_scores) + 1)\n",
    "\n",
    "plt.plot(fold_numbers, train_scores, label='Train Score')\n",
    "plt.plot(fold_numbers, test_scores, label='Test Score')\n",
    "\n",
    "plt.xlabel('Fold')\n",
    "plt.ylabel('Score')\n",
    "plt.title('Train Score vs Test Score')\n",
    "plt.legend()\n",
    "plt.show()"
   ]
  },
  {
   "attachments": {},
   "cell_type": "markdown",
   "id": "0f39a5a7",
   "metadata": {},
   "source": [
    "# Model 확정\n",
    "- R2 그래프상 train & test 점수차이가 가장 적게 나는 모델 확정\n",
    "- 최종 첫 번째로 확정"
   ]
  },
  {
   "cell_type": "code",
   "execution_count": 18,
   "id": "1e11e00c",
   "metadata": {},
   "outputs": [
    {
     "name": "stdout",
     "output_type": "stream",
     "text": [
      "MSE : 0.050, RMSE :  0.224, MAE: 0.224\n",
      "Variance score :  0.192\n",
      "\n",
      "\n"
     ]
    }
   ],
   "source": [
    "# 최종 모델 - Predict & 평가지표\n",
    "\n",
    "y_pred = cv_results['estimator'][0].predict(X_test_scaled)\n",
    "mse = mean_squared_error(y_test_scaled, y_pred)\n",
    "rmse = np.sqrt(mse)\n",
    "mae = mean_absolute_error(y_test_scaled,y_pred)\n",
    "print('MSE : {0:.3f}, RMSE : {1: .3f}, MAE:{1: .3f}'.format(mse, rmse, mae))\n",
    "print('Variance score : {0: .3f}'.format(r2_score(y_test_scaled, y_pred)))\n",
    "print('\\n')"
   ]
  },
  {
   "cell_type": "code",
   "execution_count": 19,
   "id": "cdaf19bc",
   "metadata": {},
   "outputs": [
    {
     "data": {
      "text/html": [
       "<div>\n",
       "<style scoped>\n",
       "    .dataframe tbody tr th:only-of-type {\n",
       "        vertical-align: middle;\n",
       "    }\n",
       "\n",
       "    .dataframe tbody tr th {\n",
       "        vertical-align: top;\n",
       "    }\n",
       "\n",
       "    .dataframe thead th {\n",
       "        text-align: right;\n",
       "    }\n",
       "</style>\n",
       "<table border=\"1\" class=\"dataframe\">\n",
       "  <thead>\n",
       "    <tr style=\"text-align: right;\">\n",
       "      <th></th>\n",
       "      <th>회귀계수</th>\n",
       "    </tr>\n",
       "  </thead>\n",
       "  <tbody>\n",
       "    <tr>\n",
       "      <th>건물면적(㎡)</th>\n",
       "      <td>1.279444</td>\n",
       "    </tr>\n",
       "    <tr>\n",
       "      <th>층</th>\n",
       "      <td>0.271472</td>\n",
       "    </tr>\n",
       "    <tr>\n",
       "      <th>건물연식</th>\n",
       "      <td>0.166305</td>\n",
       "    </tr>\n",
       "    <tr>\n",
       "      <th>장단기금리spread</th>\n",
       "      <td>-0.012418</td>\n",
       "    </tr>\n",
       "    <tr>\n",
       "      <th>EPU</th>\n",
       "      <td>-0.037295</td>\n",
       "    </tr>\n",
       "    <tr>\n",
       "      <th>GDP대비가계부채비율</th>\n",
       "      <td>-0.105746</td>\n",
       "    </tr>\n",
       "    <tr>\n",
       "      <th>Fed기준금리</th>\n",
       "      <td>-0.159310</td>\n",
       "    </tr>\n",
       "    <tr>\n",
       "      <th>LTV</th>\n",
       "      <td>-0.286846</td>\n",
       "    </tr>\n",
       "  </tbody>\n",
       "</table>\n",
       "</div>"
      ],
      "text/plain": [
       "                 회귀계수\n",
       "건물면적(㎡)      1.279444\n",
       "층            0.271472\n",
       "건물연식         0.166305\n",
       "장단기금리spread -0.012418\n",
       "EPU         -0.037295\n",
       "GDP대비가계부채비율 -0.105746\n",
       "Fed기준금리     -0.159310\n",
       "LTV         -0.286846"
      ]
     },
     "execution_count": 19,
     "metadata": {},
     "output_type": "execute_result"
    }
   ],
   "source": [
    "# test 계수 결과 DF \n",
    "\n",
    "test_result = pd.DataFrame(data= cv_results['estimator'][0].coef_, index = X_scaled.columns)\n",
    "\n",
    "test_result.columns = ['회귀계수']\n",
    "\n",
    "test_result.sort_values('회귀계수', ascending=False)"
   ]
  },
  {
   "attachments": {},
   "cell_type": "markdown",
   "id": "00114eb1",
   "metadata": {},
   "source": [
    "# Ridge & Lasso"
   ]
  },
  {
   "attachments": {},
   "cell_type": "markdown",
   "id": "96b12124",
   "metadata": {},
   "source": [
    "## Ridge"
   ]
  },
  {
   "cell_type": "code",
   "execution_count": 20,
   "id": "672b4aad",
   "metadata": {},
   "outputs": [
    {
     "data": {
      "image/png": "[encoded data removed]",
      "text/plain": [
       "<Figure size 640x480 with 1 Axes>"
      ]
     },
     "metadata": {},
     "output_type": "display_data"
    }
   ],
   "source": [
    "# Ridge\n",
    "from sklearn.linear_model import Ridge\n",
    "ridge = Ridge()\n",
    "ridge.fit(X_scaled, y_scaled)\n",
    "\n",
    "import matplotlib.pyplot as plt\n",
    "train_score = []\n",
    "test_score = []\n",
    "\n",
    "alpha_list = [0.001, 0.01, 0.1, 1, 10, 100]\n",
    "for alpha in alpha_list:\n",
    "    ridge = Ridge(alpha=alpha)\n",
    "    ridge.fit(X_scaled, y_scaled)\n",
    "    train_score.append(ridge.score(X_scaled, y_scaled))\n",
    "    test_score.append(ridge.score(X_test_scaled, y_test_scaled))\n",
    "\n",
    "plt.plot(np.log10(alpha_list), train_score, label='Train Score')\n",
    "plt.plot(np.log10(alpha_list), test_score, label='Test Score')\n",
    "plt.xlabel('alpha')\n",
    "plt.ylabel('r2_score')\n",
    "plt.legend()\n",
    "plt.show()"
   ]
  },
  {
   "attachments": {},
   "cell_type": "markdown",
   "id": "af08faf0",
   "metadata": {},
   "source": [
    "- 기본값 alpha = 1.0으로 진행"
   ]
  },
  {
   "attachments": {},
   "cell_type": "markdown",
   "id": "80a69e8a",
   "metadata": {},
   "source": [
    "# CV"
   ]
  },
  {
   "cell_type": "code",
   "execution_count": 21,
   "id": "243f27df",
   "metadata": {},
   "outputs": [
    {
     "name": "stdout",
     "output_type": "stream",
     "text": [
      "Fold 1: Train Score_r2 = 0.35929,           Validation Score_r2 = 0.25433\n",
      "      Train Score_mse = 0.03539,           Validation Score_mse = 0.03463\n",
      "\n",
      "\n",
      "Fold 2: Train Score_r2 = 0.38864,           Validation Score_r2 = 0.198\n",
      "      Train Score_mse = 0.03456,           Validation Score_mse = 0.03749\n",
      "\n",
      "\n",
      "Fold 3: Train Score_r2 = 0.39816,           Validation Score_r2 = 0.17123\n",
      "      Train Score_mse = 0.03414,           Validation Score_mse = 0.04099\n",
      "\n",
      "\n",
      "Fold 4: Train Score_r2 = 0.397,           Validation Score_r2 = 0.21148\n",
      "      Train Score_mse = 0.03208,           Validation Score_mse = 0.04668\n",
      "\n",
      "\n",
      "Fold 5: Train Score_r2 = 0.33048,           Validation Score_r2 = 0.2212\n",
      "      Train Score_mse = 0.03584,           Validation Score_mse = 0.03943\n",
      "\n",
      "\n",
      "CV 평균 R2 : 0.2113\n",
      "CV 평균 MSE : 0.0398\n"
     ]
    }
   ],
   "source": [
    "# CV \n",
    "\n",
    "from sklearn.model_selection import cross_validate\n",
    "from sklearn.metrics import mean_squared_error, mean_absolute_error, r2_score\n",
    "from sklearn.linear_model import LinearRegression\n",
    "\n",
    "ridge = Ridge()\n",
    "ridge.fit(X_scaled, y_scaled)\n",
    "# 교차 검증을 통해 모델 평가 및 추정기 반환\n",
    "cv_results = cross_validate(ridge, X_scaled, y_scaled, \n",
    "                            scoring= ('r2', 'neg_mean_squared_error'),cv=5, \n",
    "                            return_train_score=True, return_estimator=True)\n",
    "\n",
    "train_scores_r2 = cv_results['train_r2']  # 훈련 점수\n",
    "test_scores_r2 = cv_results['test_r2']    # 검증 점수\n",
    "train_scores_mse = -cv_results['train_neg_mean_squared_error']\n",
    "test_scores_mse = -cv_results['test_neg_mean_squared_error'] \n",
    "\n",
    "Validation_R2_score_mean = 0\n",
    "Validation_MSE_mean = 0\n",
    "\n",
    "# 훈련 점수와 검증 점수 출력\n",
    "for i in range(len(train_scores_r2)):\n",
    "   print(f\"Fold {i+1}: Train Score_r2 = {np.round(train_scores_r2[i],5)},\\\n",
    "           Validation Score_r2 = {np.round(test_scores_r2[i],5)}\")\n",
    "   print(f\"      Train Score_mse = {np.round(train_scores_mse[i],5)},\\\n",
    "           Validation Score_mse = {np.round(test_scores_mse[i],5)}\")\n",
    "   print('\\n')\n",
    "       # 마지막 평균 반환용\n",
    "   Validation_R2_score_mean += test_scores_r2[i]\n",
    "   Validation_MSE_mean += test_scores_mse[i]\n",
    "\n",
    "\n",
    "print(f'CV 평균 R2 : {np.round(Validation_R2_score_mean/5,4)}')\n",
    "print(f'CV 평균 MSE : {np.round(Validation_MSE_mean/5,4)}')"
   ]
  },
  {
   "attachments": {},
   "cell_type": "markdown",
   "id": "4b316d29",
   "metadata": {},
   "source": [
    "# 평가지표 train and test 차이 시각화"
   ]
  },
  {
   "cell_type": "code",
   "execution_count": 22,
   "id": "32a9639e",
   "metadata": {},
   "outputs": [
    {
     "data": {
      "image/png": "[encoded data removed]",
      "text/plain": [
       "<Figure size 640x480 with 1 Axes>"
      ]
     },
     "metadata": {},
     "output_type": "display_data"
    }
   ],
   "source": [
    "import matplotlib.pyplot as plt\n",
    "\n",
    "train_scores = cv_results['train_r2']\n",
    "test_scores = cv_results['test_r2']\n",
    "\n",
    "# Fold 번호를 x축으로 설정하여 train_score와 test_score를 그래프로 출력\n",
    "fold_numbers = range(1, len(train_scores) + 1)\n",
    "\n",
    "plt.plot(fold_numbers, train_scores, label='Train Score')\n",
    "plt.plot(fold_numbers, test_scores, label='Test Score')\n",
    "\n",
    "plt.xlabel('Fold')\n",
    "plt.ylabel('Score')\n",
    "plt.title('Train Score vs Test Score')\n",
    "plt.legend()\n",
    "plt.show()"
   ]
  },
  {
   "cell_type": "code",
   "execution_count": 23,
   "id": "cdc20e91",
   "metadata": {},
   "outputs": [
    {
     "name": "stdout",
     "output_type": "stream",
     "text": [
      "0.3720920695515565\n",
      "0.3728316237213437\n"
     ]
    }
   ],
   "source": [
    "# ridge의 train, test r2 확인\n",
    "from sklearn.linear_model import Ridge\n",
    "ridge = Ridge()\n",
    "ridge.fit(X_scaled, y_scaled)\n",
    "print(ridge.score(X_scaled, y_scaled))\n",
    "print(ridge.score(X_test_scaled, y_test_scaled))"
   ]
  },
  {
   "cell_type": "code",
   "execution_count": 24,
   "id": "8d82f953",
   "metadata": {},
   "outputs": [
    {
     "name": "stdout",
     "output_type": "stream",
     "text": [
      "MSE : 0.039, RMSE :  0.198, MAE: 0.198\n",
      "Variance score :  0.373\n",
      "\n",
      "\n"
     ]
    }
   ],
   "source": [
    "# 최종 모델 - Predict & 평가지표\n",
    "# Train 전체로 학습 시\n",
    "ridge.fit(X_scaled, y_scaled)\n",
    "y_pred = ridge.predict(X_test_scaled)\n",
    "mse = mean_squared_error(y_test_scaled, y_pred)\n",
    "rmse = np.sqrt(mse)\n",
    "mae = mean_absolute_error(y_test_scaled,y_pred)\n",
    "print('MSE : {0:.3f}, RMSE : {1: .3f}, MAE:{1: .3f}'.format(mse, rmse, mae))\n",
    "print('Variance score : {0: .3f}'.format(r2_score(y_test_scaled, y_pred)))\n",
    "print('\\n')"
   ]
  },
  {
   "cell_type": "code",
   "execution_count": 25,
   "id": "f99b5a35",
   "metadata": {},
   "outputs": [
    {
     "name": "stdout",
     "output_type": "stream",
     "text": [
      "MSE : 0.050, RMSE :  0.224, MAE: 0.224\n",
      "Variance score :  0.193\n",
      "\n",
      "\n"
     ]
    }
   ],
   "source": [
    "# 최종 모델 - Predict & 평가지표\n",
    "\n",
    "y_pred = cv_results['estimator'][0].predict(X_test_scaled)\n",
    "mse = mean_squared_error(y_test_scaled, y_pred)\n",
    "rmse = np.sqrt(mse)\n",
    "mae = mean_absolute_error(y_test_scaled,y_pred)\n",
    "print('MSE : {0:.3f}, RMSE : {1: .3f}, MAE:{1: .3f}'.format(mse, rmse, mae))\n",
    "print('Variance score : {0: .3f}'.format(r2_score(y_test_scaled, y_pred)))\n",
    "print('\\n')"
   ]
  },
  {
   "cell_type": "code",
   "execution_count": 26,
   "id": "0d87c40e",
   "metadata": {},
   "outputs": [
    {
     "data": {
      "text/html": [
       "<div>\n",
       "<style scoped>\n",
       "    .dataframe tbody tr th:only-of-type {\n",
       "        vertical-align: middle;\n",
       "    }\n",
       "\n",
       "    .dataframe tbody tr th {\n",
       "        vertical-align: top;\n",
       "    }\n",
       "\n",
       "    .dataframe thead th {\n",
       "        text-align: right;\n",
       "    }\n",
       "</style>\n",
       "<table border=\"1\" class=\"dataframe\">\n",
       "  <thead>\n",
       "    <tr style=\"text-align: right;\">\n",
       "      <th></th>\n",
       "      <th>회귀계수</th>\n",
       "    </tr>\n",
       "  </thead>\n",
       "  <tbody>\n",
       "    <tr>\n",
       "      <th>건물면적(㎡)</th>\n",
       "      <td>1.276549</td>\n",
       "    </tr>\n",
       "    <tr>\n",
       "      <th>층</th>\n",
       "      <td>0.271269</td>\n",
       "    </tr>\n",
       "    <tr>\n",
       "      <th>건물연식</th>\n",
       "      <td>0.166117</td>\n",
       "    </tr>\n",
       "    <tr>\n",
       "      <th>장단기금리spread</th>\n",
       "      <td>-0.012341</td>\n",
       "    </tr>\n",
       "    <tr>\n",
       "      <th>EPU</th>\n",
       "      <td>-0.037219</td>\n",
       "    </tr>\n",
       "    <tr>\n",
       "      <th>GDP대비가계부채비율</th>\n",
       "      <td>-0.105474</td>\n",
       "    </tr>\n",
       "    <tr>\n",
       "      <th>Fed기준금리</th>\n",
       "      <td>-0.159152</td>\n",
       "    </tr>\n",
       "    <tr>\n",
       "      <th>LTV</th>\n",
       "      <td>-0.286730</td>\n",
       "    </tr>\n",
       "  </tbody>\n",
       "</table>\n",
       "</div>"
      ],
      "text/plain": [
       "                 회귀계수\n",
       "건물면적(㎡)      1.276549\n",
       "층            0.271269\n",
       "건물연식         0.166117\n",
       "장단기금리spread -0.012341\n",
       "EPU         -0.037219\n",
       "GDP대비가계부채비율 -0.105474\n",
       "Fed기준금리     -0.159152\n",
       "LTV         -0.286730"
      ]
     },
     "execution_count": 26,
     "metadata": {},
     "output_type": "execute_result"
    }
   ],
   "source": [
    "# Ridge 회귀계수\n",
    "ridge_df = pd.DataFrame(data =  cv_results['estimator'][0].coef_, index = X_scaled.columns)\n",
    "ridge_df.columns = ['회귀계수']\n",
    "ridge_df.sort_values(by = '회귀계수',ascending=False)"
   ]
  },
  {
   "cell_type": "code",
   "execution_count": 27,
   "id": "285add73",
   "metadata": {},
   "outputs": [
    {
     "name": "stdout",
     "output_type": "stream",
     "text": [
      "0.0\n",
      "-1.0716898168624596\n"
     ]
    }
   ],
   "source": [
    "# Lasso \n",
    "from sklearn.linear_model import Lasso\n",
    "lasso = Lasso()\n",
    "lasso.fit(X_scaled, y_scaled)\n",
    "print(lasso.score(X_scaled, y_scaled))\n",
    "print(lasso.score(X_test_scaled, y_test_scaled))"
   ]
  },
  {
   "cell_type": "code",
   "execution_count": 28,
   "id": "d11f748a",
   "metadata": {},
   "outputs": [
    {
     "data": {
      "text/plain": [
       "array([ True,  True,  True,  True,  True,  True,  True,  True])"
      ]
     },
     "execution_count": 28,
     "metadata": {},
     "output_type": "execute_result"
    }
   ],
   "source": [
    "lasso.coef_ == 0"
   ]
  }
 ],
 "metadata": {
  "kernelspec": {
   "display_name": "Python 3 (ipykernel)",
   "language": "python",
   "name": "python3"
  },
  "language_info": {
   "codemirror_mode": {
    "name": "ipython",
    "version": 3
   },
   "file_extension": ".py",
   "mimetype": "text/x-python",
   "name": "python",
   "nbconvert_exporter": "python",
   "pygments_lexer": "ipython3",
   "version": "3.11.3"
  }
 },
 "nbformat": 4,
 "nbformat_minor": 5
}
