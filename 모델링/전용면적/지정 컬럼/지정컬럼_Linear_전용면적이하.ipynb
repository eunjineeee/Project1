{
 "cells": [
  {
   "cell_type": "code",
   "execution_count": 1,
   "id": "2eb44b6d",
   "metadata": {},
   "outputs": [],
   "source": [
    "import pandas as pd\n",
    "import numpy as np\n",
    "import matplotlib.pyplot as plt\n",
    "import seaborn as sns"
   ]
  },
  {
   "attachments": {},
   "cell_type": "markdown",
   "id": "2c3c05a6",
   "metadata": {},
   "source": [
    "# DF 불러오기"
   ]
  },
  {
   "cell_type": "code",
   "execution_count": 2,
   "id": "d2178a1a",
   "metadata": {},
   "outputs": [
    {
     "data": {
      "text/html": [
       "<div>\n",
       "<style scoped>\n",
       "    .dataframe tbody tr th:only-of-type {\n",
       "        vertical-align: middle;\n",
       "    }\n",
       "\n",
       "    .dataframe tbody tr th {\n",
       "        vertical-align: top;\n",
       "    }\n",
       "\n",
       "    .dataframe thead th {\n",
       "        text-align: right;\n",
       "    }\n",
       "</style>\n",
       "<table border=\"1\" class=\"dataframe\">\n",
       "  <thead>\n",
       "    <tr style=\"text-align: right;\">\n",
       "      <th></th>\n",
       "      <th>자치구</th>\n",
       "      <th>계약일</th>\n",
       "      <th>건물면적(㎡)</th>\n",
       "      <th>층</th>\n",
       "      <th>KOSPI종가</th>\n",
       "      <th>Fed기준금리</th>\n",
       "      <th>국제유가(Dubai)($/배럴)</th>\n",
       "      <th>부동산거래량</th>\n",
       "      <th>국고채5년(평균)</th>\n",
       "      <th>국고채10년(평균)</th>\n",
       "      <th>...</th>\n",
       "      <th>BOK기준금리</th>\n",
       "      <th>건물연식</th>\n",
       "      <th>GDP대비가계부채비율</th>\n",
       "      <th>환율종가</th>\n",
       "      <th>선행지수순환변동치</th>\n",
       "      <th>EPU</th>\n",
       "      <th>장단기금리spread</th>\n",
       "      <th>금값종가</th>\n",
       "      <th>LTV</th>\n",
       "      <th>물건금액(만원)</th>\n",
       "    </tr>\n",
       "  </thead>\n",
       "  <tbody>\n",
       "    <tr>\n",
       "      <th>0</th>\n",
       "      <td>노원구</td>\n",
       "      <td>2016-01-01</td>\n",
       "      <td>39.96</td>\n",
       "      <td>10</td>\n",
       "      <td>1961.310059</td>\n",
       "      <td>0.34</td>\n",
       "      <td>26.9</td>\n",
       "      <td>9894</td>\n",
       "      <td>1.77</td>\n",
       "      <td>2.03</td>\n",
       "      <td>...</td>\n",
       "      <td>1.50</td>\n",
       "      <td>25</td>\n",
       "      <td>83.3</td>\n",
       "      <td>1175.45</td>\n",
       "      <td>99.6</td>\n",
       "      <td>177.148845</td>\n",
       "      <td>0.14</td>\n",
       "      <td>1060.74</td>\n",
       "      <td>0.7</td>\n",
       "      <td>18000</td>\n",
       "    </tr>\n",
       "    <tr>\n",
       "      <th>1</th>\n",
       "      <td>성동구</td>\n",
       "      <td>2016-01-01</td>\n",
       "      <td>75.37</td>\n",
       "      <td>10</td>\n",
       "      <td>1961.310059</td>\n",
       "      <td>0.34</td>\n",
       "      <td>26.9</td>\n",
       "      <td>9894</td>\n",
       "      <td>1.77</td>\n",
       "      <td>2.03</td>\n",
       "      <td>...</td>\n",
       "      <td>1.50</td>\n",
       "      <td>26</td>\n",
       "      <td>83.3</td>\n",
       "      <td>1175.45</td>\n",
       "      <td>99.6</td>\n",
       "      <td>177.148845</td>\n",
       "      <td>0.14</td>\n",
       "      <td>1060.74</td>\n",
       "      <td>0.7</td>\n",
       "      <td>55200</td>\n",
       "    </tr>\n",
       "    <tr>\n",
       "      <th>2</th>\n",
       "      <td>금천구</td>\n",
       "      <td>2016-01-01</td>\n",
       "      <td>84.83</td>\n",
       "      <td>3</td>\n",
       "      <td>1961.310059</td>\n",
       "      <td>0.34</td>\n",
       "      <td>26.9</td>\n",
       "      <td>9894</td>\n",
       "      <td>1.77</td>\n",
       "      <td>2.03</td>\n",
       "      <td>...</td>\n",
       "      <td>1.50</td>\n",
       "      <td>14</td>\n",
       "      <td>83.3</td>\n",
       "      <td>1175.45</td>\n",
       "      <td>99.6</td>\n",
       "      <td>177.148845</td>\n",
       "      <td>0.14</td>\n",
       "      <td>1060.74</td>\n",
       "      <td>0.7</td>\n",
       "      <td>36800</td>\n",
       "    </tr>\n",
       "    <tr>\n",
       "      <th>3</th>\n",
       "      <td>노원구</td>\n",
       "      <td>2016-01-01</td>\n",
       "      <td>84.59</td>\n",
       "      <td>10</td>\n",
       "      <td>1961.310059</td>\n",
       "      <td>0.34</td>\n",
       "      <td>26.9</td>\n",
       "      <td>9894</td>\n",
       "      <td>1.77</td>\n",
       "      <td>2.03</td>\n",
       "      <td>...</td>\n",
       "      <td>1.50</td>\n",
       "      <td>26</td>\n",
       "      <td>83.3</td>\n",
       "      <td>1175.45</td>\n",
       "      <td>99.6</td>\n",
       "      <td>177.148845</td>\n",
       "      <td>0.14</td>\n",
       "      <td>1060.74</td>\n",
       "      <td>0.7</td>\n",
       "      <td>30300</td>\n",
       "    </tr>\n",
       "    <tr>\n",
       "      <th>4</th>\n",
       "      <td>강남구</td>\n",
       "      <td>2016-01-01</td>\n",
       "      <td>50.67</td>\n",
       "      <td>4</td>\n",
       "      <td>1961.310059</td>\n",
       "      <td>0.34</td>\n",
       "      <td>26.9</td>\n",
       "      <td>9894</td>\n",
       "      <td>1.77</td>\n",
       "      <td>2.03</td>\n",
       "      <td>...</td>\n",
       "      <td>1.50</td>\n",
       "      <td>34</td>\n",
       "      <td>83.3</td>\n",
       "      <td>1175.45</td>\n",
       "      <td>99.6</td>\n",
       "      <td>177.148845</td>\n",
       "      <td>0.14</td>\n",
       "      <td>1060.74</td>\n",
       "      <td>0.7</td>\n",
       "      <td>87000</td>\n",
       "    </tr>\n",
       "    <tr>\n",
       "      <th>...</th>\n",
       "      <td>...</td>\n",
       "      <td>...</td>\n",
       "      <td>...</td>\n",
       "      <td>...</td>\n",
       "      <td>...</td>\n",
       "      <td>...</td>\n",
       "      <td>...</td>\n",
       "      <td>...</td>\n",
       "      <td>...</td>\n",
       "      <td>...</td>\n",
       "      <td>...</td>\n",
       "      <td>...</td>\n",
       "      <td>...</td>\n",
       "      <td>...</td>\n",
       "      <td>...</td>\n",
       "      <td>...</td>\n",
       "      <td>...</td>\n",
       "      <td>...</td>\n",
       "      <td>...</td>\n",
       "      <td>...</td>\n",
       "      <td>...</td>\n",
       "    </tr>\n",
       "    <tr>\n",
       "      <th>436011</th>\n",
       "      <td>강서구</td>\n",
       "      <td>2022-12-31</td>\n",
       "      <td>84.98</td>\n",
       "      <td>15</td>\n",
       "      <td>2236.399902</td>\n",
       "      <td>4.10</td>\n",
       "      <td>77.2</td>\n",
       "      <td>3698</td>\n",
       "      <td>3.59</td>\n",
       "      <td>3.54</td>\n",
       "      <td>...</td>\n",
       "      <td>3.25</td>\n",
       "      <td>5</td>\n",
       "      <td>105.0</td>\n",
       "      <td>1260.92</td>\n",
       "      <td>99.1</td>\n",
       "      <td>169.662386</td>\n",
       "      <td>0.39</td>\n",
       "      <td>1824.40</td>\n",
       "      <td>0.2</td>\n",
       "      <td>113500</td>\n",
       "    </tr>\n",
       "    <tr>\n",
       "      <th>436012</th>\n",
       "      <td>송파구</td>\n",
       "      <td>2022-12-31</td>\n",
       "      <td>84.71</td>\n",
       "      <td>11</td>\n",
       "      <td>2236.399902</td>\n",
       "      <td>4.10</td>\n",
       "      <td>77.2</td>\n",
       "      <td>3698</td>\n",
       "      <td>3.59</td>\n",
       "      <td>3.54</td>\n",
       "      <td>...</td>\n",
       "      <td>3.25</td>\n",
       "      <td>34</td>\n",
       "      <td>105.0</td>\n",
       "      <td>1260.92</td>\n",
       "      <td>99.1</td>\n",
       "      <td>169.662386</td>\n",
       "      <td>0.39</td>\n",
       "      <td>1824.40</td>\n",
       "      <td>0.2</td>\n",
       "      <td>138000</td>\n",
       "    </tr>\n",
       "    <tr>\n",
       "      <th>436013</th>\n",
       "      <td>송파구</td>\n",
       "      <td>2022-12-31</td>\n",
       "      <td>84.90</td>\n",
       "      <td>24</td>\n",
       "      <td>2236.399902</td>\n",
       "      <td>4.10</td>\n",
       "      <td>77.2</td>\n",
       "      <td>3698</td>\n",
       "      <td>3.59</td>\n",
       "      <td>3.54</td>\n",
       "      <td>...</td>\n",
       "      <td>3.25</td>\n",
       "      <td>14</td>\n",
       "      <td>105.0</td>\n",
       "      <td>1260.92</td>\n",
       "      <td>99.1</td>\n",
       "      <td>169.662386</td>\n",
       "      <td>0.39</td>\n",
       "      <td>1824.40</td>\n",
       "      <td>0.0</td>\n",
       "      <td>172000</td>\n",
       "    </tr>\n",
       "    <tr>\n",
       "      <th>436014</th>\n",
       "      <td>양천구</td>\n",
       "      <td>2022-12-31</td>\n",
       "      <td>64.02</td>\n",
       "      <td>5</td>\n",
       "      <td>2236.399902</td>\n",
       "      <td>4.10</td>\n",
       "      <td>77.2</td>\n",
       "      <td>3698</td>\n",
       "      <td>3.59</td>\n",
       "      <td>3.54</td>\n",
       "      <td>...</td>\n",
       "      <td>3.25</td>\n",
       "      <td>26</td>\n",
       "      <td>105.0</td>\n",
       "      <td>1260.92</td>\n",
       "      <td>99.1</td>\n",
       "      <td>169.662386</td>\n",
       "      <td>0.39</td>\n",
       "      <td>1824.40</td>\n",
       "      <td>0.4</td>\n",
       "      <td>37000</td>\n",
       "    </tr>\n",
       "    <tr>\n",
       "      <th>436015</th>\n",
       "      <td>동대문구</td>\n",
       "      <td>2022-12-31</td>\n",
       "      <td>84.97</td>\n",
       "      <td>11</td>\n",
       "      <td>2236.399902</td>\n",
       "      <td>4.10</td>\n",
       "      <td>77.2</td>\n",
       "      <td>3698</td>\n",
       "      <td>3.59</td>\n",
       "      <td>3.54</td>\n",
       "      <td>...</td>\n",
       "      <td>3.25</td>\n",
       "      <td>19</td>\n",
       "      <td>105.0</td>\n",
       "      <td>1260.92</td>\n",
       "      <td>99.1</td>\n",
       "      <td>169.662386</td>\n",
       "      <td>0.39</td>\n",
       "      <td>1824.40</td>\n",
       "      <td>0.4</td>\n",
       "      <td>76500</td>\n",
       "    </tr>\n",
       "  </tbody>\n",
       "</table>\n",
       "<p>436016 rows × 22 columns</p>\n",
       "</div>"
      ],
      "text/plain": [
       "         자치구         계약일  건물면적(㎡)   층      KOSPI종가  Fed기준금리   \n",
       "0        노원구  2016-01-01    39.96  10  1961.310059     0.34  \\\n",
       "1        성동구  2016-01-01    75.37  10  1961.310059     0.34   \n",
       "2        금천구  2016-01-01    84.83   3  1961.310059     0.34   \n",
       "3        노원구  2016-01-01    84.59  10  1961.310059     0.34   \n",
       "4        강남구  2016-01-01    50.67   4  1961.310059     0.34   \n",
       "...      ...         ...      ...  ..          ...      ...   \n",
       "436011   강서구  2022-12-31    84.98  15  2236.399902     4.10   \n",
       "436012   송파구  2022-12-31    84.71  11  2236.399902     4.10   \n",
       "436013   송파구  2022-12-31    84.90  24  2236.399902     4.10   \n",
       "436014   양천구  2022-12-31    64.02   5  2236.399902     4.10   \n",
       "436015  동대문구  2022-12-31    84.97  11  2236.399902     4.10   \n",
       "\n",
       "        국제유가(Dubai)($/배럴)  부동산거래량  국고채5년(평균)  국고채10년(평균)  ...  BOK기준금리  건물연식   \n",
       "0                    26.9    9894       1.77        2.03  ...     1.50    25  \\\n",
       "1                    26.9    9894       1.77        2.03  ...     1.50    26   \n",
       "2                    26.9    9894       1.77        2.03  ...     1.50    14   \n",
       "3                    26.9    9894       1.77        2.03  ...     1.50    26   \n",
       "4                    26.9    9894       1.77        2.03  ...     1.50    34   \n",
       "...                   ...     ...        ...         ...  ...      ...   ...   \n",
       "436011               77.2    3698       3.59        3.54  ...     3.25     5   \n",
       "436012               77.2    3698       3.59        3.54  ...     3.25    34   \n",
       "436013               77.2    3698       3.59        3.54  ...     3.25    14   \n",
       "436014               77.2    3698       3.59        3.54  ...     3.25    26   \n",
       "436015               77.2    3698       3.59        3.54  ...     3.25    19   \n",
       "\n",
       "        GDP대비가계부채비율     환율종가  선행지수순환변동치         EPU  장단기금리spread     금값종가   \n",
       "0              83.3  1175.45       99.6  177.148845         0.14  1060.74  \\\n",
       "1              83.3  1175.45       99.6  177.148845         0.14  1060.74   \n",
       "2              83.3  1175.45       99.6  177.148845         0.14  1060.74   \n",
       "3              83.3  1175.45       99.6  177.148845         0.14  1060.74   \n",
       "4              83.3  1175.45       99.6  177.148845         0.14  1060.74   \n",
       "...             ...      ...        ...         ...          ...      ...   \n",
       "436011        105.0  1260.92       99.1  169.662386         0.39  1824.40   \n",
       "436012        105.0  1260.92       99.1  169.662386         0.39  1824.40   \n",
       "436013        105.0  1260.92       99.1  169.662386         0.39  1824.40   \n",
       "436014        105.0  1260.92       99.1  169.662386         0.39  1824.40   \n",
       "436015        105.0  1260.92       99.1  169.662386         0.39  1824.40   \n",
       "\n",
       "        LTV  물건금액(만원)  \n",
       "0       0.7     18000  \n",
       "1       0.7     55200  \n",
       "2       0.7     36800  \n",
       "3       0.7     30300  \n",
       "4       0.7     87000  \n",
       "...     ...       ...  \n",
       "436011  0.2    113500  \n",
       "436012  0.2    138000  \n",
       "436013  0.0    172000  \n",
       "436014  0.4     37000  \n",
       "436015  0.4     76500  \n",
       "\n",
       "[436016 rows x 22 columns]"
      ]
     },
     "execution_count": 2,
     "metadata": {},
     "output_type": "execute_result"
    }
   ],
   "source": [
    "df = pd.read_csv('./datasets/전용면적_85이하.csv')\n",
    "df"
   ]
  },
  {
   "cell_type": "code",
   "execution_count": 3,
   "id": "efe19a11",
   "metadata": {},
   "outputs": [],
   "source": [
    "# 컬럼 선택\n",
    "df = df[['자치구','계약일','건물면적(㎡)', '층', 'Fed기준금리','건물연식', 'GDP대비가계부채비율','EPU', '장단기금리spread','LTV', '물건금액(만원)']]"
   ]
  },
  {
   "attachments": {},
   "cell_type": "markdown",
   "id": "a380a011",
   "metadata": {},
   "source": [
    "# Train/Test Split\n"
   ]
  },
  {
   "cell_type": "code",
   "execution_count": 4,
   "id": "b7ff05c2",
   "metadata": {},
   "outputs": [
    {
     "name": "stderr",
     "output_type": "stream",
     "text": [
      "C:\\Users\\이은진\\AppData\\Local\\Temp\\ipykernel_19368\\2269776461.py:4: SettingWithCopyWarning: \n",
      "A value is trying to be set on a copy of a slice from a DataFrame.\n",
      "Try using .loc[row_indexer,col_indexer] = value instead\n",
      "\n",
      "See the caveats in the documentation: https://pandas.pydata.org/pandas-docs/stable/user_guide/indexing.html#returning-a-view-versus-a-copy\n",
      "  df['계약일'] = pd.to_datetime(df['계약일'])\n"
     ]
    }
   ],
   "source": [
    "# Train : 2016-2020\n",
    "# Test : 2021-2022\n",
    "\n",
    "df['계약일'] = pd.to_datetime(df['계약일'])\n",
    "train_df = df.loc[df['계약일'] < '2021']\n",
    "test_df = df.loc[df['계약일'] >= '2021']"
   ]
  },
  {
   "attachments": {},
   "cell_type": "markdown",
   "id": "74e9a26e",
   "metadata": {},
   "source": [
    "## feature & target split"
   ]
  },
  {
   "cell_type": "code",
   "execution_count": 5,
   "id": "f8679ef8",
   "metadata": {},
   "outputs": [],
   "source": [
    "# Train Split\n",
    "# feature & target  split\n",
    "\n",
    "X_train_df = train_df.drop('물건금액(만원)', axis=1)\n",
    "y = train_df['물건금액(만원)']\n",
    "\n",
    "# X_train : 숫자형 컬럼만 \n",
    "X_train = X_train_df.select_dtypes([np.number])"
   ]
  },
  {
   "cell_type": "code",
   "execution_count": 6,
   "id": "aa6451bf",
   "metadata": {},
   "outputs": [],
   "source": [
    "# Test Split\n",
    "# feature & target  split\n",
    "\n",
    "X_test_df = test_df.drop('물건금액(만원)', axis=1)\n",
    "y_test = test_df['물건금액(만원)']\n",
    "\n",
    "# X_test : 숫자형 컬럼만 \n",
    "X_test = X_test_df.select_dtypes([np.number])"
   ]
  },
  {
   "attachments": {},
   "cell_type": "markdown",
   "metadata": {},
   "source": [
    "# Scaling\n",
    "1. Features - minMax\n",
    "2. Target - Log "
   ]
  },
  {
   "cell_type": "code",
   "execution_count": 7,
   "id": "863a2296",
   "metadata": {},
   "outputs": [],
   "source": [
    "# minMax\n",
    "from sklearn.preprocessing import MinMaxScaler\n",
    "\n",
    "# Scaler 객체 생성\n",
    "scaler = MinMaxScaler()\n",
    "X_scaled = scaler.fit_transform(X_train)\n",
    "X_test_scaled = scaler.transform(X_test)\n",
    "\n",
    "# DataFrame\n",
    "X_scaled = pd.DataFrame(X_scaled, columns=X_train.columns)\n",
    "X_test_scaled = pd.DataFrame(X_test_scaled, columns=X_test.columns)"
   ]
  },
  {
   "cell_type": "code",
   "execution_count": 8,
   "id": "ec03f25e",
   "metadata": {},
   "outputs": [
    {
     "data": {
      "text/plain": [
       "365652    4.716003\n",
       "365653    4.722634\n",
       "365654    4.380211\n",
       "365655    5.079181\n",
       "365656    4.361728\n",
       "            ...   \n",
       "436011    5.054996\n",
       "436012    5.139879\n",
       "436013    5.235528\n",
       "436014    4.568202\n",
       "436015    4.883661\n",
       "Name: 물건금액(만원), Length: 70364, dtype: float64"
      ]
     },
     "execution_count": 8,
     "metadata": {},
     "output_type": "execute_result"
    }
   ],
   "source": [
    "# y -> log 변환\n",
    "\n",
    "# Train\n",
    "y_scaled = np.log10(y)\n",
    "# y_scaled\n",
    "\n",
    "# Test\n",
    "y_test_scaled = np.log10(y_test)\n",
    "y_test_scaled"
   ]
  },
  {
   "attachments": {},
   "cell_type": "markdown",
   "id": "f68d1a9c",
   "metadata": {},
   "source": [
    "# OLS 확인"
   ]
  },
  {
   "cell_type": "code",
   "execution_count": 9,
   "id": "e293b698",
   "metadata": {},
   "outputs": [
    {
     "data": {
      "text/html": [
       "<table class=\"simpletable\">\n",
       "<caption>OLS Regression Results</caption>\n",
       "<tr>\n",
       "  <th>Dep. Variable:</th>        <td>물건금액(만원)</td>     <th>  R-squared:         </th>  <td>   0.451</td> \n",
       "</tr>\n",
       "<tr>\n",
       "  <th>Model:</th>                   <td>OLS</td>       <th>  Adj. R-squared:    </th>  <td>   0.451</td> \n",
       "</tr>\n",
       "<tr>\n",
       "  <th>Method:</th>             <td>Least Squares</td>  <th>  F-statistic:       </th>  <td>3.753e+04</td>\n",
       "</tr>\n",
       "<tr>\n",
       "  <th>Date:</th>             <td>Wed, 05 Jul 2023</td> <th>  Prob (F-statistic):</th>   <td>  0.00</td>  \n",
       "</tr>\n",
       "<tr>\n",
       "  <th>Time:</th>                 <td>00:28:27</td>     <th>  Log-Likelihood:    </th> <td>1.1780e+05</td>\n",
       "</tr>\n",
       "<tr>\n",
       "  <th>No. Observations:</th>      <td>365652</td>      <th>  AIC:               </th> <td>-2.356e+05</td>\n",
       "</tr>\n",
       "<tr>\n",
       "  <th>Df Residuals:</th>          <td>365643</td>      <th>  BIC:               </th> <td>-2.355e+05</td>\n",
       "</tr>\n",
       "<tr>\n",
       "  <th>Df Model:</th>              <td>     8</td>      <th>                     </th>      <td> </td>    \n",
       "</tr>\n",
       "<tr>\n",
       "  <th>Covariance Type:</th>      <td>nonrobust</td>    <th>                     </th>      <td> </td>    \n",
       "</tr>\n",
       "</table>\n",
       "<table class=\"simpletable\">\n",
       "<tr>\n",
       "       <td></td>          <th>coef</th>     <th>std err</th>      <th>t</th>      <th>P>|t|</th>  <th>[0.025</th>    <th>0.975]</th>  \n",
       "</tr>\n",
       "<tr>\n",
       "  <th>const</th>       <td>    4.3577</td> <td>    0.003</td> <td> 1513.826</td> <td> 0.000</td> <td>    4.352</td> <td>    4.363</td>\n",
       "</tr>\n",
       "<tr>\n",
       "  <th>건물면적(㎡)</th>     <td>    0.5432</td> <td>    0.001</td> <td>  441.738</td> <td> 0.000</td> <td>    0.541</td> <td>    0.546</td>\n",
       "</tr>\n",
       "<tr>\n",
       "  <th>층</th>           <td>    0.2932</td> <td>    0.004</td> <td>   82.318</td> <td> 0.000</td> <td>    0.286</td> <td>    0.300</td>\n",
       "</tr>\n",
       "<tr>\n",
       "  <th>Fed기준금리</th>     <td>   -0.1114</td> <td>    0.002</td> <td>  -67.941</td> <td> 0.000</td> <td>   -0.115</td> <td>   -0.108</td>\n",
       "</tr>\n",
       "<tr>\n",
       "  <th>건물연식</th>        <td>   -0.0395</td> <td>    0.002</td> <td>  -20.673</td> <td> 0.000</td> <td>   -0.043</td> <td>   -0.036</td>\n",
       "</tr>\n",
       "<tr>\n",
       "  <th>GDP대비가계부채비율</th> <td>    0.1369</td> <td>    0.002</td> <td>   66.413</td> <td> 0.000</td> <td>    0.133</td> <td>    0.141</td>\n",
       "</tr>\n",
       "<tr>\n",
       "  <th>EPU</th>         <td>   -0.0244</td> <td>    0.002</td> <td>  -14.182</td> <td> 0.000</td> <td>   -0.028</td> <td>   -0.021</td>\n",
       "</tr>\n",
       "<tr>\n",
       "  <th>장단기금리spread</th> <td>    0.0109</td> <td>    0.001</td> <td>    7.350</td> <td> 0.000</td> <td>    0.008</td> <td>    0.014</td>\n",
       "</tr>\n",
       "<tr>\n",
       "  <th>LTV</th>         <td>   -0.1984</td> <td>    0.002</td> <td> -105.121</td> <td> 0.000</td> <td>   -0.202</td> <td>   -0.195</td>\n",
       "</tr>\n",
       "</table>\n",
       "<table class=\"simpletable\">\n",
       "<tr>\n",
       "  <th>Omnibus:</th>       <td>20757.078</td> <th>  Durbin-Watson:     </th> <td>   1.912</td> \n",
       "</tr>\n",
       "<tr>\n",
       "  <th>Prob(Omnibus):</th>  <td> 0.000</td>   <th>  Jarque-Bera (JB):  </th> <td>26283.821</td>\n",
       "</tr>\n",
       "<tr>\n",
       "  <th>Skew:</th>           <td> 0.559</td>   <th>  Prob(JB):          </th> <td>    0.00</td> \n",
       "</tr>\n",
       "<tr>\n",
       "  <th>Kurtosis:</th>       <td> 3.688</td>   <th>  Cond. No.          </th> <td>    23.6</td> \n",
       "</tr>\n",
       "</table><br/><br/>Notes:<br/>[1] Standard Errors assume that the covariance matrix of the errors is correctly specified."
      ],
      "text/latex": [
       "\\begin{center}\n",
       "\\begin{tabular}{lclc}\n",
       "\\toprule\n",
       "\\textbf{Dep. Variable:}    &     물건금액(만원)     & \\textbf{  R-squared:         } &     0.451   \\\\\n",
       "\\textbf{Model:}            &       OLS        & \\textbf{  Adj. R-squared:    } &     0.451   \\\\\n",
       "\\textbf{Method:}           &  Least Squares   & \\textbf{  F-statistic:       } & 3.753e+04   \\\\\n",
       "\\textbf{Date:}             & Wed, 05 Jul 2023 & \\textbf{  Prob (F-statistic):} &     0.00    \\\\\n",
       "\\textbf{Time:}             &     00:28:27     & \\textbf{  Log-Likelihood:    } & 1.1780e+05  \\\\\n",
       "\\textbf{No. Observations:} &      365652      & \\textbf{  AIC:               } & -2.356e+05  \\\\\n",
       "\\textbf{Df Residuals:}     &      365643      & \\textbf{  BIC:               } & -2.355e+05  \\\\\n",
       "\\textbf{Df Model:}         &           8      & \\textbf{                     } &             \\\\\n",
       "\\textbf{Covariance Type:}  &    nonrobust     & \\textbf{                     } &             \\\\\n",
       "\\bottomrule\n",
       "\\end{tabular}\n",
       "\\begin{tabular}{lcccccc}\n",
       "                     & \\textbf{coef} & \\textbf{std err} & \\textbf{t} & \\textbf{P$> |$t$|$} & \\textbf{[0.025} & \\textbf{0.975]}  \\\\\n",
       "\\midrule\n",
       "\\textbf{const}       &       4.3577  &        0.003     &  1513.826  &         0.000        &        4.352    &        4.363     \\\\\n",
       "\\textbf{건물면적(㎡)}     &       0.5432  &        0.001     &   441.738  &         0.000        &        0.541    &        0.546     \\\\\n",
       "\\textbf{층}           &       0.2932  &        0.004     &    82.318  &         0.000        &        0.286    &        0.300     \\\\\n",
       "\\textbf{Fed기준금리}     &      -0.1114  &        0.002     &   -67.941  &         0.000        &       -0.115    &       -0.108     \\\\\n",
       "\\textbf{건물연식}        &      -0.0395  &        0.002     &   -20.673  &         0.000        &       -0.043    &       -0.036     \\\\\n",
       "\\textbf{GDP대비가계부채비율} &       0.1369  &        0.002     &    66.413  &         0.000        &        0.133    &        0.141     \\\\\n",
       "\\textbf{EPU}         &      -0.0244  &        0.002     &   -14.182  &         0.000        &       -0.028    &       -0.021     \\\\\n",
       "\\textbf{장단기금리spread} &       0.0109  &        0.001     &     7.350  &         0.000        &        0.008    &        0.014     \\\\\n",
       "\\textbf{LTV}         &      -0.1984  &        0.002     &  -105.121  &         0.000        &       -0.202    &       -0.195     \\\\\n",
       "\\bottomrule\n",
       "\\end{tabular}\n",
       "\\begin{tabular}{lclc}\n",
       "\\textbf{Omnibus:}       & 20757.078 & \\textbf{  Durbin-Watson:     } &     1.912  \\\\\n",
       "\\textbf{Prob(Omnibus):} &    0.000  & \\textbf{  Jarque-Bera (JB):  } & 26283.821  \\\\\n",
       "\\textbf{Skew:}          &    0.559  & \\textbf{  Prob(JB):          } &      0.00  \\\\\n",
       "\\textbf{Kurtosis:}      &    3.688  & \\textbf{  Cond. No.          } &      23.6  \\\\\n",
       "\\bottomrule\n",
       "\\end{tabular}\n",
       "%\\caption{OLS Regression Results}\n",
       "\\end{center}\n",
       "\n",
       "Notes: \\newline\n",
       " [1] Standard Errors assume that the covariance matrix of the errors is correctly specified."
      ],
      "text/plain": [
       "<class 'statsmodels.iolib.summary.Summary'>\n",
       "\"\"\"\n",
       "                            OLS Regression Results                            \n",
       "==============================================================================\n",
       "Dep. Variable:               물건금액(만원)   R-squared:                       0.451\n",
       "Model:                            OLS   Adj. R-squared:                  0.451\n",
       "Method:                 Least Squares   F-statistic:                 3.753e+04\n",
       "Date:                Wed, 05 Jul 2023   Prob (F-statistic):               0.00\n",
       "Time:                        00:28:27   Log-Likelihood:             1.1780e+05\n",
       "No. Observations:              365652   AIC:                        -2.356e+05\n",
       "Df Residuals:                  365643   BIC:                        -2.355e+05\n",
       "Df Model:                           8                                         \n",
       "Covariance Type:            nonrobust                                         \n",
       "===============================================================================\n",
       "                  coef    std err          t      P>|t|      [0.025      0.975]\n",
       "-------------------------------------------------------------------------------\n",
       "const           4.3577      0.003   1513.826      0.000       4.352       4.363\n",
       "건물면적(㎡)         0.5432      0.001    441.738      0.000       0.541       0.546\n",
       "층               0.2932      0.004     82.318      0.000       0.286       0.300\n",
       "Fed기준금리        -0.1114      0.002    -67.941      0.000      -0.115      -0.108\n",
       "건물연식           -0.0395      0.002    -20.673      0.000      -0.043      -0.036\n",
       "GDP대비가계부채비율     0.1369      0.002     66.413      0.000       0.133       0.141\n",
       "EPU            -0.0244      0.002    -14.182      0.000      -0.028      -0.021\n",
       "장단기금리spread     0.0109      0.001      7.350      0.000       0.008       0.014\n",
       "LTV            -0.1984      0.002   -105.121      0.000      -0.202      -0.195\n",
       "==============================================================================\n",
       "Omnibus:                    20757.078   Durbin-Watson:                   1.912\n",
       "Prob(Omnibus):                  0.000   Jarque-Bera (JB):            26283.821\n",
       "Skew:                           0.559   Prob(JB):                         0.00\n",
       "Kurtosis:                       3.688   Cond. No.                         23.6\n",
       "==============================================================================\n",
       "\n",
       "Notes:\n",
       "[1] Standard Errors assume that the covariance matrix of the errors is correctly specified.\n",
       "\"\"\""
      ]
     },
     "execution_count": 9,
     "metadata": {},
     "output_type": "execute_result"
    }
   ],
   "source": [
    "# OLS_확인\n",
    "# 스케일링 후 predict\n",
    "import statsmodels.api as sm\n",
    "\n",
    "feature_add = sm.add_constant(X_scaled, has_constant='add')\n",
    "\n",
    "# sm OLS 적합\n",
    "model = sm.OLS(y_scaled , feature_add)\n",
    "fitted_model = model.fit()\n",
    "\n",
    "# summary 함수통해 결과출력\n",
    "fitted_model.summary()"
   ]
  },
  {
   "attachments": {},
   "cell_type": "markdown",
   "id": "d5177a30",
   "metadata": {},
   "source": [
    "# VIF 확인"
   ]
  },
  {
   "cell_type": "code",
   "execution_count": 10,
   "id": "832046bd",
   "metadata": {},
   "outputs": [],
   "source": [
    "from statsmodels.stats.outliers_influence import variance_inflation_factor\n",
    "\n",
    "def feature_engineering_XbyVIF(X_scaled):\n",
    "    vif = pd.DataFrame()\n",
    "    vif[\"VIF_Factor\"] = [variance_inflation_factor(X_scaled.values,i)\n",
    "                         for i in range(X_scaled.shape[1])]\n",
    "    vif[\"Feature\"] = X_scaled.columns\n",
    "    return vif"
   ]
  },
  {
   "cell_type": "code",
   "execution_count": 11,
   "id": "f361efa9",
   "metadata": {},
   "outputs": [
    {
     "name": "stdout",
     "output_type": "stream",
     "text": [
      "   VIF_Factor      Feature\n",
      "0    9.954971      건물면적(㎡)\n",
      "1    5.138220            층\n",
      "2    4.334792      Fed기준금리\n",
      "3    5.419050         건물연식\n",
      "4    5.451802  GDP대비가계부채비율\n",
      "5    3.478732          EPU\n",
      "6    8.511075  장단기금리spread\n",
      "7    8.673380          LTV\n"
     ]
    }
   ],
   "source": [
    "vif = feature_engineering_XbyVIF(X_scaled)\n",
    "print(vif)"
   ]
  },
  {
   "attachments": {},
   "cell_type": "markdown",
   "id": "dad57ffb",
   "metadata": {},
   "source": [
    "# LinearRegression"
   ]
  },
  {
   "attachments": {},
   "cell_type": "markdown",
   "id": "ad54eaa9",
   "metadata": {},
   "source": [
    "## CV - R2, MSE"
   ]
  },
  {
   "cell_type": "code",
   "execution_count": 12,
   "id": "f154f152",
   "metadata": {},
   "outputs": [],
   "source": [
    "# X_test 컬럼 -> X_scaled 기준(train)으로 맞추기  \n",
    "X_test_scaled=X_test_scaled[X_scaled.columns]"
   ]
  },
  {
   "attachments": {},
   "cell_type": "markdown",
   "id": "3652c30b",
   "metadata": {},
   "source": [
    "## 교차검증"
   ]
  },
  {
   "cell_type": "code",
   "execution_count": 13,
   "id": "d7396456",
   "metadata": {},
   "outputs": [
    {
     "name": "stdout",
     "output_type": "stream",
     "text": [
      "Fold 1: Train Score_r2 = 0.44515,           Validation Score_r2 = 0.3341\n",
      "      Train Score_mse = 0.03171,           Validation Score_mse = 0.02748\n",
      "\n",
      "\n",
      "Fold 2: Train Score_r2 = 0.46188,           Validation Score_r2 = 0.32398\n",
      "      Train Score_mse = 0.03136,           Validation Score_mse = 0.02901\n",
      "\n",
      "\n",
      "Fold 3: Train Score_r2 = 0.47336,           Validation Score_r2 = 0.31826\n",
      "      Train Score_mse = 0.03067,           Validation Score_mse = 0.03187\n",
      "\n",
      "\n",
      "Fold 4: Train Score_r2 = 0.46764,           Validation Score_r2 = 0.25295\n",
      "      Train Score_mse = 0.0283,           Validation Score_mse = 0.04719\n",
      "\n",
      "\n",
      "Fold 5: Train Score_r2 = 0.40547,           Validation Score_r2 = 0.39249\n",
      "      Train Score_mse = 0.03064,           Validation Score_mse = 0.03712\n",
      "\n",
      "\n",
      "CV 평균 R2 : 0.3244\n",
      "CV 평균 MSE : 0.0345\n"
     ]
    }
   ],
   "source": [
    "# CV \n",
    "\n",
    "from sklearn.model_selection import cross_validate\n",
    "from sklearn.metrics import mean_squared_error, mean_absolute_error, r2_score\n",
    "from sklearn.linear_model import LinearRegression\n",
    "\n",
    "model = LinearRegression()\n",
    "\n",
    "# 교차 검증을 통해 모델 평가 및 추정기 반환\n",
    "cv_results = cross_validate(model, X_scaled, y_scaled, \n",
    "                            scoring= ('r2', 'neg_mean_squared_error'),cv=5, \n",
    "                            return_train_score=True, return_estimator=True)\n",
    "\n",
    "train_scores_r2 = cv_results['train_r2']  # 훈련 점수\n",
    "test_scores_r2 = cv_results['test_r2']    # 검증 점수\n",
    "train_scores_mse = -cv_results['train_neg_mean_squared_error']\n",
    "test_scores_mse = -cv_results['test_neg_mean_squared_error'] \n",
    "\n",
    "Validation_R2_score_mean = 0\n",
    "Validation_MSE_mean = 0\n",
    "\n",
    "# 훈련 점수와 검증 점수 출력\n",
    "for i in range(len(train_scores_r2)):\n",
    "   print(f\"Fold {i+1}: Train Score_r2 = {np.round(train_scores_r2[i],5)},\\\n",
    "           Validation Score_r2 = {np.round(test_scores_r2[i],5)}\")\n",
    "   print(f\"      Train Score_mse = {np.round(train_scores_mse[i],5)},\\\n",
    "           Validation Score_mse = {np.round(test_scores_mse[i],5)}\")\n",
    "   print('\\n')\n",
    "       # 마지막 평균 반환용\n",
    "   Validation_R2_score_mean += test_scores_r2[i]\n",
    "   Validation_MSE_mean += test_scores_mse[i]\n",
    "\n",
    "\n",
    "print(f'CV 평균 R2 : {np.round(Validation_R2_score_mean/5,4)}')\n",
    "print(f'CV 평균 MSE : {np.round(Validation_MSE_mean/5,4)}')"
   ]
  },
  {
   "attachments": {},
   "cell_type": "markdown",
   "id": "c3562847",
   "metadata": {},
   "source": [
    "# 평가지표 train and test 시각화"
   ]
  },
  {
   "cell_type": "code",
   "execution_count": 14,
   "id": "68b182e5",
   "metadata": {},
   "outputs": [
    {
     "data": {
      "image/png": "[encoded data removed]",
      "text/plain": [
       "<Figure size 640x480 with 1 Axes>"
      ]
     },
     "metadata": {},
     "output_type": "display_data"
    }
   ],
   "source": [
    "# R2\n",
    "import matplotlib.pyplot as plt\n",
    "\n",
    "train_scores = cv_results['train_r2']\n",
    "test_scores = cv_results['test_r2']\n",
    "\n",
    "# Fold 번호를 x축으로 설정하여 train_score와 test_score를 그래프로 출력\n",
    "fold_numbers = range(1, len(train_scores) + 1)\n",
    "\n",
    "plt.plot(fold_numbers, train_scores, label='Train Score')\n",
    "plt.plot(fold_numbers, test_scores, label='Test Score')\n",
    "\n",
    "plt.xlabel('Fold')\n",
    "plt.ylabel('Score')\n",
    "plt.title('Train Score vs Test Score')\n",
    "plt.legend()\n",
    "plt.show()"
   ]
  },
  {
   "cell_type": "code",
   "execution_count": 15,
   "id": "e4c4f06f",
   "metadata": {},
   "outputs": [
    {
     "data": {
      "image/png": "[encoded data removed]",
      "text/plain": [
       "<Figure size 640x480 with 1 Axes>"
      ]
     },
     "metadata": {},
     "output_type": "display_data"
    }
   ],
   "source": [
    "# MSE \n",
    "import matplotlib.pyplot as plt\n",
    "\n",
    "train_scores = -cv_results['train_neg_mean_squared_error']\n",
    "test_scores = -cv_results['test_neg_mean_squared_error']\n",
    "\n",
    "# Fold 번호를 x축으로 설정하여 train_score와 test_score를 그래프로 출력\n",
    "fold_numbers = range(1, len(train_scores) + 1)\n",
    "\n",
    "plt.plot(fold_numbers, train_scores, label='Train Score')\n",
    "plt.plot(fold_numbers, test_scores, label='Test Score')\n",
    "\n",
    "plt.xlabel('Fold')\n",
    "plt.ylabel('Score')\n",
    "plt.title('Train Score vs Test Score')\n",
    "plt.legend()\n",
    "plt.show()"
   ]
  },
  {
   "attachments": {},
   "cell_type": "markdown",
   "id": "7bbffe86",
   "metadata": {},
   "source": [
    "# Model 확정\n",
    "- R2 그래프상 train & test 점수차이가 가장 적게 나는 모델 확정\n",
    "- 최종 다섯 번째로 확정"
   ]
  },
  {
   "cell_type": "code",
   "execution_count": 16,
   "id": "760bcb9c",
   "metadata": {},
   "outputs": [
    {
     "name": "stdout",
     "output_type": "stream",
     "text": [
      "MSE : 0.051, RMSE :  0.225, MAE: 0.225\n",
      "Variance score :  0.518\n",
      "\n",
      "\n"
     ]
    }
   ],
   "source": [
    "# 최종 모델 - Predict & 평가지표\n",
    "\n",
    "y_pred = cv_results['estimator'][4].predict(X_test_scaled)\n",
    "mse = mean_squared_error(y_test_scaled, y_pred)\n",
    "rmse = np.sqrt(mse)\n",
    "mae = mean_absolute_error(y_test_scaled,y_pred)\n",
    "print('MSE : {0:.3f}, RMSE : {1: .3f}, MAE:{1: .3f}'.format(mse, rmse, mae))\n",
    "print('Variance score : {0: .3f}'.format(r2_score(y_test_scaled, y_pred)))\n",
    "print('\\n')"
   ]
  },
  {
   "cell_type": "code",
   "execution_count": 17,
   "id": "eeae7529",
   "metadata": {},
   "outputs": [
    {
     "data": {
      "text/html": [
       "<div>\n",
       "<style scoped>\n",
       "    .dataframe tbody tr th:only-of-type {\n",
       "        vertical-align: middle;\n",
       "    }\n",
       "\n",
       "    .dataframe tbody tr th {\n",
       "        vertical-align: top;\n",
       "    }\n",
       "\n",
       "    .dataframe thead th {\n",
       "        text-align: right;\n",
       "    }\n",
       "</style>\n",
       "<table border=\"1\" class=\"dataframe\">\n",
       "  <thead>\n",
       "    <tr style=\"text-align: right;\">\n",
       "      <th></th>\n",
       "      <th>회귀계수</th>\n",
       "    </tr>\n",
       "  </thead>\n",
       "  <tbody>\n",
       "    <tr>\n",
       "      <th>건물면적(㎡)</th>\n",
       "      <td>0.551897</td>\n",
       "    </tr>\n",
       "    <tr>\n",
       "      <th>층</th>\n",
       "      <td>0.314956</td>\n",
       "    </tr>\n",
       "    <tr>\n",
       "      <th>GDP대비가계부채비율</th>\n",
       "      <td>0.107052</td>\n",
       "    </tr>\n",
       "    <tr>\n",
       "      <th>장단기금리spread</th>\n",
       "      <td>-0.012760</td>\n",
       "    </tr>\n",
       "    <tr>\n",
       "      <th>EPU</th>\n",
       "      <td>-0.040458</td>\n",
       "    </tr>\n",
       "    <tr>\n",
       "      <th>건물연식</th>\n",
       "      <td>-0.051686</td>\n",
       "    </tr>\n",
       "    <tr>\n",
       "      <th>Fed기준금리</th>\n",
       "      <td>-0.131991</td>\n",
       "    </tr>\n",
       "    <tr>\n",
       "      <th>LTV</th>\n",
       "      <td>-0.207104</td>\n",
       "    </tr>\n",
       "  </tbody>\n",
       "</table>\n",
       "</div>"
      ],
      "text/plain": [
       "                 회귀계수\n",
       "건물면적(㎡)      0.551897\n",
       "층            0.314956\n",
       "GDP대비가계부채비율  0.107052\n",
       "장단기금리spread -0.012760\n",
       "EPU         -0.040458\n",
       "건물연식        -0.051686\n",
       "Fed기준금리     -0.131991\n",
       "LTV         -0.207104"
      ]
     },
     "execution_count": 17,
     "metadata": {},
     "output_type": "execute_result"
    }
   ],
   "source": [
    "# test 계수 결과 DF \n",
    "\n",
    "test_result = pd.DataFrame(data= cv_results['estimator'][4].coef_, index = X_scaled.columns)\n",
    "\n",
    "test_result.columns = ['회귀계수']\n",
    "\n",
    "test_result.sort_values('회귀계수', ascending=False)"
   ]
  },
  {
   "attachments": {},
   "cell_type": "markdown",
   "id": "90e92d97",
   "metadata": {},
   "source": [
    "# Ridge & Lasso"
   ]
  },
  {
   "attachments": {},
   "cell_type": "markdown",
   "id": "84e54ed4",
   "metadata": {},
   "source": [
    "## Ridge"
   ]
  },
  {
   "cell_type": "code",
   "execution_count": 18,
   "id": "5947d79a",
   "metadata": {},
   "outputs": [
    {
     "data": {
      "image/png": "[encoded data removed]",
      "text/plain": [
       "<Figure size 640x480 with 1 Axes>"
      ]
     },
     "metadata": {},
     "output_type": "display_data"
    }
   ],
   "source": [
    "# Ridge\n",
    "from sklearn.linear_model import Ridge\n",
    "ridge = Ridge()\n",
    "ridge.fit(X_scaled, y_scaled)\n",
    "\n",
    "import matplotlib.pyplot as plt\n",
    "train_score = []\n",
    "test_score = []\n",
    "\n",
    "alpha_list = [0.001, 0.01, 0.1, 1, 10, 100]\n",
    "for alpha in alpha_list:\n",
    "    ridge = Ridge(alpha=alpha)\n",
    "    ridge.fit(X_scaled, y_scaled)\n",
    "    train_score.append(ridge.score(X_scaled, y_scaled))\n",
    "    test_score.append(ridge.score(X_test_scaled, y_test_scaled))\n",
    "\n",
    "plt.plot(np.log10(alpha_list), train_score, label='Train Score')\n",
    "plt.plot(np.log10(alpha_list), test_score, label='Test Score')\n",
    "plt.xlabel('alpha')\n",
    "plt.ylabel('r2_score')\n",
    "plt.legend()\n",
    "plt.show()"
   ]
  },
  {
   "attachments": {},
   "cell_type": "markdown",
   "id": "4660eab3",
   "metadata": {},
   "source": [
    "- 기본값 alpha = 1.0으로 진행"
   ]
  },
  {
   "attachments": {},
   "cell_type": "markdown",
   "id": "8d86b89f",
   "metadata": {},
   "source": [
    "# CV"
   ]
  },
  {
   "cell_type": "code",
   "execution_count": 19,
   "id": "41e50c05",
   "metadata": {},
   "outputs": [
    {
     "name": "stdout",
     "output_type": "stream",
     "text": [
      "Fold 1: Train Score_r2 = 0.44515,           Validation Score_r2 = 0.33412\n",
      "      Train Score_mse = 0.03171,           Validation Score_mse = 0.02748\n",
      "\n",
      "\n",
      "Fold 2: Train Score_r2 = 0.46188,           Validation Score_r2 = 0.324\n",
      "      Train Score_mse = 0.03136,           Validation Score_mse = 0.02901\n",
      "\n",
      "\n",
      "Fold 3: Train Score_r2 = 0.47336,           Validation Score_r2 = 0.31828\n",
      "      Train Score_mse = 0.03067,           Validation Score_mse = 0.03187\n",
      "\n",
      "\n",
      "Fold 4: Train Score_r2 = 0.46764,           Validation Score_r2 = 0.253\n",
      "      Train Score_mse = 0.0283,           Validation Score_mse = 0.04719\n",
      "\n",
      "\n",
      "Fold 5: Train Score_r2 = 0.40547,           Validation Score_r2 = 0.39283\n",
      "      Train Score_mse = 0.03064,           Validation Score_mse = 0.0371\n",
      "\n",
      "\n",
      "CV 평균 R2 : 0.3244\n",
      "CV 평균 MSE : 0.0345\n"
     ]
    }
   ],
   "source": [
    "# CV \n",
    "\n",
    "from sklearn.model_selection import cross_validate\n",
    "from sklearn.metrics import mean_squared_error, mean_absolute_error, r2_score\n",
    "from sklearn.linear_model import LinearRegression\n",
    "\n",
    "ridge = Ridge()\n",
    "ridge.fit(X_scaled, y_scaled)\n",
    "# 교차 검증을 통해 모델 평가 및 추정기 반환\n",
    "cv_results = cross_validate(ridge, X_scaled, y_scaled, \n",
    "                            scoring= ('r2', 'neg_mean_squared_error'),cv=5, \n",
    "                            return_train_score=True, return_estimator=True)\n",
    "\n",
    "train_scores_r2 = cv_results['train_r2']  # 훈련 점수\n",
    "test_scores_r2 = cv_results['test_r2']    # 검증 점수\n",
    "train_scores_mse = -cv_results['train_neg_mean_squared_error']\n",
    "test_scores_mse = -cv_results['test_neg_mean_squared_error'] \n",
    "\n",
    "Validation_R2_score_mean = 0\n",
    "Validation_MSE_mean = 0\n",
    "\n",
    "# 훈련 점수와 검증 점수 출력\n",
    "for i in range(len(train_scores_r2)):\n",
    "   print(f\"Fold {i+1}: Train Score_r2 = {np.round(train_scores_r2[i],5)},\\\n",
    "           Validation Score_r2 = {np.round(test_scores_r2[i],5)}\")\n",
    "   print(f\"      Train Score_mse = {np.round(train_scores_mse[i],5)},\\\n",
    "           Validation Score_mse = {np.round(test_scores_mse[i],5)}\")\n",
    "   print('\\n')\n",
    "       # 마지막 평균 반환용\n",
    "   Validation_R2_score_mean += test_scores_r2[i]\n",
    "   Validation_MSE_mean += test_scores_mse[i]\n",
    "\n",
    "\n",
    "print(f'CV 평균 R2 : {np.round(Validation_R2_score_mean/5,4)}')\n",
    "print(f'CV 평균 MSE : {np.round(Validation_MSE_mean/5,4)}')"
   ]
  },
  {
   "attachments": {},
   "cell_type": "markdown",
   "id": "e592e47d",
   "metadata": {},
   "source": [
    "# 평가지표 train and test 차이 시각화"
   ]
  },
  {
   "cell_type": "code",
   "execution_count": 20,
   "id": "fde7ef67",
   "metadata": {},
   "outputs": [
    {
     "data": {
      "image/png": "[encoded data removed]",
      "text/plain": [
       "<Figure size 640x480 with 1 Axes>"
      ]
     },
     "metadata": {},
     "output_type": "display_data"
    }
   ],
   "source": [
    "import matplotlib.pyplot as plt\n",
    "\n",
    "train_scores = cv_results['train_r2']\n",
    "test_scores = cv_results['test_r2']\n",
    "\n",
    "# Fold 번호를 x축으로 설정하여 train_score와 test_score를 그래프로 출력\n",
    "fold_numbers = range(1, len(train_scores) + 1)\n",
    "\n",
    "plt.plot(fold_numbers, train_scores, label='Train Score')\n",
    "plt.plot(fold_numbers, test_scores, label='Test Score')\n",
    "\n",
    "plt.xlabel('Fold')\n",
    "plt.ylabel('Score')\n",
    "plt.title('Train Score vs Test Score')\n",
    "plt.legend()\n",
    "plt.show()"
   ]
  },
  {
   "cell_type": "code",
   "execution_count": 21,
   "id": "811a1394",
   "metadata": {},
   "outputs": [
    {
     "name": "stdout",
     "output_type": "stream",
     "text": [
      "0.4508879903399251\n",
      "0.6418183299472753\n"
     ]
    }
   ],
   "source": [
    "# ridge의 train, test r2 확인\n",
    "from sklearn.linear_model import Ridge\n",
    "ridge = Ridge()\n",
    "ridge.fit(X_scaled, y_scaled)\n",
    "print(ridge.score(X_scaled, y_scaled))\n",
    "print(ridge.score(X_test_scaled, y_test_scaled))"
   ]
  },
  {
   "cell_type": "code",
   "execution_count": 22,
   "id": "d409956b",
   "metadata": {},
   "outputs": [
    {
     "name": "stdout",
     "output_type": "stream",
     "text": [
      "MSE : 0.038, RMSE :  0.194, MAE: 0.194\n",
      "Variance score :  0.642\n",
      "\n",
      "\n"
     ]
    }
   ],
   "source": [
    "# 최종 모델 - Predict & 평가지표\n",
    "# Train 전체로 학습 시\n",
    "ridge.fit(X_scaled, y_scaled)\n",
    "y_pred = ridge.predict(X_test_scaled)\n",
    "mse = mean_squared_error(y_test_scaled, y_pred)\n",
    "rmse = np.sqrt(mse)\n",
    "mae = mean_absolute_error(y_test_scaled,y_pred)\n",
    "print('MSE : {0:.3f}, RMSE : {1: .3f}, MAE:{1: .3f}'.format(mse, rmse, mae))\n",
    "print('Variance score : {0: .3f}'.format(r2_score(y_test_scaled, y_pred)))\n",
    "print('\\n')"
   ]
  },
  {
   "cell_type": "code",
   "execution_count": 23,
   "id": "3ebb1cbe",
   "metadata": {},
   "outputs": [
    {
     "name": "stdout",
     "output_type": "stream",
     "text": [
      "MSE : 0.051, RMSE :  0.225, MAE: 0.225\n",
      "Variance score :  0.518\n",
      "\n",
      "\n"
     ]
    }
   ],
   "source": [
    "# 최종 모델 - Predict & 평가지표\n",
    "\n",
    "y_pred = cv_results['estimator'][4].predict(X_test_scaled)\n",
    "mse = mean_squared_error(y_test_scaled, y_pred)\n",
    "rmse = np.sqrt(mse)\n",
    "mae = mean_absolute_error(y_test_scaled,y_pred)\n",
    "print('MSE : {0:.3f}, RMSE : {1: .3f}, MAE:{1: .3f}'.format(mse, rmse, mae))\n",
    "print('Variance score : {0: .3f}'.format(r2_score(y_test_scaled, y_pred)))\n",
    "print('\\n')"
   ]
  },
  {
   "cell_type": "code",
   "execution_count": 24,
   "id": "bb0c540a",
   "metadata": {},
   "outputs": [
    {
     "data": {
      "text/html": [
       "<div>\n",
       "<style scoped>\n",
       "    .dataframe tbody tr th:only-of-type {\n",
       "        vertical-align: middle;\n",
       "    }\n",
       "\n",
       "    .dataframe tbody tr th {\n",
       "        vertical-align: top;\n",
       "    }\n",
       "\n",
       "    .dataframe thead th {\n",
       "        text-align: right;\n",
       "    }\n",
       "</style>\n",
       "<table border=\"1\" class=\"dataframe\">\n",
       "  <thead>\n",
       "    <tr style=\"text-align: right;\">\n",
       "      <th></th>\n",
       "      <th>회귀계수</th>\n",
       "    </tr>\n",
       "  </thead>\n",
       "  <tbody>\n",
       "    <tr>\n",
       "      <th>건물면적(㎡)</th>\n",
       "      <td>0.535527</td>\n",
       "    </tr>\n",
       "    <tr>\n",
       "      <th>GDP대비가계부채비율</th>\n",
       "      <td>0.362445</td>\n",
       "    </tr>\n",
       "    <tr>\n",
       "      <th>층</th>\n",
       "      <td>0.271631</td>\n",
       "    </tr>\n",
       "    <tr>\n",
       "      <th>Fed기준금리</th>\n",
       "      <td>-0.006598</td>\n",
       "    </tr>\n",
       "    <tr>\n",
       "      <th>LTV</th>\n",
       "      <td>-0.014522</td>\n",
       "    </tr>\n",
       "    <tr>\n",
       "      <th>EPU</th>\n",
       "      <td>-0.024953</td>\n",
       "    </tr>\n",
       "    <tr>\n",
       "      <th>건물연식</th>\n",
       "      <td>-0.035347</td>\n",
       "    </tr>\n",
       "    <tr>\n",
       "      <th>장단기금리spread</th>\n",
       "      <td>-0.043557</td>\n",
       "    </tr>\n",
       "  </tbody>\n",
       "</table>\n",
       "</div>"
      ],
      "text/plain": [
       "                 회귀계수\n",
       "건물면적(㎡)      0.535527\n",
       "GDP대비가계부채비율  0.362445\n",
       "층            0.271631\n",
       "Fed기준금리     -0.006598\n",
       "LTV         -0.014522\n",
       "EPU         -0.024953\n",
       "건물연식        -0.035347\n",
       "장단기금리spread -0.043557"
      ]
     },
     "execution_count": 24,
     "metadata": {},
     "output_type": "execute_result"
    }
   ],
   "source": [
    "# Ridge 회귀계수\n",
    "ridge_df = pd.DataFrame(data =  cv_results['estimator'][4].coef_, index = X_scaled.columns)\n",
    "ridge_df.columns = ['회귀계수']\n",
    "ridge_df.sort_values(by = '회귀계수',ascending=False)"
   ]
  },
  {
   "cell_type": "code",
   "execution_count": 25,
   "id": "45f134f8",
   "metadata": {},
   "outputs": [
    {
     "name": "stdout",
     "output_type": "stream",
     "text": [
      "0.0\n",
      "-0.12223556156610971\n"
     ]
    }
   ],
   "source": [
    "# Lasso \n",
    "from sklearn.linear_model import Lasso\n",
    "lasso = Lasso()\n",
    "lasso.fit(X_scaled, y_scaled)\n",
    "print(lasso.score(X_scaled, y_scaled))\n",
    "print(lasso.score(X_test_scaled, y_test_scaled))"
   ]
  },
  {
   "cell_type": "code",
   "execution_count": 26,
   "id": "6738d46d",
   "metadata": {},
   "outputs": [
    {
     "data": {
      "text/plain": [
       "array([ True,  True,  True,  True,  True,  True,  True,  True])"
      ]
     },
     "execution_count": 26,
     "metadata": {},
     "output_type": "execute_result"
    }
   ],
   "source": [
    "lasso.coef_ == 0"
   ]
  }
 ],
 "metadata": {
  "kernelspec": {
   "display_name": "Python 3 (ipykernel)",
   "language": "python",
   "name": "python3"
  },
  "language_info": {
   "codemirror_mode": {
    "name": "ipython",
    "version": 3
   },
   "file_extension": ".py",
   "mimetype": "text/x-python",
   "name": "python",
   "nbconvert_exporter": "python",
   "pygments_lexer": "ipython3",
   "version": "3.11.3"
  }
 },
 "nbformat": 4,
 "nbformat_minor": 5
}
