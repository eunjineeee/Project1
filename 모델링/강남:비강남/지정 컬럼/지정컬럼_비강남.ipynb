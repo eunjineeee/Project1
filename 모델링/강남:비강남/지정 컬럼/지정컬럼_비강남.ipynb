{
 "cells": [
  {
   "cell_type": "code",
   "execution_count": 1,
   "metadata": {},
   "outputs": [],
   "source": [
    "import pandas as pd\n",
    "import numpy as np\n",
    "from sklearn.tree import DecisionTreeRegressor\n",
    "import pandas as pd\n",
    "import numpy as np\n",
    "import seaborn as sns\n",
    "import matplotlib.pyplot as plt\n",
    "from matplotlib import pyplot\n",
    "from sklearn.preprocessing import StandardScaler\n",
    "from sklearn.preprocessing import MinMaxScaler\n",
    "from matplotlib import rc\n",
    "from sklearn.model_selection import train_test_split\n",
    "from sklearn.metrics import mean_squared_error \n",
    "import datetime\n",
    "import warnings\n",
    "%matplotlib inline\n",
    "warnings.filterwarnings('ignore')\n",
    "\n",
    "import matplotlib\n",
    "# matplotlib.rcParams['font.family'] = 'Malgun Gothic'  # windows\n",
    "matplotlib.rcParams['font.family'] = 'AppleGothic'  # Mac\n",
    "matplotlib.rcParams['font.size'] = 15  # 글자크기\n",
    "matplotlib.rcParams['axes.unicode_minus'] = False # 한글 폰트 사용시 마이너스 꺠지지않게 해줌"
   ]
  },
  {
   "cell_type": "code",
   "execution_count": 2,
   "metadata": {},
   "outputs": [
    {
     "data": {
      "text/html": [
       "<div>\n",
       "<style scoped>\n",
       "    .dataframe tbody tr th:only-of-type {\n",
       "        vertical-align: middle;\n",
       "    }\n",
       "\n",
       "    .dataframe tbody tr th {\n",
       "        vertical-align: top;\n",
       "    }\n",
       "\n",
       "    .dataframe thead th {\n",
       "        text-align: right;\n",
       "    }\n",
       "</style>\n",
       "<table border=\"1\" class=\"dataframe\">\n",
       "  <thead>\n",
       "    <tr style=\"text-align: right;\">\n",
       "      <th></th>\n",
       "      <th>자치구</th>\n",
       "      <th>계약일</th>\n",
       "      <th>건물면적(㎡)</th>\n",
       "      <th>층</th>\n",
       "      <th>KOSPI종가</th>\n",
       "      <th>Fed기준금리</th>\n",
       "      <th>국제유가(Dubai)($/배럴)</th>\n",
       "      <th>부동산거래량</th>\n",
       "      <th>국고채5년(평균)</th>\n",
       "      <th>국고채10년(평균)</th>\n",
       "      <th>...</th>\n",
       "      <th>BOK기준금리</th>\n",
       "      <th>건물연식</th>\n",
       "      <th>GDP대비가계부채비율</th>\n",
       "      <th>환율종가</th>\n",
       "      <th>선행지수순환변동치</th>\n",
       "      <th>EPU</th>\n",
       "      <th>장단기금리spread</th>\n",
       "      <th>금값종가</th>\n",
       "      <th>LTV</th>\n",
       "      <th>물건금액(만원)</th>\n",
       "    </tr>\n",
       "  </thead>\n",
       "  <tbody>\n",
       "    <tr>\n",
       "      <th>0</th>\n",
       "      <td>노원구</td>\n",
       "      <td>2016-01-01</td>\n",
       "      <td>39.96</td>\n",
       "      <td>10</td>\n",
       "      <td>1961.310059</td>\n",
       "      <td>0.34</td>\n",
       "      <td>26.9</td>\n",
       "      <td>9894</td>\n",
       "      <td>1.77</td>\n",
       "      <td>2.03</td>\n",
       "      <td>...</td>\n",
       "      <td>1.50</td>\n",
       "      <td>25</td>\n",
       "      <td>83.3</td>\n",
       "      <td>1175.45</td>\n",
       "      <td>99.6</td>\n",
       "      <td>177.148845</td>\n",
       "      <td>0.14</td>\n",
       "      <td>1060.74</td>\n",
       "      <td>0.7</td>\n",
       "      <td>18000</td>\n",
       "    </tr>\n",
       "    <tr>\n",
       "      <th>1</th>\n",
       "      <td>성동구</td>\n",
       "      <td>2016-01-01</td>\n",
       "      <td>75.37</td>\n",
       "      <td>10</td>\n",
       "      <td>1961.310059</td>\n",
       "      <td>0.34</td>\n",
       "      <td>26.9</td>\n",
       "      <td>9894</td>\n",
       "      <td>1.77</td>\n",
       "      <td>2.03</td>\n",
       "      <td>...</td>\n",
       "      <td>1.50</td>\n",
       "      <td>26</td>\n",
       "      <td>83.3</td>\n",
       "      <td>1175.45</td>\n",
       "      <td>99.6</td>\n",
       "      <td>177.148845</td>\n",
       "      <td>0.14</td>\n",
       "      <td>1060.74</td>\n",
       "      <td>0.7</td>\n",
       "      <td>55200</td>\n",
       "    </tr>\n",
       "    <tr>\n",
       "      <th>2</th>\n",
       "      <td>금천구</td>\n",
       "      <td>2016-01-01</td>\n",
       "      <td>84.83</td>\n",
       "      <td>3</td>\n",
       "      <td>1961.310059</td>\n",
       "      <td>0.34</td>\n",
       "      <td>26.9</td>\n",
       "      <td>9894</td>\n",
       "      <td>1.77</td>\n",
       "      <td>2.03</td>\n",
       "      <td>...</td>\n",
       "      <td>1.50</td>\n",
       "      <td>14</td>\n",
       "      <td>83.3</td>\n",
       "      <td>1175.45</td>\n",
       "      <td>99.6</td>\n",
       "      <td>177.148845</td>\n",
       "      <td>0.14</td>\n",
       "      <td>1060.74</td>\n",
       "      <td>0.7</td>\n",
       "      <td>36800</td>\n",
       "    </tr>\n",
       "    <tr>\n",
       "      <th>3</th>\n",
       "      <td>은평구</td>\n",
       "      <td>2016-01-01</td>\n",
       "      <td>101.97</td>\n",
       "      <td>9</td>\n",
       "      <td>1961.310059</td>\n",
       "      <td>0.34</td>\n",
       "      <td>26.9</td>\n",
       "      <td>9894</td>\n",
       "      <td>1.77</td>\n",
       "      <td>2.03</td>\n",
       "      <td>...</td>\n",
       "      <td>1.50</td>\n",
       "      <td>6</td>\n",
       "      <td>83.3</td>\n",
       "      <td>1175.45</td>\n",
       "      <td>99.6</td>\n",
       "      <td>177.148845</td>\n",
       "      <td>0.14</td>\n",
       "      <td>1060.74</td>\n",
       "      <td>0.7</td>\n",
       "      <td>67600</td>\n",
       "    </tr>\n",
       "    <tr>\n",
       "      <th>4</th>\n",
       "      <td>노원구</td>\n",
       "      <td>2016-01-01</td>\n",
       "      <td>84.59</td>\n",
       "      <td>10</td>\n",
       "      <td>1961.310059</td>\n",
       "      <td>0.34</td>\n",
       "      <td>26.9</td>\n",
       "      <td>9894</td>\n",
       "      <td>1.77</td>\n",
       "      <td>2.03</td>\n",
       "      <td>...</td>\n",
       "      <td>1.50</td>\n",
       "      <td>26</td>\n",
       "      <td>83.3</td>\n",
       "      <td>1175.45</td>\n",
       "      <td>99.6</td>\n",
       "      <td>177.148845</td>\n",
       "      <td>0.14</td>\n",
       "      <td>1060.74</td>\n",
       "      <td>0.7</td>\n",
       "      <td>30300</td>\n",
       "    </tr>\n",
       "    <tr>\n",
       "      <th>...</th>\n",
       "      <td>...</td>\n",
       "      <td>...</td>\n",
       "      <td>...</td>\n",
       "      <td>...</td>\n",
       "      <td>...</td>\n",
       "      <td>...</td>\n",
       "      <td>...</td>\n",
       "      <td>...</td>\n",
       "      <td>...</td>\n",
       "      <td>...</td>\n",
       "      <td>...</td>\n",
       "      <td>...</td>\n",
       "      <td>...</td>\n",
       "      <td>...</td>\n",
       "      <td>...</td>\n",
       "      <td>...</td>\n",
       "      <td>...</td>\n",
       "      <td>...</td>\n",
       "      <td>...</td>\n",
       "      <td>...</td>\n",
       "      <td>...</td>\n",
       "    </tr>\n",
       "    <tr>\n",
       "      <th>435741</th>\n",
       "      <td>영등포구</td>\n",
       "      <td>2022-12-31</td>\n",
       "      <td>59.94</td>\n",
       "      <td>11</td>\n",
       "      <td>2236.399902</td>\n",
       "      <td>4.10</td>\n",
       "      <td>77.2</td>\n",
       "      <td>3698</td>\n",
       "      <td>3.59</td>\n",
       "      <td>3.54</td>\n",
       "      <td>...</td>\n",
       "      <td>3.25</td>\n",
       "      <td>26</td>\n",
       "      <td>105.0</td>\n",
       "      <td>1260.92</td>\n",
       "      <td>99.1</td>\n",
       "      <td>169.662386</td>\n",
       "      <td>0.39</td>\n",
       "      <td>1824.40</td>\n",
       "      <td>0.4</td>\n",
       "      <td>77000</td>\n",
       "    </tr>\n",
       "    <tr>\n",
       "      <th>435742</th>\n",
       "      <td>중랑구</td>\n",
       "      <td>2022-12-31</td>\n",
       "      <td>84.09</td>\n",
       "      <td>19</td>\n",
       "      <td>2236.399902</td>\n",
       "      <td>4.10</td>\n",
       "      <td>77.2</td>\n",
       "      <td>3698</td>\n",
       "      <td>3.59</td>\n",
       "      <td>3.54</td>\n",
       "      <td>...</td>\n",
       "      <td>3.25</td>\n",
       "      <td>28</td>\n",
       "      <td>105.0</td>\n",
       "      <td>1260.92</td>\n",
       "      <td>99.1</td>\n",
       "      <td>169.662386</td>\n",
       "      <td>0.39</td>\n",
       "      <td>1824.40</td>\n",
       "      <td>0.4</td>\n",
       "      <td>69250</td>\n",
       "    </tr>\n",
       "    <tr>\n",
       "      <th>435743</th>\n",
       "      <td>강서구</td>\n",
       "      <td>2022-12-31</td>\n",
       "      <td>84.98</td>\n",
       "      <td>15</td>\n",
       "      <td>2236.399902</td>\n",
       "      <td>4.10</td>\n",
       "      <td>77.2</td>\n",
       "      <td>3698</td>\n",
       "      <td>3.59</td>\n",
       "      <td>3.54</td>\n",
       "      <td>...</td>\n",
       "      <td>3.25</td>\n",
       "      <td>5</td>\n",
       "      <td>105.0</td>\n",
       "      <td>1260.92</td>\n",
       "      <td>99.1</td>\n",
       "      <td>169.662386</td>\n",
       "      <td>0.39</td>\n",
       "      <td>1824.40</td>\n",
       "      <td>0.2</td>\n",
       "      <td>113500</td>\n",
       "    </tr>\n",
       "    <tr>\n",
       "      <th>435744</th>\n",
       "      <td>양천구</td>\n",
       "      <td>2022-12-31</td>\n",
       "      <td>64.02</td>\n",
       "      <td>5</td>\n",
       "      <td>2236.399902</td>\n",
       "      <td>4.10</td>\n",
       "      <td>77.2</td>\n",
       "      <td>3698</td>\n",
       "      <td>3.59</td>\n",
       "      <td>3.54</td>\n",
       "      <td>...</td>\n",
       "      <td>3.25</td>\n",
       "      <td>26</td>\n",
       "      <td>105.0</td>\n",
       "      <td>1260.92</td>\n",
       "      <td>99.1</td>\n",
       "      <td>169.662386</td>\n",
       "      <td>0.39</td>\n",
       "      <td>1824.40</td>\n",
       "      <td>0.4</td>\n",
       "      <td>37000</td>\n",
       "    </tr>\n",
       "    <tr>\n",
       "      <th>435745</th>\n",
       "      <td>동대문구</td>\n",
       "      <td>2022-12-31</td>\n",
       "      <td>84.97</td>\n",
       "      <td>11</td>\n",
       "      <td>2236.399902</td>\n",
       "      <td>4.10</td>\n",
       "      <td>77.2</td>\n",
       "      <td>3698</td>\n",
       "      <td>3.59</td>\n",
       "      <td>3.54</td>\n",
       "      <td>...</td>\n",
       "      <td>3.25</td>\n",
       "      <td>19</td>\n",
       "      <td>105.0</td>\n",
       "      <td>1260.92</td>\n",
       "      <td>99.1</td>\n",
       "      <td>169.662386</td>\n",
       "      <td>0.39</td>\n",
       "      <td>1824.40</td>\n",
       "      <td>0.4</td>\n",
       "      <td>76500</td>\n",
       "    </tr>\n",
       "  </tbody>\n",
       "</table>\n",
       "<p>435746 rows × 22 columns</p>\n",
       "</div>"
      ],
      "text/plain": [
       "         자치구         계약일  건물면적(㎡)   층      KOSPI종가  Fed기준금리  \\\n",
       "0        노원구  2016-01-01    39.96  10  1961.310059     0.34   \n",
       "1        성동구  2016-01-01    75.37  10  1961.310059     0.34   \n",
       "2        금천구  2016-01-01    84.83   3  1961.310059     0.34   \n",
       "3        은평구  2016-01-01   101.97   9  1961.310059     0.34   \n",
       "4        노원구  2016-01-01    84.59  10  1961.310059     0.34   \n",
       "...      ...         ...      ...  ..          ...      ...   \n",
       "435741  영등포구  2022-12-31    59.94  11  2236.399902     4.10   \n",
       "435742   중랑구  2022-12-31    84.09  19  2236.399902     4.10   \n",
       "435743   강서구  2022-12-31    84.98  15  2236.399902     4.10   \n",
       "435744   양천구  2022-12-31    64.02   5  2236.399902     4.10   \n",
       "435745  동대문구  2022-12-31    84.97  11  2236.399902     4.10   \n",
       "\n",
       "        국제유가(Dubai)($/배럴)  부동산거래량  국고채5년(평균)  국고채10년(평균)  ...  BOK기준금리  건물연식  \\\n",
       "0                    26.9    9894       1.77        2.03  ...     1.50    25   \n",
       "1                    26.9    9894       1.77        2.03  ...     1.50    26   \n",
       "2                    26.9    9894       1.77        2.03  ...     1.50    14   \n",
       "3                    26.9    9894       1.77        2.03  ...     1.50     6   \n",
       "4                    26.9    9894       1.77        2.03  ...     1.50    26   \n",
       "...                   ...     ...        ...         ...  ...      ...   ...   \n",
       "435741               77.2    3698       3.59        3.54  ...     3.25    26   \n",
       "435742               77.2    3698       3.59        3.54  ...     3.25    28   \n",
       "435743               77.2    3698       3.59        3.54  ...     3.25     5   \n",
       "435744               77.2    3698       3.59        3.54  ...     3.25    26   \n",
       "435745               77.2    3698       3.59        3.54  ...     3.25    19   \n",
       "\n",
       "        GDP대비가계부채비율     환율종가  선행지수순환변동치         EPU  장단기금리spread     금값종가  \\\n",
       "0              83.3  1175.45       99.6  177.148845         0.14  1060.74   \n",
       "1              83.3  1175.45       99.6  177.148845         0.14  1060.74   \n",
       "2              83.3  1175.45       99.6  177.148845         0.14  1060.74   \n",
       "3              83.3  1175.45       99.6  177.148845         0.14  1060.74   \n",
       "4              83.3  1175.45       99.6  177.148845         0.14  1060.74   \n",
       "...             ...      ...        ...         ...          ...      ...   \n",
       "435741        105.0  1260.92       99.1  169.662386         0.39  1824.40   \n",
       "435742        105.0  1260.92       99.1  169.662386         0.39  1824.40   \n",
       "435743        105.0  1260.92       99.1  169.662386         0.39  1824.40   \n",
       "435744        105.0  1260.92       99.1  169.662386         0.39  1824.40   \n",
       "435745        105.0  1260.92       99.1  169.662386         0.39  1824.40   \n",
       "\n",
       "        LTV  물건금액(만원)  \n",
       "0       0.7     18000  \n",
       "1       0.7     55200  \n",
       "2       0.7     36800  \n",
       "3       0.7     67600  \n",
       "4       0.7     30300  \n",
       "...     ...       ...  \n",
       "435741  0.4     77000  \n",
       "435742  0.4     69250  \n",
       "435743  0.2    113500  \n",
       "435744  0.4     37000  \n",
       "435745  0.4     76500  \n",
       "\n",
       "[435746 rows x 22 columns]"
      ]
     },
     "execution_count": 2,
     "metadata": {},
     "output_type": "execute_result"
    }
   ],
   "source": [
    "df = pd.read_csv('./datasets/비강남.csv')\n",
    "df"
   ]
  },
  {
   "cell_type": "code",
   "execution_count": 3,
   "metadata": {},
   "outputs": [],
   "source": [
    "# 원하는 컬럼 선택\n",
    "df = df[['자치구','계약일','건물면적(㎡)', '층', 'Fed기준금리','건물연식', 'GDP대비가계부채비율','EPU', '장단기금리spread','LTV', '물건금액(만원)']]"
   ]
  },
  {
   "cell_type": "code",
   "execution_count": 4,
   "metadata": {},
   "outputs": [],
   "source": [
    "# Train : 2016-2020\n",
    "# Test : 2021-2022\n",
    "\n",
    "df['계약일'] = pd.to_datetime(df['계약일'])\n",
    "train_df = df.loc[df['계약일'] < '2021']\n",
    "test_df = df.loc[df['계약일'] >= '2021']"
   ]
  },
  {
   "cell_type": "code",
   "execution_count": 5,
   "metadata": {},
   "outputs": [],
   "source": [
    "# Train Split\n",
    "# feature & target  split\n",
    "\n",
    "X_train_df = train_df.drop('물건금액(만원)', axis=1)\n",
    "y = train_df['물건금액(만원)']\n",
    "\n",
    "# X_train : 숫자형 컬럼만 \n",
    "X_train = X_train_df.select_dtypes([np.number])"
   ]
  },
  {
   "cell_type": "code",
   "execution_count": 6,
   "metadata": {},
   "outputs": [],
   "source": [
    "# Test Split\n",
    "# feature & target  split\n",
    "\n",
    "X_test_df = test_df.drop('물건금액(만원)', axis=1)\n",
    "y_test = test_df['물건금액(만원)']\n",
    "\n",
    "# X_test : 숫자형 컬럼만 \n",
    "X_test = X_test_df.select_dtypes([np.number])"
   ]
  },
  {
   "cell_type": "code",
   "execution_count": 7,
   "metadata": {},
   "outputs": [],
   "source": [
    "# minMax\n",
    "from sklearn.preprocessing import MinMaxScaler\n",
    "\n",
    "# Scaler 객체 생성\n",
    "scaler = MinMaxScaler()\n",
    "X_scaled = scaler.fit_transform(X_train)\n",
    "X_test_scaled = scaler.transform(X_test)\n",
    "\n",
    "# DataFrame\n",
    "X_scaled = pd.DataFrame(X_scaled, columns=X_train.columns)\n",
    "X_test_scaled = pd.DataFrame(X_test_scaled, columns=X_test.columns)"
   ]
  },
  {
   "cell_type": "code",
   "execution_count": 8,
   "metadata": {},
   "outputs": [
    {
     "data": {
      "text/plain": [
       "367830    4.716003\n",
       "367831    4.722634\n",
       "367832    4.380211\n",
       "367833    4.361728\n",
       "367834    5.033424\n",
       "            ...   \n",
       "435741    4.886491\n",
       "435742    4.840420\n",
       "435743    5.054996\n",
       "435744    4.568202\n",
       "435745    4.883661\n",
       "Name: 물건금액(만원), Length: 67916, dtype: float64"
      ]
     },
     "execution_count": 8,
     "metadata": {},
     "output_type": "execute_result"
    }
   ],
   "source": [
    "# y -> log 변환\n",
    "\n",
    "# Train\n",
    "y_scaled = np.log10(y)\n",
    "# y_scaled\n",
    "\n",
    "# Test\n",
    "y_test_scaled = np.log10(y_test)\n",
    "y_test_scaled"
   ]
  },
  {
   "attachments": {},
   "cell_type": "markdown",
   "metadata": {},
   "source": [
    "## OLS 확인"
   ]
  },
  {
   "cell_type": "code",
   "execution_count": 9,
   "metadata": {},
   "outputs": [
    {
     "data": {
      "text/html": [
       "<table class=\"simpletable\">\n",
       "<caption>OLS Regression Results</caption>\n",
       "<tr>\n",
       "  <th>Dep. Variable:</th>        <td>물건금액(만원)</td>     <th>  R-squared:         </th>  <td>   0.558</td> \n",
       "</tr>\n",
       "<tr>\n",
       "  <th>Model:</th>                   <td>OLS</td>       <th>  Adj. R-squared:    </th>  <td>   0.558</td> \n",
       "</tr>\n",
       "<tr>\n",
       "  <th>Method:</th>             <td>Least Squares</td>  <th>  F-statistic:       </th>  <td>5.805e+04</td>\n",
       "</tr>\n",
       "<tr>\n",
       "  <th>Date:</th>             <td>Fri, 30 Jun 2023</td> <th>  Prob (F-statistic):</th>   <td>  0.00</td>  \n",
       "</tr>\n",
       "<tr>\n",
       "  <th>Time:</th>                 <td>22:13:00</td>     <th>  Log-Likelihood:    </th> <td>1.8432e+05</td>\n",
       "</tr>\n",
       "<tr>\n",
       "  <th>No. Observations:</th>      <td>367830</td>      <th>  AIC:               </th> <td>-3.686e+05</td>\n",
       "</tr>\n",
       "<tr>\n",
       "  <th>Df Residuals:</th>          <td>367821</td>      <th>  BIC:               </th> <td>-3.685e+05</td>\n",
       "</tr>\n",
       "<tr>\n",
       "  <th>Df Model:</th>              <td>     8</td>      <th>                     </th>      <td> </td>    \n",
       "</tr>\n",
       "<tr>\n",
       "  <th>Covariance Type:</th>      <td>nonrobust</td>    <th>                     </th>      <td> </td>    \n",
       "</tr>\n",
       "</table>\n",
       "<table class=\"simpletable\">\n",
       "<tr>\n",
       "       <td></td>          <th>coef</th>     <th>std err</th>      <th>t</th>      <th>P>|t|</th>  <th>[0.025</th>    <th>0.975]</th>  \n",
       "</tr>\n",
       "<tr>\n",
       "  <th>const</th>       <td>    4.3736</td> <td>    0.002</td> <td> 1855.176</td> <td> 0.000</td> <td>    4.369</td> <td>    4.378</td>\n",
       "</tr>\n",
       "<tr>\n",
       "  <th>건물면적(㎡)</th>     <td>    1.3575</td> <td>    0.002</td> <td>  554.829</td> <td> 0.000</td> <td>    1.353</td> <td>    1.362</td>\n",
       "</tr>\n",
       "<tr>\n",
       "  <th>층</th>           <td>    0.2479</td> <td>    0.003</td> <td>   82.149</td> <td> 0.000</td> <td>    0.242</td> <td>    0.254</td>\n",
       "</tr>\n",
       "<tr>\n",
       "  <th>Fed기준금리</th>     <td>   -0.0633</td> <td>    0.001</td> <td>  -45.425</td> <td> 0.000</td> <td>   -0.066</td> <td>   -0.061</td>\n",
       "</tr>\n",
       "<tr>\n",
       "  <th>건물연식</th>        <td>   -0.1297</td> <td>    0.002</td> <td>  -78.730</td> <td> 0.000</td> <td>   -0.133</td> <td>   -0.127</td>\n",
       "</tr>\n",
       "<tr>\n",
       "  <th>GDP대비가계부채비율</th> <td>    0.2136</td> <td>    0.002</td> <td>  124.115</td> <td> 0.000</td> <td>    0.210</td> <td>    0.217</td>\n",
       "</tr>\n",
       "<tr>\n",
       "  <th>EPU</th>         <td>   -0.0159</td> <td>    0.001</td> <td>  -11.090</td> <td> 0.000</td> <td>   -0.019</td> <td>   -0.013</td>\n",
       "</tr>\n",
       "<tr>\n",
       "  <th>장단기금리spread</th> <td>    0.0036</td> <td>    0.001</td> <td>    2.931</td> <td> 0.003</td> <td>    0.001</td> <td>    0.006</td>\n",
       "</tr>\n",
       "<tr>\n",
       "  <th>LTV</th>         <td>   -0.1239</td> <td>    0.002</td> <td>  -77.352</td> <td> 0.000</td> <td>   -0.127</td> <td>   -0.121</td>\n",
       "</tr>\n",
       "</table>\n",
       "<table class=\"simpletable\">\n",
       "<tr>\n",
       "  <th>Omnibus:</th>       <td>3484.231</td> <th>  Durbin-Watson:     </th> <td>   1.898</td>\n",
       "</tr>\n",
       "<tr>\n",
       "  <th>Prob(Omnibus):</th>  <td> 0.000</td>  <th>  Jarque-Bera (JB):  </th> <td>5555.110</td>\n",
       "</tr>\n",
       "<tr>\n",
       "  <th>Skew:</th>           <td>-0.066</td>  <th>  Prob(JB):          </th> <td>    0.00</td>\n",
       "</tr>\n",
       "<tr>\n",
       "  <th>Kurtosis:</th>       <td> 3.588</td>  <th>  Cond. No.          </th> <td>    21.5</td>\n",
       "</tr>\n",
       "</table><br/><br/>Notes:<br/>[1] Standard Errors assume that the covariance matrix of the errors is correctly specified."
      ],
      "text/latex": [
       "\\begin{center}\n",
       "\\begin{tabular}{lclc}\n",
       "\\toprule\n",
       "\\textbf{Dep. Variable:}    &     물건금액(만원)     & \\textbf{  R-squared:         } &     0.558   \\\\\n",
       "\\textbf{Model:}            &       OLS        & \\textbf{  Adj. R-squared:    } &     0.558   \\\\\n",
       "\\textbf{Method:}           &  Least Squares   & \\textbf{  F-statistic:       } & 5.805e+04   \\\\\n",
       "\\textbf{Date:}             & Fri, 30 Jun 2023 & \\textbf{  Prob (F-statistic):} &     0.00    \\\\\n",
       "\\textbf{Time:}             &     22:13:00     & \\textbf{  Log-Likelihood:    } & 1.8432e+05  \\\\\n",
       "\\textbf{No. Observations:} &      367830      & \\textbf{  AIC:               } & -3.686e+05  \\\\\n",
       "\\textbf{Df Residuals:}     &      367821      & \\textbf{  BIC:               } & -3.685e+05  \\\\\n",
       "\\textbf{Df Model:}         &           8      & \\textbf{                     } &             \\\\\n",
       "\\textbf{Covariance Type:}  &    nonrobust     & \\textbf{                     } &             \\\\\n",
       "\\bottomrule\n",
       "\\end{tabular}\n",
       "\\begin{tabular}{lcccccc}\n",
       "                     & \\textbf{coef} & \\textbf{std err} & \\textbf{t} & \\textbf{P$> |$t$|$} & \\textbf{[0.025} & \\textbf{0.975]}  \\\\\n",
       "\\midrule\n",
       "\\textbf{const}       &       4.3736  &        0.002     &  1855.176  &         0.000        &        4.369    &        4.378     \\\\\n",
       "\\textbf{건물면적(㎡)}     &       1.3575  &        0.002     &   554.829  &         0.000        &        1.353    &        1.362     \\\\\n",
       "\\textbf{층}           &       0.2479  &        0.003     &    82.149  &         0.000        &        0.242    &        0.254     \\\\\n",
       "\\textbf{Fed기준금리}     &      -0.0633  &        0.001     &   -45.425  &         0.000        &       -0.066    &       -0.061     \\\\\n",
       "\\textbf{건물연식}        &      -0.1297  &        0.002     &   -78.730  &         0.000        &       -0.133    &       -0.127     \\\\\n",
       "\\textbf{GDP대비가계부채비율} &       0.2136  &        0.002     &   124.115  &         0.000        &        0.210    &        0.217     \\\\\n",
       "\\textbf{EPU}         &      -0.0159  &        0.001     &   -11.090  &         0.000        &       -0.019    &       -0.013     \\\\\n",
       "\\textbf{장단기금리spread} &       0.0036  &        0.001     &     2.931  &         0.003        &        0.001    &        0.006     \\\\\n",
       "\\textbf{LTV}         &      -0.1239  &        0.002     &   -77.352  &         0.000        &       -0.127    &       -0.121     \\\\\n",
       "\\bottomrule\n",
       "\\end{tabular}\n",
       "\\begin{tabular}{lclc}\n",
       "\\textbf{Omnibus:}       & 3484.231 & \\textbf{  Durbin-Watson:     } &    1.898  \\\\\n",
       "\\textbf{Prob(Omnibus):} &   0.000  & \\textbf{  Jarque-Bera (JB):  } & 5555.110  \\\\\n",
       "\\textbf{Skew:}          &  -0.066  & \\textbf{  Prob(JB):          } &     0.00  \\\\\n",
       "\\textbf{Kurtosis:}      &   3.588  & \\textbf{  Cond. No.          } &     21.5  \\\\\n",
       "\\bottomrule\n",
       "\\end{tabular}\n",
       "%\\caption{OLS Regression Results}\n",
       "\\end{center}\n",
       "\n",
       "Notes: \\newline\n",
       " [1] Standard Errors assume that the covariance matrix of the errors is correctly specified."
      ],
      "text/plain": [
       "<class 'statsmodels.iolib.summary.Summary'>\n",
       "\"\"\"\n",
       "                            OLS Regression Results                            \n",
       "==============================================================================\n",
       "Dep. Variable:               물건금액(만원)   R-squared:                       0.558\n",
       "Model:                            OLS   Adj. R-squared:                  0.558\n",
       "Method:                 Least Squares   F-statistic:                 5.805e+04\n",
       "Date:                Fri, 30 Jun 2023   Prob (F-statistic):               0.00\n",
       "Time:                        22:13:00   Log-Likelihood:             1.8432e+05\n",
       "No. Observations:              367830   AIC:                        -3.686e+05\n",
       "Df Residuals:                  367821   BIC:                        -3.685e+05\n",
       "Df Model:                           8                                         \n",
       "Covariance Type:            nonrobust                                         \n",
       "===============================================================================\n",
       "                  coef    std err          t      P>|t|      [0.025      0.975]\n",
       "-------------------------------------------------------------------------------\n",
       "const           4.3736      0.002   1855.176      0.000       4.369       4.378\n",
       "건물면적(㎡)         1.3575      0.002    554.829      0.000       1.353       1.362\n",
       "층               0.2479      0.003     82.149      0.000       0.242       0.254\n",
       "Fed기준금리        -0.0633      0.001    -45.425      0.000      -0.066      -0.061\n",
       "건물연식           -0.1297      0.002    -78.730      0.000      -0.133      -0.127\n",
       "GDP대비가계부채비율     0.2136      0.002    124.115      0.000       0.210       0.217\n",
       "EPU            -0.0159      0.001    -11.090      0.000      -0.019      -0.013\n",
       "장단기금리spread     0.0036      0.001      2.931      0.003       0.001       0.006\n",
       "LTV            -0.1239      0.002    -77.352      0.000      -0.127      -0.121\n",
       "==============================================================================\n",
       "Omnibus:                     3484.231   Durbin-Watson:                   1.898\n",
       "Prob(Omnibus):                  0.000   Jarque-Bera (JB):             5555.110\n",
       "Skew:                          -0.066   Prob(JB):                         0.00\n",
       "Kurtosis:                       3.588   Cond. No.                         21.5\n",
       "==============================================================================\n",
       "\n",
       "Notes:\n",
       "[1] Standard Errors assume that the covariance matrix of the errors is correctly specified.\n",
       "\"\"\""
      ]
     },
     "execution_count": 9,
     "metadata": {},
     "output_type": "execute_result"
    }
   ],
   "source": [
    "# OLS 확인\n",
    "# 스케일링 후 predict\n",
    "import statsmodels.api as sm\n",
    "\n",
    "feature_add = sm.add_constant(X_scaled, has_constant='add')\n",
    "\n",
    "# sm OLS 적합\n",
    "model = sm.OLS(y_scaled , feature_add)\n",
    "fitted_model = model.fit()\n",
    "\n",
    "# summary 함수통해 결과출력\n",
    "fitted_model.summary()"
   ]
  },
  {
   "attachments": {},
   "cell_type": "markdown",
   "metadata": {},
   "source": [
    "## VIF 확인"
   ]
  },
  {
   "cell_type": "code",
   "execution_count": 10,
   "metadata": {},
   "outputs": [],
   "source": [
    "from statsmodels.stats.outliers_influence import variance_inflation_factor\n",
    "\n",
    "def feature_engineering_XbyVIF(X_scaled):\n",
    "    vif = pd.DataFrame()\n",
    "    vif[\"VIF_Factor\"] = [variance_inflation_factor(X_scaled.values,i)\n",
    "                         for i in range(X_scaled.shape[1])]\n",
    "    vif[\"Feature\"] = X_scaled.columns\n",
    "    return vif"
   ]
  },
  {
   "cell_type": "code",
   "execution_count": 11,
   "metadata": {},
   "outputs": [
    {
     "name": "stdout",
     "output_type": "stream",
     "text": [
      "   VIF_Factor      Feature\n",
      "0    6.628280      건물면적(㎡)\n",
      "1    5.063229            층\n",
      "2    4.183235      Fed기준금리\n",
      "3    5.661744         건물연식\n",
      "4    5.104476  GDP대비가계부채비율\n",
      "5    3.413701          EPU\n",
      "6    8.626874  장단기금리spread\n",
      "7    7.979222          LTV\n"
     ]
    }
   ],
   "source": [
    "vif = feature_engineering_XbyVIF(X_scaled)\n",
    "print(vif)"
   ]
  },
  {
   "attachments": {},
   "cell_type": "markdown",
   "metadata": {},
   "source": [
    "# LinearRegression"
   ]
  },
  {
   "attachments": {},
   "cell_type": "markdown",
   "metadata": {},
   "source": [
    "## CV - R2, MSE"
   ]
  },
  {
   "cell_type": "code",
   "execution_count": 12,
   "metadata": {},
   "outputs": [],
   "source": [
    "# X_test 컬럼 -> X_scaled 기준(train)으로 맞추기  \n",
    "X_test_scaled=X_test_scaled[X_scaled.columns]"
   ]
  },
  {
   "attachments": {},
   "cell_type": "markdown",
   "metadata": {},
   "source": [
    "## 교차검증"
   ]
  },
  {
   "cell_type": "code",
   "execution_count": 13,
   "metadata": {},
   "outputs": [
    {
     "name": "stdout",
     "output_type": "stream",
     "text": [
      "Fold 1: Train Score_r2 = 0.53451,           Validation Score_r2 = 0.5617\n",
      "      Train Score_mse = 0.02296,           Validation Score_mse = 0.01567\n",
      "\n",
      "\n",
      "Fold 2: Train Score_r2 = 0.55304,           Validation Score_r2 = 0.53201\n",
      "      Train Score_mse = 0.02262,           Validation Score_mse = 0.01713\n",
      "\n",
      "\n",
      "Fold 3: Train Score_r2 = 0.57271,           Validation Score_r2 = 0.47998\n",
      "      Train Score_mse = 0.02174,           Validation Score_mse = 0.02058\n",
      "\n",
      "\n",
      "Fold 4: Train Score_r2 = 0.57922,           Validation Score_r2 = 0.35908\n",
      "      Train Score_mse = 0.01968,           Validation Score_mse = 0.03391\n",
      "\n",
      "\n",
      "Fold 5: Train Score_r2 = 0.54435,           Validation Score_r2 = 0.42326\n",
      "      Train Score_mse = 0.02006,           Validation Score_mse = 0.03093\n",
      "\n",
      "\n",
      "CV 평균 R2 : 0.4712\n",
      "CV 평균 MSE : 0.0236\n"
     ]
    }
   ],
   "source": [
    "# CV \n",
    "\n",
    "from sklearn.model_selection import cross_validate\n",
    "from sklearn.metrics import mean_squared_error, mean_absolute_error, r2_score\n",
    "from sklearn.linear_model import LinearRegression\n",
    "\n",
    "model = LinearRegression()\n",
    "\n",
    "# 교차 검증을 통해 모델 평가 및 추정기 반환\n",
    "cv_results = cross_validate(model, X_scaled, y_scaled, \n",
    "                            scoring= ('r2', 'neg_mean_squared_error'),cv=5, \n",
    "                            return_train_score=True, return_estimator=True)\n",
    "\n",
    "train_scores_r2 = cv_results['train_r2']  # 훈련 점수\n",
    "test_scores_r2 = cv_results['test_r2']    # 검증 점수\n",
    "train_scores_mse = -cv_results['train_neg_mean_squared_error']\n",
    "test_scores_mse = -cv_results['test_neg_mean_squared_error'] \n",
    "\n",
    "Validation_R2_score_mean = 0\n",
    "Validation_MSE_mean = 0\n",
    "\n",
    "# 훈련 점수와 검증 점수 출력\n",
    "for i in range(len(train_scores_r2)):\n",
    "   print(f\"Fold {i+1}: Train Score_r2 = {np.round(train_scores_r2[i],5)},\\\n",
    "           Validation Score_r2 = {np.round(test_scores_r2[i],5)}\")\n",
    "   print(f\"      Train Score_mse = {np.round(train_scores_mse[i],5)},\\\n",
    "           Validation Score_mse = {np.round(test_scores_mse[i],5)}\")\n",
    "   print('\\n')\n",
    "       # 마지막 평균 반환용\n",
    "   Validation_R2_score_mean += test_scores_r2[i]\n",
    "   Validation_MSE_mean += test_scores_mse[i]\n",
    "\n",
    "\n",
    "print(f'CV 평균 R2 : {np.round(Validation_R2_score_mean/5,4)}')\n",
    "print(f'CV 평균 MSE : {np.round(Validation_MSE_mean/5,4)}')"
   ]
  },
  {
   "attachments": {},
   "cell_type": "markdown",
   "metadata": {},
   "source": [
    "## 평가지표 train and test 시각화"
   ]
  },
  {
   "cell_type": "code",
   "execution_count": 14,
   "metadata": {},
   "outputs": [
    {
     "data": {
      "image/png": "[encoded data removed]",
      "text/plain": [
       "<Figure size 432x288 with 1 Axes>"
      ]
     },
     "metadata": {
      "needs_background": "light"
     },
     "output_type": "display_data"
    }
   ],
   "source": [
    "# R2\n",
    "import matplotlib.pyplot as plt\n",
    "\n",
    "train_scores = cv_results['train_r2']\n",
    "test_scores = cv_results['test_r2']\n",
    "\n",
    "# Fold 번호를 x축으로 설정하여 train_score와 test_score를 그래프로 출력\n",
    "fold_numbers = range(1, len(train_scores) + 1)\n",
    "\n",
    "plt.plot(fold_numbers, train_scores, label='Train Score')\n",
    "plt.plot(fold_numbers, test_scores, label='Test Score')\n",
    "\n",
    "plt.xlabel('Fold')\n",
    "plt.ylabel('Score')\n",
    "plt.title('Train Score vs Test Score')\n",
    "plt.legend()\n",
    "plt.show()"
   ]
  },
  {
   "cell_type": "code",
   "execution_count": 15,
   "metadata": {},
   "outputs": [
    {
     "data": {
      "image/png": "[encoded data removed]",
      "text/plain": [
       "<Figure size 432x288 with 1 Axes>"
      ]
     },
     "metadata": {
      "needs_background": "light"
     },
     "output_type": "display_data"
    }
   ],
   "source": [
    "# MSE \n",
    "import matplotlib.pyplot as plt\n",
    "\n",
    "train_scores = -cv_results['train_neg_mean_squared_error']\n",
    "test_scores = -cv_results['test_neg_mean_squared_error']\n",
    "\n",
    "# Fold 번호를 x축으로 설정하여 train_score와 test_score를 그래프로 출력\n",
    "fold_numbers = range(1, len(train_scores) + 1)\n",
    "\n",
    "plt.plot(fold_numbers, train_scores, label='Train Score')\n",
    "plt.plot(fold_numbers, test_scores, label='Test Score')\n",
    "\n",
    "plt.xlabel('Fold')\n",
    "plt.ylabel('Score')\n",
    "plt.title('Train Score vs Test Score')\n",
    "plt.legend()\n",
    "plt.show()"
   ]
  },
  {
   "attachments": {},
   "cell_type": "markdown",
   "metadata": {},
   "source": [
    "## Model 확정\n",
    "- R2 그래프상 train & test 점수차이가 가장 적게 나는 모델 확정\n",
    "- 최종 첫 번째로 확정"
   ]
  },
  {
   "cell_type": "code",
   "execution_count": 16,
   "metadata": {},
   "outputs": [
    {
     "name": "stdout",
     "output_type": "stream",
     "text": [
      "MSE : 0.042, RMSE :  0.204, MAE: 0.204\n",
      "Variance score :  0.575\n",
      "\n",
      "\n"
     ]
    }
   ],
   "source": [
    "# 최종 모델 - Predict & 평가지표\n",
    "\n",
    "y_pred = cv_results['estimator'][0].predict(X_test_scaled)\n",
    "mse = mean_squared_error(y_test_scaled, y_pred)\n",
    "rmse = np.sqrt(mse)\n",
    "mae = mean_absolute_error(y_test_scaled,y_pred)\n",
    "print('MSE : {0:.3f}, RMSE : {1: .3f}, MAE:{1: .3f}'.format(mse, rmse, mae))\n",
    "print('Variance score : {0: .3f}'.format(r2_score(y_test_scaled, y_pred)))\n",
    "print('\\n')"
   ]
  },
  {
   "cell_type": "code",
   "execution_count": 17,
   "metadata": {},
   "outputs": [
    {
     "data": {
      "text/html": [
       "<div>\n",
       "<style scoped>\n",
       "    .dataframe tbody tr th:only-of-type {\n",
       "        vertical-align: middle;\n",
       "    }\n",
       "\n",
       "    .dataframe tbody tr th {\n",
       "        vertical-align: top;\n",
       "    }\n",
       "\n",
       "    .dataframe thead th {\n",
       "        text-align: right;\n",
       "    }\n",
       "</style>\n",
       "<table border=\"1\" class=\"dataframe\">\n",
       "  <thead>\n",
       "    <tr style=\"text-align: right;\">\n",
       "      <th></th>\n",
       "      <th>features</th>\n",
       "      <th>coefficient</th>\n",
       "    </tr>\n",
       "  </thead>\n",
       "  <tbody>\n",
       "    <tr>\n",
       "      <th>0</th>\n",
       "      <td>건물면적(㎡)</td>\n",
       "      <td>1.360952</td>\n",
       "    </tr>\n",
       "    <tr>\n",
       "      <th>1</th>\n",
       "      <td>층</td>\n",
       "      <td>0.263836</td>\n",
       "    </tr>\n",
       "    <tr>\n",
       "      <th>4</th>\n",
       "      <td>GDP대비가계부채비율</td>\n",
       "      <td>0.207577</td>\n",
       "    </tr>\n",
       "    <tr>\n",
       "      <th>6</th>\n",
       "      <td>장단기금리spread</td>\n",
       "      <td>-0.003108</td>\n",
       "    </tr>\n",
       "    <tr>\n",
       "      <th>5</th>\n",
       "      <td>EPU</td>\n",
       "      <td>-0.026073</td>\n",
       "    </tr>\n",
       "    <tr>\n",
       "      <th>2</th>\n",
       "      <td>Fed기준금리</td>\n",
       "      <td>-0.067374</td>\n",
       "    </tr>\n",
       "    <tr>\n",
       "      <th>7</th>\n",
       "      <td>LTV</td>\n",
       "      <td>-0.126523</td>\n",
       "    </tr>\n",
       "    <tr>\n",
       "      <th>3</th>\n",
       "      <td>건물연식</td>\n",
       "      <td>-0.128385</td>\n",
       "    </tr>\n",
       "  </tbody>\n",
       "</table>\n",
       "</div>"
      ],
      "text/plain": [
       "      features  coefficient\n",
       "0      건물면적(㎡)     1.360952\n",
       "1            층     0.263836\n",
       "4  GDP대비가계부채비율     0.207577\n",
       "6  장단기금리spread    -0.003108\n",
       "5          EPU    -0.026073\n",
       "2      Fed기준금리    -0.067374\n",
       "7          LTV    -0.126523\n",
       "3         건물연식    -0.128385"
      ]
     },
     "execution_count": 17,
     "metadata": {},
     "output_type": "execute_result"
    }
   ],
   "source": [
    "# test 계수 결과 DF \n",
    "\n",
    "test_result = pd.DataFrame(data= X_test_scaled.columns)\n",
    "test_result.columns = ['features']\n",
    "\n",
    "test_result['coefficient'] = cv_results['estimator'][0].coef_\n",
    "\n",
    "test_result.sort_values('coefficient', ascending=False)"
   ]
  },
  {
   "attachments": {},
   "cell_type": "markdown",
   "metadata": {},
   "source": [
    "# Ridge & Lasso"
   ]
  },
  {
   "attachments": {},
   "cell_type": "markdown",
   "metadata": {},
   "source": [
    "## Ridge"
   ]
  },
  {
   "cell_type": "code",
   "execution_count": 18,
   "metadata": {},
   "outputs": [
    {
     "data": {
      "image/png": "[encoded data removed]",
      "text/plain": [
       "<Figure size 432x288 with 1 Axes>"
      ]
     },
     "metadata": {
      "needs_background": "light"
     },
     "output_type": "display_data"
    }
   ],
   "source": [
    "# Ridge\n",
    "from sklearn.linear_model import Ridge\n",
    "ridge = Ridge()\n",
    "ridge.fit(X_scaled, y_scaled)\n",
    "\n",
    "import matplotlib.pyplot as plt\n",
    "train_score = []\n",
    "test_score = []\n",
    "\n",
    "alpha_list = [0.001, 0.01, 0.1, 1, 10, 100]\n",
    "for alpha in alpha_list:\n",
    "    ridge = Ridge(alpha=alpha)\n",
    "    ridge.fit(X_scaled, y_scaled)\n",
    "    train_score.append(ridge.score(X_scaled, y_scaled))\n",
    "    test_score.append(ridge.score(X_test_scaled, y_test_scaled))\n",
    "\n",
    "plt.plot(np.log10(alpha_list), train_score, label='Train Score')\n",
    "plt.plot(np.log10(alpha_list), test_score, label='Test Score')\n",
    "plt.xlabel('alpha')\n",
    "plt.ylabel('r2_score')\n",
    "plt.legend()\n",
    "plt.show()"
   ]
  },
  {
   "attachments": {},
   "cell_type": "markdown",
   "metadata": {},
   "source": [
    "- 기본값 alpha = 1.0으로 진행(alpha = 100은 너무 규제를 심하게 주는 것이라 생각해서)"
   ]
  },
  {
   "attachments": {},
   "cell_type": "markdown",
   "metadata": {},
   "source": [
    "# CV"
   ]
  },
  {
   "cell_type": "code",
   "execution_count": 19,
   "metadata": {},
   "outputs": [
    {
     "name": "stdout",
     "output_type": "stream",
     "text": [
      "Fold 1: Train Score_r2 = 0.53451,           Validation Score_r2 = 0.56171\n",
      "      Train Score_mse = 0.02296,           Validation Score_mse = 0.01567\n",
      "\n",
      "\n",
      "Fold 2: Train Score_r2 = 0.55304,           Validation Score_r2 = 0.53201\n",
      "      Train Score_mse = 0.02262,           Validation Score_mse = 0.01713\n",
      "\n",
      "\n",
      "Fold 3: Train Score_r2 = 0.57271,           Validation Score_r2 = 0.47999\n",
      "      Train Score_mse = 0.02174,           Validation Score_mse = 0.02058\n",
      "\n",
      "\n",
      "Fold 4: Train Score_r2 = 0.57922,           Validation Score_r2 = 0.35905\n",
      "      Train Score_mse = 0.01968,           Validation Score_mse = 0.03391\n",
      "\n",
      "\n",
      "Fold 5: Train Score_r2 = 0.54435,           Validation Score_r2 = 0.42363\n",
      "      Train Score_mse = 0.02006,           Validation Score_mse = 0.03091\n",
      "\n",
      "\n",
      "CV 평균 R2 : 0.4713\n",
      "CV 평균 MSE : 0.0236\n"
     ]
    }
   ],
   "source": [
    "# CV \n",
    "\n",
    "from sklearn.model_selection import cross_validate\n",
    "from sklearn.metrics import mean_squared_error, mean_absolute_error, r2_score\n",
    "from sklearn.linear_model import LinearRegression\n",
    "\n",
    "ridge = Ridge()\n",
    "ridge.fit(X_scaled, y_scaled)\n",
    "# 교차 검증을 통해 모델 평가 및 추정기 반환\n",
    "cv_results = cross_validate(ridge, X_scaled, y_scaled, \n",
    "                            scoring= ('r2', 'neg_mean_squared_error'),cv=5, \n",
    "                            return_train_score=True, return_estimator=True)\n",
    "\n",
    "train_scores_r2 = cv_results['train_r2']  # 훈련 점수\n",
    "test_scores_r2 = cv_results['test_r2']    # 검증 점수\n",
    "train_scores_mse = -cv_results['train_neg_mean_squared_error']\n",
    "test_scores_mse = -cv_results['test_neg_mean_squared_error'] \n",
    "\n",
    "Validation_R2_score_mean = 0\n",
    "Validation_MSE_mean = 0\n",
    "\n",
    "# 훈련 점수와 검증 점수 출력\n",
    "for i in range(len(train_scores_r2)):\n",
    "   print(f\"Fold {i+1}: Train Score_r2 = {np.round(train_scores_r2[i],5)},\\\n",
    "           Validation Score_r2 = {np.round(test_scores_r2[i],5)}\")\n",
    "   print(f\"      Train Score_mse = {np.round(train_scores_mse[i],5)},\\\n",
    "           Validation Score_mse = {np.round(test_scores_mse[i],5)}\")\n",
    "   print('\\n')\n",
    "       # 마지막 평균 반환용\n",
    "   Validation_R2_score_mean += test_scores_r2[i]\n",
    "   Validation_MSE_mean += test_scores_mse[i]\n",
    "\n",
    "\n",
    "print(f'CV 평균 R2 : {np.round(Validation_R2_score_mean/5,4)}')\n",
    "print(f'CV 평균 MSE : {np.round(Validation_MSE_mean/5,4)}')"
   ]
  },
  {
   "attachments": {},
   "cell_type": "markdown",
   "metadata": {},
   "source": [
    "## 평가지표 train and test 차이 시각화"
   ]
  },
  {
   "cell_type": "code",
   "execution_count": 20,
   "metadata": {},
   "outputs": [
    {
     "data": {
      "image/png": "[encoded data removed]",
      "text/plain": [
       "<Figure size 432x288 with 1 Axes>"
      ]
     },
     "metadata": {
      "needs_background": "light"
     },
     "output_type": "display_data"
    }
   ],
   "source": [
    "import matplotlib.pyplot as plt\n",
    "\n",
    "train_scores = cv_results['train_r2']\n",
    "test_scores = cv_results['test_r2']\n",
    "\n",
    "# Fold 번호를 x축으로 설정하여 train_score와 test_score를 그래프로 출력\n",
    "fold_numbers = range(1, len(train_scores) + 1)\n",
    "\n",
    "plt.plot(fold_numbers, train_scores, label='Train Score')\n",
    "plt.plot(fold_numbers, test_scores, label='Test Score')\n",
    "\n",
    "plt.xlabel('Fold')\n",
    "plt.ylabel('Score')\n",
    "plt.title('Train Score vs Test Score')\n",
    "plt.legend()\n",
    "plt.show()"
   ]
  },
  {
   "cell_type": "code",
   "execution_count": 21,
   "metadata": {},
   "outputs": [
    {
     "name": "stdout",
     "output_type": "stream",
     "text": [
      "0.5580241804975064\n",
      "0.5714476164873696\n"
     ]
    }
   ],
   "source": [
    "# ridge의 train, test r2 확인\n",
    "from sklearn.linear_model import Ridge\n",
    "ridge = Ridge()\n",
    "ridge.fit(X_scaled, y_scaled)\n",
    "print(ridge.score(X_scaled, y_scaled))\n",
    "print(ridge.score(X_test_scaled, y_test_scaled))"
   ]
  },
  {
   "cell_type": "code",
   "execution_count": 22,
   "metadata": {},
   "outputs": [
    {
     "name": "stdout",
     "output_type": "stream",
     "text": [
      "MSE : 0.042, RMSE :  0.205, MAE: 0.205\n",
      "Variance score :  0.571\n",
      "\n",
      "\n"
     ]
    }
   ],
   "source": [
    "# 최종 모델 - Predict & 평가지표\n",
    "# Train 전체로 학습 시\n",
    "ridge.fit(X_scaled, y_scaled)\n",
    "y_pred = ridge.predict(X_test_scaled)\n",
    "mse = mean_squared_error(y_test_scaled, y_pred)\n",
    "rmse = np.sqrt(mse)\n",
    "mae = mean_absolute_error(y_test_scaled,y_pred)\n",
    "print('MSE : {0:.3f}, RMSE : {1: .3f}, MAE:{1: .3f}'.format(mse, rmse, mae))\n",
    "print('Variance score : {0: .3f}'.format(r2_score(y_test_scaled, y_pred)))\n",
    "print('\\n')"
   ]
  },
  {
   "cell_type": "code",
   "execution_count": 23,
   "metadata": {},
   "outputs": [
    {
     "name": "stdout",
     "output_type": "stream",
     "text": [
      "MSE : 0.042, RMSE :  0.204, MAE: 0.204\n",
      "Variance score :  0.575\n",
      "\n",
      "\n"
     ]
    }
   ],
   "source": [
    "# 최종 모델 - Predict & 평가지표\n",
    "\n",
    "y_pred = cv_results['estimator'][0].predict(X_test_scaled)\n",
    "mse = mean_squared_error(y_test_scaled, y_pred)\n",
    "rmse = np.sqrt(mse)\n",
    "mae = mean_absolute_error(y_test_scaled,y_pred)\n",
    "print('MSE : {0:.3f}, RMSE : {1: .3f}, MAE:{1: .3f}'.format(mse, rmse, mae))\n",
    "print('Variance score : {0: .3f}'.format(r2_score(y_test_scaled, y_pred)))\n",
    "print('\\n')"
   ]
  },
  {
   "cell_type": "code",
   "execution_count": 24,
   "metadata": {},
   "outputs": [
    {
     "data": {
      "text/html": [
       "<div>\n",
       "<style scoped>\n",
       "    .dataframe tbody tr th:only-of-type {\n",
       "        vertical-align: middle;\n",
       "    }\n",
       "\n",
       "    .dataframe tbody tr th {\n",
       "        vertical-align: top;\n",
       "    }\n",
       "\n",
       "    .dataframe thead th {\n",
       "        text-align: right;\n",
       "    }\n",
       "</style>\n",
       "<table border=\"1\" class=\"dataframe\">\n",
       "  <thead>\n",
       "    <tr style=\"text-align: right;\">\n",
       "      <th></th>\n",
       "      <th>회귀계수</th>\n",
       "    </tr>\n",
       "  </thead>\n",
       "  <tbody>\n",
       "    <tr>\n",
       "      <th>건물면적(㎡)</th>\n",
       "      <td>1.357181</td>\n",
       "    </tr>\n",
       "    <tr>\n",
       "      <th>층</th>\n",
       "      <td>0.247867</td>\n",
       "    </tr>\n",
       "    <tr>\n",
       "      <th>GDP대비가계부채비율</th>\n",
       "      <td>0.213561</td>\n",
       "    </tr>\n",
       "    <tr>\n",
       "      <th>장단기금리spread</th>\n",
       "      <td>0.003643</td>\n",
       "    </tr>\n",
       "    <tr>\n",
       "      <th>EPU</th>\n",
       "      <td>-0.015873</td>\n",
       "    </tr>\n",
       "    <tr>\n",
       "      <th>Fed기준금리</th>\n",
       "      <td>-0.063298</td>\n",
       "    </tr>\n",
       "    <tr>\n",
       "      <th>LTV</th>\n",
       "      <td>-0.123935</td>\n",
       "    </tr>\n",
       "    <tr>\n",
       "      <th>건물연식</th>\n",
       "      <td>-0.129754</td>\n",
       "    </tr>\n",
       "  </tbody>\n",
       "</table>\n",
       "</div>"
      ],
      "text/plain": [
       "                 회귀계수\n",
       "건물면적(㎡)      1.357181\n",
       "층            0.247867\n",
       "GDP대비가계부채비율  0.213561\n",
       "장단기금리spread  0.003643\n",
       "EPU         -0.015873\n",
       "Fed기준금리     -0.063298\n",
       "LTV         -0.123935\n",
       "건물연식        -0.129754"
      ]
     },
     "execution_count": 24,
     "metadata": {},
     "output_type": "execute_result"
    }
   ],
   "source": [
    "# Ridge 회귀계수\n",
    "ridge_df = pd.DataFrame(data = ridge.coef_, index = X_scaled.columns)\n",
    "ridge_df.columns = ['회귀계수']\n",
    "ridge_df.sort_values(by = '회귀계수',ascending=False)"
   ]
  },
  {
   "cell_type": "code",
   "execution_count": 25,
   "metadata": {},
   "outputs": [
    {
     "name": "stdout",
     "output_type": "stream",
     "text": [
      "0.0\n",
      "-0.1514290238496836\n"
     ]
    }
   ],
   "source": [
    "# Lasso \n",
    "from sklearn.linear_model import Lasso\n",
    "lasso = Lasso()\n",
    "lasso.fit(X_scaled, y_scaled)\n",
    "print(lasso.score(X_scaled, y_scaled))\n",
    "print(lasso.score(X_test_scaled, y_test_scaled))"
   ]
  },
  {
   "cell_type": "code",
   "execution_count": 26,
   "metadata": {},
   "outputs": [
    {
     "data": {
      "text/plain": [
       "array([ True,  True,  True,  True,  True,  True,  True,  True])"
      ]
     },
     "execution_count": 26,
     "metadata": {},
     "output_type": "execute_result"
    }
   ],
   "source": [
    "lasso.coef_ == 0"
   ]
  },
  {
   "attachments": {},
   "cell_type": "markdown",
   "metadata": {},
   "source": [
    "___"
   ]
  },
  {
   "cell_type": "code",
   "execution_count": 18,
   "metadata": {},
   "outputs": [],
   "source": [
    "from sklearn.ensemble import RandomForestRegressor\n",
    "from sklearn.model_selection import cross_val_score\n",
    "from sklearn.model_selection import GridSearchCV"
   ]
  },
  {
   "cell_type": "code",
   "execution_count": 19,
   "metadata": {},
   "outputs": [],
   "source": [
    "X_train = train_df.iloc[ :, 2 : -1]  \n",
    "y_train = train_df.iloc[ :, -1]"
   ]
  },
  {
   "cell_type": "code",
   "execution_count": 20,
   "metadata": {},
   "outputs": [],
   "source": [
    "scaler = MinMaxScaler()\n",
    "X_train = scaler.fit_transform(X_train)\n",
    "y_train = np.log10(y_train)"
   ]
  },
  {
   "attachments": {},
   "cell_type": "markdown",
   "metadata": {},
   "source": [
    "# RandomForest"
   ]
  },
  {
   "cell_type": "code",
   "execution_count": 21,
   "metadata": {},
   "outputs": [
    {
     "name": "stdout",
     "output_type": "stream",
     "text": [
      "Test set MSE: 0.01151080515887049\n",
      "Test set RMSE: 0.10728842043235835\n",
      "Test set r2_score : 0.8824554385541766\n"
     ]
    }
   ],
   "source": [
    "# 랜덤 포레스트 회귀 모델 초기화\n",
    "model = RandomForestRegressor(random_state =1 , n_jobs = -1)\n",
    "\n",
    "# 모델 학습\n",
    "model.fit(X_train, y_train)\n",
    "\n",
    "\n",
    "# Test set에 모델 적용 및 예측 평가\n",
    "X_test = test_df.iloc[ :, 2 : -1]  # target_column은 예측하고자 하는 종속 변수 컬럼명\n",
    "y_test = test_df.iloc[ :, -1]\n",
    "X_test_scaled = scaler.transform(X_test)\n",
    "y_test_scaled = np.log10(y_test)\n",
    "test_predictions = model.predict(X_test_scaled)\n",
    "test_mse = mean_squared_error(y_test_scaled, test_predictions)\n",
    "print(\"Test set MSE:\", test_mse)\n",
    "print(\"Test set RMSE:\", np.sqrt(test_mse))\n",
    "print('Test set r2_score :', model.score(X_test_scaled, y_test_scaled))"
   ]
  },
  {
   "cell_type": "code",
   "execution_count": 22,
   "metadata": {},
   "outputs": [
    {
     "data": {
      "image/png": "[encoded data removed]",
      "text/plain": [
       "<Figure size 576x432 with 1 Axes>"
      ]
     },
     "metadata": {
      "needs_background": "light"
     },
     "output_type": "display_data"
    }
   ],
   "source": [
    "# test_df\n",
    "importance = model.feature_importances_\n",
    "# 상위 20개 변수 추출\n",
    "top_features = pd.Series(importance, index=test_df.iloc[:,2:-1].columns).nlargest(20)\n",
    "top = top_features.sort_values(ascending=False)[:20]\n",
    "# 변수 중요도 시각화\n",
    "plt.figure(figsize=(8, 6))\n",
    "sns.barplot(x=top, y=top.index)\n",
    "plt.show()"
   ]
  },
  {
   "attachments": {},
   "cell_type": "markdown",
   "metadata": {},
   "source": [
    "# DecisionTree"
   ]
  },
  {
   "cell_type": "code",
   "execution_count": 23,
   "metadata": {},
   "outputs": [
    {
     "name": "stdout",
     "output_type": "stream",
     "text": [
      "Test set MSE: 0.021218115006786588\n",
      "Test set RMSE: 0.14566439169126608\n",
      "Test set r2_score : 0.7833275788481414\n"
     ]
    }
   ],
   "source": [
    "# 랜덤 포레스트 회귀 모델 초기화\n",
    "model = DecisionTreeRegressor(random_state =1)\n",
    "\n",
    "# 모델 학습\n",
    "model.fit(X_train, y_train)\n",
    "\n",
    "# Test set에 모델 적용 및 예측 평가\n",
    "X_test = test_df.iloc[ :, 2 : -1]  # target_column은 예측하고자 하는 종속 변수 컬럼명\n",
    "y_test = test_df.iloc[ :, -1]\n",
    "X_test_scaled = scaler.transform(X_test)\n",
    "y_test_scaled = np.log10(y_test)\n",
    "test_predictions = model.predict(X_test_scaled)\n",
    "test_mse = mean_squared_error(y_test_scaled, test_predictions)\n",
    "print(\"Test set MSE:\", test_mse)\n",
    "print(\"Test set RMSE:\", np.sqrt(test_mse))\n",
    "print('Test set r2_score :', model.score(X_test_scaled, y_test_scaled))"
   ]
  },
  {
   "cell_type": "code",
   "execution_count": 24,
   "metadata": {},
   "outputs": [
    {
     "data": {
      "image/png": "[encoded data removed]",
      "text/plain": [
       "<Figure size 576x432 with 1 Axes>"
      ]
     },
     "metadata": {
      "needs_background": "light"
     },
     "output_type": "display_data"
    }
   ],
   "source": [
    "# test_df\n",
    "importance = model.feature_importances_\n",
    "# 상위 20개 변수 추출\n",
    "top_features = pd.Series(importance, index=test_df.iloc[:,2:-1].columns).nlargest(20)\n",
    "top = top_features.sort_values(ascending=False)[:20]\n",
    "# 변수 중요도 시각화\n",
    "plt.figure(figsize=(8, 6))\n",
    "sns.barplot(x=top, y=top.index)\n",
    "plt.show()"
   ]
  },
  {
   "attachments": {},
   "cell_type": "markdown",
   "metadata": {},
   "source": [
    "# XGBoost"
   ]
  },
  {
   "cell_type": "code",
   "execution_count": 25,
   "metadata": {},
   "outputs": [
    {
     "name": "stdout",
     "output_type": "stream",
     "text": [
      "Test set MSE: 0.010531552176688193\n",
      "Test set RMSE: 0.10262335103030008\n",
      "Test set r2_score : 0.8924552483630004\n"
     ]
    }
   ],
   "source": [
    "import xgboost as xgb\n",
    "# 랜덤 포레스트 회귀 모델 초기화\n",
    "model = xgb.XGBRegressor(random_state =1)\n",
    "\n",
    "# 모델 학습\n",
    "model.fit(X_train, y_train)\n",
    "\n",
    "# Test set에 모델 적용 및 예측 평가\n",
    "X_test = test_df.iloc[ :, 2 : -1]  # target_column은 예측하고자 하는 종속 변수 컬럼명\n",
    "y_test = test_df.iloc[ :, -1]\n",
    "X_test_scaled = scaler.transform(X_test)\n",
    "y_test_scaled = np.log10(y_test)\n",
    "test_predictions = model.predict(X_test_scaled)\n",
    "test_mse = mean_squared_error(y_test_scaled, test_predictions)\n",
    "print(\"Test set MSE:\", test_mse)\n",
    "print(\"Test set RMSE:\", np.sqrt(test_mse))\n",
    "print('Test set r2_score :', model.score(X_test_scaled, y_test_scaled))"
   ]
  },
  {
   "cell_type": "code",
   "execution_count": 26,
   "metadata": {},
   "outputs": [
    {
     "data": {
      "image/png": "[encoded data removed]",
      "text/plain": [
       "<Figure size 576x432 with 1 Axes>"
      ]
     },
     "metadata": {
      "needs_background": "light"
     },
     "output_type": "display_data"
    }
   ],
   "source": [
    "# test_df\n",
    "importance = model.feature_importances_\n",
    "# 상위 20개 변수 추출\n",
    "top_features = pd.Series(importance, index=test_df.iloc[:,2:-1].columns).nlargest(20)\n",
    "top = top_features.sort_values(ascending=False)[:20]\n",
    "# 변수 중요도 시각화\n",
    "plt.figure(figsize=(8, 6))\n",
    "sns.barplot(x=top, y=top.index)\n",
    "plt.show()"
   ]
  }
 ],
 "metadata": {
  "kernelspec": {
   "display_name": "base",
   "language": "python",
   "name": "python3"
  },
  "language_info": {
   "codemirror_mode": {
    "name": "ipython",
    "version": 3
   },
   "file_extension": ".py",
   "mimetype": "text/x-python",
   "name": "python",
   "nbconvert_exporter": "python",
   "pygments_lexer": "ipython3",
   "version": "3.8.8"
  },
  "orig_nbformat": 4
 },
 "nbformat": 4,
 "nbformat_minor": 2
}
